{
  "nbformat": 4,
  "nbformat_minor": 0,
  "metadata": {
    "colab": {
      "name": "fase1-unitest.ipynb",
      "provenance": [],
      "collapsed_sections": [],
      "authorship_tag": "ABX9TyNuvZ6ffv0Tk9y5DqHTASuG",
      "include_colab_link": true
    },
    "kernelspec": {
      "name": "python3",
      "display_name": "Python 3"
    }
  },
  "cells": [
    {
      "cell_type": "markdown",
      "metadata": {
        "id": "view-in-github",
        "colab_type": "text"
      },
      "source": [
        "<a href=\"https://colab.research.google.com/github/isegura/EDA/blob/master/fase1_unitest.ipynb\" target=\"_parent\"><img src=\"https://colab.research.google.com/assets/colab-badge.svg\" alt=\"Open In Colab\"/></a>"
      ]
    },
    {
      "cell_type": "markdown",
      "metadata": {
        "id": "CrjXMMUAG35m"
      },
      "source": [
        "# Fase 1\n"
      ]
    },
    {
      "cell_type": "markdown",
      "metadata": {
        "id": "1ajPoNHiiOYl"
      },
      "source": [
        "Primero tienes que montar tu disco de google colab:"
      ]
    },
    {
      "cell_type": "code",
      "metadata": {
        "colab": {
          "base_uri": "https://localhost:8080/"
        },
        "id": "F58cjXL0iC7Y",
        "outputId": "f95e568c-26ee-4ac1-f2a9-a897676a076d"
      },
      "source": [
        "#If your run from google colab:\n",
        "from google.colab import drive\n",
        "drive.mount(\"/content/drive/\")\n",
        "root='drive/My Drive/Colab Notebooks/EDA/labcase2021/fase1/'"
      ],
      "execution_count": 5,
      "outputs": [
        {
          "output_type": "stream",
          "text": [
            "Drive already mounted at /content/drive/; to attempt to forcibly remount, call drive.mount(\"/content/drive/\", force_remount=True).\n"
          ],
          "name": "stdout"
        }
      ]
    },
    {
      "cell_type": "markdown",
      "metadata": {
        "id": "Ms9tpK5-iSz9"
      },
      "source": [
        "Ahora importamos la librería dlist.py"
      ]
    },
    {
      "cell_type": "code",
      "metadata": {
        "colab": {
          "resources": {
            "http://localhost:8080/nbextensions/google.colab/files.js": {
              "data": "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",
              "ok": true,
              "headers": [
                [
                  "content-type",
                  "application/javascript"
                ]
              ],
              "status": 200,
              "status_text": ""
            }
          },
          "base_uri": "https://localhost:8080/",
          "height": 111
        },
        "id": "xWkUcSbThssD",
        "outputId": "267344ea-cd58-47ba-c6c8-faed3bbc7079"
      },
      "source": [
        "from google.colab import files\n",
        "#search the file in your local disk\n",
        "files.upload()"
      ],
      "execution_count": 3,
      "outputs": [
        {
          "output_type": "display_data",
          "data": {
            "text/html": [
              "\n",
              "     <input type=\"file\" id=\"files-feaeccec-f89e-4794-8af8-9f9f593c4c70\" name=\"files[]\" multiple disabled\n",
              "        style=\"border:none\" />\n",
              "     <output id=\"result-feaeccec-f89e-4794-8af8-9f9f593c4c70\">\n",
              "      Upload widget is only available when the cell has been executed in the\n",
              "      current browser session. Please rerun this cell to enable.\n",
              "      </output>\n",
              "      <script src=\"/nbextensions/google.colab/files.js\"></script> "
            ],
            "text/plain": [
              "<IPython.core.display.HTML object>"
            ]
          },
          "metadata": {
            "tags": []
          }
        },
        {
          "output_type": "stream",
          "text": [
            "Saving dlist.py to dlist.py\n"
          ],
          "name": "stdout"
        },
        {
          "output_type": "execute_result",
          "data": {
            "text/plain": [
              "{'dlist.py': b'# -*- coding: utf-8 -*-\\n\"\"\"DList.ipynb\\n\\nAutomatically generated by Colaboratory.\\n\\nOriginal file is located at\\n    https://colab.research.google.com/drive/1HRC-R094iH-jJ6Cds1ZnYblIKuybpCTj\\n\\n# Doubly Linked List\\n\\nFirst, we must implement the class Node to store the nodes. In addition to the element and the reference to the next node, the class includes a reference, **prev**, to the previous node.\\n\"\"\"\\n\\nclass DNode:\\n  def __init__(self,elem,next=None,prev=None ):\\n    self.elem = elem\\n    self.next = next\\n    self.prev = prev\\n\\nclass DList:\\n    def __init__(self):\\n        \"\"\"creates an empty list\"\"\"\\n        self._head=None\\n        self._tail=None\\n        self._size=0\\n    \\n    def __len__(self):\\n        return self._size\\n\\n    def isEmpty(self):\\n        \"\"\"Checks if the list is empty\"\"\"\\n        #return self.head == None   \\n        return len(self)==0\\n\\n    \\n    def __str__(self):\\n        \"\"\"Returns a string with the elements of the list\"\"\"\\n        nodeIt=self._head\\n        result=\\'\\'\\n        while nodeIt:\\n            result += str(nodeIt.elem)+\\',\\\\n\\'\\n            nodeIt=nodeIt.next\\n\\n        if len(result)>0:\\n            result=result[:-2]\\n        \\n        return result\\n    \\n    def addFirst(self,e):\\n        \"\"\"Add a new element, e, at the beginning of the list\"\"\"\\n        #create the new node\\n        newNode=DNode(e)                                   \\n        #the new node must point to the current head\\n        \\n        if self.isEmpty():                                \\n            self._tail=newNode                               \\n        else:\\n            newNode.next=self._head                          \\n            self._head.prev=newNode                          \\n        \\n        #update the reference of head to point the new node\\n        self._head=newNode                                 \\n        #increase the size of the list  \\n        self._size+=1                             \\n        \\n    \\n    \\n    def addLast(self,e):\\n        \"\"\"Add a new element, e, at the end of the list\"\"\"\\n        #create the new node\\n        newNode=DNode(e)\\n        \\n        if self.isEmpty():\\n            self._head=newNode\\n        else:\\n            newNode.prev=self._tail\\n            self._tail.next=newNode\\n        \\n        #update the reference of head to point the new node\\n        self._tail=newNode\\n        #increase the size of the list  \\n        self._size+=1\\n   \\n    def removeFirst(self):\\n        \"\"\"Returns and remove the first element of the list\"\"\"\\n        result=None\\n        if self.isEmpty():\\n            print(\"Error: list is empty\")\\n        else:\\n            result=self._head.elem \\n            self._head= self._head.next \\n            if self._head==None:\\n                self._tail=None\\n            else:\\n                self._head.prev = None\\n\\n            self._size-=1\\n\\n        return result\\n    \\n    def removeLast(self):\\n        \"\"\"Returns and remove the last element of the list\"\"\"\\n        result=None\\n\\n        if self.isEmpty():\\n            print(\"Error: list is empty\")\\n        else:\\n            result=self._tail.elem                       #1\\n            self._tail= self._tail.prev                 \\n            if self._tail==None:\\n                self._head=None\\n            else:\\n                self._tail.next = None\\n\\n            self._size-=1\\n\\n        return result\\n  \\n \\n    def getAt(self,index):\\n        \"\"\"return the element at the position index.\\n        If the index is an invalid position, the function\\n        will return -1\"\"\"\\n        result=None\\n        if index not in range(0,len(self)): \\n            print(index,\\'Error getAt: index out of range\\')\\n        else:\\n            nodeIt=self._head\\n            i=0\\n            while nodeIt and i<index:\\n                nodeIt=nodeIt.next\\n                i+=1\\n\\n            #nodeIt is at the position index\\n            result=nodeIt.elem\\n\\n        return result\\n\\n    def index(self,e):\\n        \"\"\"returns the first position of e into the list.\\n        If e does not exist in the list, \\n        then the function will return -1\"\"\"\\n        nodeIt=self._head\\n        index=0\\n        while nodeIt:\\n            if nodeIt.elem==e:\\n                return index\\n            nodeIt=nodeIt.next\\n            index+=1\\n            \\n        #print(e,\\' does not exist!!!\\')\\n        return -1 \\n\\n    def insertAt(self,index,e):\\n        \"\"\"It inserts the element e at the index position of the list\"\"\"\\n        if index not in range(len(self)+1):\\n            print(\\'Error: index out of range\\')\\n        elif index==0:\\n            self.addFirst(e)\\n        elif index==len(self): \\n            self.addLast(e)\\n        else:\\n            #we must to reach the node at the index position\\n            nodeIt=self._head\\n            for i in range(1,index+1):\\n                nodeIt=nodeIt.next\\n\\n            #nodeIt is the node at the index\\n\\n            newNode=DNode(e)\\n            #we have to insert the new node before nodeIt\\n            newNode.next=nodeIt\\n            newNode.prev=nodeIt.prev\\n\\n            nodeIt.prev.next=newNode\\n            nodeIt.prev=newNode\\n            self._size+=1\\n      \\n      \\n    \\n\\n    \\n    def removeAt(self,index):\\n        \"\"\"This methods removes the node at the index position in the list\"\"\"\\n        \\n        #We must check that index is a right position in the list\\n        #Remember that the indexes in a list can range from 0 to size-1\\n        \"\"\"This methods removes the node at the index position in the list\"\"\"\\n        result=None\\n        #We must check that index is a right position in the list\\n        #Remember that the indexes in a list can range from 0 to size-\\n        #print(str(self),\" len=\", len(self), \"index=\",index)\\n        if index not in range(len(self)): \\n            print(index,\\'Error removeAt: index out of range\\')\\n        elif index==0:\\n            result= self.removeFirst()\\n        elif index==len(self)-1:\\n            result= self.removeLast()\\n        else:\\n            #we must to reac\\n            #we must to reach the node at the index position\\n            nodeIt=self._head\\n            for i in range(1,index+1):\\n                nodeIt=nodeIt.next\\n\\n            #nodeIt is the node to be removed\\n\\n            result=nodeIt.elem\\n            prevNode=nodeIt.prev\\n            nextNode=nodeIt.next\\n            \\n            prevNode.next=nextNode\\n            nextNode.prev=prevNode\\n            self._size-=1\\n        \\n        return result\\n\\n\\nif __name__ == \\'__main__\\':\\n    import random\\n\\n    l=DList()    \\n    print(\"list:\",str(l))\\n    print(\"len:\",len(l))\\n    \\n    #we generate 5 random integers\\n    for i in range(5):\\n        #creates a positive integer between 0 <=x<= 100\\n        x=random.randint(0,100)\\n        #l.addFirst(x)\\n        l.addLast(x)\\n    \\n    print(l)\\n    \\n    for i in range(len(l)):\\n        print(\\'getAt({})={}\\'.format(i,l.getAt(i)))\\n    \\n    print(str(l))\\n    print()\\n    print(\"index of {}={}\".format(20,l.index(20)))\\n    print(\"index of {}={}\".format(0,l.index(0)))\\n    print(\"index of {}={}\".format(5,l.index(5)))\\n    print(\"index of {}={}\".format(10,l.index(10)))\\n    \\n    \\n    while l.isEmpty()==False:\\n        print(\"after removeLast():{}, {}\".format(l.removeLast(),l))\\n    \\n    l.insertAt(-1,1)\\n    l.insertAt(0,0)\\n    print(str(l))\\n    print(\\'after l.insertAt(0,0)\\', str(l))\\n    \\n    l.insertAt(len(l)//2,3)\\n    print(\\'after l.insertAt(2,3)\\', str(l))\\n    print(\"index of {}={}\".format(3,l.index(3)))\\n    print(\\'len of l\\',len(l))\\n    l.insertAt(len(l),3)\\n    print(\\'after l.insertAt(12,3)\\', str(l))\\n    print(\"index of {}={}\".format(3,l.index(3)))\\n    l.insertAt(len(l),100)\\n    print(\\'after l.insertAt(13,100)\\', str(l))\\n    \\n    print()\\n    print(\\'testing removeAt\\', str(l))\\n    x=0\\n    print(\\'after l.removeAt({})={}, {}\\'.format(x,l.removeAt(x), str(l)))\\n    \\n    x=len(l)//2\\n    print(\\'after l.removeAt({})={}, {}\\'.format(x,l.removeAt(x), str(l)))\\n    \\n    x=len(l)-1\\n    print(\\'after l.removeAt({})={}, {}\\'.format(x,l.removeAt(x), str(l)))'}"
            ]
          },
          "metadata": {
            "tags": []
          },
          "execution_count": 3
        }
      ]
    },
    {
      "cell_type": "code",
      "metadata": {
        "id": "wVp3aWfIGv2h",
        "colab": {
          "base_uri": "https://localhost:8080/"
        },
        "outputId": "e6661a18-e18a-4625-b4eb-5a84c443216d"
      },
      "source": [
        "from dlist import DList\n",
        "from dlist import DNode\n",
        "\n",
        "import csv\n",
        "import os.path\n",
        "\n",
        "class Patient:\n",
        "    \"\"\"Class to represent a Patient\"\"\"\n",
        "    def __init__(self,name,year,covid,vaccine):\n",
        "        self.name=name\n",
        "        self.year=year\n",
        "        self.covid=covid\n",
        "        self.vaccine=vaccine\n",
        "        \n",
        "    def __str__(self):\n",
        "        return self.name+'\\t'+str(self.year)+'\\t'+str(self.covid)+'\\t'+str(self.vaccine)\n",
        "\n",
        "\n",
        "class HealthCenter(DList):\n",
        "    \"\"\"Class to represent a Health Center\"\"\"\n",
        "    def __init__(self,filetsv=None):\n",
        "        super(HealthCenter, self).__init__()\n",
        "\n",
        "        if filetsv is None or not os.path.isfile(filetsv):\n",
        "            self.name=''\n",
        "            print('File does not exist ',filetsv)\n",
        "        else: \n",
        "            print('loadimg the data for the health center from the file ',filetsv)\n",
        "    \n",
        "            self.name=filetsv[filetsv.rindex('/')+1:].replace('.tsv','')\n",
        "            tsv_file = open(filetsv)\n",
        "            read_tsv = csv.reader(tsv_file, delimiter=\"\\t\")\n",
        "    \n",
        "            for row in read_tsv:\n",
        "                name=row[0]\n",
        "                year=int(row[1])\n",
        "                covid=False\n",
        "                \n",
        "                if int(row[2])==1:\n",
        "                    covid=True\n",
        "\n",
        "                vaccine=int(row[3])\n",
        "                self.addLast(Patient(name,year,covid,vaccine))\n",
        "                \n",
        "    \n",
        "    def addPatient(self,patient):\n",
        "        \"add a new patient in alphabetic order\"\n",
        "        ...\n",
        "                \n",
        "\n",
        "        \n",
        "        \n",
        "    def searchPatients(self,year,covid=None,vaccine=None):\n",
        "       ...\n",
        "    \n",
        "    def statistics(self):\n",
        "        ...\n",
        "\n",
        "    def merge(self,other):\n",
        "       ...\n",
        "    \n",
        "    \n",
        "    def minus(self,other):\n",
        "       ...\n",
        "    \n",
        "    def inter(self,other):\n",
        "        ...\n",
        "                \n",
        "    \n",
        "     \n",
        "if __name__ == '__main__':\n",
        "    obj=HealthCenter(root+'data/LosFrailes.tsv')\n",
        "    print(obj)\n",
        "    \n",
        "    #Puedes añadir más llamadas a funciones para probarlas\n",
        "    "
      ],
      "execution_count": 11,
      "outputs": [
        {
          "output_type": "stream",
          "text": [
            "loadimg the data for the health center from the file  drive/My Drive/Colab Notebooks/EDA/labcase2021/fase1/data/LosFrailes.tsv\n",
            "Abad, Ana\t1949\tTrue\t0,\n",
            "Bono, Pepe\t1945\tFalse\t0,\n",
            "Carmona, Antonia\t1930\tFalse\t2,\n",
            "Diaz, Juan\t1980\tTrue\t0,\n",
            "Elda, Rosa\t1942\tTrue\t2,\n",
            "Font, Alvaro\t1948\tFalse\t1,\n",
            "Garcia, Elsa\t1990\tTrue\t0,\n",
            "Hoz, Mario\t1928\tTrue\t0,\n",
            "Illa, Salvador\t1960\tTrue\t0,\n",
            "Jaen, Maria\t1970\tTrue\t0,\n",
            "Kent, Barbie\t1948\tFalse\t2,\n",
            "Losada, Ivan\t1985\tTrue\t0,\n",
            "Martin, Juan\t1930\tFalse\t2,\n",
            "Navas, Noa\t1985\tTrue\t0,\n",
            "Omar, Sergio\t1940\tTrue\t1,\n",
            "Perez, Juan\t1940\tFalse\t2,\n",
            "Quirante, Juan\t1980\tTrue\t0,\n",
            "Ruiz, Luci\t1985\tTrue\t0,\n",
            "Segura, Juan\t1945\tFalse\t2,\n",
            "Torres, Pedro\t1972\tTrue\t0,\n",
            "Unk, Unk\t1930\tFalse\t2,\n",
            "Voz, Rosa\t1935\tTrue\t1,\n",
            "Zar, Zoe\t2000\tTrue\t0\n"
          ],
          "name": "stdout"
        }
      ]
    },
    {
      "cell_type": "code",
      "metadata": {
        "colab": {
          "base_uri": "https://localhost:8080/"
        },
        "id": "CSxUEsl3kbqX",
        "outputId": "02549ae2-28bd-4928-9e6c-828eba2332e5"
      },
      "source": [
        "\n",
        "\n",
        "import unittest\n",
        "\n",
        "class Test(unittest.TestCase):\n",
        "\n",
        "    mark=0\n",
        "\n",
        "\n",
        "    def setUp(self):\n",
        "        pass\n",
        "\n",
        "    \n",
        "    def test1_addPatient(self):\n",
        "        print('\\tCase1 addPatient: insert at the beginning\\n')\n",
        "        \n",
        "        expected=HealthCenter(root+'data/LosFrailes1.tsv')\n",
        "\n",
        "        result=HealthCenter(root+'data/LosFrailes.tsv')\n",
        "\n",
        "\n",
        "        objP=Patient('Abad, Abel',1950,0,1)\n",
        "        result.addPatient(objP)\n",
        "        \n",
        "        self.assertEqual(len(result),len(expected),'FAIL: lenghts are different')\n",
        "        for i in range(len(result)):\n",
        "            self.assertEqual(result.getAt(i).name,expected.getAt(i).name,'FAIL: patients are not equal')\n",
        "            \n",
        "            \n",
        "        \n",
        "        print()\n",
        "        Test.mark+=0.25\n",
        "        \n",
        "    \n",
        "    def test2_addPatient(self):\n",
        "        print('\\tCase2 addPatient: insert at the END\\n')\n",
        "        \n",
        "        expected=HealthCenter(root+'data/LosFrailesLast.tsv')\n",
        "\n",
        "        result=HealthCenter(root+'data/LosFrailes.tsv')\n",
        "        objP=Patient('Zen, Chen',1995,1,0)\n",
        "        result.addPatient(objP)\n",
        "        \n",
        "        self.assertEqual(len(result),len(expected),'FAIL: lenghts are different')\n",
        "        for i in range(len(result)):\n",
        "            self.assertEqual(result.getAt(i).name,expected.getAt(i).name,'FAIL: patients are not equal')\n",
        "        print()\n",
        "        Test.mark+=0.25\n",
        " \n",
        "    \n",
        "    def test3_addPatient(self):\n",
        "        print('\\tCase3 addPatient: try add a patient who already exists\\n')\n",
        "        \n",
        "        expected=HealthCenter(root+'data/LosFrailes.tsv')\n",
        "\n",
        "        result=HealthCenter(root+'data/LosFrailes.tsv')\n",
        "        objP=Patient('Hoz, Mario',1928,1,0)\n",
        "        result.addPatient(objP)\n",
        "        \n",
        "          \n",
        "        self.assertEqual(len(result),len(expected),'FAIL: lenghts are different')\n",
        "        for i in range(len(result)):\n",
        "            self.assertEqual(result.getAt(i).name,expected.getAt(i).name,'FAIL: patients are not equal')\n",
        "        print()\n",
        "        Test.mark+=0.25\n",
        "\n",
        "\n",
        "    def test4_addPatient(self):\n",
        "        print('\\tCase4 addPatient: add a patient\\n')\n",
        "        \n",
        "        expected=HealthCenter(root+'data/LosFrailesMiddle.tsv')\n",
        "        #Quirante, Pepe\t1985\t0\t0\n",
        "\n",
        "        result=HealthCenter(root+'data/LosFrailes.tsv')\n",
        "\n",
        "        objP=Patient('Quirante, Pepe',1985,0,0)\n",
        "        result.addPatient(objP)\n",
        "        \n",
        "        self.assertEqual(len(result),len(expected),'FAIL: lenghts are different')\n",
        "        for i in range(len(result)):\n",
        "            self.assertEqual(result.getAt(i).name,expected.getAt(i).name,'FAIL: patients are not equal')\n",
        "        print()\n",
        "        Test.mark+=0.5\n",
        "\n",
        "\n",
        "    def test5_searchPatients(self):\n",
        "        print('\\tCase5 searchPatients: allpatients\\n')\n",
        "        \n",
        "        input=HealthCenter(root+'data/LosFrailes.tsv')\n",
        "        expected=HealthCenter(root+'data/LosFrailes.tsv')\n",
        "\n",
        "        result=input.searchPatients(2021,None,None)\n",
        "        \n",
        "        self.assertEqual(len(result),len(expected),'FAIL: lenghts are different')\n",
        "        for i in range(len(result)):\n",
        "            self.assertEqual(result.getAt(i).name,expected.getAt(i).name,'FAIL: patients are not equal')\n",
        "        print()\n",
        "        Test.mark+=0.25\n",
        "\n",
        "        \n",
        "    def test6_searchPatients(self):\n",
        "        print('\\tCase 6 searchPatients: all patients who were born in or before 1950 \\n')\n",
        "        \n",
        "        input=HealthCenter(root+'data/LosFrailes.tsv')\n",
        "        result=input.searchPatients(1950,None,None)\n",
        "        expected=HealthCenter(root+'data/LosFrailes1950.tsv')\n",
        "        \n",
        "        self.assertEqual(len(result),len(expected),'FAIL: lenghts are different')\n",
        "        for i in range(len(result)):\n",
        "            self.assertEqual(result.getAt(i).name,expected.getAt(i).name,'FAIL: patients are not equal')\n",
        "        print()\n",
        "        Test.mark+=0.25\n",
        "\n",
        "        \n",
        "    def test7_searchPatients(self):\n",
        "        print('\\tCase 7 searchPatients: all patients who have had covid \\n')\n",
        "        \n",
        "        input=HealthCenter(root+'data/LosFrailes.tsv')\n",
        "\n",
        "        result=input.searchPatients(2021,True,None)\n",
        "        expected=HealthCenter(root+'data/LosFrailesCovid.tsv')\n",
        "        \n",
        "        self.assertEqual(len(result),len(expected),'FAIL: lenghts are different')\n",
        "        for i in range(len(result)):\n",
        "            self.assertEqual(result.getAt(i).name,expected.getAt(i).name,'FAIL: patients are not equal')\n",
        "        print()\n",
        "        Test.mark+=0.25\n",
        "    \n",
        "    def test8_searchPatients(self):\n",
        "        print('\\tCase 8 searchPatients: all patients who were born in or before than 1925 and have had covid \\n')\n",
        "        \n",
        "        input=HealthCenter(root+'data/LosFrailes.tsv')\n",
        "\n",
        "        result=input.searchPatients(1950,True,None)\n",
        "        expected=HealthCenter(root+'data/LosFrailes1950Covid.tsv')\n",
        "        \n",
        "        self.assertEqual(len(result),len(expected),'FAIL: lenghts are different')\n",
        "        for i in range(len(result)):\n",
        "            self.assertEqual(result.getAt(i).name,expected.getAt(i).name,'FAIL: patients are not equal')\n",
        "        print()\n",
        "        Test.mark+=0.25\n",
        "\n",
        "    def test9_searchPatients(self):\n",
        "        print('\\tCase 9 searchPatients: all patients who have had covid and have been vaccined only with the first dosage \\n')\n",
        "        \n",
        "        input=HealthCenter(root+'data/LosFrailes.tsv')\n",
        "\n",
        "        result=input.searchPatients(2021,True,1)\n",
        "        expected=HealthCenter(root+'data/LosFrailesCovid1.tsv')\n",
        "        \n",
        "        self.assertEqual(len(result),len(expected),'FAIL: lenghts are different')\n",
        "        for i in range(len(result)):\n",
        "            self.assertEqual(result.getAt(i).name,expected.getAt(i).name,'FAIL: patients are not equal')\n",
        "        print()\n",
        "        Test.mark+=0.25\n",
        "\n",
        "\n",
        "    def test10_searchPatients(self):\n",
        "        print('\\tCase 10 searchPatients: all patients who have already received the two dosages of the vaccine\\n')\n",
        "        \n",
        "        input=HealthCenter(root+'data/LosFrailes.tsv')\n",
        "\n",
        "        result=input.searchPatients(2021,None,2)\n",
        "        expected=HealthCenter(root+'data/LosFrailesVaccined2.tsv')\n",
        "        \n",
        "        self.assertEqual(len(result),len(expected),'FAIL: lenghts are different')\n",
        "        for i in range(len(result)):\n",
        "            self.assertEqual(result.getAt(i).name,expected.getAt(i).name,'FAIL: patients are not equal')\n",
        "        print()\n",
        "        Test.mark+=0.25\n",
        "\n",
        "        \n",
        "    def test11_searchPatients(self):\n",
        "        print('\\tCase 11 searchPatients: all patients who have received the two dosages and were born in or before than 1945\\n')\n",
        "        \n",
        "        input=HealthCenter(root+'data/LosFrailes.tsv')\n",
        "\n",
        "        result=input.searchPatients(1945,None,2)\n",
        "        expected=HealthCenter(root+'data/LosFrailes1945Vaccined2.tsv')\n",
        "        \n",
        "        self.assertEqual(len(result),len(expected),'FAIL: lenghts are different')\n",
        "        for i in range(len(result)):\n",
        "            self.assertEqual(result.getAt(i).name,expected.getAt(i).name,'FAIL: patients are not equal')\n",
        "        print()\n",
        "        \n",
        "        Test.mark+=0.25\n",
        "\n",
        "        \n",
        "    def test12_statistics(self):\n",
        "        print('\\tCase 12 statistics\\n')\n",
        "        \n",
        "        input=HealthCenter(root+'data/LosFrailes.tsv')\n",
        "\n",
        "        (numcovid,numcovid1950,novaccine,novaccine1950,numvaccine1,numvaccine2) =input.statistics()\n",
        "        self.assertEqual(numcovid,0.65,'FAIL: #Percentage of patients who have already had covid.')\n",
        "        self.assertEqual(numcovid1950,0.38,'FAIL: #Percentage of patients born in or before than 1950, who have had covid.')\n",
        "        self.assertEqual(novaccine,0.57,'FAIL: #Percentage of patients who have not been vaccined with any dosage of the vaccine.')\n",
        "        self.assertEqual(novaccine1950,0.23,'FAIL: #Percentage of patients born in or before than 1950, who have not been vaccined with any dosage.')\n",
        "        self.assertEqual(numvaccine1,0.13,'FAIL: #Percentage of patients who have already received the first dosage.')\n",
        "        self.assertEqual(numvaccine2,0.3,'FAIL: #Percentage of patients who have already received the two dosages.')\n",
        "\n",
        "        Test.mark+=0.5\n",
        "\n",
        "    def test13_merge(self):\n",
        "        print('\\tCase 13 merge\\n')\n",
        "        \n",
        "        input1=HealthCenter(root+'data/LosFrailes.tsv')\n",
        "        input2=HealthCenter(root+'data/Libertad.tsv')\n",
        "\n",
        "        result=input1.merge(input2)\n",
        "        expected=HealthCenter(root+'data/LosFrailes+Libertad.tsv')\n",
        "    \n",
        "        self.assertEqual(len(result),len(expected),'FAIL: lenghts are different')\n",
        "        for i in range(len(result)):\n",
        "            self.assertEqual(result.getAt(i).name,expected.getAt(i).name,'FAIL: patients are not equal')\n",
        "        print()\n",
        "\n",
        "        Test.mark+=3\n",
        "        \n",
        "    def test14_minus(self):\n",
        "        print('\\tCase 14 minus\\n')\n",
        "        \n",
        "        input1=HealthCenter(root+'data/LosFrailes.tsv')\n",
        "        input2=HealthCenter(root+'data/LosFrailesVaccined2.tsv')\n",
        "\n",
        "\n",
        "        result=input1.minus(input2)\n",
        "\n",
        "        \n",
        "        expected=HealthCenter(root+'data/LosFrailes-LosFrailesVaccined2.tsv')\n",
        "        \n",
        "        self.assertEqual(len(result),len(expected),'FAIL: lenghts are different')\n",
        "        for i in range(len(result)):\n",
        "              self.assertEqual(result.getAt(i).name,expected.getAt(i).name,'FAIL: patients are not equal')\n",
        "        print()\n",
        "        \n",
        "        Test.mark+=1.75\n",
        "\n",
        "        \n",
        "    def test15_inter(self):\n",
        "        print('\\tCase 14 inter\\n')\n",
        "        \n",
        "        input1=HealthCenter(root+'data/LosFrailes.tsv')\n",
        "        input2=HealthCenter(root+'data/LosFrailes3.tsv')\n",
        "\n",
        "\n",
        "        result=input1.inter(input2)\n",
        "        \n",
        "        \n",
        "        expected=HealthCenter(root+'data/LosFrailesyLosFrailes3.tsv')\n",
        "        \n",
        "        self.assertEqual(len(result),len(expected),'FAIL: lenghts are different')\n",
        "        for i in range(len(result)):\n",
        "              self.assertEqual(result.getAt(i).name,expected.getAt(i).name,'FAIL: patients are not equal')\n",
        "        print()\n",
        "        \n",
        "        Test.mark+=1.75\n",
        "\n",
        "    def test_showmark(self):\n",
        "        print('Total mark is ', Test.mark)\n",
        "    \n",
        "#Descomenar para usarlo en Spyder\n",
        "unittest.main(argv=['first-arg-is-ignored'], exit=False)\n"
      ],
      "execution_count": 13,
      "outputs": [
        {
          "output_type": "stream",
          "text": [
            "\tCase 10 searchPatients: all patients who have already received the two dosages of the vaccine\n",
            "\n",
            "loadimg the data for the health center from the file  drive/My Drive/Colab Notebooks/EDA/labcase2021/fase1/data/LosFrailes.tsv\n",
            "loadimg the data for the health center from the file  drive/My Drive/Colab Notebooks/EDA/labcase2021/fase1/data/LosFrailesVaccined2.tsv\n"
          ],
          "name": "stdout"
        },
        {
          "output_type": "stream",
          "text": [
            "E"
          ],
          "name": "stderr"
        },
        {
          "output_type": "stream",
          "text": [
            "\tCase 11 searchPatients: all patients who have received the two dosages and were born in or before than 1945\n",
            "\n",
            "loadimg the data for the health center from the file  drive/My Drive/Colab Notebooks/EDA/labcase2021/fase1/data/LosFrailes.tsv\n",
            "loadimg the data for the health center from the file  drive/My Drive/Colab Notebooks/EDA/labcase2021/fase1/data/LosFrailes1945Vaccined2.tsv\n"
          ],
          "name": "stdout"
        },
        {
          "output_type": "stream",
          "text": [
            "EE"
          ],
          "name": "stderr"
        },
        {
          "output_type": "stream",
          "text": [
            "\tCase 12 statistics\n",
            "\n",
            "loadimg the data for the health center from the file  drive/My Drive/Colab Notebooks/EDA/labcase2021/fase1/data/LosFrailes.tsv\n",
            "\tCase 13 merge\n",
            "\n",
            "loadimg the data for the health center from the file  drive/My Drive/Colab Notebooks/EDA/labcase2021/fase1/data/LosFrailes.tsv\n",
            "loadimg the data for the health center from the file  drive/My Drive/Colab Notebooks/EDA/labcase2021/fase1/data/Libertad.tsv\n",
            "loadimg the data for the health center from the file  drive/My Drive/Colab Notebooks/EDA/labcase2021/fase1/data/LosFrailes+Libertad.tsv\n"
          ],
          "name": "stdout"
        },
        {
          "output_type": "stream",
          "text": [
            "E"
          ],
          "name": "stderr"
        },
        {
          "output_type": "stream",
          "text": [
            "\tCase 14 minus\n",
            "\n",
            "loadimg the data for the health center from the file  drive/My Drive/Colab Notebooks/EDA/labcase2021/fase1/data/LosFrailes.tsv\n",
            "loadimg the data for the health center from the file  drive/My Drive/Colab Notebooks/EDA/labcase2021/fase1/data/LosFrailesVaccined2.tsv\n",
            "loadimg the data for the health center from the file  drive/My Drive/Colab Notebooks/EDA/labcase2021/fase1/data/LosFrailes-LosFrailesVaccined2.tsv\n"
          ],
          "name": "stdout"
        },
        {
          "output_type": "stream",
          "text": [
            "E"
          ],
          "name": "stderr"
        },
        {
          "output_type": "stream",
          "text": [
            "\tCase 14 inter\n",
            "\n",
            "loadimg the data for the health center from the file  drive/My Drive/Colab Notebooks/EDA/labcase2021/fase1/data/LosFrailes.tsv\n",
            "loadimg the data for the health center from the file  drive/My Drive/Colab Notebooks/EDA/labcase2021/fase1/data/LosFrailes3.tsv\n",
            "loadimg the data for the health center from the file  drive/My Drive/Colab Notebooks/EDA/labcase2021/fase1/data/LosFrailesyLosFrailes3.tsv\n"
          ],
          "name": "stdout"
        },
        {
          "output_type": "stream",
          "text": [
            "E"
          ],
          "name": "stderr"
        },
        {
          "output_type": "stream",
          "text": [
            "\tCase1 addPatient: insert at the beginning\n",
            "\n",
            "loadimg the data for the health center from the file  drive/My Drive/Colab Notebooks/EDA/labcase2021/fase1/data/LosFrailes1.tsv\n"
          ],
          "name": "stdout"
        },
        {
          "output_type": "stream",
          "text": [
            "F"
          ],
          "name": "stderr"
        },
        {
          "output_type": "stream",
          "text": [
            "loadimg the data for the health center from the file  drive/My Drive/Colab Notebooks/EDA/labcase2021/fase1/data/LosFrailes.tsv\n",
            "\tCase2 addPatient: insert at the END\n",
            "\n",
            "loadimg the data for the health center from the file  drive/My Drive/Colab Notebooks/EDA/labcase2021/fase1/data/LosFrailesLast.tsv\n"
          ],
          "name": "stdout"
        },
        {
          "output_type": "stream",
          "text": [
            "F."
          ],
          "name": "stderr"
        },
        {
          "output_type": "stream",
          "text": [
            "loadimg the data for the health center from the file  drive/My Drive/Colab Notebooks/EDA/labcase2021/fase1/data/LosFrailes.tsv\n",
            "\tCase3 addPatient: try add a patient who already exists\n",
            "\n",
            "loadimg the data for the health center from the file  drive/My Drive/Colab Notebooks/EDA/labcase2021/fase1/data/LosFrailes.tsv\n",
            "loadimg the data for the health center from the file  drive/My Drive/Colab Notebooks/EDA/labcase2021/fase1/data/LosFrailes.tsv\n",
            "\n",
            "\tCase4 addPatient: add a patient\n",
            "\n",
            "loadimg the data for the health center from the file  drive/My Drive/Colab Notebooks/EDA/labcase2021/fase1/data/LosFrailesMiddle.tsv\n"
          ],
          "name": "stdout"
        },
        {
          "output_type": "stream",
          "text": [
            "FE"
          ],
          "name": "stderr"
        },
        {
          "output_type": "stream",
          "text": [
            "loadimg the data for the health center from the file  drive/My Drive/Colab Notebooks/EDA/labcase2021/fase1/data/LosFrailes.tsv\n",
            "\tCase5 searchPatients: allpatients\n",
            "\n",
            "loadimg the data for the health center from the file  drive/My Drive/Colab Notebooks/EDA/labcase2021/fase1/data/LosFrailes.tsv\n",
            "loadimg the data for the health center from the file  drive/My Drive/Colab Notebooks/EDA/labcase2021/fase1/data/LosFrailes.tsv\n",
            "\tCase 6 searchPatients: all patients who were born in or before 1950 \n",
            "\n",
            "loadimg the data for the health center from the file  drive/My Drive/Colab Notebooks/EDA/labcase2021/fase1/data/LosFrailes.tsv\n",
            "loadimg the data for the health center from the file  drive/My Drive/Colab Notebooks/EDA/labcase2021/fase1/data/LosFrailes1950.tsv\n"
          ],
          "name": "stdout"
        },
        {
          "output_type": "stream",
          "text": [
            "E"
          ],
          "name": "stderr"
        },
        {
          "output_type": "stream",
          "text": [
            "\tCase 7 searchPatients: all patients who have had covid \n",
            "\n",
            "loadimg the data for the health center from the file  drive/My Drive/Colab Notebooks/EDA/labcase2021/fase1/data/LosFrailes.tsv\n",
            "loadimg the data for the health center from the file  drive/My Drive/Colab Notebooks/EDA/labcase2021/fase1/data/LosFrailesCovid.tsv\n"
          ],
          "name": "stdout"
        },
        {
          "output_type": "stream",
          "text": [
            "E"
          ],
          "name": "stderr"
        },
        {
          "output_type": "stream",
          "text": [
            "\tCase 8 searchPatients: all patients who were born in or before than 1925 and have had covid \n",
            "\n",
            "loadimg the data for the health center from the file  drive/My Drive/Colab Notebooks/EDA/labcase2021/fase1/data/LosFrailes.tsv\n",
            "loadimg the data for the health center from the file  drive/My Drive/Colab Notebooks/EDA/labcase2021/fase1/data/LosFrailes1950Covid.tsv\n"
          ],
          "name": "stdout"
        },
        {
          "output_type": "stream",
          "text": [
            "E"
          ],
          "name": "stderr"
        },
        {
          "output_type": "stream",
          "text": [
            "\tCase 9 searchPatients: all patients who have had covid and have been vaccined only with the first dosage \n",
            "\n",
            "loadimg the data for the health center from the file  drive/My Drive/Colab Notebooks/EDA/labcase2021/fase1/data/LosFrailes.tsv\n",
            "loadimg the data for the health center from the file  drive/My Drive/Colab Notebooks/EDA/labcase2021/fase1/data/LosFrailesCovid1.tsv\n"
          ],
          "name": "stdout"
        },
        {
          "output_type": "stream",
          "text": [
            "E."
          ],
          "name": "stderr"
        },
        {
          "output_type": "stream",
          "text": [
            "Total mark is  0.25\n"
          ],
          "name": "stdout"
        },
        {
          "output_type": "stream",
          "text": [
            "\n",
            "======================================================================\n",
            "ERROR: test10_searchPatients (__main__.Test)\n",
            "----------------------------------------------------------------------\n",
            "Traceback (most recent call last):\n",
            "  File \"<ipython-input-13-2828f7b8ccc8>\", line 166, in test10_searchPatients\n",
            "    self.assertEqual(len(result),len(expected),'FAIL: lenghts are different')\n",
            "TypeError: object of type 'NoneType' has no len()\n",
            "\n",
            "======================================================================\n",
            "ERROR: test11_searchPatients (__main__.Test)\n",
            "----------------------------------------------------------------------\n",
            "Traceback (most recent call last):\n",
            "  File \"<ipython-input-13-2828f7b8ccc8>\", line 181, in test11_searchPatients\n",
            "    self.assertEqual(len(result),len(expected),'FAIL: lenghts are different')\n",
            "TypeError: object of type 'NoneType' has no len()\n",
            "\n",
            "======================================================================\n",
            "ERROR: test12_statistics (__main__.Test)\n",
            "----------------------------------------------------------------------\n",
            "Traceback (most recent call last):\n",
            "  File \"<ipython-input-13-2828f7b8ccc8>\", line 194, in test12_statistics\n",
            "    (numcovid,numcovid1950,novaccine,novaccine1950,numvaccine1,numvaccine2) =input.statistics()\n",
            "TypeError: cannot unpack non-iterable NoneType object\n",
            "\n",
            "======================================================================\n",
            "ERROR: test13_merge (__main__.Test)\n",
            "----------------------------------------------------------------------\n",
            "Traceback (most recent call last):\n",
            "  File \"<ipython-input-13-2828f7b8ccc8>\", line 213, in test13_merge\n",
            "    self.assertEqual(len(result),len(expected),'FAIL: lenghts are different')\n",
            "TypeError: object of type 'NoneType' has no len()\n",
            "\n",
            "======================================================================\n",
            "ERROR: test14_minus (__main__.Test)\n",
            "----------------------------------------------------------------------\n",
            "Traceback (most recent call last):\n",
            "  File \"<ipython-input-13-2828f7b8ccc8>\", line 232, in test14_minus\n",
            "    self.assertEqual(len(result),len(expected),'FAIL: lenghts are different')\n",
            "TypeError: object of type 'NoneType' has no len()\n",
            "\n",
            "======================================================================\n",
            "ERROR: test15_inter (__main__.Test)\n",
            "----------------------------------------------------------------------\n",
            "Traceback (most recent call last):\n",
            "  File \"<ipython-input-13-2828f7b8ccc8>\", line 252, in test15_inter\n",
            "    self.assertEqual(len(result),len(expected),'FAIL: lenghts are different')\n",
            "TypeError: object of type 'NoneType' has no len()\n",
            "\n",
            "======================================================================\n",
            "ERROR: test5_searchPatients (__main__.Test)\n",
            "----------------------------------------------------------------------\n",
            "Traceback (most recent call last):\n",
            "  File \"<ipython-input-13-2828f7b8ccc8>\", line 94, in test5_searchPatients\n",
            "    self.assertEqual(len(result),len(expected),'FAIL: lenghts are different')\n",
            "TypeError: object of type 'NoneType' has no len()\n",
            "\n",
            "======================================================================\n",
            "ERROR: test6_searchPatients (__main__.Test)\n",
            "----------------------------------------------------------------------\n",
            "Traceback (most recent call last):\n",
            "  File \"<ipython-input-13-2828f7b8ccc8>\", line 108, in test6_searchPatients\n",
            "    self.assertEqual(len(result),len(expected),'FAIL: lenghts are different')\n",
            "TypeError: object of type 'NoneType' has no len()\n",
            "\n",
            "======================================================================\n",
            "ERROR: test7_searchPatients (__main__.Test)\n",
            "----------------------------------------------------------------------\n",
            "Traceback (most recent call last):\n",
            "  File \"<ipython-input-13-2828f7b8ccc8>\", line 123, in test7_searchPatients\n",
            "    self.assertEqual(len(result),len(expected),'FAIL: lenghts are different')\n",
            "TypeError: object of type 'NoneType' has no len()\n",
            "\n",
            "======================================================================\n",
            "ERROR: test8_searchPatients (__main__.Test)\n",
            "----------------------------------------------------------------------\n",
            "Traceback (most recent call last):\n",
            "  File \"<ipython-input-13-2828f7b8ccc8>\", line 137, in test8_searchPatients\n",
            "    self.assertEqual(len(result),len(expected),'FAIL: lenghts are different')\n",
            "TypeError: object of type 'NoneType' has no len()\n",
            "\n",
            "======================================================================\n",
            "ERROR: test9_searchPatients (__main__.Test)\n",
            "----------------------------------------------------------------------\n",
            "Traceback (most recent call last):\n",
            "  File \"<ipython-input-13-2828f7b8ccc8>\", line 151, in test9_searchPatients\n",
            "    self.assertEqual(len(result),len(expected),'FAIL: lenghts are different')\n",
            "TypeError: object of type 'NoneType' has no len()\n",
            "\n",
            "======================================================================\n",
            "FAIL: test1_addPatient (__main__.Test)\n",
            "----------------------------------------------------------------------\n",
            "Traceback (most recent call last):\n",
            "  File \"<ipython-input-13-2828f7b8ccc8>\", line 25, in test1_addPatient\n",
            "    self.assertEqual(len(result),len(expected),'FAIL: lenghts are different')\n",
            "AssertionError: 23 != 24 : FAIL: lenghts are different\n",
            "\n",
            "======================================================================\n",
            "FAIL: test2_addPatient (__main__.Test)\n",
            "----------------------------------------------------------------------\n",
            "Traceback (most recent call last):\n",
            "  File \"<ipython-input-13-2828f7b8ccc8>\", line 44, in test2_addPatient\n",
            "    self.assertEqual(len(result),len(expected),'FAIL: lenghts are different')\n",
            "AssertionError: 23 != 24 : FAIL: lenghts are different\n",
            "\n",
            "======================================================================\n",
            "FAIL: test4_addPatient (__main__.Test)\n",
            "----------------------------------------------------------------------\n",
            "Traceback (most recent call last):\n",
            "  File \"<ipython-input-13-2828f7b8ccc8>\", line 79, in test4_addPatient\n",
            "    self.assertEqual(len(result),len(expected),'FAIL: lenghts are different')\n",
            "AssertionError: 23 != 24 : FAIL: lenghts are different\n",
            "\n",
            "----------------------------------------------------------------------\n",
            "Ran 16 tests in 4.455s\n",
            "\n",
            "FAILED (failures=3, errors=11)\n"
          ],
          "name": "stderr"
        },
        {
          "output_type": "execute_result",
          "data": {
            "text/plain": [
              "<unittest.main.TestProgram at 0x7fda53f7dcd0>"
            ]
          },
          "metadata": {
            "tags": []
          },
          "execution_count": 13
        }
      ]
    },
    {
      "cell_type": "markdown",
      "metadata": {
        "id": "hydKiP1rGwWy"
      },
      "source": [
        ""
      ]
    }
  ]
}
