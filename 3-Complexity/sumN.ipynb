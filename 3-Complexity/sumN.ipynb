{
  "nbformat": 4,
  "nbformat_minor": 0,
  "metadata": {
    "colab": {
      "name": "sumN.ipynb",
      "provenance": [],
      "collapsed_sections": [],
      "include_colab_link": true
    },
    "kernelspec": {
      "name": "python3",
      "display_name": "Python 3"
    }
  },
  "cells": [
    {
      "cell_type": "markdown",
      "metadata": {
        "id": "view-in-github",
        "colab_type": "text"
      },
      "source": [
        "<a href=\"https://colab.research.google.com/github/isegura/EDA/blob/master/sumN.ipynb\" target=\"_parent\"><img src=\"https://colab.research.google.com/assets/colab-badge.svg\" alt=\"Open In Colab\"/></a>"
      ]
    },
    {
      "cell_type": "markdown",
      "metadata": {
        "id": "lmGPw4LZ1r_a"
      },
      "source": [
        "# Unit 3 - Analysis of algorithms\n",
        "\n",
        "Write a function, given a number n, that sums the numbers for 1 to n"
      ]
    },
    {
      "cell_type": "code",
      "metadata": {
        "id": "GbLVEG_IwIZj",
        "colab": {
          "base_uri": "https://localhost:8080/"
        },
        "outputId": "d27a56b1-3836-467a-d120-1cfb276b2b70"
      },
      "source": [
        "def sumN(n):\n",
        "  result=0\n",
        "  for i in range(1,n+1):\n",
        "    result+=i\n",
        "  return result\n",
        "\n",
        "\n",
        "print(\"sumN({})={}\".format(10,sumN(10)))\n",
        "print(\"sumN({})={}\".format(100,sumN(100)))"
      ],
      "execution_count": 2,
      "outputs": [
        {
          "output_type": "stream",
          "text": [
            "sumN(10)=55\n",
            "sumN(100)=5050\n"
          ],
          "name": "stdout"
        }
      ]
    },
    {
      "cell_type": "markdown",
      "metadata": {
        "id": "aKBiG0mPvuYU"
      },
      "source": [
        "Now, we measure the time. To do this, we use the function time(), which returns the current time in seconds.\n"
      ]
    },
    {
      "cell_type": "code",
      "metadata": {
        "id": "WHSbH8yGrp5x",
        "colab": {
          "base_uri": "https://localhost:8080/"
        },
        "outputId": "01fa6f43-4199-4034-e944-780594996ff4"
      },
      "source": [
        "import time\n",
        "def sumN(n):\n",
        "    \"\"\"returns sum fron 1 to n and the execution time\"\"\"\n",
        "    start=time.time()\n",
        "    result=0\n",
        "    for i in range(1,n+1):\n",
        "        result+=i\n",
        "    end=time.time()\n",
        "    return result, (end-start)*1000\n",
        "\n",
        "result,t=sumN(10)\n",
        "print(\"sumN({})={} in {} ms\".format(10,result,t))\n",
        "result,t=sumN(100)\n",
        "print(\"sumN({})={} in {} ms\".format(100,result,t))\n"
      ],
      "execution_count": 3,
      "outputs": [
        {
          "output_type": "stream",
          "text": [
            "sumN(10)=55 in 0.0021457672119140625 ms\n",
            "sumN(100)=5050 in 0.008821487426757812 ms\n"
          ],
          "name": "stdout"
        }
      ]
    },
    {
      "cell_type": "markdown",
      "metadata": {
        "id": "MO_25rCcxEUx"
      },
      "source": [
        "We run for several n to understand how the running time increases. \n",
        "Does the running time increase if n increases?\n",
        "\n",
        "\n",
        "Copy the output into a txt file, for example, sumN-times.txt. Note that we have replaced '.' by ',', to import these numbers to a excel file.\n",
        "\n"
      ]
    },
    {
      "cell_type": "code",
      "metadata": {
        "id": "z0F9RBx6smOZ",
        "colab": {
          "base_uri": "https://localhost:8080/"
        },
        "outputId": "49793846-5801-43f6-b804-ac9b2bbfa9c1"
      },
      "source": [
        "print('n\\tsumN(ns)')\n",
        "for i in range(1,8):\n",
        "  n=10**i\n",
        "  result,ms=sumN(n)\n",
        "  #print(\"sumN({})={} in {} ms\".format(pow(10,i),result,ms))\n",
        "  print('{}\\t{}'.format(n,str(ms)))"
      ],
      "execution_count": 14,
      "outputs": [
        {
          "output_type": "stream",
          "text": [
            "n\tsumN(ns)\n",
            "10\t0.0021457672119140625\n",
            "100\t0.009059906005859375\n",
            "1000\t0.09131431579589844\n",
            "10000\t0.9093284606933594\n",
            "100000\t8.606195449829102\n",
            "1000000\t61.42234802246094\n",
            "10000000\t597.79953956604\n"
          ],
          "name": "stdout"
        }
      ]
    },
    {
      "cell_type": "markdown",
      "metadata": {
        "id": "bBZ3-aS5xfjL"
      },
      "source": [
        "## Gauss Sum\n",
        "\n",
        "We now study a more efficient way to sum the numbers from 1 to N. We will use the gauss sum\n",
        "\n",
        "<img src='https://i.ytimg.com/vi/gp9jNcnvheI/maxresdefault.jpg' width=\"200\">\n"
      ]
    },
    {
      "cell_type": "code",
      "metadata": {
        "id": "rlgsMqCCy4HK"
      },
      "source": [
        "def sum_gauss(n):\n",
        "    return n*(n+1)/2\n",
        "    "
      ],
      "execution_count": 6,
      "outputs": []
    },
    {
      "cell_type": "markdown",
      "metadata": {
        "id": "g-5lCMODzAoC"
      },
      "source": [
        "Let us to measure the running time for this function. \n",
        "Does the running time increase if n increases?\n",
        "\n",
        "Copy the output into a txt file, for example, gauss-time.txt"
      ]
    },
    {
      "cell_type": "code",
      "metadata": {
        "id": "SmXbH82NrbX2",
        "colab": {
          "base_uri": "https://localhost:8080/"
        },
        "outputId": "9cfbd950-fdf6-4cb4-befc-bcaa64cdc801"
      },
      "source": [
        "import time\n",
        "\n",
        "def sumNGauss(n):\n",
        "  start=time.time()\n",
        "  result=n*(n+1)/2\n",
        "  end=time.time()\n",
        "  return result,(end-start)*1000\n",
        "\n",
        "for i in range(1,8):\n",
        "  n=10**i\n",
        "  result,ms=sumNGauss(n)\n",
        "  #print(\"sumN({})={} in {} ms\".format(pow(10,i),result,ms))\n",
        "\n",
        "  print('{}\\t{}'.format(n,ms).replace('.',','))"
      ],
      "execution_count": 10,
      "outputs": [
        {
          "output_type": "stream",
          "text": [
            "10\t0,0011920928955078125\n",
            "100\t0,0026226043701171875\n",
            "1000\t0,00095367431640625\n",
            "10000\t0,0007152557373046875\n",
            "100000\t0,0007152557373046875\n",
            "1000000\t0,000476837158203125\n",
            "10000000\t0,0007152557373046875\n"
          ],
          "name": "stdout"
        }
      ]
    },
    {
      "cell_type": "markdown",
      "metadata": {
        "id": "EUN9TIDfOVZS"
      },
      "source": [
        "Now, let us show the running times of both functions.\n",
        "\n",
        "Copy this output into a txt file, for example, compare-times.txt"
      ]
    },
    {
      "cell_type": "code",
      "metadata": {
        "id": "FF0yz7MXUOVi",
        "colab": {
          "base_uri": "https://localhost:8080/"
        },
        "outputId": "dbf5de23-c206-4347-cceb-031b90c5fc60"
      },
      "source": [
        "\n",
        "for i in range(1,8):\n",
        "  n=10**i\n",
        "  result1,msN=sumN(n)\n",
        "  result2,msGauss=sumNGauss(n)\n",
        "  print('{}\\t{}\\t{}'.format(n,str(msN).replace('.',','),str(msGauss).replace('.',',')))"
      ],
      "execution_count": 11,
      "outputs": [
        {
          "output_type": "stream",
          "text": [
            "10\t0,0016689300537109375\t0,001430511474609375\n",
            "100\t0,008344650268554688\t0,0007152557373046875\n",
            "1000\t0,07677078247070312\t0,0007152557373046875\n",
            "10000\t0,9222030639648438\t0,001430511474609375\n",
            "100000\t7,838010787963867\t0,001430511474609375\n",
            "1000000\t64,48888778686523\t0,002384185791015625\n",
            "10000000\t599,6968746185303\t0,002384185791015625\n"
          ],
          "name": "stdout"
        }
      ]
    },
    {
      "cell_type": "markdown",
      "metadata": {
        "id": "4L6jXk4UzE7I"
      },
      "source": [
        "Now, you can copy this output into a txt file and then, import it into an excel file to create a scarter graph.\n"
      ]
    }
  ]
}
