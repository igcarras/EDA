{
  "nbformat": 4,
  "nbformat_minor": 0,
  "metadata": {
    "colab": {
      "name": "Queue based on singly linked list.ipynb",
      "provenance": [],
      "collapsed_sections": [],
      "include_colab_link": true
    },
    "kernelspec": {
      "name": "python3",
      "display_name": "Python 3"
    }
  },
  "cells": [
    {
      "cell_type": "markdown",
      "metadata": {
        "id": "view-in-github",
        "colab_type": "text"
      },
      "source": [
        "<a href=\"https://colab.research.google.com/github/isegura/EDA/blob/master/Queue_based_on_singly_linked_list.ipynb\" target=\"_parent\"><img src=\"https://colab.research.google.com/assets/colab-badge.svg\" alt=\"Open In Colab\"/></a>"
      ]
    },
    {
      "cell_type": "markdown",
      "metadata": {
        "id": "m6gqMQEsKlZT"
      },
      "source": [
        "# Implementing a queue by using a singly linked list (with head and tail)\n",
        "\n",
        "Instead of using a Python list, we will use a singly linked list to implement a queue. The first element of the queue will be saved into the first node of the singly linked list. The last element of the queue will be saved into the last node of the singly linked list. Therefore, our singly linked list will be represented using a reference to the first node and a reference to the last node. Thus, the operations enqueue() and dequeue() will have complexity O(1).\n",
        "\n",
        "First, we must implement the Node class, which has two attributes: element and next, which points to the following node of the list.\n",
        "\n",
        "---\n",
        "\n"
      ]
    },
    {
      "cell_type": "code",
      "metadata": {
        "id": "xU-vBfqIEAVp"
      },
      "source": [
        "class SNode:\n",
        "  def __init__(self, e, next=None):\n",
        "    self.elem = e\n",
        "    self.next = next\n",
        "    \n",
        "    "
      ],
      "execution_count": null,
      "outputs": []
    },
    {
      "cell_type": "code",
      "metadata": {
        "id": "AbA3PZJkEV9o"
      },
      "source": [
        "class Queue:\n",
        "    \"\"\"This is the implementation of a queue based on a singly linked list. We use \n",
        "    a reference to the first node, named head, and also a reference \n",
        "    to the last node, named as tail. Also we keep an attribute, size, \n",
        "    to store the number of nodes\"\"\"\n",
        "    def __init__(self):\n",
        "        self._head=None\n",
        "        self._tail=None\n",
        "        self._size=0\n",
        "    \n",
        "    \n",
        "    def isEmpty(self):\n",
        "        \"\"\"Checks if the list is empty\"\"\"\n",
        "        return self._head == None   \n",
        "        \n",
        "    def __len__(self):\n",
        "        return self._size\n",
        " \n",
        "    def dequeue(self):\n",
        "        \"\"\"Removes the first element of the list\"\"\"\n",
        "        result=None\n",
        "        if self.isEmpty():\n",
        "            print('Error: queue is empty!')\n",
        "        else:\n",
        "            #gets the first element, which we will return later\n",
        "            result=self._head.elem\n",
        "            #updates head to point to the new head (the next node)\n",
        "            self._head=self._head.next\n",
        "            #if the queue only has one node, tail must be None\n",
        "            if self.isEmpty():\n",
        "                self._tail=None\n",
        "            #decreases the size of the queue\n",
        "            self._size -= 1\n",
        "            \n",
        "        return result \n",
        "\n",
        "    def front(self):\n",
        "        \"\"\"returns the first element of the queue\"\"\"\n",
        "        result=None\n",
        "        if self.isEmpty():\n",
        "            print('Error: queue is empty!')\n",
        "        else:\n",
        "            #gets the first element, which we will return later\n",
        "            result=self._head.elem\n",
        "        return result \n",
        "\n",
        "    def tail(self):\n",
        "        \"\"\"returns the last element of the queue\"\"\"\n",
        "        result=None\n",
        "        if self.isEmpty():\n",
        "            print('Error: queue is empty!')\n",
        "        else:\n",
        "            #gets the tail element, which we will return later\n",
        "            result=self._tail.elem\n",
        "           \n",
        "            \n",
        "        return result \n",
        "\n",
        "    def enqueue(self,e):\n",
        "        \"\"\"Adds a new element, e, at the end of the queue\"\"\"\n",
        "        #create the new node\n",
        "        newNode=SNode(e)\n",
        "        #the last node must point to the new node\n",
        "        #now, we must update the tail reference\n",
        "        if self.isEmpty():\n",
        "            self._head=newNode\n",
        "        else:\n",
        "            self._tail.next= newNode\n",
        "        #update tail to point the new last node\n",
        "        self._tail=newNode\n",
        "        #increases the size of the list  \n",
        "        self._size += 1\n",
        "    \n",
        "    \n",
        "    def __str__(self):\n",
        "        \"\"\"Returns a string with the elements of the queue\"\"\"\n",
        "        result=''\n",
        "        nodeIt=self._head\n",
        "        \n",
        "        while nodeIt: #nodeIt!=None\n",
        "            result=result+','+str(nodeIt.elem)\n",
        "            nodeIt=nodeIt.next\n",
        "        #we must remove the first comma ','\n",
        "        if len(result)>0:\n",
        "            result=result[1:]\n",
        "\n",
        "        return result\n",
        "    \n",
        "  \n",
        "    "
      ],
      "execution_count": null,
      "outputs": []
    },
    {
      "cell_type": "markdown",
      "metadata": {
        "id": "55T8HQwoKt3l"
      },
      "source": [
        "\n",
        "Once you have implemented the two classes, you can use them in order to create your own lists:\n"
      ]
    },
    {
      "cell_type": "code",
      "metadata": {
        "id": "UDyyoNv6KvtU",
        "colab": {
          "base_uri": "https://localhost:8080/"
        },
        "outputId": "a35963d7-db06-4944-8e14-414629cc2d5a"
      },
      "source": [
        "import random\n",
        "\n",
        "s=Queue()\n",
        "print(\"Queue:{}, len={}\".format(str(s),len(s)))\n",
        "\n",
        "#we generate 5 random integers\n",
        "for i in range(5):\n",
        "    #creates a positive integer between 0 <=x<= 100\n",
        "    x=random.randint(0,100)\n",
        "    s.enqueue(x)\n",
        "    print(\"after enqueue({}):{}, len:{}\".format(x,str(s),len(s)))\n",
        "\n",
        "\n",
        "print()\n",
        "print(\"front of the queue:\", s.front()) \n",
        "print(\"tail of the queue:\", s.tail()) \n",
        "print()\n",
        "\n",
        "\n",
        "print()\n",
        "while not s.isEmpty():\n",
        "    print(\"front of  {}:{}\".format(str(s),s.dequeue())) \n",
        "    print(\"after pop: {}, len={}\".format(s,len(s)))\n",
        "    print()\n"
      ],
      "execution_count": null,
      "outputs": [
        {
          "output_type": "stream",
          "text": [
            "Queue:, len=0\n",
            "after enqueue(36):36, len:1\n",
            "after enqueue(18):36,18, len:2\n",
            "after enqueue(78):36,18,78, len:3\n",
            "after enqueue(68):36,18,78,68, len:4\n",
            "after enqueue(24):36,18,78,68,24, len:5\n",
            "\n",
            "front of the queue: 36\n",
            "tail of the queue: 24\n",
            "\n",
            "\n",
            "front of  36,18,78,68,24:36\n",
            "after pop: 18,78,68,24, len=4\n",
            "\n",
            "front of  18,78,68,24:18\n",
            "after pop: 78,68,24, len=3\n",
            "\n",
            "front of  78,68,24:78\n",
            "after pop: 68,24, len=2\n",
            "\n",
            "front of  68,24:68\n",
            "after pop: 24, len=1\n",
            "\n",
            "front of  24:24\n",
            "after pop: , len=0\n",
            "\n"
          ],
          "name": "stdout"
        }
      ]
    }
  ]
}
