{
  "nbformat": 4,
  "nbformat_minor": 0,
  "metadata": {
    "colab": {
      "name": "2.1-stack.ipynb",
      "provenance": [],
      "collapsed_sections": [],
      "include_colab_link": true
    },
    "kernelspec": {
      "display_name": "Python 3",
      "language": "python",
      "name": "python3"
    }
  },
  "cells": [
    {
      "cell_type": "markdown",
      "metadata": {
        "id": "view-in-github",
        "colab_type": "text"
      },
      "source": [
        "<a href=\"https://colab.research.google.com/github/isegura/EDA/blob/master/2_1_stack.ipynb\" target=\"_parent\"><img src=\"https://colab.research.google.com/assets/colab-badge.svg\" alt=\"Open In Colab\"/></a>"
      ]
    },
    {
      "cell_type": "markdown",
      "metadata": {
        "id": "yvRTR8inhMcF"
      },
      "source": [
        "# Implementation of a Stack using the Python list class\n",
        "\n",
        "We can use the primitive Python list to store the elements in the stack. The Python list class already allows to store a collection of items and provides a set of methods to manipulate its elements (such as append, len, top, etc)\n",
        "\n",
        "You only need to decide which end of the list will be considered the top of the stack and which will be the bottom. Once that decision is made, the operations can be implemented using the list methods.\n",
        "\n",
        "## First option: top at the end of the list\n",
        "\n",
        "The following implementation assumes that the end of the list stores the top element of the stack, while the bottom of the stack is stored at the first position of the list:\n"
      ]
    },
    {
      "cell_type": "code",
      "metadata": {
        "id": "4CVjoan9hMcJ",
        "colab": {
          "base_uri": "https://localhost:8080/"
        },
        "outputId": "e6899fb2-11fd-492b-a346-6376dfae3020"
      },
      "source": [
        "class Stack1:\n",
        "    \n",
        "  \"\"\"LIFO Stack implementation using a Python list as storage. \n",
        "  The top of the stack stored at the end of the list.\"\"\"\n",
        "  \n",
        "  def __init__(self):\n",
        "    \"\"\"Create an empty stack\"\"\"\n",
        "    self._items=[]\n",
        "    \n",
        "  def __len__(self):\n",
        "    \"\"\"Return the number of elements in the stack\"\"\"\n",
        "    return len(self._items)\n",
        "  \n",
        "  def isEmpty(self):\n",
        "    \"\"\"Return True if the stack is empty\"\"\"\n",
        "    return len(self._items)==0\n",
        "  \n",
        "  def __str__(self):\n",
        "    \"\"\"returns a string representing the elements of the stack\"\"\"\n",
        "    return str(self._items)\n",
        "\n",
        "  def push(self,e):\n",
        "    \"\"\"Add the element e to the top of the stack\"\"\"\n",
        "    self._items.append(e)\n",
        "    \n",
        "  def pop(self):\n",
        "    \"\"\"Remove and return the element from the top of the stack\"\"\"\n",
        "    if self.isEmpty():\n",
        "      print('Error: Stack is empty')\n",
        "      return None\n",
        "    \n",
        "    return self._items.pop() #remove last item from the list\n",
        "  \n",
        "  def top(self):\n",
        "    \"\"\"Return the element from the top of the stack\"\"\"\n",
        "    if self.isEmpty():\n",
        "      print('Error: Stack is empty')\n",
        "      return None\n",
        "    \n",
        "    #returns last element in the list\n",
        "    return self._items[-1] \n",
        "  \n",
        "  \n",
        " \n",
        "  \n",
        "  \n",
        "s=Stack1()\n",
        "print('isEmpty()',s.isEmpty())\n",
        "s.push('W')\n",
        "s.push('O')\n",
        "print('top element',s.top())\n",
        "print('isEmpty()',s.isEmpty())\n",
        "s.push('R')\n",
        "s.push('D')\n",
        "print('Content of stack:',str(s))\n",
        "print('pop:',s.pop())\n",
        "print('Content of stack:',str(s))\n",
        "print('top element:',s.top())\n",
        "\n",
        "s.push('W')\n",
        "s.push('W')\n",
        "s.push('A')\n",
        "s.push('O')\n",
        "\n",
        "\n",
        "\n",
        "\n"
      ],
      "execution_count": 8,
      "outputs": [
        {
          "output_type": "stream",
          "text": [
            "isEmpty() True\n",
            "top element O\n",
            "isEmpty() False\n",
            "Content of stack: ['W', 'O', 'R', 'D']\n",
            "pop: D\n",
            "Content of stack: ['W', 'O', 'R']\n",
            "top element: R\n"
          ],
          "name": "stdout"
        }
      ]
    },
    {
      "cell_type": "markdown",
      "metadata": {
        "id": "OyqQzdQShMcV"
      },
      "source": [
        "\n",
        "\n",
        "\n",
        "## Second option: top at the first position of the list```\n",
        "\n",
        "We could have chosen to implement the stack using a list where\n",
        "the top is at the beginning instead of at the end. In this case, the previous pop and append methods would no longer work and we would have to index position 0 (the first item in the\n",
        "list) explicitly using pop and insert. The implementation is shown below."
      ]
    },
    {
      "cell_type": "code",
      "metadata": {
        "id": "Ku9lR-KDhMcX",
        "colab": {
          "base_uri": "https://localhost:8080/"
        },
        "outputId": "d10c27d4-c275-4b93-9079-e30b59da2258"
      },
      "source": [
        "class Stack2:\n",
        "  \"\"\"LIFO Stack implementation using a Python list as storage. \n",
        "  The top of the stack is stored at the beginning of the list.\"\"\"\n",
        "  def __init__(self):\n",
        "        self._items = []\n",
        "\n",
        "  def __len__(self):\n",
        "    \"\"\"Return the number of elements in the stack\"\"\"\n",
        "    return len(self._items)\n",
        "  \n",
        "  def isEmpty(self):\n",
        "    \"\"\"Return True if the stack is empty\"\"\"\n",
        "    #return len(self.items)==0\n",
        "    #return len(self.items)==0\n",
        "    return len(self)==0\n",
        "  \n",
        "  def __str__(self):\n",
        "    #print the elements of the list\n",
        "    return str(self._items)\n",
        "    \n",
        "  #adds at the beginning of the list\n",
        "  def push(self, item):\n",
        "    self._items.insert(0,item)\n",
        "\n",
        "  #removes and returns the top element\n",
        "  def pop(self):\n",
        "    if self.isEmpty():\n",
        "      print('Error: Stack is empty')\n",
        "      return None\n",
        "    \n",
        "    #return the first element\n",
        "    return self._items.pop(0)\n",
        "    \n",
        "  #returns the top element\n",
        "  def top(self):\n",
        "    if self.isEmpty():\n",
        "      print('Error: Stack is empty')\n",
        "      return None\n",
        "    \n",
        "    return self._items[0]\n",
        "\n",
        "  \n",
        "  \n",
        "s=Stack2()\n",
        "print('isEmpty()',s.isEmpty())\n",
        "s.push('W')\n",
        "s.push('O')\n",
        "print('top element',s.top())\n",
        "print('isEmpty()',s.isEmpty())\n",
        "s.push('R')\n",
        "s.push('D')\n",
        "print('Content of stack',str(s))\n",
        "print('pop:',s.pop())\n",
        "print('Content of stack',str(s))\n",
        "print('top element:',s.top())\n"
      ],
      "execution_count": 9,
      "outputs": [
        {
          "output_type": "stream",
          "text": [
            "isEmpty() True\n",
            "top element O\n",
            "isEmpty() False\n",
            "Content of stack ['D', 'R', 'O', 'W']\n",
            "pop: D\n",
            "Content of stack ['R', 'O', 'W']\n",
            "top element: R\n"
          ],
          "name": "stdout"
        }
      ]
    },
    {
      "cell_type": "markdown",
      "metadata": {
        "id": "hg2HMGkvhMcf"
      },
      "source": [
        "**What implementation is better? **\n",
        "\n",
        "Althought the above implementations are logically equivalent, the first one is better than the second one because they operations append and pop() operations are both O(1), while insert(0) and pop(0) have linear complexity (O(n) for a stack of size n). In other words, the second implementation (top element is stored at the fist position of the list) requires more time complexity than the first one (where the top element is stored at the end of the list). \n",
        "\n",
        "## Quizzes\n",
        "\n",
        "Let us to test your knowledge about stacks. Please, Try to answer without executing the cells. \n",
        "\n",
        "1) Given the following code, what is the top item on the stack?. Possible answers:\n",
        "- a) 5, \n",
        "- b) 1, \n",
        "- c) 3, \n",
        "- d) The stack is empty.\n",
        "\n"
      ]
    },
    {
      "cell_type": "code",
      "metadata": {
        "id": "9A2pLRRJhMch",
        "colab": {
          "base_uri": "https://localhost:8080/"
        },
        "outputId": "4f3c02d5-d2ab-42ec-c955-786dbf775846"
      },
      "source": [
        "m = Stack1()\n",
        "m.push(5)\n",
        "m.push(1)\n",
        "m.pop()\n",
        "m.push(3)\n",
        "m.top()"
      ],
      "execution_count": 4,
      "outputs": [
        {
          "output_type": "execute_result",
          "data": {
            "text/plain": [
              "3"
            ]
          },
          "metadata": {
            "tags": []
          },
          "execution_count": 4
        }
      ]
    },
    {
      "cell_type": "markdown",
      "metadata": {
        "id": "A40Pzd79hMcn"
      },
      "source": [
        "Given the following code, what is the top element on the stack?. Possible answers:\n",
        "- a) 3\n",
        "- c) an error will occur\n",
        "- d) 1"
      ]
    },
    {
      "cell_type": "code",
      "metadata": {
        "id": "lYj6Znr_hMcp",
        "colab": {
          "base_uri": "https://localhost:8080/"
        },
        "outputId": "666cf5ec-c144-407d-a42f-c731a9547abb"
      },
      "source": [
        "m = Stack1()\n",
        "m.push(3)\n",
        "m.push(5)\n",
        "m.push(1)\n",
        "while not m.isEmpty():\n",
        "    m.pop()\n",
        "    m.pop()"
      ],
      "execution_count": 5,
      "outputs": [
        {
          "output_type": "stream",
          "text": [
            "Error: Stack is empty\n"
          ],
          "name": "stdout"
        }
      ]
    },
    {
      "cell_type": "markdown",
      "metadata": {
        "id": "JK-SlHH1hMcv"
      },
      "source": [
        "# Using stacks for solving problems\n",
        "\n",
        "Now we will see how stacks can be used to solve real computer science problems. \n",
        "\n",
        "## Reversing words with Stack\n",
        "\n",
        "Implement a Python function that takes a string and returns its reverse string.\n",
        "\n"
      ]
    },
    {
      "cell_type": "code",
      "metadata": {
        "id": "AXJoPX3pBFLZ",
        "colab": {
          "base_uri": "https://localhost:8080/"
        },
        "outputId": "dd2028b4-2160-41c7-bc0d-d90ce0ba9cb0"
      },
      "source": [
        "def reverse(word):\n",
        "  \"\"\"Returns the reverse word of the input word.\n",
        "  It uses a stack\"\"\"\n",
        "  s=Stack1()\n",
        "  #push each character onto the stack\n",
        "  for c in word:\n",
        "    s.push(c)\n",
        "    \n",
        "  #variable for reverse word\n",
        "  reWord=''\n",
        "  while not s.isEmpty():\n",
        "    #pop from the stack\n",
        "    c=s.pop()\n",
        "    #append at the end of the reverse word\n",
        "    reWord=reWord+c\n",
        "    \n",
        "  return reWord\n",
        "\n",
        "w=reverse('horse')\n",
        "print(w)"
      ],
      "execution_count": 6,
      "outputs": [
        {
          "output_type": "stream",
          "text": [
            "esroh\n"
          ],
          "name": "stdout"
        }
      ]
    },
    {
      "cell_type": "markdown",
      "metadata": {
        "id": "f-9hC12uBIvQ"
      },
      "source": [
        "## Balanced parenthesis\n",
        "\n",
        "\n",
        "Detecting when the parenthesis in an expression are correctly balanced or not is an important task to recognize many programming language structures (i.e. to evaluate arithmetic or logical expressions).\n",
        "\n",
        "\n",
        "In logical and arithmetic expressions, parentheses must appear in a balanced way. In other words:\n",
        "- 1) each opening symbol has a corresponding closing symbol and \n",
        "- 2) the pairs of parentheses are properly nested. \n",
        "\n",
        "The following table shows examples of balanced and non balanced expressions of parenthesis:\n",
        "\n",
        "| Balanced  | Non balanced |\n",
        "| --- | --- | \n",
        "| (()()()()) | ((((((())|\n",
        "|(((()))) | ())) |\n",
        "| (()((())())) | (()()(()|\n",
        "\n",
        "\n",
        "Please, write a Python program that reads a string of parenthesis and determines if its parenthesis are balanced. \n",
        "A stack is a good data structure to solve this problem because  closing symbols match opening symbols in the reverse order of their appearance. \n",
        "\n",
        "\n",
        "Below, we explain the steps to implement the algorithm. Firstly, you must create an empty stack, which be used to store the opening symbols. Then, you must read the expression from left to right. For each symbol:\n",
        "- If the symbol is an opening symbol, add it on the stack (with push operation).\n",
        "- If the symbol is a closing symbol:\n",
        "    - If the stack is empty, there is no any opening symbol for it, so return false (the expression is not balanced). \n",
        "    - Otherwise, remove the top of the stack (with pop) and continue. \n",
        "        \n",
        "When you have read all characters in the expression, there  are two possibilities:\n",
        "a) The stack is not empty, which means that the expressions contained some opening symbols without their corresponding closing symbols. Therefore, you must return false. \n",
        "b) The stack is empty. You must return true. \n"
      ]
    },
    {
      "cell_type": "code",
      "metadata": {
        "id": "wPC3ahH5hMcx",
        "colab": {
          "base_uri": "https://localhost:8080/"
        },
        "outputId": "d43ba631-604f-4e93-ca37-4ed60d843381"
      },
      "source": [
        "def balanced(exp):\n",
        "    \"\"\"Checks if the parenthesis in exp are balanced\"\"\"\n",
        "    ...\n",
        "  \n",
        "print('((((((())',balanced('((((((())'))\n",
        "print('(()()()())',balanced('(()()()())'))\n",
        "print('(((())))',balanced('(((())))'))\n",
        "print('()))',balanced('()))'))\n",
        "print('(()()(()',balanced('(()()(()')      )\n",
        "print('(()((())()))',balanced('(()((())()))')      )\n",
        "\n"
      ],
      "execution_count": null,
      "outputs": [
        {
          "output_type": "stream",
          "text": [
            "((((((()) True\n",
            "(()()()()) True\n",
            "(((()))) True\n",
            "())) True\n",
            "(()()(() True\n",
            "(()((())())) True\n"
          ],
          "name": "stdout"
        }
      ]
    }
  ]
}
