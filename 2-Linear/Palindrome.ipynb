{
  "nbformat": 4,
  "nbformat_minor": 0,
  "metadata": {
    "colab": {
      "name": "Palindrome.ipynb",
      "provenance": [],
      "collapsed_sections": [],
      "include_colab_link": true
    },
    "kernelspec": {
      "name": "python3",
      "display_name": "Python 3"
    }
  },
  "cells": [
    {
      "cell_type": "markdown",
      "metadata": {
        "id": "view-in-github",
        "colab_type": "text"
      },
      "source": [
        "<a href=\"https://colab.research.google.com/github/isegura/EDA/blob/master/Palindrome.ipynb\" target=\"_parent\"><img src=\"https://colab.research.google.com/assets/colab-badge.svg\" alt=\"Open In Colab\"/></a>"
      ]
    },
    {
      "cell_type": "markdown",
      "metadata": {
        "id": "KcWRKg-n63_o"
      },
      "source": [
        "# A function to check if a word is palindrome\n",
        "\n",
        "Examples of palindrome words: radar, anna, aba, aa[texto del enlace](https://), abba, abcba.\n",
        "\n",
        "The solution must be based on a doubly linked list. \n",
        "\n",
        "To use the class DList, first you must load its script dlist.py"
      ]
    },
    {
      "cell_type": "code",
      "metadata": {
        "colab": {
          "resources": {
            "http://localhost:8080/nbextensions/google.colab/files.js": {
              "data": "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",
              "ok": true,
              "headers": [
                [
                  "content-type",
                  "application/javascript"
                ]
              ],
              "status": 200,
              "status_text": ""
            }
          },
          "base_uri": "https://localhost:8080/",
          "height": 111
        },
        "id": "WKTg7C0393rH",
        "outputId": "f9697300-5794-4a4a-9c91-bcf6f78c426b"
      },
      "source": [
        "from google.colab import files\n",
        "#search the file in your local disk\n",
        "files.upload()\n"
      ],
      "execution_count": 9,
      "outputs": [
        {
          "output_type": "display_data",
          "data": {
            "text/html": [
              "\n",
              "     <input type=\"file\" id=\"files-ca50c9d7-7900-4c60-b997-aa11b1527205\" name=\"files[]\" multiple disabled\n",
              "        style=\"border:none\" />\n",
              "     <output id=\"result-ca50c9d7-7900-4c60-b997-aa11b1527205\">\n",
              "      Upload widget is only available when the cell has been executed in the\n",
              "      current browser session. Please rerun this cell to enable.\n",
              "      </output>\n",
              "      <script src=\"/nbextensions/google.colab/files.js\"></script> "
            ],
            "text/plain": [
              "<IPython.core.display.HTML object>"
            ]
          },
          "metadata": {
            "tags": []
          }
        },
        {
          "output_type": "stream",
          "text": [
            "Saving dlist.py to dlist (1).py\n"
          ],
          "name": "stdout"
        },
        {
          "output_type": "execute_result",
          "data": {
            "text/plain": [
              "{'dlist.py': b'# -*- coding: utf-8 -*-\\n\\n\\nclass DNode:\\n  def __init__(self,elem,next=None,prev=None ):\\n    self.elem = elem\\n    self.next = next\\n    self.prev = prev\\n    \\n    \\nclass DList:\\n    def __init__(self):\\n        \"\"\"creates an empty list\"\"\"\\n        self._head=None\\n        self._tail=None\\n        self._size=0\\n    \\n    def __len__(self):\\n        return self._size\\n\\n    def isEmpty(self):\\n        \"\"\"Checks if the list is empty\"\"\"\\n        #return self.head == None   \\n        return len(self)==0\\n  \\n    def __str__(self):\\n        \"\"\"Returns a string with the elements of the list\"\"\"\\n        ###This functions returns the same format used \\n        ###by the Python lists, i.e, [], [\\'i\\'], [\\'a\\', \\'b\\', \\'c\\', \\'d\\']\\n        ###[1], [3, 4, 5]\\n        nodeIt=self._head\\n        result=\\'[\\'\\n        while nodeIt:\\n            if type(nodeIt.elem)==int:\\n                result+= str(nodeIt.elem)+ \", \"\\n            else:\\n                result+= \"\\'\"+str(nodeIt.elem)+ \"\\', \"\\n            nodeIt=nodeIt.next\\n        \\n        if len(result)>1:\\n            result=result[:-2]\\n\\n        result+=\\']\\'\\n        return result\\n\\n    \\n    def addFirst(self,e):\\n        \"\"\"Add a new element, e, at the beginning of the list\"\"\"\\n        #create the new node\\n        newNode=DNode(e)                                   \\n        #the new node must point to the current head\\n        \\n        if self.isEmpty():                                \\n            self._tail=newNode                               \\n        else:\\n            newNode.next=self._head                          \\n            self._head.prev=newNode                          \\n        \\n        #update the reference of head to point the new node\\n        self._head=newNode                                 \\n        #increase the size of the list  \\n        self._size+=1                             \\n        \\n    \\n\\n    def addLast(self,e):\\n        \"\"\"Add a new element, e, at the end of the list\"\"\"\\n        #create the new node\\n        newNode=DNode(e)\\n        \\n        if self.isEmpty():\\n            self._head=newNode\\n        else:\\n            newNode.prev=self._tail\\n            self._tail.next=newNode\\n        \\n        #update the reference of head to point the new node\\n        self._tail=newNode\\n        #increase the size of the list  \\n        self._size+=1\\n\\n   \\n   \\n    def removeFirst(self):\\n        \"\"\"Returns and remove the first element of the list\"\"\"\\n        result=None\\n        if self.isEmpty():\\n            print(\"Error: list is empty\")\\n        else:\\n            result=self._head.elem \\n            \\n            self._head= self._head.next \\n            if self._head==None:\\n                self._tail=None\\n            else:\\n                self._head.prev = None\\n\\n            self._size-=1\\n\\n        return result\\n    \\n    def removeLast(self):\\n        \"\"\"Returns and remove the last element of the list\"\"\"\\n        result=None\\n\\n        if self.isEmpty():\\n            print(\"Error: list is empty\")\\n        else:\\n            result=self._tail.elem                       \\n            self._tail= self._tail.prev                 \\n            if self._tail==None:\\n                self._head=None\\n            else:\\n                self._tail.next = None\\n\\n            self._size-=1\\n\\n        return result\\n  \\n \\n    def getAt(self,index):\\n        \"\"\"return the element at the position index.\\n        If the index is an invalid position, the function\\n        will return -1\"\"\"\\n        result=None\\n        if index not in range(0,len(self)): \\n            print(index,\\'Error getAt: index out of range\\')\\n        else:\\n            nodeIt=self._head\\n            i=0\\n            while nodeIt and i<index:\\n                nodeIt=nodeIt.next\\n                i+=1\\n\\n            #nodeIt is at the position index\\n            result=nodeIt.elem\\n\\n        return result\\n\\n    def index(self,e):\\n        \"\"\"returns the first position of e into the list.\\n        If e does not exist in the list, \\n        then the function will return -1\"\"\"\\n        nodeIt=self._head\\n        index=0\\n        while nodeIt:\\n            if nodeIt.elem==e:\\n                return index\\n            nodeIt=nodeIt.next\\n            index+=1\\n            \\n        #print(e,\\' does not exist!!!\\')\\n        return -1 \\n\\n    def insertAt(self,index,e):\\n        if index not in range(len(self)+1):\\n            print(\\'Error: index out of range\\')\\n        elif index==0:\\n            self.addFirst(e)\\n        elif index==len(self): \\n            self.addLast(e)\\n        else:\\n            nodeIt=self._head\\n            for i in range(index):\\n                nodeIt=nodeIt.next\\n            #nodeIt is the node at the index\\n            previous=nodeIt.prev\\n        \\n            newNode=DNode(e)\\n            #we have to insert the new node before nodeIt\\n            newNode.next=nodeIt\\n            newNode.prev=previous\\n\\n            previous.next=newNode\\n            nodeIt.prev=newNode\\n            self._size+=1\\n      \\n      \\n    \\n\\n    \\n    def removeAt(self,index):\\n        \"\"\"This methods removes the node at the index position in the list\"\"\"\\n        \\n        #We must check that index is a right position in the list\\n        #Remember that the indexes in a list can range from 0 to size-1\\n        result=None\\n        if index not in range(len(self)): \\n            print(index,\\'Error removeAt: index out of range\\')\\n        elif index==0:\\n            result= self.removeFirst()\\n        elif index==len(self)-1:\\n            result= self.removeLast()\\n        else:\\n            nodeIt=self._head\\n            for i in range(index):\\n                nodeIt=nodeIt.next\\n\\n            #nodeIt is the node to be removed\\n            result=nodeIt.elem\\n            prevNode=nodeIt.prev\\n            nextNode=nodeIt.next\\n            \\n            prevNode.next=nextNode\\n            nextNode.prev=prevNode\\n            self._size-=1\\n        \\n        return result\\n\\n\\nif __name__==\\'__main__\\':\\n    import random\\n    l=DList()\\n    for i in range(5):\\n        l.addLast(random.randint(-5,5))\\n\\n    print(\\'Content of l:\\', l)\\n    print(\\'len(l):\\', len(l))\\n    print()\\n\\n    while l.isEmpty()==False:\\n        print(\\'after removeFirst()={}, l={}, len={}\\'.format(l.removeFirst(),l,len(l)))\\n\\n\\n    for i in range(3):\\n        x=random.randint(-5,5)\\n        l.addFirst(x)\\n        print(\\'after addFirst({}), l={}, len={}\\'.format(x,l,len(l)))\\n\\n    print(\\'Content of l:\\', l)\\n    print(\\'len(l):\\', len(l))\\n    print()\\n\\n    while l.isEmpty()==False:\\n        print(\\'after removeLast()={}, l={}, len={}\\'.format(l.removeLast(),l,len(l)))\\n    print(\\'---------------------\\')\\n    for i in range(3):\\n        x=random.randint(-5,5)\\n        l.addFirst(x)\\n        l.addLast(x)\\n\\n    print(\\'Content of l:\\', l)\\n    print(\\'len(l):\\', len(l))\\n    print()\\n\\n    for i in range(len(l)):\\n        print(\\' getAt({})={}\\'.format(i, l.getAt(i)))\\n    print()\\n\\n    for i in range(3):\\n        x=random.randint(-5,5)\\n        print(\\' index({})={}\\'.format(x, l.index(x)))\\n    print()\\n\\n    print(\\'Content of l:\\', l)\\n    print(\\'len(l):\\', len(l))\\n    print()\\n\\n    x=666\\n    l.insertAt(0,x)\\n    print(\\' insertAt(0,{}), l={}, len={}\\'.format(x,l,len(l)))\\n    l.insertAt(len(l),x)\\n    print(\\' insertAt(len(l),{}), l={}, len={}\\'.format(x,l,len(l)))\\n    l.insertAt(len(l)//2,x)\\n    print(\\' insertAt(len(l)//2,{}), l={}, len={}\\'.format(x,l,len(l)))\\n    print()\\n    print()\\n\\n\\n    print(\\' removeAt(0)={}, l={}, len={}\\'.format(l.removeAt(0),l,len(l)))\\n    print(\\' removeAt(len(l)-1)={}, l={}, len={}\\'.format(l.removeAt(len(l)-1),l,len(l)))\\n    print(\\' removeAt(len(l)//2+1)={}, l={}, len={}\\'.format(l.removeAt(len(l)//2+1),l,len(l)))\\n\\n'}"
            ]
          },
          "metadata": {
            "tags": []
          },
          "execution_count": 9
        }
      ]
    },
    {
      "cell_type": "code",
      "metadata": {
        "colab": {
          "base_uri": "https://localhost:8080/"
        },
        "id": "Act4si4KKIX3",
        "outputId": "7172cb63-da1b-4563-b37e-c5a23c1b8ec1"
      },
      "source": [
        "from dlist import DList\n",
        "\n",
        "def isPalindrome(word):\n",
        "    \"\"\"returns True if the word is palindrome, False eoc\"\"\"\n",
        "\n",
        "    if word==None:\n",
        "        #we consider that None is not palindrome\n",
        "        return False\n",
        "    \n",
        "    result=True\n",
        "\n",
        "    l=DList()\n",
        "    for c in word:\n",
        "        l.addLast(c)\n",
        "    \n",
        "    left=l._head\n",
        "    right=l._tail\n",
        "\n",
        "    while result and left!=right and right.next!=left :\n",
        "        if left.elem!=right.elem:\n",
        "            result=False\n",
        "        left=left.next\n",
        "        right=right.prev\n",
        "\n",
        "\n",
        "    return result\n",
        "\n",
        "\n",
        "def isPalindrome2(word):\n",
        "    \"\"\"This functions uses a variable count in the loop\"\"\"\n",
        "    if word==None:\n",
        "        return False\n",
        "\n",
        "    l=DList()\n",
        "    for c in word:\n",
        "        l.addLast(c)\n",
        "    #print(l)\n",
        "\n",
        "    left=l._head\n",
        "    right=l._tail\n",
        "    cont=0\n",
        "    while cont<len(l)//2:\n",
        "\n",
        "        if left.elem!=right.elem:\n",
        "            return False\n",
        "        left=left.next\n",
        "        right=right.prev\n",
        "        cont+=1\n",
        "\n",
        "\n",
        "    return True\n",
        "\n",
        "if __name__=='__main__':\n",
        "\n",
        "    for word in ['a','aa','aba','abc','aabb','aacbb','abcba', 'radar','raddar']:\n",
        "        print('isPalindrome({})={}'.format(word,isPalindrome(word)))\n",
        "        print('isPalindrome2({})={}'.format(word,isPalindrome2(word)))\n",
        "        print()\n",
        "\n"
      ],
      "execution_count": 10,
      "outputs": [
        {
          "output_type": "stream",
          "text": [
            "isPalindrome(a)=True\n",
            "isPalindrome2(a)=True\n",
            "\n",
            "isPalindrome(aa)=True\n",
            "isPalindrome2(aa)=True\n",
            "\n",
            "isPalindrome(aba)=True\n",
            "isPalindrome2(aba)=True\n",
            "\n",
            "isPalindrome(abc)=False\n",
            "isPalindrome2(abc)=False\n",
            "\n",
            "isPalindrome(aabb)=False\n",
            "isPalindrome2(aabb)=False\n",
            "\n",
            "isPalindrome(aacbb)=False\n",
            "isPalindrome2(aacbb)=False\n",
            "\n",
            "isPalindrome(abcba)=True\n",
            "isPalindrome2(abcba)=True\n",
            "\n",
            "isPalindrome(radar)=True\n",
            "isPalindrome2(radar)=True\n",
            "\n",
            "isPalindrome(raddar)=True\n",
            "isPalindrome2(raddar)=True\n",
            "\n"
          ],
          "name": "stdout"
        }
      ]
    },
    {
      "cell_type": "markdown",
      "metadata": {
        "id": "eTScVn73_voD"
      },
      "source": [
        "# Creating a unittest to test our function isPalindrome\n"
      ]
    },
    {
      "cell_type": "code",
      "metadata": {
        "colab": {
          "base_uri": "https://localhost:8080/"
        },
        "id": "Xe1hcClS-m2w",
        "outputId": "969a4e86-c19b-4788-cadd-2898a38940dc"
      },
      "source": [
        "\n",
        "\n",
        "import unittest #package that contains the classes t\n",
        "\n",
        "class Test(unittest.TestCase):\n",
        "\n",
        "    def test_isPalindrome(self):\n",
        "        word=''\n",
        "        self.assertTrue(isPalindrome(word), \"Case 1: word empty, isPalindrome\")\n",
        "        word='a'\n",
        "        self.assertTrue(isPalindrome(word), \"Case 2: word of length\")\n",
        "        word='aa'\n",
        "        self.assertTrue(isPalindrome(word), \"Case 3: word of length 2\")\n",
        "        word='ab'\n",
        "        self.assertFalse(isPalindrome(word), \"Case 4: word  no palindrome of length 2\") \n",
        "\n",
        "        word='abcba'\n",
        "        self.assertTrue(isPalindrome(word), \"Case 3: word of length 2\")\n",
        "        word='asgds'\n",
        "        self.assertFalse(isPalindrome(word), \"Case 4: word  no palindrome of length 2\") \n",
        "\n",
        "        word='abccba'\n",
        "        self.assertTrue(isPalindrome(word), \"Case 3: word of length 2\")\n",
        "        word='asgcds'\n",
        "        self.assertFalse(isPalindrome(word), \"Case 4: word  no palindrome of length 2\") \n",
        "\n",
        "#If you are using Spyder, please comment the following line: \n",
        "unittest.main(argv=['first-arg-is-ignored'], exit=False)\n",
        "\n",
        "#To use Spyder, remove the following comments:\n",
        "#if __name__ == '__main__':\n",
        "#    unittest.main()"
      ],
      "execution_count": 8,
      "outputs": [
        {
          "output_type": "stream",
          "text": [
            ".\n",
            "----------------------------------------------------------------------\n",
            "Ran 1 test in 0.001s\n",
            "\n",
            "OK\n"
          ],
          "name": "stderr"
        },
        {
          "output_type": "execute_result",
          "data": {
            "text/plain": [
              "<unittest.main.TestProgram at 0x7f242c2ef790>"
            ]
          },
          "metadata": {
            "tags": []
          },
          "execution_count": 8
        }
      ]
    }
  ]
}
