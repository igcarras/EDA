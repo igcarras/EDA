{
  "nbformat": 4,
  "nbformat_minor": 0,
  "metadata": {
    "colab": {
      "name": "Deque.ipynb",
      "provenance": [],
      "collapsed_sections": [],
      "include_colab_link": true
    },
    "kernelspec": {
      "name": "python3",
      "display_name": "Python 3"
    }
  },
  "cells": [
    {
      "cell_type": "markdown",
      "metadata": {
        "id": "view-in-github",
        "colab_type": "text"
      },
      "source": [
        "<a href=\"https://colab.research.google.com/github/isegura/EDA/blob/master/Deque.ipynb\" target=\"_parent\"><img src=\"https://colab.research.google.com/assets/colab-badge.svg\" alt=\"Open In Colab\"/></a>"
      ]
    },
    {
      "cell_type": "markdown",
      "metadata": {
        "id": "D-eWSFDahXUF"
      },
      "source": [
        "# Deques \n",
        "\n",
        "\n",
        "Unlike stack and queue, the deque (pronounced 'deck') has very few restrictions. \n",
        "\n",
        "A **deque**, also known as a **double-ended queue**, is a  collection of items similar to the queue. It has two ends, a front and a tail.\n",
        "\n",
        "New items can be added at either the front or the tail. \n",
        "Likewise, existing items can be removed from either end. \n",
        "\n",
        "In a sense, this hybrid linear structure provides all the capabilities of stacks and queues in a single data structure. \n",
        "\n",
        "## The Deque Abstract Data Type\n",
        "\n",
        "The **deque** abstract data type is defined by the following structure and operations. \n",
        "\n",
        "A deque is a collection of items where items are added and\n",
        "removed from either end, either front or tail. The deque operations are given below: \n",
        "\n",
        "- Deque() creates a new deque that is empty. It needs no parameters and returns an empty deque.\n",
        "\n",
        "- addFirst(item) adds a new item to the front of the deque. It returns nothing.\n",
        "\n",
        "- addLast(item): adds a new item to the tail of the deque. It returns\n",
        "nothing.\n",
        "\n",
        "- removeFirst(): removes the front item from the deque. The deque is modified. It returns the item. \n",
        "\n",
        "- removeLast(): removes the tail item from the deque. It returns the item. The deque is modified.\n",
        "\n",
        "- isEmpty(): returns True if the deque is empty, False otherwise.\n",
        "\n",
        "- __len__(): returns the number of items in the deque.\n",
        "\n",
        "- __str__(): returns a string representing the dequeue.\n",
        "\n",
        "## Implementing a Deque using Python list\n",
        "\n",
        "Our implementation assumes that the front of the deque is at position 0 in the list"
      ]
    },
    {
      "cell_type": "code",
      "metadata": {
        "id": "2EMPUg2ThWyr"
      },
      "source": [
        "class Deque:\n",
        "  \n",
        "    def __init__(self):\n",
        "        self._items=[]\n",
        "\n",
        "    def __len__(self):\n",
        "        return len(self._items)\n",
        "\n",
        "    def __str__(self):\n",
        "        return str(self._items)\n",
        "\n",
        "    def isEmpty(self):\n",
        "        return len(self)==0\n",
        " \n",
        "    def addLast(self,e):\n",
        "        \"\"\"adds the element, e, at the end of the dequeue\"\"\"\n",
        "        self._items.append(e)\n",
        "\n",
        "    def addFirst(self,e):\n",
        "        self._items.insert(0,e)\n",
        "\n",
        "    def removeLast(self):\n",
        "        result=None\n",
        "        if self.isEmpty():\n",
        "            print(\"Error: dequeue is empty!!!\")\n",
        "        else:\n",
        "            result=self._items.pop()\n",
        "        return result\n",
        "\n",
        "    def tail(self):\n",
        "        \"\"\"returns the last element of the dequeue\"\"\"\n",
        "        result=None\n",
        "        if self.isEmpty():\n",
        "            print(\"Error: dequeue is empty!!!\")\n",
        "        else:\n",
        "            #result=self._items[-1]\n",
        "            result=self._items[len(self)-1]\n",
        "        return result\n",
        "\n",
        "    def removeFirst(self):\n",
        "        result=None\n",
        "        if self.isEmpty():\n",
        "            print(\"Error: dequeue is empty!!!\")\n",
        "        else:\n",
        "            result=self._items.pop(0)\n",
        "        return result\n",
        "\n",
        "    def front(self):\n",
        "        result=None\n",
        "        if self.isEmpty():\n",
        "            print(\"Error: dequeue is empty!!!\")\n",
        "        else:\n",
        "            result=self._items[0]\n",
        "        return result    "
      ],
      "execution_count": null,
      "outputs": []
    },
    {
      "cell_type": "code",
      "metadata": {
        "colab": {
          "base_uri": "https://localhost:8080/"
        },
        "id": "TV6yxz5ako0A",
        "outputId": "a99b69af-ee39-408f-fc86-2faf9a63dca0"
      },
      "source": [
        "q=Deque()\n",
        "print('isEmpty()',q.isEmpty())\n",
        "q.addLast(4) #[4]\n",
        "q.addLast(5) #[4,5]\n",
        "q.addFirst(3) #[3,4,5]\n",
        "q.addFirst(2) #[2,3,4,5]\n",
        "q.addFirst(1) #[1,2,3,4,5]\n",
        "print('Content of queue',str(q))  #[1,2,3,4,5]\n",
        "\n",
        "print('isEmpty()',q.isEmpty()) #False\n",
        "\n",
        "print('removeFirst():',q.removeFirst()) #1 \n",
        "print('Content of queue',str(q))  #[2,3,4,5]\n",
        "\n",
        "print('removeLast():',q.removeLast()) #5\n",
        "print('Content of queue',str(q))  #[2,3,4]\n",
        "\n",
        "print('size:',len(q)) #\n",
        "print(\"front:\",q.front()) #2\n",
        "print(\"tail:\",q.tail()) #4\n"
      ],
      "execution_count": null,
      "outputs": [
        {
          "output_type": "stream",
          "text": [
            "isEmpty() True\n",
            "Content of queue [1, 2, 3, 4, 5]\n",
            "isEmpty() False\n",
            "removeFirst(): 1\n",
            "Content of queue [2, 3, 4, 5]\n",
            "removeLast(): 5\n",
            "Content of queue [2, 3, 4]\n",
            "size: 3\n",
            "front: 2\n",
            "tail: 4\n"
          ],
          "name": "stdout"
        }
      ]
    },
    {
      "cell_type": "code",
      "metadata": {
        "colab": {
          "base_uri": "https://localhost:8080/"
        },
        "id": "4B9lX1rJqMoL",
        "outputId": "e5cac13e-709f-48c1-f1f7-7c1c053d35d8"
      },
      "source": [
        ""
      ],
      "execution_count": null,
      "outputs": [
        {
          "output_type": "stream",
          "text": [
            "Content of queue [1, 2, 3, 4, 5]\n",
            "isEmpty() False\n",
            "removeFirst(): 1\n",
            "Content of queue [2, 3, 4, 5]\n",
            "removeLast(): 5\n",
            "Content of queue [2, 3, 4]\n",
            "size: 3\n",
            "front: 2\n",
            "tail: 4\n"
          ],
          "name": "stdout"
        }
      ]
    }
  ]
}
