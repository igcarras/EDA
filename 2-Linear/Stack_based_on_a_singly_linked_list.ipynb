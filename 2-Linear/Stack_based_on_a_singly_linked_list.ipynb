{
  "nbformat": 4,
  "nbformat_minor": 0,
  "metadata": {
    "colab": {
      "name": "Stack based on a singly linked list.ipynb",
      "provenance": [],
      "collapsed_sections": [],
      "include_colab_link": true
    },
    "kernelspec": {
      "name": "python3",
      "display_name": "Python 3"
    }
  },
  "cells": [
    {
      "cell_type": "markdown",
      "metadata": {
        "id": "view-in-github",
        "colab_type": "text"
      },
      "source": [
        "<a href=\"https://colab.research.google.com/github/isegura/EDA/blob/master/Stack_based_on_a_singly_linked_list.ipynb\" target=\"_parent\"><img src=\"https://colab.research.google.com/assets/colab-badge.svg\" alt=\"Open In Colab\"/></a>"
      ]
    },
    {
      "cell_type": "markdown",
      "metadata": {
        "id": "m6gqMQEsKlZT"
      },
      "source": [
        "# Implementing a stack by using a singly linked list\n",
        "\n",
        "Instead of using a Python List to implement a stack, we will use a singly linked list. In particular, our singly linked list will only be represented using a reference to its first node. \n",
        "\n",
        "In this case, the peak of the stack will be saved into the first node of the singly linked list because removing and adding the first element of a singly linked list is more efficient than adding and removing the last element of the list. \n",
        "\n",
        "First, we must implement the Node class, which has two attributes: element and next, which points to the following node of the list.\n",
        "\n",
        "---\n",
        "\n"
      ]
    },
    {
      "cell_type": "code",
      "metadata": {
        "id": "xU-vBfqIEAVp"
      },
      "source": [
        "class SNode:\n",
        "  def __init__(self, e, next=None):\n",
        "    self.elem = e\n",
        "    self.next = next\n",
        "    "
      ],
      "execution_count": null,
      "outputs": []
    },
    {
      "cell_type": "markdown",
      "metadata": {
        "id": "EQ-xBgZYERfY"
      },
      "source": [
        "Now, we can implement the class for a singly linked list. Our class only uses a refererence, head, for storing the first node, respectively. Moreover, it includes an atributte, named size, which stores the number of elements in the list."
      ]
    },
    {
      "cell_type": "code",
      "metadata": {
        "id": "AbA3PZJkEV9o"
      },
      "source": [
        "class Stack:\n",
        "  \"\"\"This is the implementation of a stack based on a singly linked list. \n",
        "  We only use a reference to the first node, named head. This head references\n",
        "  to the peak of the stack\"\"\"\n",
        "  def __init__(self):\n",
        "    \"\"\"This constructor creates an empty stack\"\"\"\n",
        "    self._head=None\n",
        "    self._size=0\n",
        "\n",
        "  def __len__(self):\n",
        "    \"\"\"It returns the size of the stack\"\"\"\n",
        "    return self._size\n",
        "\n",
        "  def isEmpty(self):\n",
        "    \"\"\"\"It returns True if the stack is empty, and False eoc\"\"\"\n",
        "    #return len(self)\n",
        "    return self._head == None\n",
        "\n",
        "  def push(self,e):\n",
        "    \"\"\"Add a new element, e, on the stack (before the peak of the stack)\"\"\"\n",
        "    #create the new node\n",
        "    newNode=SNode(e)\n",
        "    #the new node must point to the current head\n",
        "    newNode.next=self._head\n",
        "    #update the reference of head to point the new node\n",
        "    self._head=newNode\n",
        "    #increase the size of the list  \n",
        "    self._size=self._size+1\n",
        "\n",
        "\n",
        "  def pop(self):\n",
        "    \"\"\"Removes the peak (first element) of the stack\"\"\"\n",
        "    result=None\n",
        "    if self.isEmpty():\n",
        "      print('Error: stack is empty!')\n",
        "    else:  \n",
        "      #gets the first element, which we will return later\n",
        "      result=self._head.elem\n",
        "      #updates head to point to the new head (the next node)\n",
        "      self._head=self._head.next\n",
        "      self._size-=1\n",
        "    \n",
        "    return result\n",
        "    \n",
        "  def top(self):\n",
        "    \"\"\"returns the peak (first element) of the stack\"\"\"\n",
        "    result=None\n",
        "    if self.isEmpty():\n",
        "      print('Error: stack is empty!')\n",
        "    else:  \n",
        "      #gets the first element, which we will return later\n",
        "      result=self._head.elem\n",
        "      \n",
        "    return result\n",
        "\n",
        "  \n",
        "  def __str__(self):\n",
        "    \"\"\"Returns a string with the elements of the list\"\"\"\n",
        "    nodeIt=self._head\n",
        "    result=''\n",
        "    while nodeIt: #nodeIt!=None\n",
        "      result+=','+str(nodeIt.elem)\n",
        "      nodeIt=nodeIt.next\n",
        "\n",
        "    #remove the first ','\n",
        "    if len(result)>0:   \n",
        "      result=result[1:]\n",
        "\n",
        "    return result\n",
        "    \n",
        " "
      ],
      "execution_count": null,
      "outputs": []
    },
    {
      "cell_type": "markdown",
      "metadata": {
        "id": "55T8HQwoKt3l"
      },
      "source": [
        "\n",
        "Once you have implemented the two classes, you can use them in order to create your own lists:\n"
      ]
    },
    {
      "cell_type": "code",
      "metadata": {
        "id": "UDyyoNv6KvtU",
        "colab": {
          "base_uri": "https://localhost:8080/"
        },
        "outputId": "d634691c-498f-4f9f-c3af-8fb347a20f13"
      },
      "source": [
        "import random\n",
        "\n",
        "s=Stack()\n",
        "print(\"stack:{}, len={}\".format(str(s),len(s)))\n",
        "\n",
        "#we generate 5 random integers\n",
        "for i in range(5):\n",
        "    #creates a positive integer between 0 <=x<= 100\n",
        "    x=random.randint(0,100)\n",
        "    s.push(x)\n",
        "    print(\"after push({}):{}, len:{}\".format(x,str(s),len(s)))\n",
        "\n",
        "\n",
        "print()\n",
        "print(\"top (peak) of the stack:\", s.top()) #1\n",
        "\n",
        "print()\n",
        "while not s.isEmpty():\n",
        "    print(\"top (peak) of  {}:{}\".format(str(s),s.pop())) \n",
        "    print(\"after pop: {}, len={}\".format(s,len(s)))\n",
        "    print()\n",
        "\n",
        "print()\n",
        "for i in range(5):\n",
        "    s.push(i)\n",
        "    print(\"after push({}): {}, len={}\".format(i,s,len(s)))\n",
        "\n"
      ],
      "execution_count": null,
      "outputs": [
        {
          "output_type": "stream",
          "text": [
            "stack:, len=0\n",
            "after push(48):48, len:1\n",
            "after push(40):40,48, len:2\n",
            "after push(41):41,40,48, len:3\n",
            "after push(5):5,41,40,48, len:4\n",
            "after push(66):66,5,41,40,48, len:5\n",
            "\n",
            "top (peak) of the stack: 66\n",
            "\n",
            "top (peak) of  66,5,41,40,48:66\n",
            "after pop: 5,41,40,48, len=4\n",
            "\n",
            "top (peak) of  5,41,40,48:5\n",
            "after pop: 41,40,48, len=3\n",
            "\n",
            "top (peak) of  41,40,48:41\n",
            "after pop: 40,48, len=2\n",
            "\n",
            "top (peak) of  40,48:40\n",
            "after pop: 48, len=1\n",
            "\n",
            "top (peak) of  48:48\n",
            "after pop: , len=0\n",
            "\n",
            "\n",
            "after push(0): 0, len=1\n",
            "after push(1): 1,0, len=2\n",
            "after push(2): 2,1,0, len=3\n",
            "after push(3): 3,2,1,0, len=4\n",
            "after push(4): 4,3,2,1,0, len=5\n"
          ],
          "name": "stdout"
        }
      ]
    }
  ]
}
