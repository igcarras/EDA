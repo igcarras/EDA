{
  "nbformat": 4,
  "nbformat_minor": 0,
  "metadata": {
    "colab": {
      "name": "Queue based on singly linked list only head.ipynb",
      "provenance": [],
      "collapsed_sections": [],
      "include_colab_link": true
    },
    "kernelspec": {
      "name": "python3",
      "display_name": "Python 3"
    }
  },
  "cells": [
    {
      "cell_type": "markdown",
      "metadata": {
        "id": "view-in-github",
        "colab_type": "text"
      },
      "source": [
        "<a href=\"https://colab.research.google.com/github/isegura/EDA/blob/master/Queue_based_on_singly_linked_list_only_head.ipynb\" target=\"_parent\"><img src=\"https://colab.research.google.com/assets/colab-badge.svg\" alt=\"Open In Colab\"/></a>"
      ]
    },
    {
      "cell_type": "markdown",
      "metadata": {
        "id": "m6gqMQEsKlZT"
      },
      "source": [
        "# Implementing a queue by using a singly linked list (only using head)\n",
        "\n",
        "Instead of using a Python list, we will use a singly linked list to implement a queue. The first element of the queue will be saved into the first node of the singly linked list and the last element of the queue will be saved into the last node of the singly linked list. \n",
        "\n",
        "In this implementation, we will use a single reference that points to the first node, head. \n",
        "To dequeue the first element of the queue, this implementation is efficient because we only have to update the reference to the first node, head.\n",
        "However, to enqueue a new element at the end of the queue, this implementation is not efficient because we need to traverse the enqueue to reach the last node, which will point to the new node. \n",
        "\n",
        "---\n",
        "\n"
      ]
    },
    {
      "cell_type": "code",
      "metadata": {
        "id": "AbA3PZJkEV9o"
      },
      "source": [
        "class SNode:\n",
        "  def __init__(self, e, next=None):\n",
        "    self.elem = e\n",
        "    self.next = next    \n",
        "    \n",
        "class Queue:\n",
        "    def __init__(self):\n",
        "        self._head=None\n",
        "        self._size=0\n",
        "    \n",
        "    \n",
        "    def isEmpty(self):\n",
        "        \"\"\"Checks if the list is empty\"\"\"\n",
        "        return self._head == None   \n",
        "        \n",
        "    def __len__(self):\n",
        "        return self._size\n",
        " \n",
        "    def dequeue(self):\n",
        "        \"\"\"Removes the first element of the queue\"\"\"\n",
        "        result=None\n",
        "        if self.isEmpty():\n",
        "            print('Error: queue is empty!')\n",
        "        else:\n",
        "            result=self._head.elem\n",
        "            self._head=self._head.next\n",
        "            self._size -= 1\n",
        "            \n",
        "        return result \n",
        "\n",
        "    def front(self):\n",
        "        \"\"\"returns the first element of the queue\"\"\"\n",
        "        result=None\n",
        "        if self.isEmpty():\n",
        "            print('Error: queue is empty!')\n",
        "        else:\n",
        "            #gets the first element, which we will return later\n",
        "            result=self._head.elem\n",
        "        return result \n",
        "\n",
        "   \n",
        "\n",
        "    \n",
        "\n",
        "    def enqueue(self,e):\n",
        "        \"\"\"Adds a new element, e, at the end of the queue\"\"\"\n",
        "        #create the new node\n",
        "        newNode=SNode(e)\n",
        "        #the last node must point to the new node\n",
        "        #now, we must update the tail reference\n",
        "        if self.isEmpty():\n",
        "            self._head=newNode\n",
        "        else:\n",
        "            lastNode=self._head\n",
        "            while lastNode.next: #lastNode.next!=None\n",
        "                lastNode=lastNode.next\n",
        "            #now, lastNode is the last node.\n",
        "            lastNode.next=newNode\n",
        "         \n",
        "         self._size += 1\n",
        "    \n",
        "\n",
        "    def tail(self):\n",
        "        \"\"\"returns the last element of the queue\"\"\"\n",
        "        result=None\n",
        "        if self.isEmpty():\n",
        "            print('Error: queue is empty!')\n",
        "        else:\n",
        "            #gets the tail element, which we will return later\n",
        "            result=self._tail.elem\n",
        "           \n",
        "            \n",
        "        return result \n",
        "\n",
        "    def __str__(self):\n",
        "        \"\"\"Returns a string with the elements of the queue\"\"\"\n",
        "        result=''\n",
        "        nodeIt=self._head\n",
        "        \n",
        "        while nodeIt: #nodeIt!=None\n",
        "            result=result+','+str(nodeIt.elem)\n",
        "            nodeIt=nodeIt.next\n",
        "        #we must remove the first comma ','\n",
        "        if len(result)>0:\n",
        "            result=result[1:]\n",
        "\n",
        "        return result\n",
        "    \n",
        "  \n",
        "    "
      ],
      "execution_count": null,
      "outputs": []
    },
    {
      "cell_type": "markdown",
      "metadata": {
        "id": "55T8HQwoKt3l"
      },
      "source": [
        "\n",
        "Once you have implemented the two classes, you can use them in order to create your own lists:\n"
      ]
    },
    {
      "cell_type": "code",
      "metadata": {
        "id": "UDyyoNv6KvtU",
        "colab": {
          "base_uri": "https://localhost:8080/"
        },
        "outputId": "a35963d7-db06-4944-8e14-414629cc2d5a"
      },
      "source": [
        "import random\n",
        "\n",
        "s=Queue()\n",
        "print(\"Queue:{}, len={}\".format(str(s),len(s)))\n",
        "\n",
        "#we generate 5 random integers\n",
        "for i in range(5):\n",
        "    #creates a positive integer between 0 <=x<= 100\n",
        "    x=random.randint(0,100)\n",
        "    s.enqueue(x)\n",
        "    print(\"after enqueue({}):{}, len:{}\".format(x,str(s),len(s)))\n",
        "\n",
        "\n",
        "print()\n",
        "print(\"front of the queue:\", s.front()) \n",
        "print(\"tail of the queue:\", s.tail()) \n",
        "print()\n",
        "\n",
        "\n",
        "print()\n",
        "while not s.isEmpty():\n",
        "    print(\"front of  {}:{}\".format(str(s),s.dequeue())) \n",
        "    print(\"after pop: {}, len={}\".format(s,len(s)))\n",
        "    print()\n"
      ],
      "execution_count": null,
      "outputs": [
        {
          "output_type": "stream",
          "text": [
            "Queue:, len=0\n",
            "after enqueue(36):36, len:1\n",
            "after enqueue(18):36,18, len:2\n",
            "after enqueue(78):36,18,78, len:3\n",
            "after enqueue(68):36,18,78,68, len:4\n",
            "after enqueue(24):36,18,78,68,24, len:5\n",
            "\n",
            "front of the queue: 36\n",
            "tail of the queue: 24\n",
            "\n",
            "\n",
            "front of  36,18,78,68,24:36\n",
            "after pop: 18,78,68,24, len=4\n",
            "\n",
            "front of  18,78,68,24:18\n",
            "after pop: 78,68,24, len=3\n",
            "\n",
            "front of  78,68,24:78\n",
            "after pop: 68,24, len=2\n",
            "\n",
            "front of  68,24:68\n",
            "after pop: 24, len=1\n",
            "\n",
            "front of  24:24\n",
            "after pop: , len=0\n",
            "\n"
          ],
          "name": "stdout"
        }
      ]
    }
  ]
}
