{
  "nbformat": 4,
  "nbformat_minor": 0,
  "metadata": {
    "colab": {
      "name": "Balanced parenthesis extendido.ipynb",
      "provenance": [],
      "collapsed_sections": [],
      "include_colab_link": true
    },
    "kernelspec": {
      "name": "python3",
      "display_name": "Python 3"
    }
  },
  "cells": [
    {
      "cell_type": "markdown",
      "metadata": {
        "id": "view-in-github",
        "colab_type": "text"
      },
      "source": [
        "<a href=\"https://colab.research.google.com/github/isegura/EDA/blob/master/Balanced_parenthesis_extendido.ipynb\" target=\"_parent\"><img src=\"https://colab.research.google.com/assets/colab-badge.svg\" alt=\"Open In Colab\"/></a>"
      ]
    },
    {
      "cell_type": "markdown",
      "metadata": {
        "id": "uhN9m7p7naRW"
      },
      "source": [
        "#Balanced parenthesis \n",
        "\n",
        "Detecting when the parenthesis in an expression are correctly balanced or not is an important task to recognize many programming language structures (i.e. to evaluate arithmetic or logical expressions).\n",
        "\n",
        "\n",
        "In logical and arithmetic expressions, parentheses must appear in a balanced way. In other words:\n",
        "- 1) each opening symbol has a corresponding closing symbol and \n",
        "- 2) the pairs of parentheses are properly nested. \n",
        "\n",
        "The following table shows examples of balanced and non balanced expressions of parenthesis:\n",
        "\n",
        "| Balanced  | Non balanced |\n",
        "| --- | --- | \n",
        "| (()()()()) | ((((((())|\n",
        "|(((()))) | ())) |\n",
        "| (()((())())) | (()()(()|\n",
        "\n",
        "\n",
        "Please, write a Python program that reads a string of parenthesis and determines if its parenthesis are balanced. \n",
        "A stack is a good data structure to solve this problem because  closing symbols match opening symbols in the reverse order of their appearance. \n",
        "\n",
        "\n",
        "Below, we explain the steps to implement the algorithm. Firstly, you must create an empty stack, which be used to store the opening symbols. Then, you must read the expression from left to right. For each symbol:\n",
        "- If the symbol is an opening symbol, add it on the stack (with push operation).\n",
        "- If the symbol is a closing symbol:\n",
        "    - If the stack is empty, there is no any opening symbol for it, so return false (the expression is not balanced). \n",
        "    - Otherwise, remove the top of the stack (with pop) and continue. \n",
        "        \n",
        "When you have read all characters in the expression, there  are two possibilities:\n",
        "a) The stack is not empty, which means that the expressions contained some opening symbols without their corresponding closing symbols. Therefore, you must return false. \n",
        "b) The stack is empty. You must return true. \n",
        "\n"
      ]
    },
    {
      "cell_type": "markdown",
      "metadata": {
        "id": "ktkBYHzGnXYx"
      },
      "source": [
        ""
      ]
    },
    {
      "cell_type": "code",
      "metadata": {
        "id": "BvLXpSB7oFcL"
      },
      "source": [
        "class Stack:\n",
        "  \"\"\"LIFO Stack implementation using a Python list as storage. \n",
        "  The top of the stack stored at the end of the list.\"\"\"\n",
        "  \n",
        "  def __init__(self):\n",
        "    \"\"\"Create an empty stack\"\"\"\n",
        "    self._items=[]\n",
        "    \n",
        "  def __len__(self):\n",
        "    \"\"\"Return the number of elements in the stack\"\"\"\n",
        "    return len(self._items)\n",
        "  \n",
        "  def isEmpty(self):\n",
        "    \"\"\"Return True if the stack is empty\"\"\"\n",
        "    return len(self._items)==0\n",
        "  \n",
        "  def __str__(self):\n",
        "    \"\"\"returns a string representing the elements of the stack\"\"\"\n",
        "    return str(self._items)\n",
        "\n",
        "  def push(self,e):\n",
        "    \"\"\"Add the element e to the top of the stack\"\"\"\n",
        "    self._items.append(e)\n",
        "    \n",
        "  def pop(self):\n",
        "    \"\"\"Remove and return the element from the top of the stack\"\"\"\n",
        "    if self.isEmpty():\n",
        "      print('Error: Stack is empty')\n",
        "      return None\n",
        "    \n",
        "    return self._items.pop() #remove last item from the list\n",
        "  \n",
        "  def top(self):\n",
        "    \"\"\"Return the element from the top of the stack\"\"\"\n",
        "    if self.isEmpty():\n",
        "      print('Error: Stack is empty')\n",
        "      return None\n",
        "    \n",
        "    #returns last element in the list\n",
        "    return self._items[-1] \n",
        "  \n",
        "  \n",
        "\n",
        "  "
      ],
      "execution_count": 2,
      "outputs": []
    },
    {
      "cell_type": "code",
      "metadata": {
        "id": "4Pr__poXoI3_",
        "colab": {
          "base_uri": "https://localhost:8080/"
        },
        "outputId": "ca9723c2-6c62-4131-c3cb-6374ae422f35"
      },
      "source": [
        "def balanced1(exp):\n",
        "    \"\"\"This functions takes a string, exp, and checks if its parenthesis are well-balanced. \n",
        "    This functions does not use break and has a single return\"\"\"\n",
        "    stack = Stack()\n",
        "    result=True\n",
        "    i=0\n",
        "\n",
        "    while result and i<len(exp):\n",
        "        c=exp[i] \n",
        "        if c == \"(\":\n",
        "            stack.push(c)\n",
        "        elif c == \")\":\n",
        "            if stack.isEmpty():\n",
        "                result=False\n",
        "            else:\n",
        "                stack.pop()\n",
        "        #else:#you don't need this else, \n",
        "            #we ignore the rest of characters\n",
        "            #pass    \n",
        "\n",
        "        i+=1\n",
        "\n",
        "    \n",
        "    return result and stack.isEmpty()\n",
        "\n",
        "\n",
        "def balanced2(exp):\n",
        "    \"\"\"This functions takes a string, exp, and checks if its parenthesis are well-balanced. \n",
        "    This functions allows to use break and has a single return\"\"\"    \n",
        "    stack = Stack()\n",
        "    result=True\n",
        "    for c in exp:\n",
        "        if c == \"(\":\n",
        "            stack.push(c)\n",
        "        elif c == \")\":\n",
        "            if stack.isEmpty():\n",
        "                result=False\n",
        "                break \n",
        "            else:\n",
        "                stack.pop() \n",
        "        #else:#you don't need this else\n",
        "            #we ignore the rest of characters\n",
        "            #pass\n",
        "                \n",
        "    \n",
        "    \n",
        "    return result and stack.isEmpty()\n",
        "\n",
        "\n",
        "def balanced3(exp):\n",
        "    \"\"\"This functions takes a string, exp, and checks if its parenthesis are well-balanced. \n",
        "    This functions allows to use several returns\"\"\"    \n",
        "    stack = Stack()\n",
        "    for c in exp:\n",
        "        if c == \"(\":\n",
        "            stack.push(c)\n",
        "        elif c == \")\":\n",
        "            if stack.isEmpty():\n",
        "                return False\n",
        "            stack.pop()\n",
        "        #else:   #you don't need this else\n",
        "            #we ignore the rest of characters\n",
        "            #pass\n",
        "          \n",
        "    return stack.isEmpty()\n",
        "\n",
        "  \n",
        "  \n",
        "print('((((((())',balanced3('((((((())'))\n",
        "print('(()()()())',balanced3('(()()()())'))\n",
        "print('(((())))',balanced3('(((())))'))\n",
        "print('()))',balanced3('()))'))\n",
        "print('(()()(()',balanced3('(()()(()')      )\n",
        "print('(()((())()))',balanced3('(()((())()))')      )"
      ],
      "execution_count": 5,
      "outputs": [
        {
          "output_type": "stream",
          "text": [
            "((((((()) False\n",
            "(()()()()) True\n",
            "(((()))) True\n",
            "())) False\n",
            "(()()(() False\n",
            "(()((())())) True\n"
          ],
          "name": "stdout"
        }
      ]
    },
    {
      "cell_type": "markdown",
      "metadata": {
        "id": "doUIPZ_QqsFi"
      },
      "source": [
        "The previous function only works for parenthesis. Extend it in order to deal also with:\n",
        "\n",
        "    Brace: ‘{‘ and ‘}\n",
        "    Brackets: ‘[‘ and ‘]’\n",
        "\n",
        "You need to implement a function that takes an opening symbol, '(','{','[',   and a closing symbol, ')','}',']', and check that they belong to the same type of symbol. Below, you can find two different versions of this functions. "
      ]
    },
    {
      "cell_type": "code",
      "metadata": {
        "id": "o4ZtwihhqvIX",
        "colab": {
          "base_uri": "https://localhost:8080/"
        },
        "outputId": "eef44a30-bde4-43fd-f9a9-87a31d34e052"
      },
      "source": [
        "def sameType(a,b):\n",
        "    \"\"\"This functions checks if a and b belong to the same type of parenthesis\"\"\"\n",
        "    if a=='(' and b==')':\n",
        "        return True\n",
        "    if a=='{' and b=='}':\n",
        "        return True\n",
        "    if a=='[' and b==']':\n",
        "        return True\n",
        "    \n",
        "    return False\n",
        "  \n",
        "\n",
        "def sameType1(a, b):\n",
        "    \"\"\"This functions checks if a and b belong to the same type of parenthesis\"\"\"\n",
        "    opening=['(','{','[']\n",
        "    closing=[')','}',']']\n",
        "    pos=opening.index(a)\n",
        "    return b==closing[pos]\n",
        "  \n",
        "  \n",
        "\n",
        "def balanced_ext(exp):\n",
        "    \"\"\"Checks if the parenthesis in the expression, exp, are well-balanced\"\"\"\n",
        "    s=Stack()\n",
        "    for c in exp:\n",
        "        if c in [ '(' , '[' , '{' ] : #c=='(' or c=='{' or c=='[': \n",
        "            s.push(c)\n",
        "        elif c in [ ')' , ']' , '}' ]: #c==')' or c=='}' or c==']'\n",
        "            if s.isEmpty():\n",
        "                return False\n",
        "            else:\n",
        "                o=s.pop()\n",
        "                if not sameType(o,c):\n",
        "                    return False\n",
        "\n",
        "    \n",
        "    return s.isEmpty()\n",
        "    \n",
        "exp='()'\n",
        "print('is balanced({})={}'.format(exp,balanced_ext(exp)))\n",
        "exp='('\n",
        "print('is balanced({})={}'.format(exp,balanced_ext(exp)))\n",
        "exp='([])'\n",
        "print('is balanced({})={}'.format(exp,balanced_ext(exp)))\n",
        "exp='([]'\n",
        "print('is balanced({})={}'.format(exp,balanced_ext(exp)))\n",
        "exp='([]))'\n",
        "print('is balanced({})={}'.format(exp,balanced_ext(exp)))\n",
        "exp='([]{})'\n",
        "print('is balanced({})={}'.format(exp,balanced_ext(exp)))\n",
        "exp='([{}]{()})'\n",
        "print('is balanced({})={}'.format(exp,balanced_ext(exp)))\n",
        "\n",
        "exp='()(()){([()])}'\n",
        "print('is balanced({})={}'.format(exp,balanced_ext(exp)))\n",
        "exp='((()(()){([()])}))'\n",
        "print('is balanced({})={}'.format(exp,balanced_ext(exp)))\n",
        "\n",
        "exp=')(()){([()])}'\n",
        "print('is balanced({})={}'.format(exp,balanced_ext(exp)))\n",
        "\n",
        "\n",
        "exp='({[]})'\n",
        "print('is balanced({})={}'.format(exp,balanced_ext(exp)))\n",
        "\n"
      ],
      "execution_count": 35,
      "outputs": [
        {
          "output_type": "stream",
          "text": [
            "is balanced(())=True\n",
            "is balanced(()=False\n",
            "is balanced(([]))=True\n",
            "is balanced(([])=False\n",
            "is balanced(([])))=False\n",
            "is balanced(([]{}))=True\n",
            "is balanced(([{}]{()}))=True\n",
            "is balanced(()(()){([()])})=True\n",
            "is balanced(((()(()){([()])})))=True\n",
            "is balanced()(()){([()])})=False\n",
            "is balanced(({[]}))=True\n"
          ],
          "name": "stdout"
        }
      ]
    }
  ]
}
