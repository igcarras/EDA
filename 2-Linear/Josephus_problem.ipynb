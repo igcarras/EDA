{
  "nbformat": 4,
  "nbformat_minor": 0,
  "metadata": {
    "colab": {
      "name": "Josephus problem.ipynb",
      "provenance": [],
      "collapsed_sections": [],
      "include_colab_link": true
    },
    "kernelspec": {
      "display_name": "Python 2",
      "language": "python",
      "name": "python2"
    }
  },
  "cells": [
    {
      "cell_type": "markdown",
      "metadata": {
        "id": "view-in-github",
        "colab_type": "text"
      },
      "source": [
        "<a href=\"https://colab.research.google.com/github/isegura/EDA/blob/master/Josephus_problem.ipynb\" target=\"_parent\"><img src=\"https://colab.research.google.com/assets/colab-badge.svg\" alt=\"Open In Colab\"/></a>"
      ]
    },
    {
      "cell_type": "markdown",
      "metadata": {
        "id": "YZ3uUpInhMQ_"
      },
      "source": [
        "## Implementation of Josephus Problem\n",
        "\n",
        "We are going to implement a general solution for the josephus problem. Our function takes two parameters:\n",
        "- numSoldiers which is the initial number of soldiers standing in a circle waiting to be executed. \n",
        "- knum which indicates that k-1 persons are skipped and kth person is killed in circle\n",
        "\n",
        "\n",
        "First, let met write the Queue class"
      ]
    },
    {
      "cell_type": "code",
      "metadata": {
        "id": "Pv9pufcac8PT",
        "colab": {
          "base_uri": "https://localhost:8080/"
        },
        "outputId": "eaf44486-e743-4bd3-b832-79700eaaf0ca"
      },
      "source": [
        "class Queue:\n",
        "  \"\"\"FIFO Queue implementation using a Python list as storage. \n",
        "  We add new elements at the tail of the list (enqueue)\n",
        "  and remove elements from the head of the list (dequeue).\"\"\"\n",
        "  \n",
        "  def __init__(self):\n",
        "    \"\"\"Create an empty queue\"\"\"\n",
        "    self._items=[]\n",
        "    \n",
        "  def __len__(self):\n",
        "    \"\"\"Return the number of elements in the queue\"\"\"\n",
        "    return len(self._items)\n",
        "\n",
        "  def isEmpty(self):\n",
        "    \"\"\"Return True if the queue is empty\"\"\"\n",
        "    return len(self)==0\n",
        "\n",
        "  def __str__(self):\n",
        "    return str(self._items)  \n",
        "\n",
        "  def enqueue(self,e):\n",
        "    \"\"\"Add the element e to the tail of the queue\"\"\"\n",
        "    self._items.append(e)\n",
        "    \n",
        "  def dequeue(self):\n",
        "    \"\"\"Remove and return the first element in the queue\"\"\"\n",
        "    result=None\n",
        "    if self.isEmpty():\n",
        "      print('Error: Queue is empty')\n",
        "    else:\n",
        "        #remove first item from the list\n",
        "        result=self._items.pop(0) \n",
        "    return result\n",
        "\n",
        "  def front(self):\n",
        "    \"\"\"Return the first element in the queue\"\"\"\n",
        "    result=None\n",
        "    if self.isEmpty():\n",
        "      print('Error: Queue is empty')\n",
        "    else:\n",
        "        #remove first item from the list\n",
        "        result=self._items[0]\n",
        "    return result\n",
        "  \n",
        "  \n",
        "q=Queue()\n",
        "print('isEmpty()',q.isEmpty())\n",
        "q.enqueue(1)\n",
        "q.enqueue(2)\n",
        "q.enqueue(3)\n",
        "print('Content of queue',str(q))\n",
        "print('front (first) element',q.front())\n",
        "print('isEmpty()',q.isEmpty())\n",
        "print('dequeue():',q.dequeue())\n",
        "print('Content of queue',str(q))\n",
        "print('front element:',q.front())\n",
        "print('size:',len(q))"
      ],
      "execution_count": 1,
      "outputs": [
        {
          "output_type": "stream",
          "text": [
            "('isEmpty()', True)\n",
            "('Content of queue', '[1, 2, 3]')\n",
            "('front (first) element', 1)\n",
            "('isEmpty()', False)\n",
            "('dequeue():', 1)\n",
            "('Content of queue', '[2, 3]')\n",
            "('front element:', 2)\n",
            "('size:', 2)\n"
          ],
          "name": "stdout"
        }
      ]
    },
    {
      "cell_type": "markdown",
      "metadata": {
        "id": "6_tq1aPo5TpC"
      },
      "source": [
        "Now, we implement the function for the Josephus problem:"
      ]
    },
    {
      "cell_type": "code",
      "metadata": {
        "id": "F6ySw4U-hW_m",
        "colab": {
          "base_uri": "https://localhost:8080/"
        },
        "outputId": "28769962-72c6-4fca-c1ac-614fb0783407"
      },
      "source": [
        "def josephus(num, k):\n",
        "  q=Queue()\n",
        "  #saved soldiers into the queue.\n",
        "  for i in range(1,num+1):\n",
        "    q.enqueue(i)\n",
        "    \n",
        "  while len(q)>1:\n",
        "    count=1\n",
        "    #k-1 dequeue/enqueue operations\n",
        "    while count<k:\n",
        "      q.enqueue(q.dequeue())\n",
        "      count=count+1\n",
        "    #kill the kth soldier\n",
        "    print(str(q.dequeue()) + ' was killed')\n",
        "  print('Surviving position: ' + str(q.front()))\n",
        "  \n",
        "josephus(24,3)\n",
        "\n"
      ],
      "execution_count": 2,
      "outputs": [
        {
          "output_type": "stream",
          "text": [
            "3 was killed\n",
            "6 was killed\n",
            "9 was killed\n",
            "12 was killed\n",
            "15 was killed\n",
            "18 was killed\n",
            "21 was killed\n",
            "24 was killed\n",
            "4 was killed\n",
            "8 was killed\n",
            "13 was killed\n",
            "17 was killed\n",
            "22 was killed\n",
            "2 was killed\n",
            "10 was killed\n",
            "16 was killed\n",
            "23 was killed\n",
            "7 was killed\n",
            "19 was killed\n",
            "5 was killed\n",
            "20 was killed\n",
            "14 was killed\n",
            "1 was killed\n",
            "Surviving position: 11\n"
          ],
          "name": "stdout"
        }
      ]
    }
  ]
}
