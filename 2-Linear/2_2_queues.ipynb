{
  "nbformat": 4,
  "nbformat_minor": 0,
  "metadata": {
    "colab": {
      "name": "2.2-queues.ipynb",
      "provenance": [],
      "collapsed_sections": [],
      "include_colab_link": true
    },
    "kernelspec": {
      "display_name": "Python 2",
      "language": "python",
      "name": "python2"
    }
  },
  "cells": [
    {
      "cell_type": "markdown",
      "metadata": {
        "id": "view-in-github",
        "colab_type": "text"
      },
      "source": [
        "<a href=\"https://colab.research.google.com/github/isegura/EDA/blob/master/2_2_queues.ipynb\" target=\"_parent\"><img src=\"https://colab.research.google.com/assets/colab-badge.svg\" alt=\"Open In Colab\"/></a>"
      ]
    },
    {
      "cell_type": "markdown",
      "metadata": {
        "id": "eLu9d8RsXdf3"
      },
      "source": [
        "# Queue\n",
        "\n",
        "## Implementing a queue using the Python's List class\n",
        "\n",
        "As we did with the stacks, we can also use the Python list class to implement a queue. The following code shows this implementation:\n",
        "\n",
        "\n"
      ]
    },
    {
      "cell_type": "code",
      "metadata": {
        "id": "Pv9pufcac8PT",
        "colab": {
          "base_uri": "https://localhost:8080/"
        },
        "outputId": "abff64a2-7ea0-4a18-c548-642cad3f4b96"
      },
      "source": [
        "class Queue:\n",
        "  \"\"\"FIFO Queue implementation using a Python list as storage. \n",
        "  We add new elements at the tail of the list (enqueue)\n",
        "  and remove elements from the head of the list (dequeue).\"\"\"\n",
        "  \n",
        "  def __init__(self):\n",
        "    \"\"\"Create an empty queue\"\"\"\n",
        "    self._items=[]\n",
        "    \n",
        "  def __len__(self):\n",
        "    \"\"\"Return the number of elements in the queue\"\"\"\n",
        "    return len(self._items)\n",
        "\n",
        "  def isEmpty(self):\n",
        "    \"\"\"Return True if the queue is empty\"\"\"\n",
        "    return len(self)==0\n",
        "\n",
        "  def __str__(self):\n",
        "    return str(self._items)  \n",
        "\n",
        "  def enqueue(self,e):\n",
        "    \"\"\"Add the element e to the tail of the queue\"\"\"\n",
        "    self._items.append(e)\n",
        "    \n",
        "  def dequeue(self):\n",
        "    \"\"\"Remove and return the first element in the queue\"\"\"\n",
        "    result=None\n",
        "    if self.isEmpty():\n",
        "      print('Error: Queue is empty')\n",
        "    else:\n",
        "        #remove first item from the list\n",
        "        result=self._items.pop(0) \n",
        "    return result\n",
        "\n",
        "  def front(self):\n",
        "    \"\"\"Return the first element in the queue\"\"\"\n",
        "    result=None\n",
        "    if self.isEmpty():\n",
        "      print('Error: Queue is empty')\n",
        "    else:\n",
        "        #remove first item from the list\n",
        "        result=self._items[0]\n",
        "    return result\n",
        " \n",
        "  \n",
        "q=Queue()\n",
        "print('isEmpty()',q.isEmpty())\n",
        "q.enqueue(1)\n",
        "q.enqueue(2)\n",
        "q.enqueue(3)\n",
        "print('Content of queue:',str(q))\n",
        "print('front (first) element:',q.front())\n",
        "print('isEmpty():',q.isEmpty())\n",
        "print('dequeue():',q.dequeue())\n",
        "print('Content of queue:',str(q))\n",
        "print('front element:',q.front())\n",
        "print('size:',len(q))"
      ],
      "execution_count": 1,
      "outputs": [
        {
          "output_type": "stream",
          "text": [
            "('isEmpty()', True)\n",
            "('Content of queue:', '[1, 2, 3]')\n",
            "('front (first) element:', 1)\n",
            "('isEmpty():', False)\n",
            "('dequeue():', 1)\n",
            "('Content of queue:', '[2, 3]')\n",
            "('front element:', 2)\n",
            "('size:', 2)\n"
          ],
          "name": "stdout"
        }
      ]
    },
    {
      "cell_type": "markdown",
      "metadata": {
        "id": "YZ3uUpInhMQ_"
      },
      "source": [
        "However, the previous implementation is less efficient than the stack array-based implementation. \n",
        "In particular, the method  **dequeue()**, which runs pop(0) has linear complexity. To remover the first element, every succeeding element  in the list must be moved one position to its left. Therefore, you need to copy n-1 elements. Therefore, the complexity is O(n).\n",
        "\n",
        "A possible idea to decrease the complexity of the dequeue() method is to avoid the use of the method **pop(0)**. Instead of using this method, you can use a variable, index_first, to store the index of the current front element in the queue. In this way, when we need to remove an element, we only have to increase this variable.\n",
        "\n"
      ]
    }
  ]
}
