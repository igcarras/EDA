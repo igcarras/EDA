{
  "nbformat": 4,
  "nbformat_minor": 0,
  "metadata": {
    "colab": {
      "name": "Printer.ipynb",
      "provenance": [],
      "collapsed_sections": [],
      "include_colab_link": true
    },
    "kernelspec": {
      "name": "python3",
      "display_name": "Python 3"
    }
  },
  "cells": [
    {
      "cell_type": "markdown",
      "metadata": {
        "id": "view-in-github",
        "colab_type": "text"
      },
      "source": [
        "<a href=\"https://colab.research.google.com/github/isegura/EDA/blob/master/Printer.ipynb\" target=\"_parent\"><img src=\"https://colab.research.google.com/assets/colab-badge.svg\" alt=\"Open In Colab\"/></a>"
      ]
    },
    {
      "cell_type": "markdown",
      "metadata": {
        "id": "gO6y7cM_gOzt"
      },
      "source": [
        "# Printer"
      ]
    },
    {
      "cell_type": "code",
      "metadata": {
        "id": "6lV0Z0ZGgNPI",
        "colab": {
          "base_uri": "https://localhost:8080/"
        },
        "outputId": "4ef23ee2-b204-4680-b0b0-c9caa9e052b6"
      },
      "source": [
        "class Queue:\n",
        "  \"\"\"FIFO Queue implementation using a Python list as storage. \n",
        "  We add new elements at the tail of the list (enqueue)\n",
        "  and remove elements from the head of the list (dequeue).\"\"\"\n",
        "  \n",
        "  def __init__(self):\n",
        "    \"\"\"Create an empty queue\"\"\"\n",
        "    self._items=[]\n",
        "    \n",
        "  def __len__(self):\n",
        "    \"\"\"Return the number of elements in the queue\"\"\"\n",
        "    return len(self._items)\n",
        "\n",
        "  def isEmpty(self):\n",
        "    \"\"\"Return True if the queue is empty\"\"\"\n",
        "    return len(self)==0\n",
        "\n",
        "  def __str__(self):\n",
        "    return str(self._items)  \n",
        "\n",
        "  def enqueue(self,e):\n",
        "    \"\"\"Add the element e to the tail of the queue\"\"\"\n",
        "    self._items.append(e)\n",
        "    \n",
        "  def dequeue(self):\n",
        "    \"\"\"Remove and return the first element in the queue\"\"\"\n",
        "    result=None\n",
        "    if self.isEmpty():\n",
        "      print('Error: Queue is empty')\n",
        "    else:\n",
        "        #remove first item from the list\n",
        "        result=self._items.pop(0) \n",
        "    return result\n",
        "\n",
        "  def front(self):\n",
        "    \"\"\"Return the first element in the queue\"\"\"\n",
        "    result=None\n",
        "    if self.isEmpty():\n",
        "      print('Error: Queue is empty')\n",
        "    else:\n",
        "        #remove first item from the list\n",
        "        result=self._items[0]\n",
        "    return result\n",
        "  \n",
        "  \n",
        "\n",
        "class Request:\n",
        "  \"\"\"This class represent a request to be printed\"\"\"\n",
        "  def __init__(self,idMachine,nameFile):\n",
        "    self.idMachine=idMachine\n",
        "    self.nameFile=nameFile\n",
        "    \n",
        "  def __str__(self):\n",
        "    return self.idMachine+\"\\t\"+self.nameFile\n",
        "\n",
        "  \n",
        "  \n",
        "class Printer:\n",
        "  \"\"\"This class simulates a network printer\"\"\"\n",
        "  def __init__(self):\n",
        "    self.q=Queue()\n",
        "    \n",
        "  def addRequest(self, request):\n",
        "    self.q.enqueue(request)\n",
        "  \n",
        "  def getNumRequest(self):\n",
        "    return len(self.q)\n",
        "  \n",
        "  def showAll(self):\n",
        "    for r in self.q._items:\n",
        "      print(r)\n",
        "  \n",
        "  def printWork(self):\n",
        "    if self.q.isEmpty():\n",
        "      print('There is no work to print')\n",
        "      return \n",
        "    \n",
        "    r=self.q.dequeue()\n",
        "    print(\"printing...\",r)\n",
        "    \n",
        "  def printAll(self):\n",
        "    while not self.q.isEmpty():\n",
        "      self.printWork()\n",
        "  \n",
        "  \n",
        "##main \n",
        "p=Printer()\n",
        "p.addRequest(Request(\"293939\",\"Unit2.pdf\"))\n",
        "p.addRequest(Request(\"111\",\"Unit1.pdf\"))\n",
        "p.addRequest(Request(\"333\",\"Unit3.pdf\"))\n",
        "p.showAll()\n",
        "print('Num works', p.getNumRequest())\n",
        "\n",
        "print()\n",
        "print('print the first work')\n",
        "p.printWork()\n",
        "print('showing all')\n",
        "p.showAll()\n",
        "print('printing all')\n",
        "p.printAll()\n",
        "\n",
        "print('Num works', p.getNumRequest())\n",
        "\n",
        "\n",
        "\n",
        "\n",
        "\n",
        "\n",
        "\n",
        "\n",
        "  \n",
        "  \n",
        "  \n",
        "  "
      ],
      "execution_count": 2,
      "outputs": [
        {
          "output_type": "stream",
          "text": [
            "293939\tUnit2.pdf\n",
            "111\tUnit1.pdf\n",
            "333\tUnit3.pdf\n",
            "Num works 3\n",
            "\n",
            "print the first work\n",
            "printing... 293939\tUnit2.pdf\n",
            "showing all\n",
            "111\tUnit1.pdf\n",
            "333\tUnit3.pdf\n",
            "printing all\n",
            "printing... 111\tUnit1.pdf\n",
            "printing... 333\tUnit3.pdf\n",
            "Num works 0\n"
          ],
          "name": "stdout"
        }
      ]
    }
  ]
}
