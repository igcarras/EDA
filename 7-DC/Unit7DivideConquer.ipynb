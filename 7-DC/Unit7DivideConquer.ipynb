{
  "nbformat": 4,
  "nbformat_minor": 0,
  "metadata": {
    "colab": {
      "name": "Unit7DivideConquer.ipynb",
      "provenance": [],
      "collapsed_sections": [],
      "include_colab_link": true
    },
    "kernelspec": {
      "name": "python3",
      "display_name": "Python 3"
    }
  },
  "cells": [
    {
      "cell_type": "markdown",
      "metadata": {
        "id": "view-in-github",
        "colab_type": "text"
      },
      "source": [
        "<a href=\"https://colab.research.google.com/github/isegura/EDA/blob/master/Unit7DivideConquer.ipynb\" target=\"_parent\"><img src=\"https://colab.research.google.com/assets/colab-badge.svg\" alt=\"Open In Colab\"/></a>"
      ]
    },
    {
      "cell_type": "markdown",
      "metadata": {
        "id": "h8DDE22ayxJD"
      },
      "source": [
        "# Divide and Conquer\n",
        "\n",
        "## 1) Mayor elemento de un array\n",
        "\n"
      ]
    },
    {
      "cell_type": "code",
      "metadata": {
        "id": "B0-K6usHLOnV"
      },
      "source": [
        "def findMax(A):\n",
        "    \"\"\"returns the greatest element of A\"\"\"\n",
        "    #A none or A=[]\n",
        "    if A==None or len(A)==0:\n",
        "        return None\n",
        "\n",
        "    #base case\n",
        "    if len(A)==1:\n",
        "        return A[0]\n",
        "\n",
        "    #Recursive case\n",
        "    #dividir\n",
        "    m=len(A)//2\n",
        "    part1=A[0:m]\n",
        "    part2=A[m:]\n",
        "\n",
        "    #vencer\n",
        "    mayor1=findMax(part1) #el mayor del array part1\n",
        "    mayor2=findMax(part2)  #el mayor del array part2\n",
        "    #combinar\n",
        "    return max(mayor1,mayor2)\n",
        "\n",
        "\n",
        "\n",
        "\n"
      ],
      "execution_count": null,
      "outputs": []
    },
    {
      "cell_type": "code",
      "metadata": {
        "id": "FRcd7kIO2u4m"
      },
      "source": [
        "def findMax2(A):\n",
        "    if A!=None and len(A)>0:\n",
        "        return _findMax(A,0,len(A)-1)\n",
        "    else:\n",
        "        return None\n",
        "\n",
        "def _findMax(A,start,end):\n",
        "    if start==end:\n",
        "        return A[start]\n",
        "    else:\n",
        "        mid=(start+ end)//2\n",
        "        max1=_findMax(A,start,mid)\n",
        "        max2=_findMax(A,mid+1,end)\n",
        "        return max(max1,max2)\n",
        "            "
      ],
      "execution_count": null,
      "outputs": []
    },
    {
      "cell_type": "code",
      "metadata": {
        "id": "s0HO3vBwwH0I"
      },
      "source": [
        "A=[5,3,4]\n",
        "print(\"findMax({})={}\".format(A,findMax(A)))\n",
        "print(\"findMax({})={}\".format(A,findMax2(A)))\n",
        "\n",
        "from random import randint\n",
        "#Test \n",
        "data=[]\n",
        "for i in range(5):\n",
        "  data.append(randint(0,50))\n",
        "\n",
        "print(\"The maximum element in {} is {} \".format(data,findMax(data)))  \n",
        "print(\"The maximum element in {} is {} \".format(data,findMax2(data)))"
      ],
      "execution_count": null,
      "outputs": []
    },
    {
      "cell_type": "markdown",
      "metadata": {
        "id": "RXWDe5IQwXyW"
      },
      "source": [
        "## Función que devuelva el mayor y menor elemento de un array \n",
        "\n"
      ]
    },
    {
      "cell_type": "code",
      "metadata": {
        "id": "mdZcODHTwbyk"
      },
      "source": [
        " def findMaxMin(A):\n",
        "    #A none or A=[]\n",
        "    if A==None or len(A)==0:\n",
        "        return None, None\n",
        "\n",
        "    #base case\n",
        "    if len(A)==1:\n",
        "        return A[0],A[0] \n",
        "\n",
        "    #Recursive case\n",
        "    #dividir\n",
        "    m=len(A)//2\n",
        "    part1=A[0:m]\n",
        "    part2=A[m:]\n",
        "\n",
        "    #vencer\n",
        "    max1,min1=findMaxMin(part1) \n",
        "    max2,min2=findMaxMin(part2) \n",
        "    #combinar\n",
        "    return max(max1,max2), min(min1,min2)"
      ],
      "execution_count": null,
      "outputs": []
    },
    {
      "cell_type": "code",
      "metadata": {
        "id": "RCuCmoWow08Z"
      },
      "source": [
        "from random import randint\n",
        "#Test \n",
        "data=[]\n",
        "for i in range(5):\n",
        "  data.append(randint(0,50))\n",
        "\n",
        "print(\"The maximum and minimum elements in {} are {} \".format(data,findMaxMin(data)))  \n",
        "print(\"The maximum and minimum elements in {} are {} \".format(data,findMaxMin(data)))"
      ],
      "execution_count": null,
      "outputs": []
    },
    {
      "cell_type": "markdown",
      "metadata": {
        "id": "n9zjiVvbxqRH"
      },
      "source": [
        "Implementa una función que devuelva **el número par más pequeño** en una lista de Python. Si la lista no contiene valores pares debe devolver None.\n"
      ]
    },
    {
      "cell_type": "code",
      "metadata": {
        "id": "zIQICBRuxub5"
      },
      "source": [
        "def findLowestEven(A):\n",
        "    if A==None or len(A)==0:\n",
        "        return None\n",
        "    \n",
        "    if len(A)==1:\n",
        "        if A[0]%2==0:\n",
        "            return A[0]\n",
        "        else:\n",
        "            return None\n",
        "\n",
        "\n",
        "    m=len(A)//2\n",
        "    part1=A[0:m]\n",
        "    part2=A[m:]\n",
        "\n",
        "    even1=findLowestEven(part1)\n",
        "    even2=findLowestEven(part2)\n",
        "\n",
        "    if even1!=None and even2!=None:\n",
        "        return min(even1, even2)\n",
        "    elif even1!=None:\n",
        "        return even1\n",
        "    elif even2!=None:\n",
        "        return even2\n",
        "    else:\n",
        "        return None\n",
        "\n",
        "\n"
      ],
      "execution_count": null,
      "outputs": []
    },
    {
      "cell_type": "code",
      "metadata": {
        "id": "n7iQl4QuxyPY"
      },
      "source": [
        "import random\n",
        "A = []\n",
        "for i in range(0, 3):\n",
        "    x=random.randint(0, 100)\n",
        "    A.append(x)\n",
        "\n",
        "print(\"findLowestEven({})={}\".format(A,findLowestEven(A)))\n",
        "\n",
        "A=[10,14,9,20,2,38,50]\n",
        "\n",
        "print(\"findLowestEven({})={}\".format(A,findLowestEven(A)))\n",
        "A=[11,15,9,21,23,381,501]\n",
        "print(\"findLowestEven({})={}\".format(A,findLowestEven(A)))\n"
      ],
      "execution_count": null,
      "outputs": []
    },
    {
      "cell_type": "code",
      "metadata": {
        "id": "bL7Skzu1yZws"
      },
      "source": [
        "def findLowestEvenOdd(A):\n",
        "    \"\"\"returns the lowest even and lowest odd\"\"\"\n",
        "    if A==None or len(A)==0:\n",
        "        return None, None\n",
        "\n",
        "    if len(A)==1:\n",
        "        if A[0]%2==0:\n",
        "            return A[0],None\n",
        "        else:\n",
        "            return None,A[0]\n",
        "\n",
        "    m=len(A)//2\n",
        "    part1=A[0:m]\n",
        "    part2=A[m:]\n",
        "\n",
        "    even1,odd1=findLowestEvenOdd(part1)\n",
        "    even2,odd2=findLowestEvenOdd(part2)\n",
        "\n",
        "\n",
        "    if even1!=None and even2!=None:\n",
        "        even=min(even1,even2)\n",
        "    elif even1!=None:\n",
        "        even=even1\n",
        "    else:\n",
        "        even=even2\n",
        "\n",
        "\n",
        "    if odd1!=None and odd2!=None:\n",
        "        odd=min(odd1,odd2)\n",
        "    elif odd1!=None:\n",
        "        odd=odd1\n",
        "    else:\n",
        "        odd=odd2\n",
        "\n",
        "    return even,odd\n",
        "\n"
      ],
      "execution_count": null,
      "outputs": []
    },
    {
      "cell_type": "code",
      "metadata": {
        "id": "l7gTiBLRy4ZR"
      },
      "source": [
        "import random\n",
        "A = []\n",
        "for i in range(0, 10):\n",
        "    x=random.randint(0, 100)\n",
        "    A.append(x)\n",
        "\n",
        "\n",
        "print(\"findLowestEvenOdd({})={}\".format(A,findLowestEvenOdd(A)))\n",
        "A=[21, 3, 89, 43, 87, 41]\n",
        "print(\"findLowestEvenOdd({})={}\".format(A,findLowestEvenOdd(A)))\n",
        "A=[58, 76, 10, 34]\n",
        "print(\"findLowestEvenOdd({})={}\".format(A,findLowestEvenOdd(A)))\n"
      ],
      "execution_count": null,
      "outputs": []
    },
    {
      "cell_type": "markdown",
      "metadata": {
        "id": "O_-r8Y0VzpBO"
      },
      "source": [
        "Implementa una función basada en divide y \n",
        "vencerás que **sume los elementos múltiplos de 5 **en una array.\n"
      ]
    },
    {
      "cell_type": "code",
      "metadata": {
        "id": "Z7H3oKgbzrq-"
      },
      "source": [
        "def sumMultiply5(A):\n",
        "    if A==None or len(A)==0:\n",
        "        return None, None\n",
        "\n",
        "    if len(A)==1:\n",
        "        if A[0]%5==0:\n",
        "            return A[0]\n",
        "        else:\n",
        "            return 0\n",
        "\n",
        "    m=len(A)//2\n",
        "    part1=A[0:m]\n",
        "    part2=A[m:]\n",
        "\n",
        "    sum1=sumMultiply5(part1)\n",
        "    sum2=sumMultiply5(part2)\n",
        "    return sum1+sum2\n",
        "    \n"
      ],
      "execution_count": null,
      "outputs": []
    },
    {
      "cell_type": "code",
      "metadata": {
        "id": "VqZkIFsfz870"
      },
      "source": [
        "import random\n",
        "A = []\n",
        "for i in range(0, 5):\n",
        "    x=random.randint(0, 100)\n",
        "    A.append(x)\n",
        "\n",
        "\n",
        "print(\"sumMultiply5({})={}\".format(A,sumMultiply5(A)))"
      ],
      "execution_count": null,
      "outputs": []
    },
    {
      "cell_type": "code",
      "metadata": {
        "id": "0jmSDsSD3oeq"
      },
      "source": [
        "lista1=[3,4,6,7,7,8,9]\n",
        "lista2=[0,1,3,4,5,6,7,10,11,12,13]\n",
        "\n",
        "mergeList=merge(lista1,lista2)\n",
        "print(mergeList)"
      ],
      "execution_count": null,
      "outputs": []
    },
    {
      "cell_type": "code",
      "metadata": {
        "id": "nwQrmoreLYdA"
      },
      "source": [
        "#Test\n",
        "A=[5,7,1,2,4,0,3,9,10,2,3,5]\n",
        "print(A)\n",
        "print(mergesort(A))\n",
        "\n"
      ],
      "execution_count": null,
      "outputs": []
    },
    {
      "cell_type": "markdown",
      "metadata": {
        "id": "5vHjJwZZ2aBm"
      },
      "source": [
        "## Binary search\n",
        "\n",
        "Given a **sorted list** and a number, x, return True if x is found, False otherwise."
      ]
    },
    {
      "cell_type": "code",
      "metadata": {
        "id": "cFdjZDPnMSZW"
      },
      "source": [
        "def binarySearch(A,x):\n",
        "    \"\"\"A is a sorted array. \n",
        "    It returns True if x is found, False eoc.\"\"\"\n",
        "    if A==None:\n",
        "        return False\n",
        "        \n",
        "    #base case\n",
        "    if len(A)==0:\n",
        "        return False\n",
        "    #recursive case\n",
        "    m=len(A)//2\n",
        "\n",
        "    if x==A[m]:\n",
        "        return True\n",
        "\n",
        "    if x<A[m]:\n",
        "        return binarySearch(A[0:m],x)\n",
        "\n",
        "    if x>A[m]:\n",
        "        return binarySearch(A[m+1:],x)\n"
      ],
      "execution_count": null,
      "outputs": []
    },
    {
      "cell_type": "code",
      "metadata": {
        "id": "jMg17hmlMuaf"
      },
      "source": [
        "#Test\n",
        "A=[1, 4, 38, 39, 40, 61, 69, 71, 81, 87]\n",
        "\n",
        "x=71 #an element that exists\n",
        "print(\"binarySearch({},{})={}\\n\".format(A,x,binarySearch(A,x)))\n",
        "\n",
        "#An element that does not exist\n",
        "x=50\n",
        "print(\"binarySearch({},{})={}\\n\".format(A,x,binarySearch(A,x)))\n"
      ],
      "execution_count": null,
      "outputs": []
    },
    {
      "cell_type": "code",
      "metadata": {
        "id": "vWmlByOMHYg4"
      },
      "source": [
        "#we randomly create a list \n",
        "data=[]\n",
        "for i in range(10):\n",
        "    data.append(randint(0,100))\n",
        "#we sort it\n",
        "data.sort()\n",
        "\n",
        "\n",
        "for i in range(5):\n",
        "    x=randint(0,100)\n",
        "    print(\"binarySearch({},{})={}\\n\".format(data,x,binarySearch(data,x)))\n"
      ],
      "execution_count": null,
      "outputs": []
    },
    {
      "cell_type": "markdown",
      "metadata": {
        "id": "6Tp3aivi0kBc"
      },
      "source": [
        "Implementa una función que reciba un **array  ordenado de enteros** A y un valor x, y **devuelva el índice de x en el array A**. Si x no existe, la función devuelve -1. No está permitido aplicar slicing (es decir, expresiones del tipo A[0:m] o A[m:]) ni crear sublistas auxiliares."
      ]
    },
    {
      "cell_type": "code",
      "metadata": {
        "id": "DW56ofpaeWwe"
      },
      "source": [
        "def binarySearch(A,x,start=0,end=len(A)-1):\n",
        "    \"\"\"returns the index of x in A. \"\"\"\n",
        "    #base case\n",
        "    if A==None or len(A)==0:\n",
        "        return -1\n",
        "    #recursive case\n",
        "\n",
        "    m=(start+end)//2\n",
        "    if x==A[m]:\n",
        "        return m\n",
        "\n",
        "    if x<A[m]:\n",
        "        return binarySearch(A,x,start,m-1)\n",
        "    if x>A[m]:\n",
        "        return binarySearch(A,x,m+1,end)\n",
        "\n"
      ],
      "execution_count": null,
      "outputs": []
    },
    {
      "cell_type": "code",
      "metadata": {
        "id": "qo0P2pJTe0UF"
      },
      "source": [
        "A=[1,2,3,4,5,6,7,8,9]\n",
        "x=4 #index=3\n",
        "print(binarySearch(A,x))\n",
        "for x in A:\n",
        "    print(binarySearch(A,x),A.index(x))\n"
      ],
      "execution_count": null,
      "outputs": []
    },
    {
      "cell_type": "markdown",
      "metadata": {
        "id": "puGMGBWFNbSF"
      },
      "source": [
        "## Suma de los elementos de un array\n",
        "\n",
        "Implementa una función que reciba un array de enteros y devuelva su suma (aplicando divide y vencerás).\n",
        "\n"
      ]
    },
    {
      "cell_type": "code",
      "metadata": {
        "id": "Cvozia2LdEw4"
      },
      "source": [
        "def sumaArray(A):\n",
        "\n",
        "    if A==None or len(A)==0:\n",
        "        return 0\n",
        "        \n",
        "    #base case\n",
        "    if len(A)==1:\n",
        "        return A[0]\n",
        "\n",
        "    #recursive case\n",
        "\n",
        "    #dividir\n",
        "    m=len(A)//2\n",
        "    part1=A[0:m]\n",
        "    part2=A[m:]\n",
        "\n",
        "    #vencer\n",
        "    sum1=sumaArray(part1)\n",
        "    sum2=sumaArray(part2)\n",
        "    \n",
        "    #combinar\n",
        "    return sum1+sum2\n"
      ],
      "execution_count": null,
      "outputs": []
    },
    {
      "cell_type": "code",
      "metadata": {
        "id": "CVC1Yf2hdjMe"
      },
      "source": [
        "A=[1,0,3,5,2,4,5]\n",
        "print(sum(A))\n",
        "print(sumaArray(A))\n"
      ],
      "execution_count": null,
      "outputs": []
    },
    {
      "cell_type": "markdown",
      "metadata": {
        "id": "02HMyf4K0V11"
      },
      "source": [
        "Implementa una función basada en divide y vencerás que reciba una lista de strings y **devuelva una lista con los strings que tengan longitud menor o igual que 2**. \n"
      ]
    },
    {
      "cell_type": "code",
      "metadata": {
        "id": "W_D_tllLEc5I"
      },
      "source": [
        "def getWordsLength2(words):\n",
        "    if words==None or len(words)==0:\n",
        "        return []\n",
        "\n",
        "    if len(words)==1:\n",
        "        w=words[0]\n",
        "        if len(w)<=2:\n",
        "            return [w] \n",
        "        else:\n",
        "            return []\n",
        "\n",
        "    m=len(words)//2\n",
        "    part1=words[:m]\n",
        "    part2=words[m:]\n",
        "\n",
        "    result1=getWordsLength2(part1)\n",
        "    result2=getWordsLength2(part2)\n",
        "    \n",
        "    return result1+result2\n",
        "\n",
        "words=[\"Ha\", \"llegado\", \"el\", \"afilador\", \"a\", \"su\", \"domicilio\", \"a\", \"la\", \"puerta\", \"de\", \"su\", \"casa\", \"se\", \"afilan\", \"cuchillos\", \"tijeras\"]\n",
        "print(\"getWordsLength2({})  =\\n    {}\".format(words,getWordsLength2(words)))"
      ],
      "execution_count": null,
      "outputs": []
    },
    {
      "cell_type": "markdown",
      "metadata": {
        "id": "pkArxcwu0kyC"
      },
      "source": [
        "Implementa una función basada en divide y vencerás que reciba una lista de strings y que devuelva la **palabra con mayor longitud**. "
      ]
    },
    {
      "cell_type": "code",
      "metadata": {
        "id": "3H0zGHGz0nOE"
      },
      "source": [
        "def longestWord(words):\n",
        "    if words==None or len(words)==0:\n",
        "        return None\n",
        "\n",
        "    if len(words)==1:\n",
        "        return words[0]\n",
        "\n",
        "    m=len(words)//2\n",
        "    part1=words[:m]\n",
        "    part2=words[m:]\n",
        "    \n",
        "    word1=longestWord(part1)\n",
        "    word2=longestWord(part2)\n",
        "\n",
        "    if word1==None and word2==None:\n",
        "        return None\n",
        "    elif word1==None:\n",
        "        return word2\n",
        "    elif word2==None:\n",
        "        return word1\n",
        "    else:\n",
        "        if len(word1)>=len(word2):\n",
        "            return word1\n",
        "        else:\n",
        "            return word2\n",
        "\n",
        "A=['ata','mata','atare','vitamina','oz']\n",
        "print(\"longestWord({})={}\".format(A,longestWord(A)))"
      ],
      "execution_count": null,
      "outputs": []
    },
    {
      "cell_type": "markdown",
      "metadata": {
        "id": "4I4nD4Cd2wMc"
      },
      "source": [
        "Algoritmo MergeSort"
      ]
    },
    {
      "cell_type": "code",
      "metadata": {
        "id": "UyehMg-e9j0h"
      },
      "source": [
        "def merge(lista1,lista2):\n",
        "    #lsita1 y lista2 están ordenadas!!!\n",
        "    #devolver la lista ordenada\n",
        "    result=[]\n",
        "    i=0 #lista 1\n",
        "    j=0 #lista 2\n",
        "\n",
        "    while i<len(lista1) and j<len(lista2):\n",
        "        if lista1[i]<=lista2[j]:\n",
        "            result.append(lista1[i])\n",
        "            i+=1\n",
        "        else: #lista1[i]>lista2[j]\n",
        "            result.append(lista2[j])\n",
        "            j+=1\n",
        "\n",
        "    while i<len(lista1):\n",
        "        result.append(lista1[i])\n",
        "        i+=1\n",
        "\n",
        "    while j<len(lista2):\n",
        "        result.append(lista2[j])\n",
        "        j+=1\n",
        "\n",
        "    return result\n",
        "\n"
      ],
      "execution_count": null,
      "outputs": []
    },
    {
      "cell_type": "code",
      "metadata": {
        "id": "GKwudlAl3n8k"
      },
      "source": [
        "def mergesort(A):\n",
        "    \"\"\"returns a sorted array\"\"\"\n",
        "    #Casos Bases\n",
        "\n",
        "    if A==None or len(A)<=1:\n",
        "        return A\n",
        "    else:\n",
        "        #dividir\n",
        "        mid=len(A)//2\n",
        "        part1=A[0:mid]\n",
        "        part2=A[mid:]\n",
        "\n",
        "        sort1=mergesort(part1)\n",
        "        sort2=mergesort(part2)\n",
        "\n",
        "        #part1 y part2 van a estar ordenadas\n",
        "\n",
        "        return merge(sort1,sort2)\n",
        "        \n",
        "\n",
        "\n",
        "\n"
      ],
      "execution_count": null,
      "outputs": []
    },
    {
      "cell_type": "markdown",
      "metadata": {
        "id": "QYcBL9360xMH"
      },
      "source": [
        "#Problemas propuestos (ídeas para el examen)\n",
        "\n",
        "\n",
        "1) Implementa el algoritmo de **mergesort** adaptado para **listas enlazadas**. \n",
        "\n",
        "Te recomiendo que primero visualices este video https://www.youtube.com/watch?v=ywWBy6J5gz8&t=121s (pivote primer elemento)\n",
        "\n",
        "\n",
        "9) Implementa una versión del quicksort que tome como el **último elemento como pivote**. Te recomiendo que primero visualices este vídeo: https://www.youtube.com/watch?v=biOjCLbdr7Y&t=37s (pivote último elemento)\n",
        "\n",
        "\n",
        "10) Implementa una versión del quicksort que tome como un **pivote aleatorio**. En este link, puedes encontrar el pseudocódigo para comprobar si vas por buen camino: https://www.geeksforgeeks.org/quicksort-using-random-pivoting/\n"
      ]
    },
    {
      "cell_type": "markdown",
      "metadata": {
        "id": "S2vxUynN47xR"
      },
      "source": [
        "## Quicksort\n",
        "\n",
        "### 1) Quicksort con pivote en la posición central del array\n"
      ]
    },
    {
      "cell_type": "code",
      "metadata": {
        "id": "ydXKsPYB49Pf"
      },
      "source": [
        "def quicksort(A):\n",
        "    _quicksort(A,0,len(A)-1)\n",
        "    \n",
        "    \n",
        "def _quicksort(A, left, right):\n",
        "    i = left\n",
        "    j = right\n",
        "    \n",
        "    m=(left + right) // 2\n",
        "    \n",
        "    p = A[m] # pivot element in the middle\n",
        "    \n",
        "    while i <= j:\n",
        "        while A[i] < p: \n",
        "          i += 1\n",
        "\n",
        "        #estoy en un i cuyo valor es mayor que p\n",
        "\n",
        "        while A[j] > p: \n",
        "          j -= 1\n",
        "\n",
        "        #llego un j cuyo valor es menor que p\n",
        "\n",
        "        if i <= j: # swap \n",
        "            if i < j:\n",
        "                A[i], A[j] = A[j], A[i]\n",
        "\n",
        "            i += 1\n",
        "            j -= 1\n",
        "\n",
        "    if left < j: # sort left list\n",
        "        _quicksort(A, left, j)\n",
        "    if i < right: # sort right list\n",
        "        _quicksort(A, i, right)\n",
        "\n"
      ],
      "execution_count": null,
      "outputs": []
    },
    {
      "cell_type": "code",
      "metadata": {
        "id": "z9l61uRgOiCd"
      },
      "source": [
        "#Test quicksort\n",
        "import random\n",
        "data = []\n",
        "for i in range(0, 11):\n",
        "    data.append(random.randint(0, 100))\n",
        "\n",
        "\n",
        "print('input:',data)\n",
        "quicksort(data)\n",
        "print('sorted:',data)\n"
      ],
      "execution_count": null,
      "outputs": []
    },
    {
      "cell_type": "markdown",
      "metadata": {
        "id": "rUec6Hk1mRei"
      },
      "source": [
        "## Implementation of quicksort using the first element as pivot\n"
      ]
    },
    {
      "cell_type": "code",
      "metadata": {
        "id": "7T5xuOCrmWyY"
      },
      "source": [
        "def partition(A):\n",
        "\n",
        "    lower=[]\n",
        "    greater=[]\n",
        "    p=A[0] #the pivot is the first element\n",
        "    \n",
        "    for i in range(1, len(A)):\n",
        "        if A[i]<p:\n",
        "            lower.append(A[i])\n",
        "        else:\n",
        "            greater.append(A[i])\n",
        "            \n",
        "    return (lower, p, greater)\n",
        "\n",
        "def quicksort_first(A):\n",
        "    if len(A)<2:\n",
        "        return A\n",
        "\n",
        "    lower, p, greater=  partition(A) \n",
        "    \n",
        "    return quicksort_first(lower)+[p]+quicksort_first(greater)\n",
        "\n",
        "\n"
      ],
      "execution_count": null,
      "outputs": []
    },
    {
      "cell_type": "code",
      "metadata": {
        "id": "Nf8Z9aoSm89E"
      },
      "source": [
        "import random \n",
        "A=[]\n",
        "for i in range(15):\n",
        "    A.append(random.randint(-20,20))\n",
        "\n",
        "print(A)\n",
        "print(quicksort_first(A))"
      ],
      "execution_count": null,
      "outputs": []
    },
    {
      "cell_type": "markdown",
      "metadata": {
        "id": "iDUCKXAQnZsI"
      },
      "source": [
        "## Implementation of quicksort using the last element as pivot\n",
        "\n"
      ]
    },
    {
      "cell_type": "code",
      "metadata": {
        "id": "Azt9yO2JnifW"
      },
      "source": [
        "def partition(A):\n",
        "\n",
        "    lower=[]\n",
        "    greater=[]\n",
        "    p=A[-1] #the pivot is the last element\n",
        "    \n",
        "    for i in range(0, len(A)-1):\n",
        "        if A[i]<p:\n",
        "            lower.append(A[i])\n",
        "        else:\n",
        "            greater.append(A[i])\n",
        "            \n",
        "    return (lower, p, greater)\n",
        "\n",
        "def quicksort_last(A):\n",
        "    if len(A)<2:\n",
        "        return A\n",
        "\n",
        "    lower, p, greater=  partition(A) \n",
        "    \n",
        "    return quicksort_last(lower)+[p]+quicksort_last(greater)\n"
      ],
      "execution_count": null,
      "outputs": []
    },
    {
      "cell_type": "code",
      "metadata": {
        "id": "pQil7zFDnyy0"
      },
      "source": [
        "import random \n",
        "A=[]\n",
        "for i in range(15):\n",
        "    A.append(random.randint(-20,20))\n",
        "\n",
        "print(A)\n",
        "print(quicksort_last(A))"
      ],
      "execution_count": null,
      "outputs": []
    },
    {
      "cell_type": "markdown",
      "metadata": {
        "id": "NF1IdvNLe1DV"
      },
      "source": [
        "## Quicksort with random \n",
        "\n"
      ]
    },
    {
      "cell_type": "markdown",
      "metadata": {
        "id": "8hVyTgISoE45"
      },
      "source": [
        "## Implementation of quicksort using a random pivot"
      ]
    },
    {
      "cell_type": "code",
      "metadata": {
        "id": "qmL2FhbKpOc_"
      },
      "source": [
        "def quicksortRand(A):\n",
        "    _quicksortRand(A,0,len(A)-1)\n",
        "    \n",
        "def _quicksortRand(A, left, right):\n",
        "    \n",
        "    i,j=left,right\n",
        "    p = A[random.randint(left,right)] # pivot is random element\n",
        "    \n",
        "    while i <= j:\n",
        "        while A[i] < p: \n",
        "          i += 1\n",
        "        while A[j] > p: \n",
        "          j -= 1\n",
        "        if i <= j: # swap \n",
        "            A[i], A[j] = A[j], A[i]\n",
        "            i += 1\n",
        "            j -= 1\n",
        "\n",
        "    if left < j: # sort left list\n",
        "        _quicksortRand(A, left, j)\n",
        "    if i < right: # sort right list\n",
        "        _quicksortRand(A, i, right)\n"
      ],
      "execution_count": null,
      "outputs": []
    },
    {
      "cell_type": "code",
      "metadata": {
        "id": "RYGABJltpZFo"
      },
      "source": [
        "import random \n",
        "A=[]\n",
        "for i in range(15):\n",
        "    A.append(random.randint(-20,20))\n",
        "\n",
        "print(A)\n",
        "quicksortRand(A)\n",
        "print(A)"
      ],
      "execution_count": null,
      "outputs": []
    },
    {
      "cell_type": "code",
      "metadata": {
        "id": "9mvffT2re4jR"
      },
      "source": [
        "# Python implementation QuickSort using  \n",
        "# Lomuto's partition Scheme. \n",
        "import random \n",
        "  \n",
        "''' \n",
        "The function which implements QuickSort. \n",
        "arr :- array to be sorted. \n",
        "start :- starting index of the array. \n",
        "stop :- ending index of the array. \n",
        "'''\n",
        "def quicksort(arr, start , stop): \n",
        "    if(start < stop): \n",
        "          \n",
        "        # pivotindex is the index where  \n",
        "        # the pivot lies in the array \n",
        "        pivotindex = partitionrand(arr, start, stop) \n",
        "          \n",
        "        # At this stage the array is partially sorted  \n",
        "        # around the pivot. Separately sorting the  \n",
        "        # left half of the array and the right half of the array. \n",
        "        quicksort(arr , start , pivotindex - 1) \n",
        "        quicksort(arr, pivotindex + 1, stop) \n",
        "  \n",
        "# This function generates random pivot, swaps the first \n",
        "# element with the pivot and calls the partition fucntion. \n",
        "def partitionrand(arr , start, stop): \n",
        "  \n",
        "    # Generating a random number between the  \n",
        "    # starting index of the array and the \n",
        "    # ending index of the array. \n",
        "    randpivot = random.randrange(start, stop) \n",
        "  \n",
        "    # Swapping the starting element of the array and the pivot \n",
        "    arr[start], arr[randpivot] = arr[randpivot], arr[start] \n",
        "    return partition(arr, start, stop) \n",
        "  \n",
        "''' \n",
        "This function takes the first element as pivot,  \n",
        "places the pivot element at the correct position  \n",
        "in the sorted array. All the elements are re-arranged  \n",
        "according to the pivot, the elements smaller than the \n",
        "pivot is places on the left and the elements \n",
        "greater than the pivot is placed to the right of pivot. \n",
        "'''\n",
        "def partition(arr,start,stop): \n",
        "    pivot = start # pivot \n",
        "    i = start + 1 # a variable to memorize where the  \n",
        "                  # partition in the array starts from. \n",
        "    for j in range(start + 1, stop + 1): \n",
        "          \n",
        "        # if the current element is smaller or equal to pivot, \n",
        "        # shift it to the left side of the partition. \n",
        "        if arr[j] <= arr[pivot]: \n",
        "            arr[i] , arr[j] = arr[j] , arr[i] \n",
        "            i = i + 1\n",
        "    arr[pivot] , arr[i - 1] = arr[i - 1] , arr[pivot] \n",
        "    pivot = i - 1\n",
        "    return (pivot) \n",
        "  \n",
        "# Driver Code \n",
        "if __name__ == \"__main__\": \n",
        "    array = [10, 7, 8, 9, 1, 5] \n",
        "    quicksort(array, 0, len(array) - 1) \n",
        "    print(array) \n",
        "  "
      ],
      "execution_count": null,
      "outputs": []
    }
  ]
}
