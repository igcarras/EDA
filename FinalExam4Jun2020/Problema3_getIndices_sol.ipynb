{
  "nbformat": 4,
  "nbformat_minor": 0,
  "metadata": {
    "colab": {
      "name": "Problema3-getIndices-sol.ipynb",
      "provenance": [],
      "collapsed_sections": [],
      "authorship_tag": "ABX9TyPF7q4UtyQnGw1cTfk/RI1c",
      "include_colab_link": true
    },
    "kernelspec": {
      "name": "python3",
      "display_name": "Python 3"
    }
  },
  "cells": [
    {
      "cell_type": "markdown",
      "metadata": {
        "id": "view-in-github",
        "colab_type": "text"
      },
      "source": [
        "<a href=\"https://colab.research.google.com/github/isegura/EDA/blob/master/Problema3_getIndices_sol.ipynb\" target=\"_parent\"><img src=\"https://colab.research.google.com/assets/colab-badge.svg\" alt=\"Open In Colab\"/></a>"
      ]
    },
    {
      "cell_type": "markdown",
      "metadata": {
        "id": "pJaltW_eBZW_",
        "colab_type": "text"
      },
      "source": [
        "# Problema 3 - Divide y Vencerás\n",
        "\n",
        "\n",
        "Aplicando la **estrategia de divide y vencerás**, implementa una función **recursiva** que reciba una lista de enteros, **data**, y un número entero, **x**,  y devuelva una lista con los posiciones (índices) de x en la lista data. \n",
        "Si x no existe en la lista, la función debe devolver una lista vacía. \n",
        "\n",
        "Reglas:\n",
        "- Recuerda que tu función debe ser recursiva y seguir el enfoque de divide y vencerás. Enfoques no recursivos y no basados en este enfoque no serán evaluados.\n",
        "- Tu función no puede usar bucles ni listas auxiliares (de ningún tipo). \n",
        "- Tampoco puedes usar la funcion index de las listas de Python. \n",
        "- data no puede ser modificado (es decir, no puedes añadir o eliminar elementos de data)\n"
      ]
    },
    {
      "cell_type": "code",
      "metadata": {
        "id": "Zd1G713zBYRw",
        "colab_type": "code",
        "colab": {}
      },
      "source": [
        "def getIndices(data,x):\n",
        "  \"\"\"returns the list of indices for x in data\"\"\"\n",
        "  if data==None or len(data)==0:\n",
        "    return []\n",
        "\n",
        "  return _getIndices(data,x,0,len(data)-1,[])\n",
        "\n",
        "def _getIndices(data,x,left,right,indices):\n",
        "   if left<=right:\n",
        "     mid =   (left + right) // 2\n",
        "    \n",
        "     _getIndices(data,x,left,mid-1,indices)\n",
        "\n",
        "     if data[mid]==x:\n",
        "      indices.append(mid)\n",
        "    \n",
        "     _getIndices(data,x,mid+1,right,indices)\n",
        "  \n",
        "   return indices\n",
        "\n",
        "  "
      ],
      "execution_count": 0,
      "outputs": []
    },
    {
      "cell_type": "code",
      "metadata": {
        "id": "talp2_T9DGuM",
        "colab_type": "code",
        "outputId": "31aedfe6-8a2f-4ac4-c77e-bb8dc9b0705f",
        "colab": {
          "base_uri": "https://localhost:8080/",
          "height": 52
        }
      },
      "source": [
        "A=[5,0,5,1,2,5,3,5]\n",
        "x=5\n",
        "expected=[]\n",
        "for i,e in enumerate(A):\n",
        "  if e==x:\n",
        "    expected.append(i)\n",
        "\n",
        "print(expected)\n",
        "\n",
        "#expected=[0, 2, 5, 7]\n",
        "result=getIndices(A,x)\n",
        "print(result)"
      ],
      "execution_count": 0,
      "outputs": [
        {
          "output_type": "stream",
          "text": [
            "[0, 2, 5, 7]\n",
            "[0, 2, 5, 7]\n"
          ],
          "name": "stdout"
        }
      ]
    },
    {
      "cell_type": "code",
      "metadata": {
        "id": "tTkK_ZXIMhcV",
        "colab_type": "code",
        "outputId": "b4b8c206-c6a3-4ed3-fb8e-d012e387ba13",
        "colab": {
          "base_uri": "https://localhost:8080/",
          "height": 69
        }
      },
      "source": [
        "import random\n",
        "data=[]\n",
        "for i in range(10):\n",
        "  data.append(random.randint(0,5))\n",
        "\n",
        "x=3\n",
        "print('data:',data)\n",
        "print('x:',x)\n",
        "\n",
        "\n",
        "print(getIndices(data,x))"
      ],
      "execution_count": 0,
      "outputs": [
        {
          "output_type": "stream",
          "text": [
            "data: [2, 3, 3, 5, 2, 4, 3, 3, 0, 3]\n",
            "x: 3\n",
            "[1, 2, 6, 7, 9]\n"
          ],
          "name": "stdout"
        }
      ]
    },
    {
      "cell_type": "code",
      "metadata": {
        "id": "OALnEnsrDsYO",
        "colab_type": "code",
        "outputId": "7677d2ce-7fde-472a-b066-9c92a87d9091",
        "colab": {
          "base_uri": "https://localhost:8080/",
          "height": 537
        }
      },
      "source": [
        "import unittest\n",
        "\n",
        "\n",
        "class Test(unittest.TestCase):\n",
        "\n",
        "    #variable estática para almacenar la nota\n",
        "    mark=0\n",
        "    \n",
        "    def setUp(self):\n",
        "      self.x=5\n",
        "      self.y=8\n",
        "      self.z=1\n",
        "      self.input=[5,0,5,1,2,5,5,5,0]\n",
        "\n",
        "    def test1_getIndices(self):\n",
        "      print('Caso 1: data es [] (nota: 0.5)')\n",
        "      print('input:',[],'value:',self.x)\n",
        "      self.assertEqual(getIndices([],self.x), [], 'FAIL: debería ser []')\n",
        "      print('\\t\\t mark += 5')\n",
        "      Test.mark+=5\n",
        "\n",
        "    def test2_getIndices(self):\n",
        "      print('...Caso 2: x no existe en data (nota: 0.5)')\n",
        "      print('input:',self.input,'value:',self.y)\n",
        "      self.assertEqual(getIndices(self.input,self.y), [], 'FAIL: debería ser []')\n",
        "      print('\\t\\t mark += 5')\n",
        "      Test.mark+=5\n",
        "\n",
        "    def test3_getIndices(self):\n",
        "      print('...Caso 3: x existe sólo una vez\\n.')\n",
        "      result=getIndices(self.input,self.z)\n",
        "      expected=[self.input.index(self.z)]\n",
        "      print('input:',self.input,'value:',self.z)\n",
        "      print('result:',result)\n",
        "      print('expected:',expected)\n",
        "      self.assertListEqual(result,expected, 'FAIL: debería ser []')\n",
        "      print('\\t\\t mark += 5')\n",
        "      Test.mark+=5\n",
        "\n",
        "    def test4_getIndices(self):\n",
        "      print('...Caso 4: x existe varias veces\\n.')\n",
        "      result=getIndices(self.input,self.x)\n",
        "      expected=[0, 2, 5, 6,7]\n",
        "\n",
        "      print('input:',self.input,'value:',self.z)\n",
        "      print('result:',result)\n",
        "      print('expected:',expected)\n",
        "\n",
        "      self.assertListEqual(result,expected, 'FAIL: debería ser [0, 2, 5, 7]')\n",
        "      print('\\t\\t mark += 5')\n",
        "      Test.mark+=5\n",
        "\n",
        "    def test_printNota(self):\n",
        "      print('\\n\\n*************************')\n",
        "      print(\"\\n\\t Provisional mark:  \",Test.mark)  \n",
        "      print('*************************')\n",
        "\n",
        "\n",
        "#Comentar para usarlo en spyder\n",
        "unittest.main(argv=['first-arg-is-ignored'], exit=False)\n",
        "\n",
        "#Descomenar para usarlo en Spyder\n",
        "#if __name__ == '__main__':\n",
        "#    unittest.main()"
      ],
      "execution_count": 0,
      "outputs": [
        {
          "output_type": "stream",
          "text": [
            "....."
          ],
          "name": "stderr"
        },
        {
          "output_type": "stream",
          "text": [
            "Caso 1: data es [] (nota: 0.5)\n",
            "input: [] value: 5\n",
            "\t\t mark += 5\n",
            "...Caso 2: x no existe en data (nota: 0.5)\n",
            "input: [5, 0, 5, 1, 2, 5, 5, 5, 0] value: 8\n",
            "\t\t mark += 5\n",
            "...Caso 3: x existe sólo una vez\n",
            ".\n",
            "input: [5, 0, 5, 1, 2, 5, 5, 5, 0] value: 1\n",
            "result: [3]\n",
            "expected: [3]\n",
            "\t\t mark += 5\n",
            "...Caso 4: x existe varias veces\n",
            ".\n",
            "input: [5, 0, 5, 1, 2, 5, 5, 5, 0] value: 1\n",
            "result: [0, 2, 5, 6, 7]\n",
            "expected: [0, 2, 5, 6, 7]\n",
            "\t\t mark += 5\n",
            "\n",
            "\n",
            "*************************\n",
            "\n",
            "\t Provisional mark:   20\n",
            "*************************\n"
          ],
          "name": "stdout"
        },
        {
          "output_type": "stream",
          "text": [
            "\n",
            "----------------------------------------------------------------------\n",
            "Ran 5 tests in 0.008s\n",
            "\n",
            "OK\n"
          ],
          "name": "stderr"
        },
        {
          "output_type": "execute_result",
          "data": {
            "text/plain": [
              "<unittest.main.TestProgram at 0x7f1d4cbee6a0>"
            ]
          },
          "metadata": {
            "tags": []
          },
          "execution_count": 8
        }
      ]
    }
  ]
}
