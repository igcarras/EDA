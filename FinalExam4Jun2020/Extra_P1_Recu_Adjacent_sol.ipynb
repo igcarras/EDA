{
  "nbformat": 4,
  "nbformat_minor": 0,
  "metadata": {
    "colab": {
      "name": "Extra-P1-Recu-Adjacent-sol.ipynb",
      "provenance": [],
      "collapsed_sections": [],
      "authorship_tag": "ABX9TyOOMe9ctQNVdPPXVsUm1pcI",
      "include_colab_link": true
    },
    "kernelspec": {
      "name": "python3",
      "display_name": "Python 3"
    }
  },
  "cells": [
    {
      "cell_type": "markdown",
      "metadata": {
        "id": "view-in-github",
        "colab_type": "text"
      },
      "source": [
        "<a href=\"https://colab.research.google.com/github/isegura/EDA/blob/master/Extra_P1_Recu_Adjacent_sol.ipynb\" target=\"_parent\"><img src=\"https://colab.research.google.com/assets/colab-badge.svg\" alt=\"Open In Colab\"/></a>"
      ]
    },
    {
      "cell_type": "markdown",
      "metadata": {
        "id": "1A3GvdoncW-F",
        "colab_type": "text"
      },
      "source": [
        "\n",
        "##Problema 1 (5 puntos): Recursión\n",
        "\n",
        "Implementa una función recursiva **are_adjacent** que reciba una cadena de texto, w, y dos caracteres, c1 y c2, y comprueba si c1 aparece inmediatamente antes que c2 en w. En ese caso devuelve True, y en cualquier otro caso devuelve False. Tu función debe cumplir las siguientes reglas:\n",
        "\n",
        "- No puede usar bucles ni listas auxiliares. Aunque sí está permitido aplicar slicing sobre las listas. En otras palabras, está permitido utilizar expresiones como: w[0], w[1:], etc.\n",
        "- No está permitido el uso del operador ‘in’. Tampoco puedes utilizar métodos como find, index, startswith o endswith. \n",
        "- Sin embargo, sí está permitido usar el método len().\n",
        "\n",
        "\n",
        "\n"
      ]
    },
    {
      "cell_type": "code",
      "metadata": {
        "id": "oJUAwSMMcLQM",
        "colab_type": "code",
        "colab": {}
      },
      "source": [
        "def are_adjacent(w,c1,c2):\n",
        "  \"\"\"checks if c1 and c2 are adjacent in w.\"\"\"\n",
        "  if w == None or len(w)<2:\n",
        "    return False\n",
        "\n",
        "  if len(w)==2:\n",
        "    return w[0]==c1 and w[1]==c2\n",
        "\n",
        "  if c1!=w[0]:\n",
        "    return are_adjacent(w[1:],c1,c2)\n",
        "\n",
        "  if c2==w[1]:\n",
        "    return True\n",
        "\n",
        "  return are_adjacent(w[2:],c1,c2)\n",
        "\n"
      ],
      "execution_count": 0,
      "outputs": []
    },
    {
      "cell_type": "code",
      "metadata": {
        "id": "vIOkLUiJd9aX",
        "colab_type": "code",
        "outputId": "9b3fe057-7ea1-4c46-b62a-7a2da3f28614",
        "colab": {
          "base_uri": "https://localhost:8080/",
          "height": 364
        }
      },
      "source": [
        "c1='e'\n",
        "c2='f'\n",
        "\n",
        "words=[None,'','a','ef','ac','fe','abecfef','abecfe','abecfefz','aefdsf']\n",
        "for w in words:\n",
        "  print(\"are_adjacent({},{},{})={}\\n\".format(w,c1,c2,are_adjacent(w,c1,c2)))\n"
      ],
      "execution_count": 0,
      "outputs": [
        {
          "output_type": "stream",
          "text": [
            "are_adjacent(None,e,f)=False\n",
            "\n",
            "are_adjacent(,e,f)=False\n",
            "\n",
            "are_adjacent(a,e,f)=False\n",
            "\n",
            "are_adjacent(ef,e,f)=True\n",
            "\n",
            "are_adjacent(ac,e,f)=False\n",
            "\n",
            "are_adjacent(fe,e,f)=False\n",
            "\n",
            "are_adjacent(abecfef,e,f)=True\n",
            "\n",
            "are_adjacent(abecfe,e,f)=False\n",
            "\n",
            "are_adjacent(abecfefz,e,f)=True\n",
            "\n",
            "are_adjacent(aefdsf,e,f)=True\n",
            "\n"
          ],
          "name": "stdout"
        }
      ]
    },
    {
      "cell_type": "markdown",
      "metadata": {
        "id": "uKW34JhliaAS",
        "colab_type": "text"
      },
      "source": [
        "Ahora desarrollamos la clase para testear la solución:"
      ]
    },
    {
      "cell_type": "code",
      "metadata": {
        "id": "LOof7XepiqVz",
        "colab_type": "code",
        "outputId": "a4652e40-4ddf-4098-92d4-8f4e8c9145da",
        "colab": {
          "base_uri": "https://localhost:8080/",
          "height": 485
        }
      },
      "source": [
        "import unittest\n",
        "\n",
        "class Test(unittest.TestCase):\n",
        "  \n",
        "    #static attribute to store the provisional mark\n",
        "    mark=0\n",
        "    \n",
        "    def setUp(self):\n",
        "      self.c1='e'\n",
        "      self.c2='f'\n",
        "\n",
        "    def test1_are_adjacent(self):\n",
        "      print('Case 1: w=None')\n",
        "      self.assertFalse(are_adjacent(None, self.c1,self.c2))\n",
        "      print('\\t\\t mark += 0.3')\n",
        "      Test.mark+=0.3\n",
        "\n",
        "    def test2_are_adjacent(self):\n",
        "      print('Case 2: len(w)=0 ')\n",
        "      self.assertFalse(are_adjacent('', self.c1,self.c2))\n",
        "      print('\\t\\t mark += 0.3')\n",
        "      Test.mark+=0.3\n",
        "\n",
        "    def test3_are_adjacent(self):\n",
        "      print('Case 3: len(w)=1 ')\n",
        "      self.assertFalse(are_adjacent('', self.c1,self.c2))\n",
        "      print('\\t\\t mark += 0.3')\n",
        "      Test.mark+=0.3\n",
        "\n",
        "    def test4_are_adjacent(self):\n",
        "      print('Caso 4: w=ef, c1=e, c2=f - are adjacent')\n",
        "      w='ef'\n",
        "      self.assertTrue(are_adjacent(w, self.c1,self.c2),'FAIL: for w=ef should be True')\n",
        "      print('\\t\\t mark += 0.55')\n",
        "      Test.mark+=0.55\n",
        "\n",
        "    def test5_are_adjacent(self):\n",
        "      print('Caso 5: w=ez, c1=e, c2=f - are not adjacent')\n",
        "      w='ez'\n",
        "      self.assertFalse(are_adjacent(w, self.c1,self.c2),'FAIL: for w=ez should be False')\n",
        "      print('\\t\\t mark += 0.55')\n",
        "      Test.mark+=0.55\n",
        "\n",
        "    def test6_are_adjacent(self):\n",
        "      print('Case 6: len(w)>2, w=ezf, c1=e,c2=f - are not adjacent')\n",
        "      w='ezf'\n",
        "      self.assertFalse(are_adjacent(w, self.c1,self.c2),'FAIL: for w=ezf should be  False')\n",
        "      print('\\t\\t mark += 1')\n",
        "      Test.mark+=1\n",
        "\n",
        "    def test7_are_adjacent(self):\n",
        "      print('Case 7: len(w)>2, w=aezfefg, c1=e,c2=f - are adjacent')\n",
        "      w='aezfefg'\n",
        "      self.assertTrue(are_adjacent(w, self.c1,self.c2),'FAIL: for w=aezfefg should be True')\n",
        "      print('\\t\\t mark += 1')\n",
        "      Test.mark+=1\n",
        "\n",
        "\n",
        "    def test8_are_adjacent(self):\n",
        "      print('Case 8: len(w)>2, w=aezfeg, c1=e,c2=f - are not adjacent')\n",
        "      w='aezfeg'\n",
        "      self.assertFalse(are_adjacent(w, self.c1,self.c2),'FAIL: for w=aezfeg should be  False')\n",
        "      print('\\t\\t mark += 1')\n",
        "      Test.mark+=1\n",
        "\n",
        "\n",
        "\n",
        "    def test_printMark(self):\n",
        "      print('\\n\\n*************************************')\n",
        "      print(\"\\tProvisional Mark:\",Test.mark)  \n",
        "      print('*************************************')\n",
        "\n",
        "\n",
        "#For google colab\n",
        "unittest.main(argv=['first-arg-is-ignored'], exit=False)\n",
        "\n",
        "#Uncomment for Spyder\n",
        "#if __name__ == '__main__':\n",
        "#    unittest.main()"
      ],
      "execution_count": 0,
      "outputs": [
        {
          "output_type": "stream",
          "text": [
            "........."
          ],
          "name": "stderr"
        },
        {
          "output_type": "stream",
          "text": [
            "Case 1: w=None\n",
            "\t\t mark += 0.3\n",
            "Case 2: len(w)=0 \n",
            "\t\t mark += 0.3\n",
            "Case 3: len(w)=1 \n",
            "\t\t mark += 0.3\n",
            "Caso 4: w=ef, c1=e, c2=f - are adjacent\n",
            "\t\t mark += 0.55\n",
            "Caso 5: w=ez, c1=e, c2=f - are not adjacent\n",
            "\t\t mark += 0.55\n",
            "Case 6: len(w)>2, w=ezf, c1=e,c2=f - are not adjacent\n",
            "\t\t mark += 1\n",
            "Case 7: len(w)>2, w=aezfefg, c1=e,c2=f - are adjacent\n",
            "\t\t mark += 1\n",
            "Case 8: len(w)>2, w=aezfeg, c1=e,c2=f - are not adjacent\n",
            "\t\t mark += 1\n",
            "\n",
            "\n",
            "*************************************\n",
            "\tProvisional Mark: 5.0\n",
            "*************************************\n"
          ],
          "name": "stdout"
        },
        {
          "output_type": "stream",
          "text": [
            "\n",
            "----------------------------------------------------------------------\n",
            "Ran 9 tests in 0.019s\n",
            "\n",
            "OK\n"
          ],
          "name": "stderr"
        },
        {
          "output_type": "execute_result",
          "data": {
            "text/plain": [
              "<unittest.main.TestProgram at 0x7faf8b407940>"
            ]
          },
          "metadata": {
            "tags": []
          },
          "execution_count": 8
        }
      ]
    }
  ]
}
