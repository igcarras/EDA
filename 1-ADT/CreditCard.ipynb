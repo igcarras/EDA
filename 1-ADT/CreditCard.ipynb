{
  "nbformat": 4,
  "nbformat_minor": 0,
  "metadata": {
    "colab": {
      "name": "CreditCard.ipynb",
      "provenance": [],
      "collapsed_sections": [],
      "include_colab_link": true
    },
    "kernelspec": {
      "name": "python3",
      "display_name": "Python 3"
    }
  },
  "cells": [
    {
      "cell_type": "markdown",
      "metadata": {
        "id": "view-in-github",
        "colab_type": "text"
      },
      "source": [
        "<a href=\"https://colab.research.google.com/github/isegura/EDA/blob/master/CreditCard.ipynb\" target=\"_parent\"><img src=\"https://colab.research.google.com/assets/colab-badge.svg\" alt=\"Open In Colab\"/></a>"
      ]
    },
    {
      "cell_type": "markdown",
      "metadata": {
        "id": "f-izBHNo2gYO"
      },
      "source": [
        "# Implementation of the CreditCard class\n",
        "\n",
        "The CreditCard class provide a simple model, a template for credit cards. \n",
        "\n",
        "A credit card must contain information about the customer, account number, credit limit, and\n",
        "current balance. \n",
        "\n"
      ]
    },
    {
      "cell_type": "code",
      "metadata": {
        "id": "VuHPTkmv2eRE"
      },
      "source": [
        "class CreditCard:\n",
        "  \"\"\"A credit card\"\"\"\n",
        "  def __init__ (self, customer, idCard, limit):\n",
        "    \"\"\"Creates a new credit card object\"\"\"\n",
        "    self._customer=customer #the name of the customer \n",
        "    self._idCard=idCard #the id of the credit card \n",
        "    self._limit=limit   #credit limit\n",
        "    self._balance=0     #the initial balance is 0\n",
        " \n",
        " \n",
        "  \n",
        "  \n",
        "  def charge(self, price):\n",
        "    \"\"\"Charge the price to the balance of the card. \n",
        "    Must check if there is enough credit. Return True\n",
        "    if the charge was processed, False if charge was denied\"\"\"\n",
        "    # if charge would exceed limit,\n",
        "    if price + self._balance > self._limit:\n",
        "      print('charge denied')\n",
        "    else:\n",
        "      self._balance = self._balance + price\n",
        "    \n",
        "\n",
        "    \n",
        "  def make_deposit(self, amount):\n",
        "    \"\"\"Make a deposit (add money to the credit card). \n",
        "    Reducs the balance\"\"\"\n",
        "    \n",
        "    self._balance = self._balance - amount\n",
        "    \n",
        "    if self._balance<0:\n",
        "      print('Balance cannot be negative')\n",
        "      self._balance=0\n",
        "      \n",
        "        \n",
        "  def show(self):\n",
        "    print('Credit card information:')\n",
        "    print('Customer:%s'%self._customer)\n",
        "    print('Id:%s'%self._idCard)\n",
        "    print('Limit:%d'%self._limit)\n",
        "    print('Balance:%d'%self._balance)\n",
        "    print('--------------------------')\n",
        "\n",
        "  def __str__(self):\n",
        "      return \"IdCard:{}, Customer:{}, Balance:{}, Limit:{}\".format(self._idCard,self._customer,self._balance,self._limit)"
      ],
      "execution_count": 1,
      "outputs": []
    },
    {
      "cell_type": "markdown",
      "metadata": {
        "id": "XQ-mt3R2zq7l"
      },
      "source": [
        "Now, we create an instance of a credit card and try each method."
      ]
    },
    {
      "cell_type": "code",
      "metadata": {
        "id": "JSRIiPkzfhnM",
        "colab": {
          "base_uri": "https://localhost:8080/"
        },
        "outputId": "8f8cc963-aac3-44fc-f6e1-a9a84946fb73"
      },
      "source": [
        "#Create an instance of the credit card\n",
        "cc1 = CreditCard('Isabel Segura','5391 0375 9387 5309', 3000 )\n",
        "cc1.show()\n",
        "print(cc1)\n",
        "print(str(cc1))\n",
        "\n",
        "#we make a charge \n",
        "cc1.charge(2000)\n",
        "print(cc1)\n",
        "\n",
        "#we make a deposit\n",
        "cc1.make_deposit(1000)\n",
        "print(cc1)\n",
        "\n",
        "cc1.charge(2500)\n",
        "print(cc1)\n"
      ],
      "execution_count": 3,
      "outputs": [
        {
          "output_type": "stream",
          "text": [
            "Credit card information:\n",
            "Customer:Isabel Segura\n",
            "Id:5391 0375 9387 5309\n",
            "Limit:3000\n",
            "Balance:0\n",
            "--------------------------\n",
            "IdCard:5391 0375 9387 5309, Customer:Isabel Segura, Balance:0, Limit:3000\n",
            "IdCard:5391 0375 9387 5309, Customer:Isabel Segura, Balance:0, Limit:3000\n",
            "IdCard:5391 0375 9387 5309, Customer:Isabel Segura, Balance:2000, Limit:3000\n",
            "IdCard:5391 0375 9387 5309, Customer:Isabel Segura, Balance:1000, Limit:3000\n",
            "charge denied\n",
            "IdCard:5391 0375 9387 5309, Customer:Isabel Segura, Balance:1000, Limit:3000\n"
          ],
          "name": "stdout"
        }
      ]
    }
  ]
}
