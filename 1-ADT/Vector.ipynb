{
  "nbformat": 4,
  "nbformat_minor": 0,
  "metadata": {
    "colab": {
      "name": "Vector.ipynb",
      "provenance": [],
      "collapsed_sections": [],
      "include_colab_link": true
    },
    "kernelspec": {
      "name": "python3",
      "display_name": "Python 3"
    }
  },
  "cells": [
    {
      "cell_type": "markdown",
      "metadata": {
        "id": "view-in-github",
        "colab_type": "text"
      },
      "source": [
        "<a href=\"https://colab.research.google.com/github/isegura/EDA/blob/master/Vector.ipynb\" target=\"_parent\"><img src=\"https://colab.research.google.com/assets/colab-badge.svg\" alt=\"Open In Colab\"/></a>"
      ]
    },
    {
      "cell_type": "markdown",
      "metadata": {
        "id": "gY3thKY-ifr9"
      },
      "source": [
        "# Multidimensional Vector Class\n",
        "\n",
        "Please, implement a class, **Vector**, to represent the coordinates of a vector in a multidimensional space.\n",
        "\n",
        "For example:\n",
        "\n",
        "In a three-dimensional space, we might wish to represent a vector with the following coordinates: 5, −2, 3 . \n",
        "\n",
        "In a five-dimensional space, a possible vector may have the following coordinates: 0,1,-1,3,2.\n",
        "\n",
        "The class must contain the following methods: \n",
        "\n",
        "- $__init__$(self,dim): constructor methods that creates a vector of dimension dim. In this method, all coordinates of the vector are equal to 0.\n",
        "\n",
        "- $__len__$(self)$: returns the dimension of the vector.\n",
        "\n",
        "- $__str__$(self): returns a string that represents the vector. For example, if the coordinates of the vector are: 3,5,0, the method should return the string \"(3,5,0)\".\n",
        "\n",
        "- $__getitem__$(self,i): returns the ith coordinate of the vector. The first coordinate is always represented by the index 0. \n",
        "\n",
        "- $__setitem__$(self,i,newValue): modifies the ith coordinate of the vector to the given newValue.\n",
        "\n",
        "- $__add__$(self,other): returns a new vector, which is the sum of the invoking vector and the  param other. \n",
        "\n",
        "- $__eq__$(self,other): returns True if the invoking vector and the other vector are equal, and false otherwise.\n",
        "\n",
        "- norm(self): return the norm of the vector self.\n",
        "The norm of a vector is defined as:\n",
        "<img src=\"https://wikimedia.org/api/rest_v1/media/math/render/svg/348cef86ef91aa2d9a7151031a4fb80578090c4d\">\n",
        "\n",
        "- dot(self,other): returns the scalar product (or dot producto) of self and other (both vectors should have the same dimension). The dot product of two vectors, a and b, is defined as: \n",
        "\n",
        "\n",
        "<img src=\"https://wikimedia.org/api/rest_v1/media/math/render/svg/5bd0b488ad92250b4e7c2f8ac92f700f8aefddd5\">\n",
        "\n",
        "- cosine distance(self, other): returns the cosine similarity or distance of two vectors, self and other. This cosine similarity is defined as:\n",
        "<img src=\"https://wikimedia.org/api/rest_v1/media/math/render/svg/1d94e5903f7936d3c131e040ef2c51b473dd071d\">\n"
      ]
    },
    {
      "cell_type": "code",
      "metadata": {
        "id": "IFnnb0ocieRJ"
      },
      "source": [
        "import math\n",
        "class Vector:\n",
        "  \n",
        "    def __init__(self,dim):\n",
        "        \"\"\"Creates a vector of dimension dim. \n",
        "        All its coordinates are 0's\"\"\"\n",
        "        self.items=[0]*dim\n",
        "    \n",
        "    \n",
        "    \n",
        "    def __len__(self):\n",
        "        \"\"\"Returns the dimension of the vector.\"\"\"  \n",
        "        return len(self.items)  \n",
        "  \n",
        "    def __getitem__(self,i):\n",
        "        \"\"\"Returns the ith coordinate of the vector\"\"\"\n",
        "        return self.items[i]\n",
        "    \n",
        "    def __setitem__(self,i,newValue):\n",
        "        \"\"\"Sets the ith coordinate to the given value\"\"\"\n",
        "        if i<0 or i>=len(self):\n",
        "            print('Error: index out of range')\n",
        "        else:\n",
        "            self.items[i]=newValue\n",
        "        \n",
        "    \n",
        "  \n",
        "    def __str__(self):\n",
        "        \"\"\"Returns a string containing the vector\"\"\"\n",
        "        result='('\n",
        "        for i in range(0,len(self)):\n",
        "            result  = result + str(self[i]) + ','\n",
        "        \n",
        "        result=result[:-1]\n",
        "        result+=')'\n",
        "        return result\n",
        "  \n",
        "  \n",
        "  \n",
        "    def __add__(self,other):\n",
        "        \"\"\"Returns a new vector, which is the sum of the invoking vector and the param other\"\"\"\n",
        "        \n",
        "        result=None\n",
        "        \n",
        "        if len(self)!=len(other):\n",
        "            print('Error: vectors with different dimensions')\n",
        "\n",
        "        else:\n",
        "            #creates a new vector\n",
        "            result=Vector(len(self))\n",
        "            for i in range(0,len(self)):\n",
        "                result[i]=self[i]+other[i] \n",
        "            \n",
        "        return result\n",
        "    \n",
        "    def __eq__(self,other):\n",
        "        \"\"\"checks if the two vectors have the same coordinates\"\"\"\n",
        "        result=True\n",
        "        if len(self)!=len(other):\n",
        "            result=False\n",
        "        else:\n",
        "            for i in range(0,len(self)):\n",
        "                if self[i] != other[i]:\n",
        "                    result=False\n",
        "                    break\n",
        "        \n",
        "        return result  \n",
        "    \n",
        "    def norm(self):\n",
        "        \"\"\"returns the norm of self\"\"\"\n",
        "        result=0\n",
        "        for i in range(0,len(self)):\n",
        "            result+= self[i]**2\n",
        "\n",
        "        result=math.sqrt(result)\n",
        "        return result\n",
        "\n",
        "    def dot(self,other):\n",
        "        \"\"\"returns the dot product of self and other\"\"\"\n",
        "        result=None\n",
        "        if len(self)!=len(other):\n",
        "            print('Error: both vectors should have the same dimension')\n",
        "        else:\n",
        "            result=0\n",
        "            for i in range(0,len(self)):\n",
        "                result += self[i] * other[i]\n",
        "        \n",
        "        return result   \n",
        "\n",
        "    def cosine(self, other):\n",
        "        \"\"\"returns the cosine similarity of two vectors, self and other\"\"\"\n",
        "        if len(self)!=len(other):\n",
        "            print('Error: both vectors should have the same dimension')\n",
        "        else:\n",
        "            result=self.dot(other) / (self.norm()*other.norm())\n",
        "\n",
        "        return result\n",
        "    "
      ],
      "execution_count": 21,
      "outputs": []
    },
    {
      "cell_type": "markdown",
      "metadata": {
        "id": "a_xZw_0MuBEV"
      },
      "source": [
        "Now, let me create some vectors and try the different methods, which we have already implemented. "
      ]
    },
    {
      "cell_type": "code",
      "metadata": {
        "id": "uPb_xtdSmNN_",
        "colab": {
          "base_uri": "https://localhost:8080/"
        },
        "outputId": "62de6ea4-c5cc-401b-bcbf-ec54801110d9"
      },
      "source": [
        "import random\n",
        "dim=4\n",
        "v1=Vector(dim)\n",
        "v2=Vector(dim)\n",
        "\n",
        "#This loop allows us to initialize the coordinates of the two vectors\n",
        "#in a random way, with values from 0 to 99 \n",
        "for i in range(0,dim):\n",
        "    v1[i]=random.randint(0,100)\n",
        "    v2[i]=random.randint(0,100)\n",
        "  \n",
        "#we show both vectors  \n",
        "print(v1)  \n",
        "print(v2)  \n",
        "\n",
        "#we sum the two vectors\n",
        "vsum=v1+v2\n",
        "#we show the result vector\n",
        "print(vsum)  \n",
        "#we check if the two vectors are equal\n",
        "print(v1==v2)\n",
        "\n",
        "print('The norm of {}  is {}'.format(v1,v1.norm()))\n",
        "print('The norm of {}  is {}'.format(v2,v2.norm()))\n",
        "\n",
        "print('The dot product of {} and {} is {}'.format(v1,v2,v1.dot(v2)))\n",
        "print('The cosine similarity product of {} and {} is {}'.format(v1,v2,v1.cosine(v2)))\n"
      ],
      "execution_count": 22,
      "outputs": [
        {
          "output_type": "stream",
          "text": [
            "(10,13,79,31)\n",
            "(37,67,56,78)\n",
            "(47,80,135,109)\n",
            "False\n",
            "The norm of (10,13,79,31)  is 86.43494663618414\n",
            "The norm of (37,67,56,78)  is 122.79250791477467\n",
            "The dot product of (10,13,79,31) and (37,67,56,78) is 8083\n",
            "The cosine similarity product of (10,13,79,31) and (37,67,56,78) is 0.7615726536170294\n"
          ],
          "name": "stdout"
        }
      ]
    },
    {
      "cell_type": "markdown",
      "metadata": {
        "id": "QwY_KSvjsBt5"
      },
      "source": [
        "The library **numpy** allows us to easily calculate these functions. Let us check that our implementation is right:"
      ]
    },
    {
      "cell_type": "code",
      "metadata": {
        "colab": {
          "base_uri": "https://localhost:8080/"
        },
        "id": "VyI1ylntrkQc",
        "outputId": "66f30002-0fed-4ea4-a68e-26dff9200027"
      },
      "source": [
        "import numpy as np\n",
        "\n",
        "print('The norm of {}  is {}'.format(v1,np.linalg.norm(v1)))\n",
        "print('The norm of {}  is {}'.format(v2,np.linalg.norm(v2)))\n",
        "\n",
        "print('The dot product of {} and {} is {}'.format(v1,v2,np.dot(v1,v2)))\n",
        "cos_sim = np.dot(v1, v2)/(np.linalg.norm(v1)*np.linalg.norm(v2))\n",
        "\n",
        "print('The cosine similarity product of {} and {} is {}'.format(v1,v2,cos_sim))\n",
        "\n"
      ],
      "execution_count": 28,
      "outputs": [
        {
          "output_type": "stream",
          "text": [
            "The norm of (10,13,79,31)  is 86.43494663618414\n",
            "The norm of (37,67,56,78)  is 122.79250791477467\n",
            "The dot product of (10,13,79,31) and (37,67,56,78) is 8083\n",
            "The cosine similarity product of (10,13,79,31) and (37,67,56,78) is 0.7615726536170294\n"
          ],
          "name": "stdout"
        }
      ]
    },
    {
      "cell_type": "markdown",
      "metadata": {
        "id": "NqoPtSzDvHk9"
      },
      "source": [
        "There is another library, scipy, that also provides us to obtain the cosine similarity of two vectors:"
      ]
    },
    {
      "cell_type": "code",
      "metadata": {
        "colab": {
          "base_uri": "https://localhost:8080/"
        },
        "id": "S0FbaqDIvJWe",
        "outputId": "cf3f37d0-83ed-4e4b-c5e2-7c7cbff40f9f"
      },
      "source": [
        "from scipy import spatial\n",
        "\n",
        "result = 1 - spatial.distance.cosine(v1, v2)\n",
        "print('The cosine similarity product of {} and {} is {}'.format(v1,v2,cos_sim))\n"
      ],
      "execution_count": 29,
      "outputs": [
        {
          "output_type": "stream",
          "text": [
            "The cosine similarity product of (10,13,79,31) and (37,67,56,78) is 0.7615726536170294\n"
          ],
          "name": "stdout"
        }
      ]
    }
  ]
}
