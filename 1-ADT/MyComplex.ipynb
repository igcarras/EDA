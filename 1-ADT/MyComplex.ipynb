{
  "nbformat": 4,
  "nbformat_minor": 0,
  "metadata": {
    "colab": {
      "name": "MyComplex.ipynb",
      "provenance": [],
      "collapsed_sections": [],
      "include_colab_link": true
    },
    "kernelspec": {
      "name": "python3",
      "display_name": "Python 3"
    }
  },
  "cells": [
    {
      "cell_type": "markdown",
      "metadata": {
        "id": "view-in-github",
        "colab_type": "text"
      },
      "source": [
        "<a href=\"https://colab.research.google.com/github/isegura/EDA/blob/master/MyComplex.ipynb\" target=\"_parent\"><img src=\"https://colab.research.google.com/assets/colab-badge.svg\" alt=\"Open In Colab\"/></a>"
      ]
    },
    {
      "cell_type": "markdown",
      "metadata": {
        "id": "Aozl-p1GrJhD"
      },
      "source": [
        "# Implementation of ADT Complex\n",
        "\n",
        "We now implement the ADT Complex. \n",
        "\n",
        "We use the well-known operators +, -, * and abs. We can overwrite these operators. You can find the names of their corresponding functions at this link\n",
        "https://docs.python.org/3/library/operator.html\n",
        "\n",
        "- operator.$__neg__$(a) is equivalent to -a,\n",
        "- operator.$__add__$(a, b) is equivalent to a + b,\n",
        "- operator.$__sub__$(a, b) is equivalent to a - b,\n",
        "- operator.$__mul__$(a, b) is equivalent to a * b,\n",
        "- operator.$__abs__$(a) is equivalent to abs(a),\n",
        "\n",
        "Anyway, you can also define your own methods (with different names to implement these functions). \n",
        " "
      ]
    },
    {
      "cell_type": "code",
      "metadata": {
        "id": "GnQtUCsfOhIw"
      },
      "source": [
        "import math \n",
        "\n",
        "class Complex:\n",
        "\n",
        "    def __init__(self, a=0,b=0):\n",
        "      \"\"\"This is the constructor method. By default, the values for the attributes are 0\"\"\"\n",
        "      self.a = a #real part\n",
        "      self.b = b #imaginary part\n",
        "\n",
        "    def __str__(self):\n",
        "      \"\"\"Returns a string representing the complex number. \n",
        "      This output if for end user \"\"\"\n",
        "      if self.a==0 and self.b==0:\n",
        "        return '0'\n",
        "      \n",
        "      imag=self.b\n",
        "      if imag==1:\n",
        "          imag=''\n",
        "      elif imag==-1:\n",
        "          imag='-'\n",
        "\n",
        "      if self.a==0:\n",
        "        text='{}i'.format(imag)\n",
        "      elif self.b==0:\n",
        "        text='{}'.format(self.a)\n",
        "      elif self.b<0:\n",
        "        text='{}{}i'.format(self.a,imag)\n",
        "      elif self.b>0:\n",
        "        text='{}+{}i'.format(self.a,imag)\n",
        "        \n",
        "      return text\n",
        "\n",
        "    def __repr__(self):\n",
        "        \"\"\"This functions is mainly used for debugging and development.\"\"\"\n",
        "        return \"({},{})\".format(self.a,self.b)\n",
        "        \n",
        "    def __neg__(self):\n",
        "      \"\"\"Returns the negation of the complex number\"\"\"\n",
        "      negComplex=Complex(-self.a,-self.b)\n",
        "      return negComplex\n",
        " \n",
        "    def __add__(self,other):\n",
        "      \"\"\"Returns a nex complex number, which is the sum of the invoking complex number\n",
        "      and the other parameter\"\"\"\n",
        "      sumComplex=Complex(self.a+other.a, self.b + other.b)\n",
        "      return sumComplex\n",
        "    \n",
        "    def __sub__(self,other):\n",
        "      return Complex(self.a-other.a, self.b - other.b)\n",
        "    \n",
        "    def __mul__(self,other):\n",
        "      \"\"\"Returns a new complex number, which is the multiplication of the invoking complex number\n",
        "      and the other parameter\"\"\"\n",
        "      multComplex=Complex(self.a*other.a-self.b*other.b,self.a*other.b+self.b*other.a)\n",
        "      return multComplex\n",
        "    \n",
        "    def __abs__(self):\n",
        "      \"\"\"Returns the module of the invoking complex number\"\"\"\n",
        "      return math.sqrt(math.pow(self.a,2)+math.pow(self.b,2))\n",
        "      \n"
      ],
      "execution_count": 5,
      "outputs": []
    },
    {
      "cell_type": "code",
      "metadata": {
        "id": "mniqEI8MprdI",
        "colab": {
          "base_uri": "https://localhost:8080/"
        },
        "outputId": "89a0ea96-19d4-411b-9de0-65be9109031e"
      },
      "source": [
        "c=Complex(3,-1)\n",
        "print('c='+str(c))\n",
        "print('c='+repr(c))\n",
        "\n",
        "#print('c={}'.format(str(c)))\n",
        "\n",
        "print('-{} = {}'.format(str(c),str(-c)))\n",
        "print()\n",
        "\n",
        "\n",
        "other=Complex(2,1)\n",
        "print('other={}'.format(str(other)))\n",
        "print('({})+({}) = {}'.format(str(c),str(other),str(c+other)))\n",
        "print('({})-({}) = {}'.format(str(c),str(other),str(c-other)))\n",
        "print('({})*({}) = {}'.format(str(c),str(other),str(c*other)))\n",
        "\n",
        "print()\n",
        "print('abs({}) = {}'.format(str(c),str(abs(c))))\n",
        "\n"
      ],
      "execution_count": 4,
      "outputs": [
        {
          "output_type": "stream",
          "text": [
            "c=3-i\n",
            "c=(3,-1)\n",
            "-3-i = -3+i\n",
            "\n",
            "other=2+i\n",
            "(3-i)+(2+i) = 5\n",
            "(3-i)-(2+i) = 1-2i\n",
            "(3-i)*(2+i) = 7+i\n",
            "\n",
            "abs(3-i) = 3.1622776601683795\n"
          ],
          "name": "stdout"
        }
      ]
    }
  ]
}
