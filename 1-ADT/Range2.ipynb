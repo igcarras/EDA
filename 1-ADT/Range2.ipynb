{
  "nbformat": 4,
  "nbformat_minor": 0,
  "metadata": {
    "colab": {
      "name": "Range2.ipynb",
      "provenance": [],
      "collapsed_sections": [],
      "include_colab_link": true
    },
    "kernelspec": {
      "name": "python3",
      "display_name": "Python 3"
    }
  },
  "cells": [
    {
      "cell_type": "markdown",
      "metadata": {
        "id": "view-in-github",
        "colab_type": "text"
      },
      "source": [
        "<a href=\"https://colab.research.google.com/github/isegura/EDA/blob/master/Range2.ipynb\" target=\"_parent\"><img src=\"https://colab.research.google.com/assets/colab-badge.svg\" alt=\"Open In Colab\"/></a>"
      ]
    },
    {
      "cell_type": "markdown",
      "metadata": {
        "id": "W-2Pzri-O4nU"
      },
      "source": [
        "# Implementing a Range class (using a list)\n",
        "\n",
        "Although Python 3 already includes a range class to represent sequence of numbers, this week you must implement your own Range class to store sequence of numbers\n",
        "\n",
        "Our Range class contains the following attributes:\n",
        "\n",
        "start: initial value of the sequence.\n",
        "end: upper limit of the sequence. It does not belong to the sequence.\n",
        "step: the distance between elements in the sequence\n",
        "For example, r=Range(2, 10, 2), r will contain the following values [2, 4, 6, 8].\n",
        "\n",
        "The methods of the Range class are:\n",
        "\n",
        "-$__init__$(self,start,end,step): the constructor method that takes three parameters to initialize the start, end and sept of the sequence.\n",
        "\n",
        "-$__len__$(self): the number of elements in the range. (given the previous instance r, r.size()=4). This is the most complicated method to develop.\n",
        "\n",
        "-$__getitem__$(self,i): returns the ith element in the range. (r.getItem(0)=2,r.getItem(1)=5, r.getItem(2)=6, r.getItem(3)=8).\n",
        "\n",
        "-$__str__$(self): returns a string containing the sequence of elements in this range.\n",
        "\n",
        "-sum(self): returns the sum of all elements of the sequence.\n",
        "\n",
        "Note: Please, remember that indeces always start at 0 for most current programming languages (such as Python, Java, C, C++). In other words, the first element of a collection always has index 0, while the last element has as index the length of the collection minus one."
      ]
    },
    {
      "cell_type": "code",
      "metadata": {
        "id": "rLBFuPWePGg_",
        "colab": {
          "base_uri": "https://localhost:8080/"
        },
        "outputId": "c18e4eec-8edd-4fca-a5cc-ffc7abcf3a45"
      },
      "source": [
        "class Range:\n",
        "  \"\"\"A class that mimics the built-in range class.\"\"\"\n",
        "\n",
        "  def __init__(self, start, end, step=1):\n",
        "    \"\"\"Initialize a Range instance\n",
        "      - start is the initial value of the range,\n",
        "      - end is the upper limit. This value does not belong\n",
        "      to the range.\n",
        "      - step: by default 1.\n",
        "      \"\"\"\n",
        "    if step==0:\n",
        "      raise ValueError('step cannot be 0') #we throw an error\n",
        "    if step<0 and start<end:\n",
        "      raise ValueError('start must be greater than end')\n",
        "\n",
        "    self.start=start\n",
        "    self.end=end\n",
        "    self.step=step\n",
        "    self.items=[]\n",
        "    \n",
        "    x=self.start\n",
        "    if step>0:\n",
        "      while x<self.end:\n",
        "        self.items.append(x)\n",
        "        x+=self.step\n",
        "    else:\n",
        "      while x>self.end:\n",
        "        self.items.append(x)\n",
        "        x+=self.step\n",
        "\n",
        "   \n",
        "  def __len__(self):\n",
        "    \"\"\"returns the number of elements in the range\"\"\"\n",
        "    return len(self.items)\n",
        "  \n",
        "  def __getitem__(self,i):\n",
        "    \"\"\"Returns the ith element of the sequence\"\"\"\n",
        "    if i<0 or i>=len(self):\n",
        "      raise IndexError('index out of range')\n",
        "    \n",
        "    return self.items[i]\n",
        "  \n",
        "  def __str__(self):\n",
        "    \"\"\"Returns a string containing the sequence\"\"\"\n",
        "    return str(self.items)\n",
        "  \n",
        "  def sum(self):\n",
        "    \"\"\"Returns a string containing the sequence\"\"\"\n",
        "    return sum(self.items)\n",
        "  \n",
        "r=Range(2,-40,-5)\n",
        "print(str(r))\n",
        "print(\"size = {}\".format(len(r)))\n",
        "print(\"sum = {}\".format(r.sum()))\n",
        "\n"
      ],
      "execution_count": 1,
      "outputs": [
        {
          "output_type": "stream",
          "text": [
            "[2, -3, -8, -13, -18, -23, -28, -33, -38]\n",
            "size = 9\n",
            "sum = -162\n"
          ],
          "name": "stdout"
        }
      ]
    }
  ]
}
