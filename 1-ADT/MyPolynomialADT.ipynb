{
  "nbformat": 4,
  "nbformat_minor": 0,
  "metadata": {
    "colab": {
      "name": "MyPolynomialADT",
      "provenance": [],
      "collapsed_sections": [],
      "include_colab_link": true
    },
    "kernelspec": {
      "name": "python3",
      "display_name": "Python 3"
    }
  },
  "cells": [
    {
      "cell_type": "markdown",
      "metadata": {
        "id": "view-in-github",
        "colab_type": "text"
      },
      "source": [
        "<a href=\"https://colab.research.google.com/github/isegura/EDA/blob/master/MyPolynomialADT.ipynb\" target=\"_parent\"><img src=\"https://colab.research.google.com/assets/colab-badge.svg\" alt=\"Open In Colab\"/></a>"
      ]
    },
    {
      "cell_type": "markdown",
      "metadata": {
        "id": "TkwOxrrjdVMH"
      },
      "source": [
        "# Implementation of ADT Polynomial\n",
        "\n",
        "In this version, we overwrite some operators such as:\n",
        "\n",
        "- p[i] returns the coefficient with index i -> __getitem__\n",
        "- p[i] = x , it modifies the value of the coefficient with index i -> __setitem__\n",
        "- p+q -> __add__\n",
        "\n",
        "[]"
      ]
    },
    {
      "cell_type": "code",
      "metadata": {
        "id": "l8XhGZjeRwiX"
      },
      "source": [
        "class Polynomial:\n",
        "  \"\"\"Python class to represent polynomial functions\"\"\"\n",
        "  \n",
        "  def __init__(self, coefficients):\n",
        "    \"\"\"This constructor takes the coefficients for the terms of the polynomial.\n",
        "    We assume that the constant term (degree 0) is stored at the index 0 in the list, \n",
        "    the term with degree 1 is at the index 1, and so on...\"\"\"\n",
        "    self.coefficients = coefficients\n",
        "  \n",
        "  def degree(self):\n",
        "    \"\"\"It returns the degree of the polynomial\"\"\"\n",
        "    return len(self.coefficients)-1\n",
        "\n",
        "  def __getitem__(self,i):\n",
        "    \"\"\"It returns the coefficient of the term with degree i.\n",
        "    This function allows us to overwrite the operator []\"\"\"\n",
        "    if i<0 or i>self.degree():\n",
        "      print('{} index out of range'.format(i))\n",
        "      return None\n",
        "    \n",
        "    return self.coefficients[i]\n",
        "\n",
        "  \n",
        "  def __setitem__(self,i,newValue):\n",
        "    \"\"\"It modifies the coefficient of the term with degree i to newValue\"\"\"\n",
        "    if i<0 or i>self.degree():\n",
        "      print('{} index out of range'.format(i))\n",
        "      return  \n",
        "    \n",
        "    self.coefficients[i]=newValue\n",
        "\n",
        "\n",
        "  def evaluate(self,x):\n",
        "    \"This method returns the value of the polynomial functions for x\"\n",
        "    result=0\n",
        "    for i in range(0,self.degree()+1):\n",
        "      result += self[i]*pow(x,i)\n",
        "    return result\n",
        "  \n",
        "  def __add__(self,q):\n",
        "    \"\"\"It returns a new polynomial which is the sum of the invoking polynomial (self)\n",
        "    and q. This allows us to overwrite the operator + \"\"\"\n",
        "    \n",
        "    #Create a new polynomial that is a copy of the polynomial with greater degree\n",
        "    if self.degree()>=q.degree():\n",
        "      sumPol=Polynomial(self.coefficients)\n",
        "      #now, we have to add the coefficients from q\n",
        "      for i in range(0,q.degree()+1):\n",
        "        sumPol[i]=sumPol[i]+q[i]\n",
        "    else:\n",
        "      sumPol=Polynomial(q.coefficients)\n",
        "      #now, we have to add the coefficients from self\n",
        "      for i in range(0,self.degree()+1):\n",
        "        sumPol[i]=self[i]+sumPol[i]\n",
        "    \n",
        "    return sumPol\n",
        "        \n",
        "  \n",
        "  def __str__(self):\n",
        "    \"It retuns a string representing the polynomial function\"\n",
        "    result=''\n",
        "\n",
        "    i=self.degree()\n",
        "\n",
        "    while i>0:\n",
        "      term=self[i]\n",
        "      if term==1:\n",
        "        result += '+x'\n",
        "      elif term==-1:\n",
        "        result += '-x'\n",
        "      elif term>1:\n",
        "        result += '+' + str(term)+'x'\n",
        "      elif term<-1:\n",
        "        result += str(term)+'x'\n",
        "      if term!=0 and i>1: \n",
        "            result += '^'+str(i) \n",
        "      i=i-1\n",
        "\n",
        "    if self[0]>0:\n",
        "      result += '+'+str(self[0])\n",
        "    elif self[0]<0:\n",
        "      result += str(self[0])\n",
        "\n",
        "\n",
        "    if result[0]=='+':\n",
        "      result=result[1:]\n",
        "    return result\n",
        "\n",
        " "
      ],
      "execution_count": 1,
      "outputs": []
    },
    {
      "cell_type": "markdown",
      "metadata": {
        "id": "B-6VJs9MdGzg"
      },
      "source": [
        "Now, we include some instructions for testing the different methods. Frist ,we test that our str function shows the polyminal. We also show the degree of the polynomial. \n",
        "\n",
        "Finally, we also show the coefficientes:"
      ]
    },
    {
      "cell_type": "code",
      "metadata": {
        "id": "2QdQcC-XdGVF",
        "colab": {
          "base_uri": "https://localhost:8080/"
        },
        "outputId": "6888df6c-904f-4a6d-907c-55656052433c"
      },
      "source": [
        "#we create a polynomial\n",
        "p=Polynomial([-1,2,1,3])\n",
        "\n",
        "#we test the method toString \n",
        "print('p={}'.format(str(p)))\n",
        "\n",
        "#we test the method degree \n",
        "print('Degree:{}'.format(p.degree()))\n",
        "print()\n",
        "print('Coeficients:')\n",
        "#we test the method getCoefficient for different indexes\n",
        "for i in range(0,p.degree()+1):\n",
        "  print('p({})={}'.format(str(i),str(p[i])))"
      ],
      "execution_count": 2,
      "outputs": [
        {
          "output_type": "stream",
          "text": [
            "p=3x^3+x^2+2x-1\n",
            "Degree:3\n",
            "\n",
            "Coeficients:\n",
            "p(0)=-1\n",
            "p(1)=2\n",
            "p(2)=1\n",
            "p(3)=3\n"
          ],
          "name": "stdout"
        }
      ]
    },
    {
      "cell_type": "markdown",
      "metadata": {
        "id": "xm3feqcMeHkz"
      },
      "source": [
        "Now, let us to modify some coefficients:"
      ]
    },
    {
      "cell_type": "code",
      "metadata": {
        "id": "WUYEngFYTAWg",
        "colab": {
          "base_uri": "https://localhost:8080/"
        },
        "outputId": "ed129486-87d9-4899-9cf5-0021ea5288b4"
      },
      "source": [
        "#we test the method setCoefficient for several values\n",
        "print('p={}'.format(str(p)))\n",
        "\n",
        "p[1]=0\n",
        "print('after p[1]=0 -> {}'.format(str(p)))\n",
        "\n",
        "p[2]=0\n",
        "print('after p[2]=0 -> {}'.format(str(p)))\n",
        "\n",
        "p[3]=1\n",
        "print('after p[3]=1 -> {}'.format(str(p)))\n"
      ],
      "execution_count": 3,
      "outputs": [
        {
          "output_type": "stream",
          "text": [
            "p=3x^3+x^2+2x-1\n",
            "after p[1]=0 -> 3x^3+x^2-1\n",
            "after p[2]=0 -> 3x^3-1\n",
            "after p[3]=1 -> x^3-1\n"
          ],
          "name": "stdout"
        }
      ]
    },
    {
      "cell_type": "markdown",
      "metadata": {
        "id": "olTCqDrSeR1U"
      },
      "source": [
        "Now, we evaluate the polynomial for different values of x:"
      ]
    },
    {
      "cell_type": "code",
      "metadata": {
        "id": "IEEDPNtfSguY",
        "colab": {
          "base_uri": "https://localhost:8080/"
        },
        "outputId": "4005174e-e881-4257-980f-00ac3dad397d"
      },
      "source": [
        "print('p={}'.format(str(p)))\n",
        "\n",
        "#we test the method evaluate for several values\n",
        "print('({})(0)={}'.format(str(p),p.evaluate(0)))\n",
        "print('({})(1)={}'.format(str(p),p.evaluate(1)))\n",
        "print('({})(2)={}'.format(str(p),p.evaluate(2)))\n",
        "\n"
      ],
      "execution_count": 4,
      "outputs": [
        {
          "output_type": "stream",
          "text": [
            "p=x^3-1\n",
            "(x^3-1)(0)=-1\n",
            "(x^3-1)(1)=0\n",
            "(x^3-1)(2)=7\n"
          ],
          "name": "stdout"
        }
      ]
    },
    {
      "cell_type": "markdown",
      "metadata": {
        "id": "omhsLsUleY5r"
      },
      "source": [
        "Finally, we test if the operator + has been correctly implemented:"
      ]
    },
    {
      "cell_type": "code",
      "metadata": {
        "id": "wLe8-vDLSiOL",
        "colab": {
          "base_uri": "https://localhost:8080/"
        },
        "outputId": "eadf9dcc-e3fa-48f4-a72c-294f9c20e9de"
      },
      "source": [
        "print('p={}'.format(str(p)))\n",
        "\n",
        "x=Polynomial([1,1,2,-1,1])\n",
        "\n",
        "print('q={}'.format(str(x)))\n",
        "\n",
        "print('p+q={}'.format(str(p+x)))"
      ],
      "execution_count": 5,
      "outputs": [
        {
          "output_type": "stream",
          "text": [
            "p=x^3-1\n",
            "q=x^4-x^3+2x^2+x+1\n",
            "p+q=x^4+2x^2+x\n"
          ],
          "name": "stdout"
        }
      ]
    }
  ]
}
