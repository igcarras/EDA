{
  "nbformat": 4,
  "nbformat_minor": 0,
  "metadata": {
    "colab": {
      "name": "Date.ipynb",
      "provenance": [],
      "collapsed_sections": [],
      "include_colab_link": true
    },
    "kernelspec": {
      "name": "python3",
      "display_name": "Python 3"
    }
  },
  "cells": [
    {
      "cell_type": "markdown",
      "metadata": {
        "id": "view-in-github",
        "colab_type": "text"
      },
      "source": [
        "<a href=\"https://colab.research.google.com/github/isegura/EDA/blob/master/Date.ipynb\" target=\"_parent\"><img src=\"https://colab.research.google.com/assets/colab-badge.svg\" alt=\"Open In Colab\"/></a>"
      ]
    },
    {
      "cell_type": "markdown",
      "metadata": {
        "id": "Lc_MfCDy7-I-"
      },
      "source": [
        "# Implementation of our own class to represent dates "
      ]
    },
    {
      "cell_type": "code",
      "metadata": {
        "id": "xWEMq4SQ79Zb"
      },
      "source": [
        "#This is an atribute of the class. That is, all objects share this attribute.\n",
        "MONTH={1:'January',2:'February',3:'March',4:'April',5:'May',\n",
        "      6:'June', 7:'July', 8:'August', 9:'September',\n",
        "      10:'October',11:'November',12:'December'}\n",
        "\n",
        "class Date:\n",
        "   \n",
        "  def __init__(self, day, month, year):\n",
        "    self._day = day\n",
        "    self._month = month\n",
        "    self._year = year\n",
        "\n",
        "\n",
        "  def day(self):\n",
        "    return self._day\n",
        "    \n",
        "  def month(self):\n",
        "    return self._month\n",
        "    \n",
        "  def year(self):\n",
        "    return self._year\n",
        "      \n",
        "  def monthName(self):\n",
        "    return MONTH[self._month] \n",
        "    \n",
        "  def __str__(self):\n",
        "    \"\"\"returns the date in format dd-mm-yyyy\"\"\"\n",
        "    return str(self._day)+'-'+str(self._month)+'-'+str(self._year)\n",
        "    \n",
        "  def is_leap_year(self):\n",
        "    \"\"\"Determine whether a year is a leap year.\"\"\"\n",
        "    return self._year % 4 == 0 and (self._year % 100 != 0 or self._year % 400 == 0)\n",
        "    \n",
        "  \n",
        "          \n",
        "      \n",
        "      \n"
      ],
      "execution_count": 2,
      "outputs": []
    },
    {
      "cell_type": "markdown",
      "metadata": {
        "id": "dma0vmfhLkI4"
      },
      "source": [
        "Now, we create some instances (objects) of the Date class, and test some methods. \n"
      ]
    },
    {
      "cell_type": "code",
      "metadata": {
        "id": "GtjE3xvVLsdJ",
        "colab": {
          "base_uri": "https://localhost:8080/"
        },
        "outputId": "5c9a5d13-b510-43e4-9fb0-1c25bccea2b7"
      },
      "source": [
        "\n",
        "d1=Date(31,1,2019)\n",
        "print(\"Date: {} \".format(str(d1)))\n",
        "print(\"Its month name is {}\".format(d1.monthName()))\n",
        "print(\"Is it a leap year? {}\".format(d1.is_leap_year()))\n",
        "print()\n",
        "\n",
        "d2=Date(3,10,2016)\n",
        "print(\"Date: {} \".format(str(d2)))\n",
        "print(\"Its month name is {}\".format(d2.monthName()))\n",
        "print(\"Is it a leap year? {}\".format(d2.is_leap_year()))\n"
      ],
      "execution_count": 3,
      "outputs": [
        {
          "output_type": "stream",
          "text": [
            "Date: 31-1-2019 \n",
            "Its month name is January\n",
            "Is it a leap year? False\n",
            "\n",
            "Date: 3-10-2016 \n",
            "Its month name is October\n",
            "Is it a leap year? True\n"
          ],
          "name": "stdout"
        }
      ]
    },
    {
      "cell_type": "markdown",
      "metadata": {
        "id": "P3MUV8EMohN9"
      },
      "source": [
        "Now, we implement some operators to compare dates.\n",
        "\n",
        "- operator.$__lt__$(a, b) is equivalent to a < b,\n",
        "- operator.$__le__$(a, b) is equivalent to a <= b,\n",
        "- operator.$__eq__$(a, b) is is equivalent to a == b,\n",
        "- operator.$__ne__$(a, b) is equivalent to a != b\n",
        "- operator.$__ge__$(a, b) is equivalent to a >= b\n",
        "- operator.$__gt__$(a, b) is equivalent to a > b\n",
        "\n",
        "\n",
        "You can find more information about these operators at :\n",
        "https://docs.python.org/3/library/operator.html"
      ]
    },
    {
      "cell_type": "code",
      "metadata": {
        "id": "Zi4RuucZma04"
      },
      "source": [
        "import math\n",
        "\n",
        "month_days={1:31, 2:28, 3:31, 4:30, 5:31, 6:30, 7:31,8:31,9:30,10:31,11:30,12:31}\n",
        "\n",
        "class Date2(Date):\n",
        "    def __eq__(self,other):\n",
        "        \"\"\"#operator.__eq__(a, b) is is equivalent to a == b\"\"\"\n",
        "        return self._day==other._day and self._month==other._month and self._year==other._year\n",
        "\n",
        "    def __ne__(self,other):\n",
        "        \"\"\"#operator.__ne__(a, b) is equivalent to a != b\"\"\"\n",
        "        return self._day!=other._day or self._month!=other._month and self._year!=other._year\n",
        "\n",
        "    def __lt__(self,other):\n",
        "        \"\"\"#operator.__lt__(a, b) is equivalent to a < b,\"\"\"\n",
        "        result=False\n",
        "        if self._year < other._year:\n",
        "            result=True\n",
        "        elif self._year > other._year:\n",
        "            result= False\n",
        "        ## self.year == other.year\n",
        "        elif self._month < other._month:\n",
        "            result= True\n",
        "        elif self._month > other._month:\n",
        "            result= False\n",
        "        #self.month = other.month\n",
        "        elif self._day<other._day:\n",
        "            result= True\n",
        "    \n",
        "        return result\n",
        "\n",
        "    def __gt__(self,other):\n",
        "        \"\"\"this functions implements the operator >\"\"\"\n",
        "        result=False\n",
        "        if self._year > other._year:\n",
        "            result=True\n",
        "        elif self._year > other._year:\n",
        "            result= False\n",
        "        ## self.year == other.year\n",
        "        elif self._month > other._month:\n",
        "            result= True\n",
        "        elif self._month < other._month:\n",
        "            result= False\n",
        "        #self.month = other.month\n",
        "        elif self._day>other._day:\n",
        "            result= True\n",
        "        \n",
        "        return result\n",
        "      \n",
        "    def countLeapYears(self):\n",
        "        \"\"\"returns the number of leap years before self \"\"\"\n",
        "        years = self._year\n",
        " \n",
        "        # Check if the current year needs to be considered\n",
        "        # for the count of leap years or not\n",
        "        if (self._month <= 2):\n",
        "            years -= 1\n",
        " \n",
        "        # An year is a leap year if it is a multiple of 4,\n",
        "        # multiple of 400 and not a multiple of 100.\n",
        "        return int(years / 4) - int(years / 100) + int(years / 400)\n",
        "\n",
        "    def numDays(self,other):\n",
        "        \"\"\"returns the number of days of difference between self y other.\"\"\"\n",
        "\n",
        "        nd=self._year*365 + self._day\n",
        "\n",
        "        for i in range(1,self._month+1):\n",
        "            nd+=month_days[i]\n",
        "        \n",
        "        #we have to add one day more for each leap year\n",
        "        nd += self.countLeapYears()\n",
        "\n",
        "        \n",
        "        print(\"The number of days of {} is {}\".format(str(self),nd))\n",
        "\n",
        "        nd_other=other._year*365 + other._day\n",
        "\n",
        "        for i in range(1,other._month+1):\n",
        "            nd_other+=month_days[i]\n",
        "\n",
        "        nd_other += self.countLeapYears()\n",
        " \n",
        "\n",
        "        print(\"The number of days of {} is {}\".format(str(other),nd_other))\n",
        "\n",
        "\n",
        "        return abs(nd-nd_other)\n"
      ],
      "execution_count": 32,
      "outputs": []
    },
    {
      "cell_type": "code",
      "metadata": {
        "colab": {
          "base_uri": "https://localhost:8080/"
        },
        "id": "PxXH5nO5696m",
        "outputId": "177b6c9c-071b-427e-ce0d-97831e2a2062"
      },
      "source": [
        "\n",
        "d1=Date2(28,2,2020)\n",
        "d2=Date2(28,2,2021)\n",
        "\n",
        "print('{} == {} ? {}'.format(d1,d2,d1==d2))\n",
        "print('{} == {} ? {}'.format(d1,d1,d1==d1))\n",
        "\n",
        "print('{} != {} ? {}'.format(d1,d2,d1!=d2))\n",
        "\n",
        "print('{} < {} ? {}'.format(d1,d2,d1<d2))\n",
        "print('{} < {} ? {}'.format(d2,d1,d2<d1))\n",
        "print('{} < {} ? {}'.format(d1,d1,d1<d1))\n",
        "\n",
        "print('{} > {} ? {}'.format(d1,d2,d1>d2))\n",
        "print('{} > {} ? {}'.format(d2,d1,d2>d1))\n",
        "print('{} > {} ? {}'.format(d1,d1,d1>d1))\n",
        "\n",
        "print(d1.numDays(d2))\n",
        "print(d2.numDays(d1))"
      ],
      "execution_count": 34,
      "outputs": [
        {
          "output_type": "stream",
          "text": [
            "28-2-2020 == 28-2-2021 ? False\n",
            "28-2-2020 == 28-2-2020 ? True\n",
            "28-2-2020 != 28-2-2021 ? False\n",
            "28-2-2020 < 28-2-2021 ? True\n",
            "28-2-2021 < 28-2-2020 ? False\n",
            "28-2-2020 < 28-2-2020 ? False\n",
            "28-2-2020 > 28-2-2021 ? False\n",
            "28-2-2021 > 28-2-2020 ? True\n",
            "28-2-2020 > 28-2-2020 ? False\n",
            "The number of days of 28-2-2020 is 737876\n",
            "The number of days of 28-2-2021 is 738241\n",
            "365\n",
            "The number of days of 28-2-2021 is 738242\n",
            "The number of days of 28-2-2020 is 737877\n",
            "365\n"
          ],
          "name": "stdout"
        }
      ]
    }
  ]
}
