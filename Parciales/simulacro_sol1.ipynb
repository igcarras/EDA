{
  "nbformat": 4,
  "nbformat_minor": 0,
  "metadata": {
    "colab": {
      "name": "simulacro-sol1.ipynb",
      "provenance": [],
      "collapsed_sections": [],
      "authorship_tag": "ABX9TyOTDMLXmY8rIPaXuRDtRIsm",
      "include_colab_link": true
    },
    "kernelspec": {
      "name": "python3",
      "display_name": "Python 3"
    }
  },
  "cells": [
    {
      "cell_type": "markdown",
      "metadata": {
        "id": "view-in-github",
        "colab_type": "text"
      },
      "source": [
        "<a href=\"https://colab.research.google.com/github/isegura/EDA/blob/master/simulacro_sol1.ipynb\" target=\"_parent\"><img src=\"https://colab.research.google.com/assets/colab-badge.svg\" alt=\"Open In Colab\"/></a>"
      ]
    },
    {
      "cell_type": "markdown",
      "metadata": {
        "id": "CZPGRK9H1TmV",
        "colab_type": "text"
      },
      "source": [
        "# Simulacro examen\n",
        "\n",
        "Implementa una función **recursiva**, **invertir**, que reciba un texto, y devuelva su texto inverso.\n",
        "Por ejemplo:\n",
        "- invertir(None)=None\n",
        "- invertir('')=''\n",
        "- invertir('patata')='atatap'\n"
      ]
    },
    {
      "cell_type": "code",
      "metadata": {
        "id": "4FeQfvrq1SuX",
        "colab_type": "code",
        "outputId": "1cf61523-377a-41cb-9654-5810d67a5fec",
        "colab": {
          "base_uri": "https://localhost:8080/",
          "height": 67
        }
      },
      "source": [
        "def invertir(s):\n",
        "  #añade tu código\n",
        "  \n",
        "  if s==None or len(s)==0:\n",
        "    return s\n",
        "\n",
        "  return invertir(s[1:]) + s[0];\n",
        "\n",
        "s=None\n",
        "print('invertir({})={}'.format(s,invertir(s)))\n",
        "s=''\n",
        "print('invertir({})={}'.format(s,invertir(s)))\n",
        "s='hola caracola'\n",
        "print('invertir({})={}'.format(s,invertir(s)))\n"
      ],
      "execution_count": 0,
      "outputs": [
        {
          "output_type": "stream",
          "text": [
            "invertir(None)=None\n",
            "invertir()=\n",
            "invertir(hola caracola)=alocarac aloh\n"
          ],
          "name": "stdout"
        }
      ]
    },
    {
      "cell_type": "markdown",
      "metadata": {
        "id": "3i6iYwkY6P8s",
        "colab_type": "text"
      },
      "source": [
        "La siguiente clase te permitirá ayudar a testear si tu solución es correta. \n",
        "En ningún caso, debe modificar esta función:\n"
      ]
    },
    {
      "cell_type": "code",
      "metadata": {
        "id": "gHzHAWGj6XRT",
        "colab_type": "code",
        "colab": {}
      },
      "source": [
        "import unittest\n",
        "\n",
        "class Test(unittest.TestCase):\n",
        "    def test_invertir(self):\n",
        "        self.assertEqual(invertir(None), None)\n",
        "        self.assertEqual(invertir(''), '')\n",
        "        self.assertEqual(invertir('hola caracola'), '')\n",
        "\n",
        "\n",
        "\n",
        "#Comentar para usarlo en spyder\n",
        "unittest.main(argv=['first-arg-is-ignored'], exit=False)\n",
        "\n",
        "#Descomenar para usarlo en Spyder\n",
        "#if __name__ == '__main__':\n",
        "#    unittest.main()"
      ],
      "execution_count": 0,
      "outputs": []
    }
  ]
}
