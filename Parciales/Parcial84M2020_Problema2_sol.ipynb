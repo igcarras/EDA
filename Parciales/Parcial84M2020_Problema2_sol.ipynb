{
  "nbformat": 4,
  "nbformat_minor": 0,
  "metadata": {
    "colab": {
      "name": "Parcial84M2020-Problema2-sol.ipynb",
      "provenance": [],
      "collapsed_sections": [],
      "authorship_tag": "ABX9TyPCef9zupktvABGAf9ONxyp",
      "include_colab_link": true
    },
    "kernelspec": {
      "name": "python3",
      "display_name": "Python 3"
    }
  },
  "cells": [
    {
      "cell_type": "markdown",
      "metadata": {
        "id": "view-in-github",
        "colab_type": "text"
      },
      "source": [
        "<a href=\"https://colab.research.google.com/github/isegura/EDA/blob/master/Parcial84M2020_Problema2_sol.ipynb\" target=\"_parent\"><img src=\"https://colab.research.google.com/assets/colab-badge.svg\" alt=\"Open In Colab\"/></a>"
      ]
    },
    {
      "cell_type": "markdown",
      "metadata": {
        "id": "xzn2a-10lhqw",
        "colab_type": "text"
      },
      "source": [
        "# Examen Parcial Grupo 84M - 16 Abril 2020\n",
        "\n",
        "## Problema 2 - Listas Enlazadas \n",
        "\n",
        "**Instrucciones:**\n",
        "- Puntuación: 1 puntos.\n",
        "\n",
        "- Duración: 35 minutos. \n",
        "\n",
        "- Lee atentamente el problema. \n",
        "\n",
        "- Vuelve a leer el problema una segunda vez.\n",
        "\n",
        "- Después de haber leído el enunciado dos veces, si tienes alguna duda pregunta.\n",
        "\n",
        "- No modifiques el fichero **dlist.py**.\n",
        "\n",
        "- Completa tu solución en el fichero **parcial84m-problema2.py**. Este fichero contiene una clase de **unittest** que te permitirá comprobar si tu solución es correcta o no. En ningún caso, debes modificar o borrar dicha clase. \n",
        "\n",
        "- Sube tu solución a aula global en la actividad **Parcial84m Problema 2**. Tendrás 2 minutos para subir el fichero desde el aviso del profesor.\n",
        "\n",
        "###Enunciado:\n",
        "\n",
        "La clase **DList** (proporcionada en el fichero dlist.py) implementa una lista doblemente enlazada. Crea una subclase de DList, llamada **DList2**, que tenga un método, **removeSmaller**, que reciba un parámetro x, y que elimine de la lista todos aquellos nodos cuyos elementos son menores que x. El método no devuelve nada. El método no puede incluir llamadas a otros métodos o utilizar otras listas auxiliares (de ningún tipo). \n"
      ]
    },
    {
      "cell_type": "code",
      "metadata": {
        "id": "lwUjEy-BVAV3",
        "colab_type": "code",
        "outputId": "5ee9586c-43c7-408b-b336-b27ef8a954f4",
        "colab": {
          "resources": {
            "http://localhost:8080/nbextensions/google.colab/files.js": {
              "data": "Ly8gQ29weXJpZ2h0IDIwMTcgR29vZ2xlIExMQwovLwovLyBMaWNlbnNlZCB1bmRlciB0aGUgQXBhY2hlIExpY2Vuc2UsIFZlcnNpb24gMi4wICh0aGUgIkxpY2Vuc2UiKTsKLy8geW91IG1heSBub3QgdXNlIHRoaXMgZmlsZSBleGNlcHQgaW4gY29tcGxpYW5jZSB3aXRoIHRoZSBMaWNlbnNlLgovLyBZb3UgbWF5IG9idGFpbiBhIGNvcHkgb2YgdGhlIExpY2Vuc2UgYXQKLy8KLy8gICAgICBodHRwOi8vd3d3LmFwYWNoZS5vcmcvbGljZW5zZXMvTElDRU5TRS0yLjAKLy8KLy8gVW5sZXNzIHJlcXVpcmVkIGJ5IGFwcGxpY2FibGUgbGF3IG9yIGFncmVlZCB0byBpbiB3cml0aW5nLCBzb2Z0d2FyZQovLyBkaXN0cmlidXRlZCB1bmRlciB0aGUgTGljZW5zZSBpcyBkaXN0cmlidXRlZCBvbiBhbiAiQVMgSVMiIEJBU0lTLAovLyBXSVRIT1VUIFdBUlJBTlRJRVMgT1IgQ09ORElUSU9OUyBPRiBBTlkgS0lORCwgZWl0aGVyIGV4cHJlc3Mgb3IgaW1wbGllZC4KLy8gU2VlIHRoZSBMaWNlbnNlIGZvciB0aGUgc3BlY2lmaWMgbGFuZ3VhZ2UgZ292ZXJuaW5nIHBlcm1pc3Npb25zIGFuZAovLyBsaW1pdGF0aW9ucyB1bmRlciB0aGUgTGljZW5zZS4KCi8qKgogKiBAZmlsZW92ZXJ2aWV3IEhlbHBlcnMgZm9yIGdvb2dsZS5jb2xhYiBQeXRob24gbW9kdWxlLgogKi8KKGZ1bmN0aW9uKHNjb3BlKSB7CmZ1bmN0aW9uIHNwYW4odGV4dCwgc3R5bGVBdHRyaWJ1dGVzID0ge30pIHsKICBjb25zdCBlbGVtZW50ID0gZG9jdW1lbnQuY3JlYXRlRWxlbWVudCgnc3BhbicpOwogIGVsZW1lbnQudGV4dENvbnRlbnQgPSB0ZXh0OwogIGZvciAoY29uc3Qga2V5IG9mIE9iamVjdC5rZXlzKHN0eWxlQXR0cmlidXRlcykpIHsKICAgIGVsZW1lbnQuc3R5bGVba2V5XSA9IHN0eWxlQXR0cmlidXRlc1trZXldOwogIH0KICByZXR1cm4gZWxlbWVudDsKfQoKLy8gTWF4IG51bWJlciBvZiBieXRlcyB3aGljaCB3aWxsIGJlIHVwbG9hZGVkIGF0IGEgdGltZS4KY29uc3QgTUFYX1BBWUxPQURfU0laRSA9IDEwMCAqIDEwMjQ7Ci8vIE1heCBhbW91bnQgb2YgdGltZSB0byBibG9jayB3YWl0aW5nIGZvciB0aGUgdXNlci4KY29uc3QgRklMRV9DSEFOR0VfVElNRU9VVF9NUyA9IDMwICogMTAwMDsKCmZ1bmN0aW9uIF91cGxvYWRGaWxlcyhpbnB1dElkLCBvdXRwdXRJZCkgewogIGNvbnN0IHN0ZXBzID0gdXBsb2FkRmlsZXNTdGVwKGlucHV0SWQsIG91dHB1dElkKTsKICBjb25zdCBvdXRwdXRFbGVtZW50ID0gZG9jdW1lbnQuZ2V0RWxlbWVudEJ5SWQob3V0cHV0SWQpOwogIC8vIENhY2hlIHN0ZXBzIG9uIHRoZSBvdXRwdXRFbGVtZW50IHRvIG1ha2UgaXQgYXZhaWxhYmxlIGZvciB0aGUgbmV4dCBjYWxsCiAgLy8gdG8gdXBsb2FkRmlsZXNDb250aW51ZSBmcm9tIFB5dGhvbi4KICBvdXRwdXRFbGVtZW50LnN0ZXBzID0gc3RlcHM7CgogIHJldHVybiBfdXBsb2FkRmlsZXNDb250aW51ZShvdXRwdXRJZCk7Cn0KCi8vIFRoaXMgaXMgcm91Z2hseSBhbiBhc3luYyBnZW5lcmF0b3IgKG5vdCBzdXBwb3J0ZWQgaW4gdGhlIGJyb3dzZXIgeWV0KSwKLy8gd2hlcmUgdGhlcmUgYXJlIG11bHRpcGxlIGFzeW5jaHJvbm91cyBzdGVwcyBhbmQgdGhlIFB5dGhvbiBzaWRlIGlzIGdvaW5nCi8vIHRvIHBvbGwgZm9yIGNvbXBsZXRpb24gb2YgZWFjaCBzdGVwLgovLyBUaGlzIHVzZXMgYSBQcm9taXNlIHRvIGJsb2NrIHRoZSBweXRob24gc2lkZSBvbiBjb21wbGV0aW9uIG9mIGVhY2ggc3RlcCwKLy8gdGhlbiBwYXNzZXMgdGhlIHJlc3VsdCBvZiB0aGUgcHJldmlvdXMgc3RlcCBhcyB0aGUgaW5wdXQgdG8gdGhlIG5leHQgc3RlcC4KZnVuY3Rpb24gX3VwbG9hZEZpbGVzQ29udGludWUob3V0cHV0SWQpIHsKICBjb25zdCBvdXRwdXRFbGVtZW50ID0gZG9jdW1lbnQuZ2V0RWxlbWVudEJ5SWQob3V0cHV0SWQpOwogIGNvbnN0IHN0ZXBzID0gb3V0cHV0RWxlbWVudC5zdGVwczsKCiAgY29uc3QgbmV4dCA9IHN0ZXBzLm5leHQob3V0cHV0RWxlbWVudC5sYXN0UHJvbWlzZVZhbHVlKTsKICByZXR1cm4gUHJvbWlzZS5yZXNvbHZlKG5leHQudmFsdWUucHJvbWlzZSkudGhlbigodmFsdWUpID0+IHsKICAgIC8vIENhY2hlIHRoZSBsYXN0IHByb21pc2UgdmFsdWUgdG8gbWFrZSBpdCBhdmFpbGFibGUgdG8gdGhlIG5leHQKICAgIC8vIHN0ZXAgb2YgdGhlIGdlbmVyYXRvci4KICAgIG91dHB1dEVsZW1lbnQubGFzdFByb21pc2VWYWx1ZSA9IHZhbHVlOwogICAgcmV0dXJuIG5leHQudmFsdWUucmVzcG9uc2U7CiAgfSk7Cn0KCi8qKgogKiBHZW5lcmF0b3IgZnVuY3Rpb24gd2hpY2ggaXMgY2FsbGVkIGJldHdlZW4gZWFjaCBhc3luYyBzdGVwIG9mIHRoZSB1cGxvYWQKICogcHJvY2Vzcy4KICogQHBhcmFtIHtzdHJpbmd9IGlucHV0SWQgRWxlbWVudCBJRCBvZiB0aGUgaW5wdXQgZmlsZSBwaWNrZXIgZWxlbWVudC4KICogQHBhcmFtIHtzdHJpbmd9IG91dHB1dElkIEVsZW1lbnQgSUQgb2YgdGhlIG91dHB1dCBkaXNwbGF5LgogKiBAcmV0dXJuIHshSXRlcmFibGU8IU9iamVjdD59IEl0ZXJhYmxlIG9mIG5leHQgc3RlcHMuCiAqLwpmdW5jdGlvbiogdXBsb2FkRmlsZXNTdGVwKGlucHV0SWQsIG91dHB1dElkKSB7CiAgY29uc3QgaW5wdXRFbGVtZW50ID0gZG9jdW1lbnQuZ2V0RWxlbWVudEJ5SWQoaW5wdXRJZCk7CiAgaW5wdXRFbGVtZW50LmRpc2FibGVkID0gZmFsc2U7CgogIGNvbnN0IG91dHB1dEVsZW1lbnQgPSBkb2N1bWVudC5nZXRFbGVtZW50QnlJZChvdXRwdXRJZCk7CiAgb3V0cHV0RWxlbWVudC5pbm5lckhUTUwgPSAnJzsKCiAgY29uc3QgcGlja2VkUHJvbWlzZSA9IG5ldyBQcm9taXNlKChyZXNvbHZlKSA9PiB7CiAgICBpbnB1dEVsZW1lbnQuYWRkRXZlbnRMaXN0ZW5lcignY2hhbmdlJywgKGUpID0+IHsKICAgICAgcmVzb2x2ZShlLnRhcmdldC5maWxlcyk7CiAgICB9KTsKICB9KTsKCiAgY29uc3QgY2FuY2VsID0gZG9jdW1lbnQuY3JlYXRlRWxlbWVudCgnYnV0dG9uJyk7CiAgaW5wdXRFbGVtZW50LnBhcmVudEVsZW1lbnQuYXBwZW5kQ2hpbGQoY2FuY2VsKTsKICBjYW5jZWwudGV4dENvbnRlbnQgPSAnQ2FuY2VsIHVwbG9hZCc7CiAgY29uc3QgY2FuY2VsUHJvbWlzZSA9IG5ldyBQcm9taXNlKChyZXNvbHZlKSA9PiB7CiAgICBjYW5jZWwub25jbGljayA9ICgpID0+IHsKICAgICAgcmVzb2x2ZShudWxsKTsKICAgIH07CiAgfSk7CgogIC8vIENhbmNlbCB1cGxvYWQgaWYgdXNlciBoYXNuJ3QgcGlja2VkIGFueXRoaW5nIGluIHRpbWVvdXQuCiAgY29uc3QgdGltZW91dFByb21pc2UgPSBuZXcgUHJvbWlzZSgocmVzb2x2ZSkgPT4gewogICAgc2V0VGltZW91dCgoKSA9PiB7CiAgICAgIHJlc29sdmUobnVsbCk7CiAgICB9LCBGSUxFX0NIQU5HRV9USU1FT1VUX01TKTsKICB9KTsKCiAgLy8gV2FpdCBmb3IgdGhlIHVzZXIgdG8gcGljayB0aGUgZmlsZXMuCiAgY29uc3QgZmlsZXMgPSB5aWVsZCB7CiAgICBwcm9taXNlOiBQcm9taXNlLnJhY2UoW3BpY2tlZFByb21pc2UsIHRpbWVvdXRQcm9taXNlLCBjYW5jZWxQcm9taXNlXSksCiAgICByZXNwb25zZTogewogICAgICBhY3Rpb246ICdzdGFydGluZycsCiAgICB9CiAgfTsKCiAgaWYgKCFmaWxlcykgewogICAgcmV0dXJuIHsKICAgICAgcmVzcG9uc2U6IHsKICAgICAgICBhY3Rpb246ICdjb21wbGV0ZScsCiAgICAgIH0KICAgIH07CiAgfQoKICBjYW5jZWwucmVtb3ZlKCk7CgogIC8vIERpc2FibGUgdGhlIGlucHV0IGVsZW1lbnQgc2luY2UgZnVydGhlciBwaWNrcyBhcmUgbm90IGFsbG93ZWQuCiAgaW5wdXRFbGVtZW50LmRpc2FibGVkID0gdHJ1ZTsKCiAgZm9yIChjb25zdCBmaWxlIG9mIGZpbGVzKSB7CiAgICBjb25zdCBsaSA9IGRvY3VtZW50LmNyZWF0ZUVsZW1lbnQoJ2xpJyk7CiAgICBsaS5hcHBlbmQoc3BhbihmaWxlLm5hbWUsIHtmb250V2VpZ2h0OiAnYm9sZCd9KSk7CiAgICBsaS5hcHBlbmQoc3BhbigKICAgICAgICBgKCR7ZmlsZS50eXBlIHx8ICduL2EnfSkgLSAke2ZpbGUuc2l6ZX0gYnl0ZXMsIGAgKwogICAgICAgIGBsYXN0IG1vZGlmaWVkOiAkewogICAgICAgICAgICBmaWxlLmxhc3RNb2RpZmllZERhdGUgPyBmaWxlLmxhc3RNb2RpZmllZERhdGUudG9Mb2NhbGVEYXRlU3RyaW5nKCkgOgogICAgICAgICAgICAgICAgICAgICAgICAgICAgICAgICAgICAnbi9hJ30gLSBgKSk7CiAgICBjb25zdCBwZXJjZW50ID0gc3BhbignMCUgZG9uZScpOwogICAgbGkuYXBwZW5kQ2hpbGQocGVyY2VudCk7CgogICAgb3V0cHV0RWxlbWVudC5hcHBlbmRDaGlsZChsaSk7CgogICAgY29uc3QgZmlsZURhdGFQcm9taXNlID0gbmV3IFByb21pc2UoKHJlc29sdmUpID0+IHsKICAgICAgY29uc3QgcmVhZGVyID0gbmV3IEZpbGVSZWFkZXIoKTsKICAgICAgcmVhZGVyLm9ubG9hZCA9IChlKSA9PiB7CiAgICAgICAgcmVzb2x2ZShlLnRhcmdldC5yZXN1bHQpOwogICAgICB9OwogICAgICByZWFkZXIucmVhZEFzQXJyYXlCdWZmZXIoZmlsZSk7CiAgICB9KTsKICAgIC8vIFdhaXQgZm9yIHRoZSBkYXRhIHRvIGJlIHJlYWR5LgogICAgbGV0IGZpbGVEYXRhID0geWllbGQgewogICAgICBwcm9taXNlOiBmaWxlRGF0YVByb21pc2UsCiAgICAgIHJlc3BvbnNlOiB7CiAgICAgICAgYWN0aW9uOiAnY29udGludWUnLAogICAgICB9CiAgICB9OwoKICAgIC8vIFVzZSBhIGNodW5rZWQgc2VuZGluZyB0byBhdm9pZCBtZXNzYWdlIHNpemUgbGltaXRzLiBTZWUgYi82MjExNTY2MC4KICAgIGxldCBwb3NpdGlvbiA9IDA7CiAgICB3aGlsZSAocG9zaXRpb24gPCBmaWxlRGF0YS5ieXRlTGVuZ3RoKSB7CiAgICAgIGNvbnN0IGxlbmd0aCA9IE1hdGgubWluKGZpbGVEYXRhLmJ5dGVMZW5ndGggLSBwb3NpdGlvbiwgTUFYX1BBWUxPQURfU0laRSk7CiAgICAgIGNvbnN0IGNodW5rID0gbmV3IFVpbnQ4QXJyYXkoZmlsZURhdGEsIHBvc2l0aW9uLCBsZW5ndGgpOwogICAgICBwb3NpdGlvbiArPSBsZW5ndGg7CgogICAgICBjb25zdCBiYXNlNjQgPSBidG9hKFN0cmluZy5mcm9tQ2hhckNvZGUuYXBwbHkobnVsbCwgY2h1bmspKTsKICAgICAgeWllbGQgewogICAgICAgIHJlc3BvbnNlOiB7CiAgICAgICAgICBhY3Rpb246ICdhcHBlbmQnLAogICAgICAgICAgZmlsZTogZmlsZS5uYW1lLAogICAgICAgICAgZGF0YTogYmFzZTY0LAogICAgICAgIH0sCiAgICAgIH07CiAgICAgIHBlcmNlbnQudGV4dENvbnRlbnQgPQogICAgICAgICAgYCR7TWF0aC5yb3VuZCgocG9zaXRpb24gLyBmaWxlRGF0YS5ieXRlTGVuZ3RoKSAqIDEwMCl9JSBkb25lYDsKICAgIH0KICB9CgogIC8vIEFsbCBkb25lLgogIHlpZWxkIHsKICAgIHJlc3BvbnNlOiB7CiAgICAgIGFjdGlvbjogJ2NvbXBsZXRlJywKICAgIH0KICB9Owp9CgpzY29wZS5nb29nbGUgPSBzY29wZS5nb29nbGUgfHwge307CnNjb3BlLmdvb2dsZS5jb2xhYiA9IHNjb3BlLmdvb2dsZS5jb2xhYiB8fCB7fTsKc2NvcGUuZ29vZ2xlLmNvbGFiLl9maWxlcyA9IHsKICBfdXBsb2FkRmlsZXMsCiAgX3VwbG9hZEZpbGVzQ29udGludWUsCn07Cn0pKHNlbGYpOwo=",
              "ok": true,
              "headers": [
                [
                  "content-type",
                  "application/javascript"
                ]
              ],
              "status": 200,
              "status_text": ""
            }
          },
          "base_uri": "https://localhost:8080/",
          "height": 71
        }
      },
      "source": [
        "from google.colab import files\n",
        "src = list(files.upload().values())[0]\n"
      ],
      "execution_count": 0,
      "outputs": [
        {
          "output_type": "display_data",
          "data": {
            "text/html": [
              "\n",
              "     <input type=\"file\" id=\"files-929ebe2f-9c13-4411-9e66-38b44f5f7382\" name=\"files[]\" multiple disabled />\n",
              "     <output id=\"result-929ebe2f-9c13-4411-9e66-38b44f5f7382\">\n",
              "      Upload widget is only available when the cell has been executed in the\n",
              "      current browser session. Please rerun this cell to enable.\n",
              "      </output>\n",
              "      <script src=\"/nbextensions/google.colab/files.js\"></script> "
            ],
            "text/plain": [
              "<IPython.core.display.HTML object>"
            ]
          },
          "metadata": {
            "tags": []
          }
        },
        {
          "output_type": "stream",
          "text": [
            "Saving dlist.py to dlist.py\n"
          ],
          "name": "stdout"
        }
      ]
    },
    {
      "cell_type": "code",
      "metadata": {
        "id": "APstCKJwlgw2",
        "colab_type": "code",
        "outputId": "907354e4-c626-4fef-e5cb-c2a2e8462883",
        "colab": {
          "base_uri": "https://localhost:8080/",
          "height": 218
        }
      },
      "source": [
        "from dlist import DList\n",
        "\n",
        "class DList2(DList):\n",
        "    def removeSmaller(self, x):\n",
        "        node = self.head\n",
        "        while node:\n",
        "            if node.elem < x:\n",
        "                if node == self.head:\n",
        "                    self.head = node.next\n",
        "                else:\n",
        "                    node.prev.next = node.next\n",
        "                if node == self.tail:\n",
        "                    self.tail = node.prev\n",
        "                else:\n",
        "                    node.next.prev = node.prev\n",
        "                self.size -= 1\n",
        "            node = node.next\n",
        "            \n",
        "    def removeSmaller2(self, x):\n",
        "      i=0\n",
        "      while i<len(self):\n",
        "        if self.getAt(i)<x:\n",
        "          print('removing',self.removeAt(i))\n",
        "        else:\n",
        "          i+=1\n",
        "\n",
        "# In[9]:\n",
        "\n",
        "import random \n",
        "\n",
        "#value = random.randint(0,10)\n",
        "#print('value=',value)\n",
        "\n",
        "\n",
        "l = DList2()\n",
        "#for i in range(20):\n",
        "for i in [7,3,2,10,0,2,8,0,0,4,1,1,10,6,0,3,0,5,3,1]:\n",
        "    l.addLast(i)\n",
        "    \n",
        "\n",
        "    \n",
        "print(\"Original list:\\n\",l)\n",
        "value=2\n",
        "l.removeSmaller2(value)\n",
        "print(\"Eliminar elementos menores a {}:\\n{}\".format(value, l))\n",
        " "
      ],
      "execution_count": 0,
      "outputs": [
        {
          "output_type": "stream",
          "text": [
            "Original list:\n",
            " 7,3,2,10,0,2,8,0,0,4,1,1,10,6,0,3,0,5,3,1\n",
            "removing 0\n",
            "removing 0\n",
            "removing 0\n",
            "removing 1\n",
            "removing 1\n",
            "removing 0\n",
            "removing 0\n",
            "removing 1\n",
            "Eliminar elementos menores a 2:\n",
            "7,3,2,10,2,8,4,10,6,3,5,3\n"
          ],
          "name": "stdout"
        }
      ]
    },
    {
      "cell_type": "markdown",
      "metadata": {
        "id": "9iWgYwxINBKi",
        "colab_type": "text"
      },
      "source": [
        "Esta es la clase unittest que puedes usar para testear tu método:\n"
      ]
    },
    {
      "cell_type": "code",
      "metadata": {
        "id": "7EZe__FjNFpq",
        "colab_type": "code",
        "outputId": "fdf52756-032c-4a56-9abd-3471c0bf4326",
        "colab": {
          "base_uri": "https://localhost:8080/",
          "height": 437
        }
      },
      "source": [
        "import unittest\n",
        "\n",
        "class Test(unittest.TestCase):\n",
        "    def setUp(self):\n",
        "      \n",
        "      self.x1=0\n",
        "      self.input=DList2()\n",
        "      self.output1=DList2()\n",
        "      \n",
        "      for e in [7,3,2,10,0,2,8,0,0,4,1,1,10,6,0,3,0,5,3,1]:\n",
        "        self.input.addLast(e)\n",
        "        self.output1.addLast(e)\n",
        "\n",
        "      self.x2=8\n",
        "      self.output2=DList2()\n",
        "      for e in [10,8,10]:\n",
        "        self.output2.addLast(e)\n",
        "    \n",
        "      self.x3=100\n",
        "\n",
        "    def test_removeSmaller1(self):\n",
        "      print()\n",
        "      print('Caso 1: borramos menores que ', self.x1,' en una lista vacía')\n",
        "      lEmpty=DList2()\n",
        "      lEmpty.removeSmaller(self.x1)\n",
        "      self.assertEqual(len(lEmpty),0)\n",
        "     \n",
        "    def test_removeSmaller2(self):\n",
        "      print()\n",
        "      print('Caso 2: no existen valores menores a ', self.x1, 'en la lista')\n",
        "      print('Antes de llamar a removeSmaller: ', self.input)\n",
        "      self.input.removeSmaller(self.x1)\n",
        "      print('Después:',self.input)\n",
        "      print('Lista esperada:',self.output1)\n",
        "      for i in range(len(self.input)):\n",
        "        self.assertEqual(self.input.getAt(i),self.output1.getAt(i))\n",
        "\n",
        "    def test_removeSmaller3(self):\n",
        "      print()\n",
        "      print('Caso 3: si existen menores que ', self.x2, ' en la lista')\n",
        "      print('Antes de llamar a removeSmaller: ', self.input)\n",
        "      self.input.removeSmaller(self.x2)\n",
        "      print('Después:',self.input)\n",
        "      print('Lista esperada:',self.output2)\n",
        "      print()\n",
        "      self.assertEqual(len(self.input),len(self.output2))\n",
        "\n",
        "      for i in range(len(self.input)):\n",
        "        self.assertEqual(self.input.getAt(i),self.output2.getAt(i))\n",
        "\n",
        "    def test_removeSmaller4(self):\n",
        "      print()\n",
        "      print('Caso 4: todos son menores que ', self.x2, '')\n",
        "      print('Antes de llamar a removeSmaller: ', self.input)\n",
        "      self.input.removeSmaller(self.x3)\n",
        "      print('Después:',self.input)\n",
        "      print('Lista esperada:',DList())\n",
        "      print()\n",
        "      self.assertEqual(len(self.input),0)\n",
        "\n",
        "    \n",
        "\n",
        "#Comentar para usarlo en spyder\n",
        "unittest.main(argv=['first-arg-is-ignored'], exit=False)\n",
        "\n",
        "#Descomenar para usarlo en Spyder\n",
        "#if __name__ == '__main__':\n",
        "#    unittest.main()"
      ],
      "execution_count": 0,
      "outputs": [
        {
          "output_type": "stream",
          "text": [
            "...."
          ],
          "name": "stderr"
        },
        {
          "output_type": "stream",
          "text": [
            "\n",
            "Caso 1: borramos menores que  0  en una lista vacía\n",
            "\n",
            "Caso 2: no existen valores menores a  0 en la lista\n",
            "Antes de llamar a removeSmaller:  7,3,2,10,0,2,8,0,0,4,1,1,10,6,0,3,0,5,3,1\n",
            "Después: 7,3,2,10,0,2,8,0,0,4,1,1,10,6,0,3,0,5,3,1\n",
            "Lista esperada: 7,3,2,10,0,2,8,0,0,4,1,1,10,6,0,3,0,5,3,1\n",
            "\n",
            "Caso 3: si existen menores que  8  en la lista\n",
            "Antes de llamar a removeSmaller:  7,3,2,10,0,2,8,0,0,4,1,1,10,6,0,3,0,5,3,1\n",
            "Después: 10,8,10\n",
            "Lista esperada: 10,8,10\n",
            "\n",
            "\n",
            "Caso 4: todos son menores que  8 \n",
            "Antes de llamar a removeSmaller:  7,3,2,10,0,2,8,0,0,4,1,1,10,6,0,3,0,5,3,1\n",
            "Después: \n",
            "Lista esperada: \n",
            "\n"
          ],
          "name": "stdout"
        },
        {
          "output_type": "stream",
          "text": [
            "\n",
            "----------------------------------------------------------------------\n",
            "Ran 4 tests in 0.010s\n",
            "\n",
            "OK\n"
          ],
          "name": "stderr"
        },
        {
          "output_type": "execute_result",
          "data": {
            "text/plain": [
              "<unittest.main.TestProgram at 0x7f2cce5aa2b0>"
            ]
          },
          "metadata": {
            "tags": []
          },
          "execution_count": 55
        }
      ]
    }
  ]
}
