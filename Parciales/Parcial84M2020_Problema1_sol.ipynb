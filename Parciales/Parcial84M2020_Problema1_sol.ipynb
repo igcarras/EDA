{
  "nbformat": 4,
  "nbformat_minor": 0,
  "metadata": {
    "colab": {
      "name": "Parcial84M2020-Problema1-sol.ipynb",
      "provenance": [],
      "collapsed_sections": [],
      "authorship_tag": "ABX9TyN1TAUNCanVvgVUHTbqvVJH",
      "include_colab_link": true
    },
    "kernelspec": {
      "name": "python3",
      "display_name": "Python 3"
    }
  },
  "cells": [
    {
      "cell_type": "markdown",
      "metadata": {
        "id": "view-in-github",
        "colab_type": "text"
      },
      "source": [
        "<a href=\"https://colab.research.google.com/github/isegura/EDA/blob/master/Parcial84M2020_Problema1_sol.ipynb\" target=\"_parent\"><img src=\"https://colab.research.google.com/assets/colab-badge.svg\" alt=\"Open In Colab\"/></a>"
      ]
    },
    {
      "cell_type": "markdown",
      "metadata": {
        "id": "xzn2a-10lhqw",
        "colab_type": "text"
      },
      "source": [
        "# Examen Parcial Grupo 84M - 16 Abril 2020\n",
        "\n",
        "## Problema 1 - Recursión \n",
        "\n",
        "- Puntuación: 0.5 puntos.\n",
        "- Duración: 15 minutos. \n",
        "- Lee antentamente el problema. \n",
        "- Vuelve a leer el problema una segunda vez.\n",
        "- Después de haber leído el enunciado dos veces, si tienes alguna duda pregunta por el foro.\n",
        "- Cuando hayas terminado o cuando el profesor te indique que el tiempo ha terminado, debes subir tu solución (fichero problema1.py) a la actividad offline \"Problema 1\". Tienes dos minutos para subir la solución. Soluciones enviadas fuera de tiempo no serán evaluadas\n",
        "\n",
        "### Enunciado:\n",
        "\n",
        "Escribe una **función recursiva** que tome como parámetro una lista de Python y un valor x, y que elimine de la lista todas las ocurrencias de x. El método devuelve la lista actualizada (es decir, sin las ocurrencias de x). En el método no puedes utilizar una lista auxiliar (ningún tipo de lista) para desarrollar tu solución. \n",
        "Escribe tu solución en el fichero problema1.py y cuando hayas terminado subelo a la actividad Problema1. El tiempo para hacer este problema son 15 minutos, y tendrás 2 minutos para subir la solución (si has terminado antes, puedes subirlo antes). \n",
        "\n"
      ]
    },
    {
      "cell_type": "code",
      "metadata": {
        "id": "APstCKJwlgw2",
        "colab_type": "code",
        "outputId": "403fbf26-46ed-46c9-e22a-50f8d474bd72",
        "colab": {
          "base_uri": "https://localhost:8080/",
          "height": 156
        }
      },
      "source": [
        "def removeElem(data, x):\n",
        "    if data==None or len(data)==0:\n",
        "        return data\n",
        "    else:\n",
        "        if data[0] == x:\n",
        "            return removeElem(data[1:], x)\n",
        "        return [data[0]]+removeElem(data[1:], x)\n",
        "\n",
        "# In[9]:\n",
        "\n",
        "print(\"\\nGrupo 84 - problema 1\\n\")\n",
        "import random\n",
        "value = random.randint(0,10)\n",
        "print('value=',value)\n",
        "\n",
        "\n",
        "l = []\n",
        "for i in range(20):\n",
        "    l.append(random.randint(0,10))\n",
        "    \n",
        "    \n",
        "print(l)\n",
        "print(\"Eliminar ocurrencias de '{}' en la lista:\\n{}\".format(str(value), removeElem(l, value)))\n",
        "print(l) "
      ],
      "execution_count": 0,
      "outputs": [
        {
          "output_type": "stream",
          "text": [
            "\n",
            "Grupo 84 - problema 1\n",
            "\n",
            "value= 4\n",
            "[0, 8, 4, 3, 8, 9, 10, 3, 10, 8, 0, 7, 6, 0, 6, 4, 1, 9, 1, 9]\n",
            "Eliminar ocurrencias de '4' en la lista:\n",
            "[0, 8, 3, 8, 9, 10, 3, 10, 8, 0, 7, 6, 0, 6, 1, 9, 1, 9]\n",
            "[0, 8, 4, 3, 8, 9, 10, 3, 10, 8, 0, 7, 6, 0, 6, 4, 1, 9, 1, 9]\n"
          ],
          "name": "stdout"
        }
      ]
    },
    {
      "cell_type": "markdown",
      "metadata": {
        "id": "9iWgYwxINBKi",
        "colab_type": "text"
      },
      "source": [
        "Esta es la clase unittest que puedes usar para testear tu método:\n"
      ]
    },
    {
      "cell_type": "code",
      "metadata": {
        "id": "7EZe__FjNFpq",
        "colab_type": "code",
        "outputId": "4a158199-f15e-44fa-84c7-454e38ef0153",
        "colab": {
          "base_uri": "https://localhost:8080/",
          "height": 121
        }
      },
      "source": [
        "import unittest\n",
        "\n",
        "class Test(unittest.TestCase):\n",
        "    def setUp(self):\n",
        "      self.x=9\n",
        "      self.input=[9, 1, 2, 3, 9, 10, 2, 6, 1, 4, 0, 4, 3, 10, 5, 5, 9, 9, 10, 2]\n",
        "      self.output=[1, 2, 3, 10, 2, 6, 1, 4, 0, 4, 3, 10, 5, 5, 10, 2]\n",
        "\n",
        "    def test_removeElem(self):\n",
        "        self.assertEqual(removeElem(None,self.x), None)\n",
        "        self.assertEqual(removeElem([],self.x), [])\n",
        "        self.assertEqual(removeElem(self.input,self.x), self.output)\n",
        "\n",
        "\n",
        "\n",
        "#Comentar para usarlo en spyder\n",
        "unittest.main(argv=['first-arg-is-ignored'], exit=False)\n",
        "\n",
        "#Descomenar para usarlo en Spyder\n",
        "#if __name__ == '__main__':\n",
        "#    unittest.main()"
      ],
      "execution_count": 0,
      "outputs": [
        {
          "output_type": "stream",
          "text": [
            ".\n",
            "----------------------------------------------------------------------\n",
            "Ran 1 test in 0.002s\n",
            "\n",
            "OK\n"
          ],
          "name": "stderr"
        },
        {
          "output_type": "execute_result",
          "data": {
            "text/plain": [
              "<unittest.main.TestProgram at 0x7ff6bc112438>"
            ]
          },
          "metadata": {
            "tags": []
          },
          "execution_count": 6
        }
      ]
    }
  ]
}
