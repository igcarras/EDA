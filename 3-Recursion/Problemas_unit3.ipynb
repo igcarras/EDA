{
  "nbformat": 4,
  "nbformat_minor": 0,
  "metadata": {
    "colab": {
      "name": "Problemas unit3.ipynb",
      "provenance": [],
      "collapsed_sections": [],
      "include_colab_link": true
    },
    "kernelspec": {
      "name": "python3",
      "display_name": "Python 3"
    }
  },
  "cells": [
    {
      "cell_type": "markdown",
      "metadata": {
        "id": "view-in-github",
        "colab_type": "text"
      },
      "source": [
        "<a href=\"https://colab.research.google.com/github/isegura/EDA/blob/master/Problemas_unit3.ipynb\" target=\"_parent\"><img src=\"https://colab.research.google.com/assets/colab-badge.svg\" alt=\"Open In Colab\"/></a>"
      ]
    },
    {
      "cell_type": "markdown",
      "metadata": {
        "id": "lmGPw4LZ1r_a",
        "colab_type": "text"
      },
      "source": [
        "# Unit 3 - Analysis of algorithms. Problems for the lab class. \n",
        "\n"
      ]
    },
    {
      "cell_type": "markdown",
      "metadata": {
        "id": "EkWp7x0n8UtD",
        "colab_type": "text"
      },
      "source": [
        "## Problem 1\n",
        "\n",
        "Write a function randomList(n,a,b) taking a integer as parameter. The function must return a list of n random integers between a and b. The function can consider that the default values for a and b are 0 and 25, respectively. This functions will be used later.\n"
      ]
    },
    {
      "cell_type": "code",
      "metadata": {
        "id": "jq2xpwjJ1u2X",
        "colab_type": "code",
        "outputId": "1e640d61-01fd-4f9f-c09c-9ccc21ea9104",
        "colab": {
          "base_uri": "https://localhost:8080/",
          "height": 34
        }
      },
      "source": [
        "import random\n",
        "\n",
        "def randomList(n,a=0,b=25):\n",
        "  \"\"\"Returns a list with n elements. The elements\n",
        "  are randomly created and a list of size n with random integers\"\"\"\n",
        "  l=[]\n",
        "  for i in range(n):\n",
        "    #creates a random number N between 0 and 50 \n",
        "    l.append(random.randint(a,b))\n",
        "  return l  \n",
        "\n",
        "\n",
        "A=randomList(10)\n",
        "print(A)"
      ],
      "execution_count": 0,
      "outputs": [
        {
          "output_type": "stream",
          "text": [
            "[20, 13, 17, 4, 11, 12, 18, 0, 5, 24]\n"
          ],
          "name": "stdout"
        }
      ]
    },
    {
      "cell_type": "markdown",
      "metadata": {
        "id": "cKiySIMg8iUc",
        "colab_type": "text"
      },
      "source": [
        "## Problem 2 - \n",
        "Write a function, called sumList(l), which takes a list of integers as parameter and returns the sum of all its elements. You must empirically study the time complexity of this function. "
      ]
    },
    {
      "cell_type": "code",
      "metadata": {
        "id": "jnDX3cgb2_YW",
        "colab_type": "code",
        "outputId": "c00b7c34-fb79-47ce-f93a-0418f1b7a9e7",
        "colab": {
          "base_uri": "https://localhost:8080/",
          "height": 34
        }
      },
      "source": [
        "def sumList(l):\n",
        "  \"Returns the sum of all the elements of the list\"\n",
        "  total=0\n",
        "  for e in l:\n",
        "    total +=e\n",
        "  return total\n",
        "\n",
        "A=randomList(10)\n",
        "print(A,sumList(A))\n",
        "\n"
      ],
      "execution_count": 0,
      "outputs": [
        {
          "output_type": "stream",
          "text": [
            "[18, 24, 13, 20, 1, 24, 22, 8, 1, 12] 143\n"
          ],
          "name": "stdout"
        }
      ]
    },
    {
      "cell_type": "code",
      "metadata": {
        "id": "QnW1gGav6tMF",
        "colab_type": "code",
        "outputId": "20098d63-7fcc-4dab-e8ae-5171faa17fe7",
        "colab": {
          "base_uri": "https://localhost:8080/",
          "height": 50
        }
      },
      "source": [
        "import time\n",
        "start = time.time()\n",
        "print(A,sumList(A))\n",
        "end = time.time()\n",
        "total=end-start\n",
        "print('{} seconds'.format(total))\n"
      ],
      "execution_count": 0,
      "outputs": [
        {
          "output_type": "stream",
          "text": [
            "[18, 24, 13, 20, 1, 24, 22, 8, 1, 12] 143\n",
            "0.0019049644470214844 seconds\n"
          ],
          "name": "stdout"
        }
      ]
    },
    {
      "cell_type": "code",
      "metadata": {
        "id": "8Byx0uhh8z47",
        "colab_type": "code",
        "outputId": "54a91e13-5224-44b1-abee-64df1965ad0b",
        "colab": {
          "base_uri": "https://localhost:8080/",
          "height": 118
        }
      },
      "source": [
        "import time\n",
        "\n",
        "for e in range(1,7):\n",
        "  n=10 ** e\n",
        "  l=randomList(n)\n",
        "  start = time.time()\n",
        "  sumTotal=sumList(l)\n",
        "  end=time.time()\n",
        "  #Instead of showing seconds, we use nano seconds (1 sg = 10 ** 9 nano seconds)\n",
        "  total=int((end-start)*(10**9))\n",
        "  \n",
        "  #print('size={},time (ms)={}'.format(n,total))\n",
        "  print('{},{}'.format(n,total))\n",
        "  "
      ],
      "execution_count": 0,
      "outputs": [
        {
          "output_type": "stream",
          "text": [
            "10,5483\n",
            "100,8583\n",
            "1000,75101\n",
            "10000,399827\n",
            "100000,4153966\n",
            "1000000,40609836\n"
          ],
          "name": "stdout"
        }
      ]
    },
    {
      "cell_type": "markdown",
      "metadata": {
        "id": "aCVMwDGo8wEZ",
        "colab_type": "text"
      },
      "source": [
        "**What does the running time depend on?**\n",
        "\n",
        "You can see that the time complexity depends on the size of the list. The more elements the list has, the longer the function takes."
      ]
    },
    {
      "cell_type": "markdown",
      "metadata": {
        "id": "S4ObYMph9GdZ",
        "colab_type": "text"
      },
      "source": [
        "## Problem 3\n",
        "Write a function, named **contains**, which takes a Python list of integers and a number as parameters, and returns true if the element exists and false otherwise. \n"
      ]
    },
    {
      "cell_type": "code",
      "metadata": {
        "id": "BK0xwOiq9LKm",
        "colab_type": "code",
        "outputId": "ab30d0ea-8449-42fb-e34d-7bbd746a0c2c",
        "colab": {
          "base_uri": "https://localhost:8080/",
          "height": 67
        }
      },
      "source": [
        "def search(l,x):\n",
        "  found=False\n",
        "  i=0\n",
        "  while i<len(l) and found==False:\n",
        "    if l[i]==x:\n",
        "      found=True\n",
        "    i+=1\n",
        "\n",
        "  return found\n",
        "\n",
        "A=randomList(20,0,10)\n",
        "print(A)\n",
        "print(search(A,5))\n",
        "\n",
        "A.sort()\n",
        "print(A)"
      ],
      "execution_count": 0,
      "outputs": [
        {
          "output_type": "stream",
          "text": [
            "[8, 10, 1, 9, 8, 10, 3, 8, 1, 0, 4, 7, 5, 3, 4, 10, 0, 4, 5, 10]\n",
            "False\n",
            "[0, 0, 1, 1, 3, 3, 4, 4, 4, 5, 5, 7, 8, 8, 8, 9, 10, 10, 10, 10]\n"
          ],
          "name": "stdout"
        }
      ]
    },
    {
      "cell_type": "markdown",
      "metadata": {
        "id": "3j4Prmu39UMz",
        "colab_type": "text"
      },
      "source": [
        "## Problem 4\n",
        "\n",
        "Now suppose that the input list is always sorted in ascending order. Write a new version of the contains function, which takes a sorted list and a number as parameters, and checks if the number exists into the list. In this function, you should take advantage of the list is sorted. "
      ]
    },
    {
      "cell_type": "code",
      "metadata": {
        "id": "vs7B2w4h9bYe",
        "colab_type": "code",
        "outputId": "833c85eb-29a1-4978-e445-c4fb6431ee0b",
        "colab": {
          "base_uri": "https://localhost:8080/",
          "height": 50
        }
      },
      "source": [
        "def binary_search(data,value):\n",
        "    \"The list must be sorted\"\n",
        "    left= 0\n",
        "    right = len(data)-1\n",
        "    found=False\n",
        "    while left <= right and found==False:\n",
        "        #mid = low + (high - low) // 2\n",
        "        mid = (left + right)//2\n",
        "        mid_value = data[mid]\n",
        "        if mid_value == value:\n",
        "            found=True\n",
        "        elif mid_value < value:\n",
        "            left = mid + 1\n",
        "        else:\n",
        "            right = mid - 1\n",
        "    return found\n",
        "\n",
        "\n",
        "A.sort()\n",
        "print(A)\n",
        "print(\"binary_search({},{})={}\".format(A,5,binary_search(A,5)))"
      ],
      "execution_count": 0,
      "outputs": [
        {
          "output_type": "stream",
          "text": [
            "[0, 0, 0, 1, 1, 1, 1, 3, 4, 5, 5, 6, 8, 8, 9, 9, 9, 9, 10, 10]\n",
            "binary_search([0, 0, 0, 1, 1, 1, 1, 3, 4, 5, 5, 6, 8, 8, 9, 9, 9, 9, 10, 10],5)=True\n"
          ],
          "name": "stdout"
        }
      ]
    },
    {
      "cell_type": "markdown",
      "metadata": {
        "id": "c6B3j5Zg__xx",
        "colab_type": "text"
      },
      "source": [
        "## Problem 5\n",
        "\n",
        " Study (empirically) and compare the time complexity of the two previous functions (assume that the lists are sorted). To simplify, you can assume that the number to search is always 5. You can generate the lists with the function randomList and sort them using the Python function of lists, sort (for example, l.sort()). What function is more efficient?\n"
      ]
    },
    {
      "cell_type": "code",
      "metadata": {
        "id": "nx8u7VEcABOl",
        "colab_type": "code",
        "outputId": "e6564940-bf67-4c89-e9c2-6944bcbe3afb",
        "colab": {
          "base_uri": "https://localhost:8080/",
          "height": 134
        }
      },
      "source": [
        "for e in range(1,8):\n",
        "  n=10 ** e\n",
        "  l=randomList(n)\n",
        "  l.sort()\n",
        "  \n",
        "  start = time.time()\n",
        "  search(l,5)\n",
        "  end=time.time()\n",
        "  totalSearch=int((end-start)*(10**9))\n",
        "  \n",
        "  start = time.time()\n",
        "  binary_search(l,5)\n",
        "  end=time.time()\n",
        "  totalBinarySearch=int((end-start)*(10**9))\n",
        "  \n",
        "  #print('size={},time (ms)={}'.format(n,total))\n",
        "  print('{},{},{}'.format(n,totalSearch,totalBinarySearch))\n",
        "  "
      ],
      "execution_count": 0,
      "outputs": [
        {
          "output_type": "stream",
          "text": [
            "10,7867,4291\n",
            "100,3814,2622\n",
            "1000,18596,3337\n",
            "10000,273227,4291\n",
            "100000,3107547,6198\n",
            "1000000,37376642,9059\n",
            "10000000,436594009,10013\n"
          ],
          "name": "stdout"
        }
      ]
    },
    {
      "cell_type": "markdown",
      "metadata": {
        "id": "_tXxP-GIAWts",
        "colab_type": "text"
      },
      "source": [
        "** What function is more efficient?**\n",
        "\n",
        "When the size rises, the running time grows much faster in the contains method than in the binary search method. Therefore,  the binary search method is more efficient than the contains method."
      ]
    },
    {
      "cell_type": "markdown",
      "metadata": {
        "id": "XYtlWHd6URBZ",
        "colab_type": "text"
      },
      "source": [
        "## Problem 6 - \n",
        "Calculate the running time function T(n) for the sumList function. Moreover, provide its Big-O function.\n",
        "\n",
        "T(n)=2n+2. \n",
        "To obtain it **Big-O** fuction, you must consider: \n",
        "\n",
        "\n",
        "1.   Find the fastest grow term: 2n\n",
        "2.   Take out the coefficient: n\n",
        "\n",
        "Therefore, the Big-O function for the sumList function is O(n) (linear time or linear complexity)\n",
        "\n",
        "\n"
      ]
    },
    {
      "cell_type": "code",
      "metadata": {
        "id": "JQ6HfxIbUaWe",
        "colab_type": "code",
        "colab": {}
      },
      "source": [
        "\n",
        "def swap(a,b):\n",
        "  temp=a      #1\n",
        "  a=b         #1\n",
        "  b=temp      #1\n",
        "\n",
        "\n",
        "\n",
        "#T(n)=3 -> O(1)\n",
        "\n",
        "\n",
        "#1 < log n < n <nlogn < n^2 < n^3 <... <2^n < n!\n",
        "\n",
        "\n",
        "#T(n)=3n^3+5n+7 -> 3n^3 -> n^3 \n",
        "\n",
        "\n",
        "def sumList(l):\n",
        "  total=0                 #1\n",
        "\n",
        "\n",
        "  for e in l:             #n\n",
        "\n",
        "    total = total + e     #2*n   \n",
        "\n",
        "\n",
        "  return total            #1\n",
        "\n",
        "\n",
        "\n",
        "#T(n) = 3n + 2\n",
        "\n",
        "# O(n) \n",
        "#No hay ni mejor caso ni peor caso, SIEMPRE SE RECORRE TODA LA LISTA\n",
        "# Mejor caso, l está vacía. \n",
        "# Peor caso, O(n)\n",
        "\n",
        "\n",
        "\n"
      ],
      "execution_count": 0,
      "outputs": []
    },
    {
      "cell_type": "markdown",
      "metadata": {
        "id": "I4wAXaxcVjxZ",
        "colab_type": "text"
      },
      "source": [
        "## Problem 7\n",
        "\n",
        "Write a function, called **sumPair0**, which takes a Python list of integers, *data*, as a parameter and returns the number of pairs (i,j) such as *i!=j* and *data[i]+data[j]=0*. Calculate the running time function T(n).\n",
        "\n",
        "T(n)=3n^2+n+2. To obtain it Big-O fuction, you must consider:\n",
        "\n",
        "\n",
        "\n",
        "1.   Find the fastest grow term: 3n^2\n",
        "2.   Take out the coefficient: n^2\n",
        "\n",
        "\n",
        "Therefore, the Big-O function for the **sumPair** function is O(n^2) (quadratic time or quadratic complexity)"
      ]
    },
    {
      "cell_type": "code",
      "metadata": {
        "id": "bAqVXEnNV_TQ",
        "colab_type": "code",
        "outputId": "b8f91878-3fc9-4817-f8a0-1f9c21876ae0",
        "colab": {
          "base_uri": "https://localhost:8080/",
          "height": 50
        }
      },
      "source": [
        "def sumPair(data):\n",
        "  numPairs=0                              #1                \n",
        "\n",
        "n=len(data). 0,1,2...n-1\n",
        "  for i in range(len(data)):              #n\n",
        "\n",
        "    for j in range(len(data)):            #n *n\n",
        "      if i!=j and data[i]+data[j]==0:     #6*n*n\n",
        "        numPairs = numPairs+1             #2*n*\n",
        "        \n",
        "  return numPairs                      #1\n",
        "\n",
        "#T(n)= 1 + n + n*(n + 8n) + 1 =3n^2+n+2\n",
        "\n",
        "#O(n)=n^2\n",
        "        \n",
        "\n",
        "def sumPair2(data):\n",
        "  numPairs=0                              #1                \n",
        "\n",
        "  for i in range(len(data)):              #n\n",
        "\n",
        "\n",
        "    for j in range(i+1,len(data)):          \n",
        "      if data[i]+data[j]==0:              #6*(n-i) <6n*n\n",
        "        numPairs = numPairs+1             #2*(n-i) <2n*n\n",
        "        \n",
        "  return numPairs                      #1\n",
        "\n",
        "\n",
        "  \n",
        "vector=randomList(10,-5,5)\n",
        "print(vector)\n",
        "print(sumPair(vector))"
      ],
      "execution_count": 0,
      "outputs": [
        {
          "output_type": "stream",
          "text": [
            "[-2, -3, 1, -5, 3, -3, 5, 1, -1, -4]\n",
            "10\n"
          ],
          "name": "stdout"
        }
      ]
    },
    {
      "cell_type": "markdown",
      "metadata": {
        "id": "YcZI62LgYWnc",
        "colab_type": "text"
      },
      "source": [
        "## Problem 8 - \n",
        "\n",
        "Write a function, called **sumTriple0**, that takes a Python list of integers, data, as a parameter and returns the number of triples (i,j,k) such as i!=j!=k and vector[i]+vector[j] ]+vector[k]=0. Calculate the running time function T(n).\n",
        "\n",
        "\n",
        "T(n)=3n^3+n^2+n+2. To obtain it Big-O fuction, you must consider:\n",
        "\n",
        "\n",
        "1.   Find the fastest grow term: 3n^3\n",
        "2.   Take out the coefficient: n^3\n",
        "\n",
        "\n",
        "Therefore, the Big-O function for the sumPair function is O(n^3) (cubic time or cubic complexity)\n"
      ]
    },
    {
      "cell_type": "code",
      "metadata": {
        "id": "4BaCPy6DYcyW",
        "colab_type": "code",
        "outputId": "6d8c0bf2-beb3-43e7-f3bd-2aced085b141",
        "colab": {
          "base_uri": "https://localhost:8080/",
          "height": 50
        }
      },
      "source": [
        "def sumTriple(vector):\n",
        "  numtriple=0                                                               #1\n",
        "  for i in range(len(vector)):                                              #n\n",
        "    \n",
        "    #Tj(n)=n+n*Tk(n)=n+3n^2\n",
        "    for j in range(len(vector)):                                            #n \n",
        "      \n",
        "      #Tk(n)=n+n*2=3n\n",
        "      for k in range(len(vector)):                                          #n \n",
        "        if i!=j and i!=k and j!=k and vector[i]+vector[j]+vector[k]==0:     #1\n",
        "          numtriple = numtriple+1                                           #1\n",
        "        \n",
        "  return numtriple                                                          #1\n",
        "\n",
        "#T(n)= 2+ 3n*n*n + n*n + n= 3n^3+n^2+n+2\n",
        "#O(b)\n",
        "vector=randomList(10,-5,5)\n",
        "print(vector)\n",
        "print(sumPair(vector))"
      ],
      "execution_count": 0,
      "outputs": [
        {
          "output_type": "stream",
          "text": [
            "[2, 2, -3, -3, -2, 4, 5, 2, -5, 4]\n",
            "8\n"
          ],
          "name": "stdout"
        }
      ]
    },
    {
      "cell_type": "markdown",
      "metadata": {
        "id": "lfCJg5Ai7oSX",
        "colab_type": "text"
      },
      "source": [
        "## Problem 9\n",
        "\n",
        "Write a function, called multiply, that takes two matrices and returns a new matrix that is the multiplication of the input matrices. In Python, a matrix can be represented as a list of lists. For example: m=[[1,2],[3,0],[4,-1]] is a matrix of 3x2 (3 rows, 2 columns). Calculate the running time function T(n) and its Big-O function.\n"
      ]
    },
    {
      "cell_type": "code",
      "metadata": {
        "id": "7RvNI1LL8jl6",
        "colab_type": "code",
        "outputId": "0082c3ab-052d-478b-f067-5a8fd9f4e139",
        "colab": {
          "base_uri": "https://localhost:8080/",
          "height": 34
        }
      },
      "source": [
        "def multiply(m1,m2):\n",
        "  \n",
        "  \"\"\" Returns the multiplication of two input matrices.\n",
        "   Make sure that the the number of columns \n",
        "  in the 1st one equals the number of rows in the 2nd one. \"\"\"\n",
        "  \n",
        "  if len(m1[0])!=len(m2):                                   #1\n",
        "    print('Error: cannot be multiplied!!!')\n",
        "    return None\n",
        "\n",
        "  N=len(m1)                                                 #1\n",
        "  M=len(m2[0])                                              #1\n",
        "  P=len(m2)                                                 #1\n",
        "  res = [ [ 0 for i in range(M) ] for j in range(N) ]       #N*M <=n*n, n=max(N,M)\n",
        "  #print(res)\n",
        "  # iterating by row of m1 \n",
        "  for i in range(N):                                        #N \n",
        "    # iterating by coloum by m2  \n",
        "    for j in range(M):                                      #M*N\n",
        "      # iterating by rows of m1 \n",
        "      for k in range(N):                                    #N    *M*N\n",
        "        res[i][j] += m1[i][k] * m2[k][j]                    #5 * N * M * N < n * n * n (n=max(N,M,P)) \n",
        "\n",
        "  return res                                                #1\n",
        "\n",
        "#Nota, suponiendo que n=max(N,M,P)\n",
        "#T(n)= 4 + N*M + N + N*M + P*M*N + 5*P*M*N + 1 < 5 + 4n^2 + n + n^2+n^3+5n^3\n",
        "#T(n)= 6n^3+5n^2+n+1\n",
        "#O(n^3)\n",
        "\n",
        "# take a 3x3 matrix \n",
        "A = [[12, 7, 3], \n",
        "    [4, 5, 6], \n",
        "    [7, 8, 9]] \n",
        "  \n",
        "# take a 3x4 matrix     \n",
        "B = [[5, 8, 1, 2], \n",
        "    [6, 7, 3, 0], \n",
        "    [4, 5, 9, 1]] \n",
        "\n",
        "result=multiply(A,B)  \n",
        "print(result)"
      ],
      "execution_count": 0,
      "outputs": [
        {
          "output_type": "stream",
          "text": [
            "[[114, 160, 60, 27], [74, 97, 73, 14], [119, 157, 112, 23]]\n"
          ],
          "name": "stdout"
        }
      ]
    }
  ]
}
