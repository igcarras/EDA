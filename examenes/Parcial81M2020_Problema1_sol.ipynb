{
  "nbformat": 4,
  "nbformat_minor": 0,
  "metadata": {
    "colab": {
      "name": "Parcial81M2020-Problema1-sol.ipynb",
      "provenance": [],
      "collapsed_sections": [],
      "authorship_tag": "ABX9TyPDZtwX2ZiSK06B9B42Yae+",
      "include_colab_link": true
    },
    "kernelspec": {
      "name": "python3",
      "display_name": "Python 3"
    }
  },
  "cells": [
    {
      "cell_type": "markdown",
      "metadata": {
        "id": "view-in-github",
        "colab_type": "text"
      },
      "source": [
        "<a href=\"https://colab.research.google.com/github/isegura/EDA/blob/master/Parcial81M2020_Problema1_sol.ipynb\" target=\"_parent\"><img src=\"https://colab.research.google.com/assets/colab-badge.svg\" alt=\"Open In Colab\"/></a>"
      ]
    },
    {
      "cell_type": "markdown",
      "metadata": {
        "id": "Vl2Wc2Xa1giQ",
        "colab_type": "text"
      },
      "source": [
        "# Examen Parcial 81M - 15 Abril 2020\n",
        "\n",
        "## Problema 1 - Recursión (0.5 pto):\n",
        "\n",
        "Escribe una función recursiva que tome como parámetro una lista de Python que almacena palabras. La función debe devolver la palabra de longitud mayor. No puedes utilizar ninguna lista auxiliar (ningún tipo de lista) ni bucles. \n"
      ]
    },
    {
      "cell_type": "code",
      "metadata": {
        "id": "oUTMbHqn1uXg",
        "colab_type": "code",
        "outputId": "0a08f1fe-9d55-4c49-c8cb-4e8cb8501f7e",
        "colab": {
          "base_uri": "https://localhost:8080/",
          "height": 121
        }
      },
      "source": [
        "def long_word_rec(data):\n",
        "    if len(data)==0:\n",
        "        return None\n",
        "    \n",
        "    aux=long_word_rec(data[1:])\n",
        "    \n",
        "    if aux==None or len(data[0])>len(aux):\n",
        "      return data[0]\n",
        "\n",
        "    return aux\n",
        "      \n",
        "\n",
        "\n",
        "print(\"\\nGrupo 81 - problema 3\\n\")\n",
        "words = ['Victoria Federica de Marichalar y Borbón', 'marta', 'maria', 'juan antonio', 'Felipe Juan Froilán de Marichalar y Borbón']\n",
        "print(words)\n",
        "print(\"Palabra de mayor en la lista: {}\".format(long_word_rec(words)))\n"
      ],
      "execution_count": 0,
      "outputs": [
        {
          "output_type": "stream",
          "text": [
            "\n",
            "Grupo 81 - problema 3\n",
            "\n",
            "['Victoria Federica de Marichalar y Borbón', 'marta', 'maria', 'juan antonio', 'Felipe Juan Froilán de Marichalar y Borbón']\n",
            "Palabra de mayor en la lista: Felipe Juan Froilán de Marichalar y Borbón\n"
          ],
          "name": "stdout"
        }
      ]
    },
    {
      "cell_type": "markdown",
      "metadata": {
        "id": "qQNvRKG112U-",
        "colab_type": "text"
      },
      "source": [
        "La siguiente clase es la clase que usaremos para testear tu función. En ningún caso puedes modificar la función:"
      ]
    },
    {
      "cell_type": "code",
      "metadata": {
        "id": "O5q530qh17o4",
        "colab_type": "code",
        "outputId": "5aa5ed67-9f89-482d-e11b-8989c9bf7643",
        "colab": {
          "base_uri": "https://localhost:8080/",
          "height": 118
        }
      },
      "source": [
        "import unittest\n",
        "\n",
        "class Test(unittest.TestCase):\n",
        "  \"\"\"Debes ejecutar esta clase para comprobar si tu función es correcta o no. \n",
        "  En ningún caso, puedes modificar esta función\"\"\"\n",
        "  \n",
        "  def setUp(self):\n",
        "    \"\"\"Este método nos ayuda a cargar la lista de entrada y la lista\n",
        "    de salida, así como el valor a buscar (5)\"\"\"\n",
        "    self.words=['casa','avenida','hotel','azucarillo','ave']\n",
        "    self.output='azucarillo'\n",
        "    \n",
        "\n",
        "  def test_long_word_rec(self):\n",
        "    self.assertEqual(long_word_rec([]), None, msg=\"FAIL! No son iguales\")\n",
        "    self.assertEqual(long_word_rec(self.words), self.output, msg=\"FAIL! No son iguales\")\n",
        "    \n",
        "#Descomenar para usarlo en Google colab\n",
        "unittest.main(argv=['first-arg-is-ignored'], exit=False)\n",
        "\n",
        "#Descomenar para usarlo en Spyder\n",
        "#if __name__ == '__main__':\n",
        "#    unittest.main()\n"
      ],
      "execution_count": 0,
      "outputs": [
        {
          "output_type": "stream",
          "text": [
            ".\n",
            "----------------------------------------------------------------------\n",
            "Ran 1 test in 0.003s\n",
            "\n",
            "OK\n"
          ],
          "name": "stderr"
        },
        {
          "output_type": "execute_result",
          "data": {
            "text/plain": [
              "<unittest.main.TestProgram at 0x7f5d6b750160>"
            ]
          },
          "metadata": {
            "tags": []
          },
          "execution_count": 4
        }
      ]
    }
  ]
}
