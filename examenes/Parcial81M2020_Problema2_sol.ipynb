{
  "nbformat": 4,
  "nbformat_minor": 0,
  "metadata": {
    "colab": {
      "name": "Parcial81M2020-Problema2-sol.ipynb",
      "provenance": [],
      "collapsed_sections": [],
      "authorship_tag": "ABX9TyMCGBsL5g0yt9sQNX7x/LgH",
      "include_colab_link": true
    },
    "kernelspec": {
      "name": "python3",
      "display_name": "Python 3"
    }
  },
  "cells": [
    {
      "cell_type": "markdown",
      "metadata": {
        "id": "view-in-github",
        "colab_type": "text"
      },
      "source": [
        "<a href=\"https://colab.research.google.com/github/isegura/EDA/blob/master/Parcial81M2020_Problema2_sol.ipynb\" target=\"_parent\"><img src=\"https://colab.research.google.com/assets/colab-badge.svg\" alt=\"Open In Colab\"/></a>"
      ]
    },
    {
      "cell_type": "markdown",
      "metadata": {
        "id": "sUToOtSNpIT9"
      },
      "source": [
        "#Parcial 81M 2020 - 15 Abril 2020\n",
        "##Problema 2 (1 pto):\n",
        "Sea **SList** la clase que representa una lista simplemente enlazada e implementa las operaciones del tipo abstracto de datos Lista, estudiada en la asignatura. \n",
        "\n",
        "Esta clase sólo tiene como atributos la referencia al primer nodo, **head**, y el tamaño de la lista, **size**. \n",
        "\n",
        "Se pide:\n",
        "- Crea una subclase **SList2** de SList. Dicha subclase debe proporcionar un método, **removeSmaller**, que reciba un parámetro x, y que elimine de la lista todos aquellos nodos cuyos elementos son menores que x. El método no devuelve nada. El método no puede incluir llamadas a otros métodos de la clase SList o utilizar otras listas auxiliares (de ningún tipo)."
      ]
    },
    {
      "cell_type": "code",
      "metadata": {
        "id": "QRRq8hUcm1A3",
        "colab": {
          "resources": {
            "http://localhost:8080/nbextensions/google.colab/files.js": {
              "data": "Ly8gQ29weXJpZ2h0IDIwMTcgR29vZ2xlIExMQwovLwovLyBMaWNlbnNlZCB1bmRlciB0aGUgQXBhY2hlIExpY2Vuc2UsIFZlcnNpb24gMi4wICh0aGUgIkxpY2Vuc2UiKTsKLy8geW91IG1heSBub3QgdXNlIHRoaXMgZmlsZSBleGNlcHQgaW4gY29tcGxpYW5jZSB3aXRoIHRoZSBMaWNlbnNlLgovLyBZb3UgbWF5IG9idGFpbiBhIGNvcHkgb2YgdGhlIExpY2Vuc2UgYXQKLy8KLy8gICAgICBodHRwOi8vd3d3LmFwYWNoZS5vcmcvbGljZW5zZXMvTElDRU5TRS0yLjAKLy8KLy8gVW5sZXNzIHJlcXVpcmVkIGJ5IGFwcGxpY2FibGUgbGF3IG9yIGFncmVlZCB0byBpbiB3cml0aW5nLCBzb2Z0d2FyZQovLyBkaXN0cmlidXRlZCB1bmRlciB0aGUgTGljZW5zZSBpcyBkaXN0cmlidXRlZCBvbiBhbiAiQVMgSVMiIEJBU0lTLAovLyBXSVRIT1VUIFdBUlJBTlRJRVMgT1IgQ09ORElUSU9OUyBPRiBBTlkgS0lORCwgZWl0aGVyIGV4cHJlc3Mgb3IgaW1wbGllZC4KLy8gU2VlIHRoZSBMaWNlbnNlIGZvciB0aGUgc3BlY2lmaWMgbGFuZ3VhZ2UgZ292ZXJuaW5nIHBlcm1pc3Npb25zIGFuZAovLyBsaW1pdGF0aW9ucyB1bmRlciB0aGUgTGljZW5zZS4KCi8qKgogKiBAZmlsZW92ZXJ2aWV3IEhlbHBlcnMgZm9yIGdvb2dsZS5jb2xhYiBQeXRob24gbW9kdWxlLgogKi8KKGZ1bmN0aW9uKHNjb3BlKSB7CmZ1bmN0aW9uIHNwYW4odGV4dCwgc3R5bGVBdHRyaWJ1dGVzID0ge30pIHsKICBjb25zdCBlbGVtZW50ID0gZG9jdW1lbnQuY3JlYXRlRWxlbWVudCgnc3BhbicpOwogIGVsZW1lbnQudGV4dENvbnRlbnQgPSB0ZXh0OwogIGZvciAoY29uc3Qga2V5IG9mIE9iamVjdC5rZXlzKHN0eWxlQXR0cmlidXRlcykpIHsKICAgIGVsZW1lbnQuc3R5bGVba2V5XSA9IHN0eWxlQXR0cmlidXRlc1trZXldOwogIH0KICByZXR1cm4gZWxlbWVudDsKfQoKLy8gTWF4IG51bWJlciBvZiBieXRlcyB3aGljaCB3aWxsIGJlIHVwbG9hZGVkIGF0IGEgdGltZS4KY29uc3QgTUFYX1BBWUxPQURfU0laRSA9IDEwMCAqIDEwMjQ7CgpmdW5jdGlvbiBfdXBsb2FkRmlsZXMoaW5wdXRJZCwgb3V0cHV0SWQpIHsKICBjb25zdCBzdGVwcyA9IHVwbG9hZEZpbGVzU3RlcChpbnB1dElkLCBvdXRwdXRJZCk7CiAgY29uc3Qgb3V0cHV0RWxlbWVudCA9IGRvY3VtZW50LmdldEVsZW1lbnRCeUlkKG91dHB1dElkKTsKICAvLyBDYWNoZSBzdGVwcyBvbiB0aGUgb3V0cHV0RWxlbWVudCB0byBtYWtlIGl0IGF2YWlsYWJsZSBmb3IgdGhlIG5leHQgY2FsbAogIC8vIHRvIHVwbG9hZEZpbGVzQ29udGludWUgZnJvbSBQeXRob24uCiAgb3V0cHV0RWxlbWVudC5zdGVwcyA9IHN0ZXBzOwoKICByZXR1cm4gX3VwbG9hZEZpbGVzQ29udGludWUob3V0cHV0SWQpOwp9CgovLyBUaGlzIGlzIHJvdWdobHkgYW4gYXN5bmMgZ2VuZXJhdG9yIChub3Qgc3VwcG9ydGVkIGluIHRoZSBicm93c2VyIHlldCksCi8vIHdoZXJlIHRoZXJlIGFyZSBtdWx0aXBsZSBhc3luY2hyb25vdXMgc3RlcHMgYW5kIHRoZSBQeXRob24gc2lkZSBpcyBnb2luZwovLyB0byBwb2xsIGZvciBjb21wbGV0aW9uIG9mIGVhY2ggc3RlcC4KLy8gVGhpcyB1c2VzIGEgUHJvbWlzZSB0byBibG9jayB0aGUgcHl0aG9uIHNpZGUgb24gY29tcGxldGlvbiBvZiBlYWNoIHN0ZXAsCi8vIHRoZW4gcGFzc2VzIHRoZSByZXN1bHQgb2YgdGhlIHByZXZpb3VzIHN0ZXAgYXMgdGhlIGlucHV0IHRvIHRoZSBuZXh0IHN0ZXAuCmZ1bmN0aW9uIF91cGxvYWRGaWxlc0NvbnRpbnVlKG91dHB1dElkKSB7CiAgY29uc3Qgb3V0cHV0RWxlbWVudCA9IGRvY3VtZW50LmdldEVsZW1lbnRCeUlkKG91dHB1dElkKTsKICBjb25zdCBzdGVwcyA9IG91dHB1dEVsZW1lbnQuc3RlcHM7CgogIGNvbnN0IG5leHQgPSBzdGVwcy5uZXh0KG91dHB1dEVsZW1lbnQubGFzdFByb21pc2VWYWx1ZSk7CiAgcmV0dXJuIFByb21pc2UucmVzb2x2ZShuZXh0LnZhbHVlLnByb21pc2UpLnRoZW4oKHZhbHVlKSA9PiB7CiAgICAvLyBDYWNoZSB0aGUgbGFzdCBwcm9taXNlIHZhbHVlIHRvIG1ha2UgaXQgYXZhaWxhYmxlIHRvIHRoZSBuZXh0CiAgICAvLyBzdGVwIG9mIHRoZSBnZW5lcmF0b3IuCiAgICBvdXRwdXRFbGVtZW50Lmxhc3RQcm9taXNlVmFsdWUgPSB2YWx1ZTsKICAgIHJldHVybiBuZXh0LnZhbHVlLnJlc3BvbnNlOwogIH0pOwp9CgovKioKICogR2VuZXJhdG9yIGZ1bmN0aW9uIHdoaWNoIGlzIGNhbGxlZCBiZXR3ZWVuIGVhY2ggYXN5bmMgc3RlcCBvZiB0aGUgdXBsb2FkCiAqIHByb2Nlc3MuCiAqIEBwYXJhbSB7c3RyaW5nfSBpbnB1dElkIEVsZW1lbnQgSUQgb2YgdGhlIGlucHV0IGZpbGUgcGlja2VyIGVsZW1lbnQuCiAqIEBwYXJhbSB7c3RyaW5nfSBvdXRwdXRJZCBFbGVtZW50IElEIG9mIHRoZSBvdXRwdXQgZGlzcGxheS4KICogQHJldHVybiB7IUl0ZXJhYmxlPCFPYmplY3Q+fSBJdGVyYWJsZSBvZiBuZXh0IHN0ZXBzLgogKi8KZnVuY3Rpb24qIHVwbG9hZEZpbGVzU3RlcChpbnB1dElkLCBvdXRwdXRJZCkgewogIGNvbnN0IGlucHV0RWxlbWVudCA9IGRvY3VtZW50LmdldEVsZW1lbnRCeUlkKGlucHV0SWQpOwogIGlucHV0RWxlbWVudC5kaXNhYmxlZCA9IGZhbHNlOwoKICBjb25zdCBvdXRwdXRFbGVtZW50ID0gZG9jdW1lbnQuZ2V0RWxlbWVudEJ5SWQob3V0cHV0SWQpOwogIG91dHB1dEVsZW1lbnQuaW5uZXJIVE1MID0gJyc7CgogIGNvbnN0IHBpY2tlZFByb21pc2UgPSBuZXcgUHJvbWlzZSgocmVzb2x2ZSkgPT4gewogICAgaW5wdXRFbGVtZW50LmFkZEV2ZW50TGlzdGVuZXIoJ2NoYW5nZScsIChlKSA9PiB7CiAgICAgIHJlc29sdmUoZS50YXJnZXQuZmlsZXMpOwogICAgfSk7CiAgfSk7CgogIGNvbnN0IGNhbmNlbCA9IGRvY3VtZW50LmNyZWF0ZUVsZW1lbnQoJ2J1dHRvbicpOwogIGlucHV0RWxlbWVudC5wYXJlbnRFbGVtZW50LmFwcGVuZENoaWxkKGNhbmNlbCk7CiAgY2FuY2VsLnRleHRDb250ZW50ID0gJ0NhbmNlbCB1cGxvYWQnOwogIGNvbnN0IGNhbmNlbFByb21pc2UgPSBuZXcgUHJvbWlzZSgocmVzb2x2ZSkgPT4gewogICAgY2FuY2VsLm9uY2xpY2sgPSAoKSA9PiB7CiAgICAgIHJlc29sdmUobnVsbCk7CiAgICB9OwogIH0pOwoKICAvLyBXYWl0IGZvciB0aGUgdXNlciB0byBwaWNrIHRoZSBmaWxlcy4KICBjb25zdCBmaWxlcyA9IHlpZWxkIHsKICAgIHByb21pc2U6IFByb21pc2UucmFjZShbcGlja2VkUHJvbWlzZSwgY2FuY2VsUHJvbWlzZV0pLAogICAgcmVzcG9uc2U6IHsKICAgICAgYWN0aW9uOiAnc3RhcnRpbmcnLAogICAgfQogIH07CgogIGNhbmNlbC5yZW1vdmUoKTsKCiAgLy8gRGlzYWJsZSB0aGUgaW5wdXQgZWxlbWVudCBzaW5jZSBmdXJ0aGVyIHBpY2tzIGFyZSBub3QgYWxsb3dlZC4KICBpbnB1dEVsZW1lbnQuZGlzYWJsZWQgPSB0cnVlOwoKICBpZiAoIWZpbGVzKSB7CiAgICByZXR1cm4gewogICAgICByZXNwb25zZTogewogICAgICAgIGFjdGlvbjogJ2NvbXBsZXRlJywKICAgICAgfQogICAgfTsKICB9CgogIGZvciAoY29uc3QgZmlsZSBvZiBmaWxlcykgewogICAgY29uc3QgbGkgPSBkb2N1bWVudC5jcmVhdGVFbGVtZW50KCdsaScpOwogICAgbGkuYXBwZW5kKHNwYW4oZmlsZS5uYW1lLCB7Zm9udFdlaWdodDogJ2JvbGQnfSkpOwogICAgbGkuYXBwZW5kKHNwYW4oCiAgICAgICAgYCgke2ZpbGUudHlwZSB8fCAnbi9hJ30pIC0gJHtmaWxlLnNpemV9IGJ5dGVzLCBgICsKICAgICAgICBgbGFzdCBtb2RpZmllZDogJHsKICAgICAgICAgICAgZmlsZS5sYXN0TW9kaWZpZWREYXRlID8gZmlsZS5sYXN0TW9kaWZpZWREYXRlLnRvTG9jYWxlRGF0ZVN0cmluZygpIDoKICAgICAgICAgICAgICAgICAgICAgICAgICAgICAgICAgICAgJ24vYSd9IC0gYCkpOwogICAgY29uc3QgcGVyY2VudCA9IHNwYW4oJzAlIGRvbmUnKTsKICAgIGxpLmFwcGVuZENoaWxkKHBlcmNlbnQpOwoKICAgIG91dHB1dEVsZW1lbnQuYXBwZW5kQ2hpbGQobGkpOwoKICAgIGNvbnN0IGZpbGVEYXRhUHJvbWlzZSA9IG5ldyBQcm9taXNlKChyZXNvbHZlKSA9PiB7CiAgICAgIGNvbnN0IHJlYWRlciA9IG5ldyBGaWxlUmVhZGVyKCk7CiAgICAgIHJlYWRlci5vbmxvYWQgPSAoZSkgPT4gewogICAgICAgIHJlc29sdmUoZS50YXJnZXQucmVzdWx0KTsKICAgICAgfTsKICAgICAgcmVhZGVyLnJlYWRBc0FycmF5QnVmZmVyKGZpbGUpOwogICAgfSk7CiAgICAvLyBXYWl0IGZvciB0aGUgZGF0YSB0byBiZSByZWFkeS4KICAgIGxldCBmaWxlRGF0YSA9IHlpZWxkIHsKICAgICAgcHJvbWlzZTogZmlsZURhdGFQcm9taXNlLAogICAgICByZXNwb25zZTogewogICAgICAgIGFjdGlvbjogJ2NvbnRpbnVlJywKICAgICAgfQogICAgfTsKCiAgICAvLyBVc2UgYSBjaHVua2VkIHNlbmRpbmcgdG8gYXZvaWQgbWVzc2FnZSBzaXplIGxpbWl0cy4gU2VlIGIvNjIxMTU2NjAuCiAgICBsZXQgcG9zaXRpb24gPSAwOwogICAgd2hpbGUgKHBvc2l0aW9uIDwgZmlsZURhdGEuYnl0ZUxlbmd0aCkgewogICAgICBjb25zdCBsZW5ndGggPSBNYXRoLm1pbihmaWxlRGF0YS5ieXRlTGVuZ3RoIC0gcG9zaXRpb24sIE1BWF9QQVlMT0FEX1NJWkUpOwogICAgICBjb25zdCBjaHVuayA9IG5ldyBVaW50OEFycmF5KGZpbGVEYXRhLCBwb3NpdGlvbiwgbGVuZ3RoKTsKICAgICAgcG9zaXRpb24gKz0gbGVuZ3RoOwoKICAgICAgY29uc3QgYmFzZTY0ID0gYnRvYShTdHJpbmcuZnJvbUNoYXJDb2RlLmFwcGx5KG51bGwsIGNodW5rKSk7CiAgICAgIHlpZWxkIHsKICAgICAgICByZXNwb25zZTogewogICAgICAgICAgYWN0aW9uOiAnYXBwZW5kJywKICAgICAgICAgIGZpbGU6IGZpbGUubmFtZSwKICAgICAgICAgIGRhdGE6IGJhc2U2NCwKICAgICAgICB9LAogICAgICB9OwogICAgICBwZXJjZW50LnRleHRDb250ZW50ID0KICAgICAgICAgIGAke01hdGgucm91bmQoKHBvc2l0aW9uIC8gZmlsZURhdGEuYnl0ZUxlbmd0aCkgKiAxMDApfSUgZG9uZWA7CiAgICB9CiAgfQoKICAvLyBBbGwgZG9uZS4KICB5aWVsZCB7CiAgICByZXNwb25zZTogewogICAgICBhY3Rpb246ICdjb21wbGV0ZScsCiAgICB9CiAgfTsKfQoKc2NvcGUuZ29vZ2xlID0gc2NvcGUuZ29vZ2xlIHx8IHt9OwpzY29wZS5nb29nbGUuY29sYWIgPSBzY29wZS5nb29nbGUuY29sYWIgfHwge307CnNjb3BlLmdvb2dsZS5jb2xhYi5fZmlsZXMgPSB7CiAgX3VwbG9hZEZpbGVzLAogIF91cGxvYWRGaWxlc0NvbnRpbnVlLAp9Owp9KShzZWxmKTsK",
              "ok": true,
              "headers": [
                [
                  "content-type",
                  "application/javascript"
                ]
              ],
              "status": 200,
              "status_text": ""
            }
          },
          "base_uri": "https://localhost:8080/",
          "height": 73
        },
        "outputId": "9bb3eb58-10fc-43c4-a8b8-41dc470a8fef"
      },
      "source": [
        "#Primero, cargamos el .py con la clase SList\n",
        "from google.colab import files\n",
        "src = list(files.upload().values())[0]\n",
        "#importamos la clase\n"
      ],
      "execution_count": 1,
      "outputs": [
        {
          "output_type": "display_data",
          "data": {
            "text/html": [
              "\n",
              "     <input type=\"file\" id=\"files-4c4fb542-bb57-4465-9ec9-554840e55b1e\" name=\"files[]\" multiple disabled\n",
              "        style=\"border:none\" />\n",
              "     <output id=\"result-4c4fb542-bb57-4465-9ec9-554840e55b1e\">\n",
              "      Upload widget is only available when the cell has been executed in the\n",
              "      current browser session. Please rerun this cell to enable.\n",
              "      </output>\n",
              "      <script src=\"/nbextensions/google.colab/files.js\"></script> "
            ],
            "text/plain": [
              "<IPython.core.display.HTML object>"
            ]
          },
          "metadata": {
            "tags": []
          }
        },
        {
          "output_type": "stream",
          "text": [
            "Saving slist.py to slist.py\n"
          ],
          "name": "stdout"
        }
      ]
    },
    {
      "cell_type": "code",
      "metadata": {
        "id": "FEaWjoi-rSd4"
      },
      "source": [
        "from slist import SList\n",
        "\n",
        "class SList2(SList):\n",
        "   \n",
        "    def removeSmaller2(self, x):\n",
        "        \n",
        "        prev = None\n",
        "        node = self.head\n",
        "\n",
        "        while node!=None:     \n",
        "            if node.elem < x:\n",
        "               #borrar el nodo node \n",
        "                if node == self.head: #prev==None\n",
        "                    self.head = self.head.next\n",
        "                else:\n",
        "                    prev.next = node.next\n",
        "                    node=prev\n",
        "                self.size -= 1\n",
        "\n",
        "                \n",
        "\n",
        "            prev = node\n",
        "            node = node.next\n",
        "        "
      ],
      "execution_count": null,
      "outputs": []
    },
    {
      "cell_type": "markdown",
      "metadata": {
        "id": "FDg3xQBMS6lF"
      },
      "source": [
        "Esta es otra solución, muy similar a la anterior. Distinguimos explícitamente cuando node.elem es mayor o igual que x. En este caso, sólo tenemos que avanzar prev a node, y node al siguiente. \n",
        "\n",
        "En otro caso, es decir, si node.elem es menor que x, entonces tendremos que borrar ese nodo. \n",
        "\n",
        "Si el nodo es el primer nodo, entonces simplemente avanzamos head a su siguiente. \n",
        "\n",
        "Si el nodo no es el primer nodo (node!=self.head o prev!=None), entonces  el siguiente de prev debe ser el siguiente de node (simplemente  estamos saltando a node). A continuación, incrementamos el tamaño de la lista y debemos mover node a su siguiente. No debemos mover prev, porque prev debe ser el anterior a node, y ahora el anterio a ese nuevo node ya es prev. "
      ]
    },
    {
      "cell_type": "code",
      "metadata": {
        "id": "4mCTK_GNSeZD"
      },
      "source": [
        "from slist import SList\n",
        "\n",
        "class SList2(SList):\n",
        "   \n",
        "    def removeSmaller(self, x):\n",
        "        \n",
        "        prev = None\n",
        "        node = self.head\n",
        "\n",
        "        while node!=None:     \n",
        "            if node.elem>=x:\n",
        "                prev=node\n",
        "                node=node.next\n",
        "            else: #node.elem<x\n",
        "               #borrar el nodo node \n",
        "                if node == self.head: #prev==None\n",
        "                    self.head = self.head.next\n",
        "                else:\n",
        "                    prev.next = node.next\n",
        "                self.size -= 1\n",
        "                node=node.next\n",
        "                "
      ],
      "execution_count": 3,
      "outputs": []
    },
    {
      "cell_type": "markdown",
      "metadata": {
        "id": "JEJc9N6drtNu"
      },
      "source": [
        "Probamos el método creando un objeto de SList2 y añadiendo números enteros generados de forma aleatoria:\n"
      ]
    },
    {
      "cell_type": "code",
      "metadata": {
        "id": "llxIpvQmrzBa",
        "colab": {
          "base_uri": "https://localhost:8080/"
        },
        "outputId": "b78e478c-1f74-4026-cfe1-6245dd5b7547"
      },
      "source": [
        "print(\"Grupo 81 - problema 1\\n\")\n",
        "\n",
        "import random \n",
        "\n",
        "value = random.randint(0,10)\n",
        "print('value=',value)\n",
        "\n",
        "l = SList2()\n",
        "for i in range(10):\n",
        "    l.addLast(random.randint(-10,10))\n",
        "    \n",
        "print(\"Original list:\\n[\",l,']')\n",
        "l.removeSmaller(value)\n",
        "print(\"Eliminar elementos menores a {}:\\n[{}]\".format(value, l))\n"
      ],
      "execution_count": 4,
      "outputs": [
        {
          "output_type": "stream",
          "text": [
            "Grupo 81 - problema 1\n",
            "\n",
            "value= 4\n",
            "Original list:\n",
            "[ -4,9,4,-2,2,3,7,-5,6,-5 ]\n",
            "Eliminar elementos menores a 4:\n",
            "[9,4,7,6]\n"
          ],
          "name": "stdout"
        }
      ]
    },
    {
      "cell_type": "markdown",
      "metadata": {
        "id": "yDMpEBpWsTCb"
      },
      "source": [
        "Desarrollamos ahora la clase TestCase:"
      ]
    },
    {
      "cell_type": "code",
      "metadata": {
        "id": "DGMtDBwpsVlB",
        "colab": {
          "base_uri": "https://localhost:8080/"
        },
        "outputId": "e11e83d8-f670-4c86-a240-9a921ef1a9b3"
      },
      "source": [
        "import unittest\n",
        "\n",
        "class Test(unittest.TestCase):\n",
        "    def setUp(self):\n",
        "      \n",
        "      self.x1=0\n",
        "      self.input=SList2()\n",
        "      self.output1=SList2()\n",
        "      \n",
        "      for e in [7,3,2,10,0,2,8,0,0,4,1,1,10,6,0,3,0,5,3,1]:\n",
        "        self.input.addLast(e)\n",
        "        self.output1.addLast(e)\n",
        "\n",
        "      self.x2=8\n",
        "      self.output2=SList2()\n",
        "      for e in [10,8,10]:\n",
        "        self.output2.addLast(e)\n",
        "    \n",
        "      self.x3=100\n",
        "\n",
        "    def test_removeSmaller1(self):\n",
        "      print()\n",
        "      print('Caso 1: borramos menores que ', self.x1,' en una lista vacía')\n",
        "      lEmpty=SList2()\n",
        "      lEmpty.removeSmaller(self.x1)\n",
        "      self.assertEqual(len(lEmpty),0)\n",
        "     \n",
        "    def test_removeSmaller2(self):\n",
        "      print()\n",
        "      print('Caso 2: no existen valores menores a ', self.x1, 'en la lista')\n",
        "      print('Antes de llamar a removeSmaller: ', self.input)\n",
        "      self.input.removeSmaller(self.x1)\n",
        "      print('Después:',self.input)\n",
        "      print('Lista esperada:',self.output1)\n",
        "      self.assertEqual(len(self.input),len(self.output1))\n",
        "\n",
        "      for i in range(len(self.input)):\n",
        "        self.assertEqual(self.input.getAt(i),self.output1.getAt(i))\n",
        "\n",
        "    def test_removeSmaller3(self):\n",
        "      print()\n",
        "      print('Caso 3: si existen menores que ', self.x2, ' en la lista')\n",
        "      print('Antes de llamar a removeSmaller: ', self.input)\n",
        "      self.input.removeSmaller(self.x2)\n",
        "      print('Después:',self.input)\n",
        "      print('Lista esperada:',self.output2)\n",
        "      print()\n",
        "      self.assertEqual(len(self.input),len(self.output2))\n",
        "\n",
        "      for i in range(len(self.input)):\n",
        "        self.assertEqual(self.input.getAt(i),self.output2.getAt(i))\n",
        "\n",
        "    def test_removeSmaller4(self):\n",
        "      print()\n",
        "      print('Caso 4: todos son menores que ', self.x3, '')\n",
        "      print('Antes de llamar a removeSmaller: ', self.input)\n",
        "      self.input.removeSmaller(self.x3)\n",
        "      print('Después:',self.input)\n",
        "      print('Lista esperada:',SList2())\n",
        "      print()\n",
        "      self.assertEqual(len(self.input),0)\n",
        "\n",
        "    \n",
        "\n",
        "#Comentar para usarlo en spyder\n",
        "unittest.main(argv=['first-arg-is-ignored'], exit=False)\n",
        "\n",
        "#Descomenar para usarlo en Spyder\n",
        "#if __name__ == '__main__':\n",
        "#    unittest.main()"
      ],
      "execution_count": 5,
      "outputs": [
        {
          "output_type": "stream",
          "text": [
            "...."
          ],
          "name": "stderr"
        },
        {
          "output_type": "stream",
          "text": [
            "\n",
            "Caso 1: borramos menores que  0  en una lista vacía\n",
            "\n",
            "Caso 2: no existen valores menores a  0 en la lista\n",
            "Antes de llamar a removeSmaller:  7,3,2,10,0,2,8,0,0,4,1,1,10,6,0,3,0,5,3,1\n",
            "Después: 7,3,2,10,0,2,8,0,0,4,1,1,10,6,0,3,0,5,3,1\n",
            "Lista esperada: 7,3,2,10,0,2,8,0,0,4,1,1,10,6,0,3,0,5,3,1\n",
            "\n",
            "Caso 3: si existen menores que  8  en la lista\n",
            "Antes de llamar a removeSmaller:  7,3,2,10,0,2,8,0,0,4,1,1,10,6,0,3,0,5,3,1\n",
            "Después: 10,8,10\n",
            "Lista esperada: 10,8,10\n",
            "\n",
            "\n",
            "Caso 4: todos son menores que  100 \n",
            "Antes de llamar a removeSmaller:  7,3,2,10,0,2,8,0,0,4,1,1,10,6,0,3,0,5,3,1\n",
            "Después: \n",
            "Lista esperada: \n",
            "\n"
          ],
          "name": "stdout"
        },
        {
          "output_type": "stream",
          "text": [
            "\n",
            "----------------------------------------------------------------------\n",
            "Ran 4 tests in 0.009s\n",
            "\n",
            "OK\n"
          ],
          "name": "stderr"
        },
        {
          "output_type": "execute_result",
          "data": {
            "text/plain": [
              "<unittest.main.TestProgram at 0x7f9d008b3550>"
            ]
          },
          "metadata": {
            "tags": []
          },
          "execution_count": 5
        }
      ]
    },
    {
      "cell_type": "markdown",
      "metadata": {
        "id": "7AygOEQCzWXI"
      },
      "source": [
        "## Problema 2.2 (0.5 pto):\n",
        "\n",
        "¿Cuál es el orden de complejidad (Big-O) del método?. Razona sobre su mejor y peor caso. \n"
      ]
    },
    {
      "cell_type": "markdown",
      "metadata": {
        "id": "NfIJpCDqzdaN"
      },
      "source": [
        "La complejidad es O(n), porque es necesario recorrer toda la lista. \n",
        "\n",
        "Siempre es necesario recorrer toda la lista, por tanto, no hay ni mejor ni peor caso. \n",
        "\n",
        "Como mejor caso se podría considerar el caso de que la lista esté vacía. "
      ]
    }
  ]
}
