{
  "nbformat": 4,
  "nbformat_minor": 0,
  "metadata": {
    "colab": {
      "name": "Graph-AdjacencyMatrixWD.ipynb",
      "provenance": [],
      "collapsed_sections": [],
      "authorship_tag": "ABX9TyMfBvMm+BWR4QZvRcB+2jRf",
      "include_colab_link": true
    },
    "kernelspec": {
      "name": "python3",
      "display_name": "Python 3"
    }
  },
  "cells": [
    {
      "cell_type": "markdown",
      "metadata": {
        "id": "view-in-github",
        "colab_type": "text"
      },
      "source": [
        "<a href=\"https://colab.research.google.com/github/isegura/EDA/blob/master/Graph_AdjacencyMatrixWD.ipynb\" target=\"_parent\"><img src=\"https://colab.research.google.com/assets/colab-badge.svg\" alt=\"Open In Colab\"/></a>"
      ]
    },
    {
      "cell_type": "markdown",
      "metadata": {
        "id": "WByQ9yUB9TD0"
      },
      "source": [
        "# Adjacency Matrix for any kind of graph \n",
        "\n",
        "This implementation allows us to represent any kind of graph: weighted, unweighted, directed or undirected. "
      ]
    },
    {
      "cell_type": "code",
      "metadata": {
        "id": "rHwzHgGppjTG"
      },
      "source": [
        "class Graph(object):\n",
        "    \"\"\"This is an implementation for an unweighted and undirected graph based on an adjacency matrix\"\"\"\n",
        "    \n",
        "    def __init__(self,vertices,directed=False):\n",
        "        \"\"\"This constructors gets a Python list of vertices and creates an empty adjacency matrix. \n",
        "        It also gets directed (by default False). Its value is True, it means that the\n",
        "        graph will be directed.  \"\"\"\n",
        "        #labels is the set of vertices, for example, A, B, C, D...\n",
        "        self._vertices=vertices\n",
        "        self._directed=directed\n",
        "        N=len(vertices)\n",
        "        #we initializae the matrix with 0s\n",
        "        self._matrix = [ [ None for i in range(N) ] for j in range(N) ]\n",
        "    \n",
        "    def _index(self,v):\n",
        "        \"\"\"gets a vertex and returs its index. If v does not exist, \n",
        "\t\tit shows an error message and returns -1\"\"\"\n",
        "        try:\n",
        "            index=self._vertices.index(v)\n",
        "        except:\n",
        "            print(v,' is not a vertex!!!')\n",
        "            index=-1\n",
        "        return index\n",
        "\n",
        "    def addEdge(self,start,end,w=1):\n",
        "        \"\"\"gets two vertices and adds an edge from start to end. w is the weight\n",
        "        of the edge (start,end). If it is ommited, its value es 1\"\"\"\n",
        "        #first, we get their indeces\n",
        "        i,j=self._index(start),self._index(end)\n",
        "        if i==-1:\n",
        "            print('[addEdge]: {} does not exist!!!'.format(start))\n",
        "            return\n",
        "        if j==-1:\n",
        "            print('[addEdge]: {} does not exist!!!'.format(end))\n",
        "            return\n",
        "        #now, we modify its element in the matrix \n",
        "        self._matrix[i][j]=w\n",
        "        if not self._directed:\n",
        "            self._matrix[j][i]=w\n",
        "        \n",
        "        print('[addEdge]: ({},{}) was added!!!'.format(start,end))\n",
        "\n",
        "    def containEdge(self,start,end):\n",
        "        \"\"\"checks if the edge from start to end exists.\"\"\"\n",
        "        i,j=self._index(start),self._index(end)\n",
        "        if i==-1:\n",
        "            print('[containEdge]: {} does not exist!!!'.format(start))\n",
        "            return False\n",
        "        if j==-1:\n",
        "            print('[containEdge]: {} does not exist!!!'.format(end))\n",
        "            return False\n",
        "            \n",
        "        return self._matrix[i][j]!=None\n",
        "    \n",
        "    def removeEdge(self,start,end):\n",
        "        \"\"\"removes the edge from start to end. It must\n",
        "        modify its corresponding element in the matrix to 0.\"\"\"\n",
        "        i,j=self._index(start),self._index(end)\n",
        "        if i==-1:\n",
        "            print('[removeEdge]: {} does not exist!!!'.format(start))\n",
        "            return \n",
        "        if j==-1:\n",
        "            print('[removeEdge]: {} does not exist!!!'.format(end))\n",
        "            return \n",
        "\t\t\n",
        "        self._matrix[i][j]==None\n",
        "        if not self._directed:\n",
        "            self._matrix[j][i]==None\n",
        "            \n",
        "    \n",
        "    def __str__(self):\n",
        "        \"\"\"returns the matrix\"\"\"\n",
        "        result=' '\n",
        "        #the first row are the vertices\n",
        "        for l in self._vertices:\n",
        "            result+='  ' + l\n",
        "        \n",
        "        result+='\\n'\n",
        "    \n",
        "        for i,row in enumerate(self._matrix):\n",
        "            result+=self._vertices[i]+' ' +str(row)+'\\n'\n",
        "        \n",
        "        return result"
      ],
      "execution_count": 2,
      "outputs": []
    },
    {
      "cell_type": "markdown",
      "metadata": {
        "id": "kA84VmhQz8E0"
      },
      "source": [
        "Now, we use the implementation to represent this directed and unweighted graph:\n",
        "\n",
        "\n",
        "<img src='https://upload.wikimedia.org/wikipedia/commons/thumb/1/1c/Directed_graph%2C_cyclic.svg/900px-Directed_graph%2C_cyclic.svg.png' width='35%'/>"
      ]
    },
    {
      "cell_type": "code",
      "metadata": {
        "id": "40K9tneuz8yu",
        "colab": {
          "base_uri": "https://localhost:8080/"
        },
        "outputId": "94273f0a-0bf9-4c8b-8dfb-51a18ddf80a6"
      },
      "source": [
        "labels=['A','B','C','D','E','F']\n",
        "\n",
        "g=Graph(labels)\n",
        "\n",
        "#Now, we add the edges\n",
        "g.addEdge('A','B') #A->B\n",
        "g.addEdge('B','C') #B->C\n",
        "g.addEdge('C','E') #C->E\n",
        "g.addEdge('D','B') #D->B\n",
        "g.addEdge('E','D') #E->D\n",
        "g.addEdge('E','F') #E->D\n",
        "\n",
        "print(g)"
      ],
      "execution_count": 3,
      "outputs": [
        {
          "output_type": "stream",
          "text": [
            "[addEdge]: (A,B) was added!!!\n",
            "[addEdge]: (B,C) was added!!!\n",
            "[addEdge]: (C,E) was added!!!\n",
            "[addEdge]: (D,B) was added!!!\n",
            "[addEdge]: (E,D) was added!!!\n",
            "[addEdge]: (E,F) was added!!!\n",
            "   A  B  C  D  E  F\n",
            "A [None, 1, None, None, None, None]\n",
            "B [1, None, 1, 1, None, None]\n",
            "C [None, 1, None, None, 1, None]\n",
            "D [None, 1, None, None, 1, None]\n",
            "E [None, None, 1, 1, None, 1]\n",
            "F [None, None, None, None, 1, None]\n",
            "\n"
          ],
          "name": "stdout"
        }
      ]
    },
    {
      "cell_type": "markdown",
      "metadata": {
        "id": "aBkXIf4uo8MY"
      },
      "source": [
        "We use the implementation to represent an undirected graph without weights :\n",
        "\n",
        "\n",
        "<img src='https://computersciencesource.files.wordpress.com/2010/05/dfs_1.png' width='35%'/>"
      ]
    },
    {
      "cell_type": "code",
      "metadata": {
        "id": "xoqwNGnv9y9x",
        "colab": {
          "base_uri": "https://localhost:8080/"
        },
        "outputId": "67bfd1cd-ee62-4758-c123-dafec6ea1381"
      },
      "source": [
        "labels=['A','B','C','D','E']\n",
        "g=Graph(labels,False)\n",
        "g.addEdge('A','B') # A:0, B:1\n",
        "g.addEdge('A','C') # A:0, C:2\n",
        "g.addEdge('A','E') # A:0, E:5\n",
        "g.addEdge('B','D') # B:1, D:4\n",
        "g.addEdge('B','E') # C:2, B:1\n",
        "#g.addEdge('A','H',8)\n",
        "\n",
        "print(g)"
      ],
      "execution_count": 4,
      "outputs": [
        {
          "output_type": "stream",
          "text": [
            "[addEdge]: (A,B) was added!!!\n",
            "[addEdge]: (A,C) was added!!!\n",
            "[addEdge]: (A,E) was added!!!\n",
            "[addEdge]: (B,D) was added!!!\n",
            "[addEdge]: (B,E) was added!!!\n",
            "   A  B  C  D  E\n",
            "A [None, 1, 1, None, 1]\n",
            "B [1, None, None, 1, 1]\n",
            "C [1, None, None, None, None]\n",
            "D [None, 1, None, None, None]\n",
            "E [1, 1, None, None, None]\n",
            "\n"
          ],
          "name": "stdout"
        }
      ]
    },
    {
      "cell_type": "markdown",
      "metadata": {
        "id": "DjHmAOAU_zQ8"
      },
      "source": [
        "Now, we use the implementation to represent a directed and weighted graph: \n",
        "\n",
        "<img src='https://upload.wikimedia.org/wikipedia/commons/thumb/b/bc/CPT-Graphs-directed-weighted-ex1.svg/722px-CPT-Graphs-directed-weighted-ex1.svg.png' width='25%'/>"
      ]
    },
    {
      "cell_type": "code",
      "metadata": {
        "id": "4zA4vgkaAyUi",
        "colab": {
          "base_uri": "https://localhost:8080/"
        },
        "outputId": "bde8dbaf-d57a-4926-9100-9a22ec832197"
      },
      "source": [
        "labels=['A','B','C','D','E']\n",
        "\n",
        "g=Graph(labels)\n",
        "\n",
        "#Now, we add the edges\n",
        "g.addEdge('A','C',12) #A->(12)C\n",
        "g.addEdge('A','D',60) #A->(60)D\n",
        "g.addEdge('B','A',10) #B->(10)A\n",
        "g.addEdge('C','B',20) #C->(20)B\n",
        "g.addEdge('C','D',32) #C->(32)D\n",
        "g.addEdge('E','A',7)  #E->(7)A\n",
        "\n",
        "print(g)\n",
        "\n",
        "print('containEdge(C,B)',g.containEdge('C','B'))\n",
        "print()\n",
        "g.removeEdge('C','B')\n",
        "\n",
        "print(g)\n"
      ],
      "execution_count": 5,
      "outputs": [
        {
          "output_type": "stream",
          "text": [
            "[addEdge]: (A,C) was added!!!\n",
            "[addEdge]: (A,D) was added!!!\n",
            "[addEdge]: (B,A) was added!!!\n",
            "[addEdge]: (C,B) was added!!!\n",
            "[addEdge]: (C,D) was added!!!\n",
            "[addEdge]: (E,A) was added!!!\n",
            "   A  B  C  D  E\n",
            "A [None, 10, 12, 60, 7]\n",
            "B [10, None, 20, None, None]\n",
            "C [12, 20, None, 32, None]\n",
            "D [60, None, 32, None, None]\n",
            "E [7, None, None, None, None]\n",
            "\n",
            "containEdge(C,B) True\n",
            "\n",
            "   A  B  C  D  E\n",
            "A [None, 10, 12, 60, 7]\n",
            "B [10, None, 20, None, None]\n",
            "C [12, 20, None, 32, None]\n",
            "D [60, None, 32, None, None]\n",
            "E [7, None, None, None, None]\n",
            "\n"
          ],
          "name": "stdout"
        }
      ]
    }
  ]
}