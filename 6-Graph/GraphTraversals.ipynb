{
  "nbformat": 4,
  "nbformat_minor": 0,
  "metadata": {
    "colab": {
      "name": "GraphTraversals.ipynb",
      "provenance": [],
      "collapsed_sections": [],
      "authorship_tag": "ABX9TyO/GuCA0C4KhuoiNpOuQc8d",
      "include_colab_link": true
    },
    "kernelspec": {
      "name": "python3",
      "display_name": "Python 3"
    }
  },
  "cells": [
    {
      "cell_type": "markdown",
      "metadata": {
        "id": "view-in-github",
        "colab_type": "text"
      },
      "source": [
        "<a href=\"https://colab.research.google.com/github/isegura/EDA/blob/master/GraphTraversals.ipynb\" target=\"_parent\"><img src=\"https://colab.research.google.com/assets/colab-badge.svg\" alt=\"Open In Colab\"/></a>"
      ]
    },
    {
      "cell_type": "markdown",
      "metadata": {
        "id": "uQxlfbU9HpDd",
        "colab_type": "text"
      },
      "source": [
        "# Graph traversals\n"
      ]
    },
    {
      "cell_type": "markdown",
      "metadata": {
        "id": "MjNOuSBS8j-Z",
        "colab_type": "text"
      },
      "source": [
        "\n",
        "\n",
        "First, we need to load a python file containing the implementation of a graph (graphdictionarywd.py).\n",
        "\n",
        "You can download from\n",
        "https://github.com/isegura/EDA/blob/master/graph.py\n",
        "\n",
        "There are some online tools that can help you to represent and see how the traversal works on a graph:\n",
        "\n",
        "- https://visualgo.net/en/dfsbfs?slide=1\n",
        "- https://graphonline.ru/en/\n",
        "\n",
        "They are really good!!!"
      ]
    },
    {
      "cell_type": "code",
      "metadata": {
        "id": "pTuQxLQ45XD9",
        "colab_type": "code",
        "outputId": "5d79e485-864d-458f-ab95-afbfe4069469",
        "colab": {
          "resources": {
            "http://localhost:8080/nbextensions/google.colab/files.js": {
              "data": "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",
              "ok": true,
              "headers": [
                [
                  "content-type",
                  "application/javascript"
                ]
              ],
              "status": 200,
              "status_text": ""
            }
          },
          "base_uri": "https://localhost:8080/",
          "height": 72
        }
      },
      "source": [
        "from google.colab import files\n",
        "src = list(files.upload().values())[0]"
      ],
      "execution_count": 0,
      "outputs": [
        {
          "output_type": "display_data",
          "data": {
            "text/html": [
              "\n",
              "     <input type=\"file\" id=\"files-9f151c50-e739-40f6-b155-facef4ea9399\" name=\"files[]\" multiple disabled />\n",
              "     <output id=\"result-9f151c50-e739-40f6-b155-facef4ea9399\">\n",
              "      Upload widget is only available when the cell has been executed in the\n",
              "      current browser session. Please rerun this cell to enable.\n",
              "      </output>\n",
              "      <script src=\"/nbextensions/google.colab/files.js\"></script> "
            ],
            "text/plain": [
              "<IPython.core.display.HTML object>"
            ]
          },
          "metadata": {
            "tags": []
          }
        },
        {
          "output_type": "stream",
          "text": [
            "Saving graph.py to graph.py\n"
          ],
          "name": "stdout"
        }
      ]
    },
    {
      "cell_type": "markdown",
      "metadata": {
        "id": "GFuYV18sUQ5Z",
        "colab_type": "text"
      },
      "source": [
        "## Breadth First Search\n",
        "\n"
      ]
    },
    {
      "cell_type": "code",
      "metadata": {
        "id": "sFOSe6hvKRkS",
        "colab_type": "code",
        "colab": {}
      },
      "source": [
        "from graph import Graph\n",
        "\n",
        "\n",
        "class Graph2(Graph):\n",
        "\n",
        "    def bfs(self):\n",
        "        \"\"\"This functions prints all vertices of the graph by BFS traversal\"\"\"\n",
        "        print('bfs traversal:')\n",
        "        # Mark all the vertices as not visited \n",
        "        visited={}\n",
        "        for v in self.vertices.keys():\n",
        "            visited[v]=False\n",
        "\n",
        "        for v in self.vertices.keys():\n",
        "            if visited[v]==False:\n",
        "                self._bfs(v,visited)\n",
        "\n",
        "    # Function to print a BFS of graph \n",
        "    def _bfs(self, v,visited): \n",
        "        \"\"\"This functions obtains the BFS traversal from the vertex \n",
        "        whose index is indexV.\"\"\"\n",
        "        \n",
        "        # Create a queue for BFS. It will save the indices of vertices to visit\n",
        "        queue = [] \n",
        "    \n",
        "        #mark the source vertex as visited \n",
        "        visited[v] = True\n",
        "        # and enqueue it \n",
        "        queue.append(v)\n",
        "        \n",
        "        while queue: \n",
        "            # Dequeue an index from queue and print its corresponding vertex(label)\n",
        "            s = queue.pop(0) \n",
        "            #print (s, end = \" \") \n",
        "            #we print the vertex, so we need to get its label\n",
        "            print (s, end = \" \") \n",
        "        \n",
        "            # Get all adjacent vertices of the dequeued index. \n",
        "            # If an adjacent vertex has not been visited, \n",
        "            # then mark it visited and enqueue it \n",
        "            for adj in self.vertices[s]: \n",
        "                if visited[adj.vertex] == False: \n",
        "                    queue.append(adj.vertex) \n",
        "                    visited[adj.vertex] = True\n"
      ],
      "execution_count": 0,
      "outputs": []
    },
    {
      "cell_type": "markdown",
      "metadata": {
        "id": "Erk_WZezKbxt",
        "colab_type": "text"
      },
      "source": [
        "Now, we use the implementation to represent and trasverse this graph: \n",
        "\n",
        "<img src='https://upload.wikimedia.org/wikipedia/commons/thumb/b/bc/CPT-Graphs-directed-weighted-ex1.svg/722px-CPT-Graphs-directed-weighted-ex1.svg.png' width='25%'/>"
      ]
    },
    {
      "cell_type": "code",
      "metadata": {
        "id": "cupiQMfoZMNS",
        "colab_type": "code",
        "outputId": "1c8908f7-c0df-41ea-c056-6e1d975a32d5",
        "colab": {
          "base_uri": "https://localhost:8080/",
          "height": 242
        }
      },
      "source": [
        "#we use this dictionary to represent the vertices with numbers:\n",
        "labels=['A','B','C','D','E']\n",
        "\n",
        "g=Graph2(labels)\n",
        "\n",
        "#Now, we add the edges\n",
        "g.addEdge('A','C',12) #A->(12)C\n",
        "g.addEdge('A','D',60) #A->(60)D\n",
        "g.addEdge('B','A',10) #B->(10)A\n",
        "g.addEdge('C','B',20) #C->(20)B\n",
        "g.addEdge('C','D',32) #C->(32)D\n",
        "g.addEdge('E','A',7)  #E->(7)A\n",
        "\n",
        "print(g)\n",
        "print()\n",
        "\n",
        "g.bfs()\n",
        "print()\n",
        "\n",
        "label='C'\n",
        "# Mark all the vertices as not visited \n",
        "visited={}\n",
        "for v in labels:\n",
        "    visited[v]=False\n",
        "\n",
        "print('bfs traversal from ', label)\n",
        "#we have to pass the index of the vertex \n",
        "g._bfs(label,visited)\n",
        "print()\n",
        "\n",
        "label='E'\n",
        "visited={}\n",
        "for v in labels:\n",
        "    visited[v]=False\n",
        "print('bfs traversal from ', label)\n",
        "#we have to pass the index of the vertex \n",
        "g._bfs(label,visited)"
      ],
      "execution_count": 0,
      "outputs": [
        {
          "output_type": "stream",
          "text": [
            "\n",
            "A:(C,12)(D,60)\n",
            "B:(A,10)\n",
            "C:(B,20)(D,32)\n",
            "D:\n",
            "E:(A,7)\n",
            "\n",
            "bfs traversal:\n",
            "A C D B E \n",
            "bfs traversal from  C\n",
            "C B D A \n",
            "bfs traversal from  E\n",
            "E A C D B "
          ],
          "name": "stdout"
        }
      ]
    },
    {
      "cell_type": "markdown",
      "metadata": {
        "id": "6MuXeDi1bJyb",
        "colab_type": "text"
      },
      "source": [
        "We use the implementation to represent an undirected graph without weights :\n",
        "\n",
        "\n",
        "<img src='https://computersciencesource.files.wordpress.com/2010/05/dfs_1.png' width='35%'/>"
      ]
    },
    {
      "cell_type": "code",
      "metadata": {
        "id": "gDi7VTzvbNID",
        "colab_type": "code",
        "outputId": "445e60b1-21d5-4551-988f-024217aa9b5e",
        "colab": {
          "base_uri": "https://localhost:8080/",
          "height": 207
        }
      },
      "source": [
        "labels=['A','B','C','D','E']\n",
        "g=Graph2(labels,False)\n",
        "g.addEdge('A','B') # A:0, B:1\n",
        "g.addEdge('A','C') # A:0, C:2\n",
        "g.addEdge('A','E') # A:0, E:5\n",
        "g.addEdge('B','D') # B:1, D:4\n",
        "g.addEdge('B','E') # C:2, B:1\n",
        "#g.addEdge('A','H',8)\n",
        "\n",
        "print(g)\n",
        "\n",
        "print('bfs traversal from A (A is the first vertex):')\n",
        "g.bfs()\n",
        "print()\n",
        "label='E'\n",
        "visited={}\n",
        "for v in labels:\n",
        "    visited[v]=False\n",
        "print('bfs traversal from ', label)\n",
        "#we have to pass the index of the vertex \n",
        "g._bfs(label,visited)"
      ],
      "execution_count": 0,
      "outputs": [
        {
          "output_type": "stream",
          "text": [
            "\n",
            "A:(B,0)(C,0)(E,0)\n",
            "B:(A,0)(D,0)(E,0)\n",
            "C:(A,0)\n",
            "D:(B,0)\n",
            "E:(A,0)(B,0)\n",
            "bfs traversal from A (A is the first vertex):\n",
            "bfs traversal:\n",
            "A B C E D \n",
            "bfs traversal from  E\n",
            "E A B C D "
          ],
          "name": "stdout"
        }
      ]
    },
    {
      "cell_type": "markdown",
      "metadata": {
        "id": "eHSCosh_cksH",
        "colab_type": "text"
      },
      "source": [
        "## Depth First Search\n",
        "\n"
      ]
    },
    {
      "cell_type": "code",
      "metadata": {
        "id": "DrNVVWngdlqv",
        "colab_type": "code",
        "colab": {}
      },
      "source": [
        "class Graph3(Graph):\n",
        "\n",
        "  # The function to do DFS traversal. It uses \n",
        "  # recursive _dfs() \n",
        "  def dfs(self): \n",
        "    \"\"\"This function prints all vertices of the graph by the DFS traversal.\"\"\"\n",
        "    \n",
        "    print('dfs traversal:')\n",
        "    # Mark all the vertices as not visited \n",
        "    visited={}\n",
        "    for v in self.vertices.keys():\n",
        "        visited[v]=False\n",
        "\n",
        "    for v in  self.vertices.keys():\n",
        "        if visited[v]==False:\n",
        "          self._dfs(v, visited)\n",
        "    print() \n",
        "\n",
        "  def _dfs(self, v, visited): \n",
        "    \"\"\"This funcion prints the DFS traversal from the vertex whose index is indexV\"\"\"\n",
        "    # Mark the current node as visited and print it \n",
        "    visited[v] = True\n",
        "    #print(v, end = ' ') \n",
        "    #Instead of printing the index, we have to print its label\n",
        "    print(v,end=' ')\n",
        "    # Recur for all the vertices  adjacent to this vertex \n",
        "    for adj in self.vertices[v]: \n",
        "      if visited[adj.vertex] == False: \n",
        "        self._dfs(adj.vertex, visited) \n",
        "  \n"
      ],
      "execution_count": 0,
      "outputs": []
    },
    {
      "cell_type": "markdown",
      "metadata": {
        "id": "eqqT1OPY8O4u",
        "colab_type": "text"
      },
      "source": [
        "Now, we use the implementation to represent and trasverse this graph: \n",
        "\n",
        "<img src='https://upload.wikimedia.org/wikipedia/commons/thumb/b/bc/CPT-Graphs-directed-weighted-ex1.svg/722px-CPT-Graphs-directed-weighted-ex1.svg.png' width='25%'/>"
      ]
    },
    {
      "cell_type": "code",
      "metadata": {
        "id": "WospkUwb8FaZ",
        "colab_type": "code",
        "outputId": "f5524fc3-fc47-4a9a-ed43-eba5b9f727e7",
        "colab": {
          "base_uri": "https://localhost:8080/",
          "height": 225
        }
      },
      "source": [
        "#we use this dictionary to represent the vertices with numbers:\n",
        "labels=['A','B','C','D','E']\n",
        "\n",
        "g=Graph3(labels)\n",
        "\n",
        "#Now, we add the edges\n",
        "g.addEdge('A','C',12) #A->(12)C\n",
        "g.addEdge('A','D',60) #A->(60)D\n",
        "g.addEdge('B','A',10) #B->(10)A\n",
        "g.addEdge('C','B',20) #C->(20)B\n",
        "g.addEdge('C','D',32) #C->(32)D\n",
        "g.addEdge('E','A',7)  #E->(7)A\n",
        "\n",
        "print(g)\n",
        "print()\n",
        "\n",
        "g.dfs()\n",
        "print()\n",
        "\n",
        "visited={}\n",
        "for v in labels:\n",
        "    visited[v]=False\n",
        "print('dfs traversal from B')\n",
        "g._dfs('B',visited)"
      ],
      "execution_count": 0,
      "outputs": [
        {
          "output_type": "stream",
          "text": [
            "\n",
            "A:(C,12)(D,60)\n",
            "B:(A,10)\n",
            "C:(B,20)(D,32)\n",
            "D:\n",
            "E:(A,7)\n",
            "\n",
            "dfs traversal:\n",
            "A C B D E \n",
            "\n",
            "dfs traversal from B\n",
            "B A C D "
          ],
          "name": "stdout"
        }
      ]
    }
  ]
}
