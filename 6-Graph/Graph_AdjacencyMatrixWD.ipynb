{
  "nbformat": 4,
  "nbformat_minor": 0,
  "metadata": {
    "colab": {
      "name": "Graph-AdjacencyMatrixWD.ipynb",
      "provenance": [],
      "collapsed_sections": [],
      "authorship_tag": "ABX9TyNqj8ko5DN4zv58fdrvxSxA",
      "include_colab_link": true
    },
    "kernelspec": {
      "name": "python3",
      "display_name": "Python 3"
    }
  },
  "cells": [
    {
      "cell_type": "markdown",
      "metadata": {
        "id": "view-in-github",
        "colab_type": "text"
      },
      "source": [
        "<a href=\"https://colab.research.google.com/github/isegura/EDA/blob/master/Graph_AdjacencyMatrixWD.ipynb\" target=\"_parent\"><img src=\"https://colab.research.google.com/assets/colab-badge.svg\" alt=\"Open In Colab\"/></a>"
      ]
    },
    {
      "cell_type": "markdown",
      "metadata": {
        "id": "WByQ9yUB9TD0",
        "colab_type": "text"
      },
      "source": [
        "# Adjacency Matrix for any kind of graph \n",
        "\n",
        "This implementation allows us to represent any kind of graph: weighted, unweighted, directed or undirected. "
      ]
    },
    {
      "cell_type": "code",
      "metadata": {
        "id": "2gxlpFHHFtcG",
        "colab_type": "code",
        "colab": {}
      },
      "source": [
        "class Graph(object):\n",
        "\tdef __init__(self,labels,directed=False):\n",
        "\t\t#labels is the set of vertices\n",
        "\t\tself.labels=labels\n",
        "\n",
        "\t\tself.adjacencyMatrix = [] # 2D list\n",
        "\t\tself.numNodes = len(labels)\n",
        "\t\t#we initializae the matrix with 0s\n",
        "\t\tfor i in range(self.numNodes): \n",
        "\t\t\tself.adjacencyMatrix.append([0 for i in range(self.numNodes)])\n",
        "\t\tself.directed=directed\n",
        "\t\n",
        "\tdef _getIndex(self,v):\n",
        "\t\t\"\"\"returns the index of the vertex (label) v. If v does not exist, \n",
        "\t\tit shows an error message and returns -1\"\"\"\n",
        "\t\tindex=-1\n",
        "\t\ttry:\n",
        "\t\t\tindex=self.labels.index(v)\n",
        "\t\texcept:\n",
        "\t\t\tprint(v,' is not a vertex!!!')\n",
        "\t\t\tpass\n",
        "\t\treturn index\n",
        "\n",
        "\tdef addEdge(self,start,end,weight=1):\n",
        "\t\t\"\"\"adds an edge from start to end exists.\"\"\"\n",
        "\t\t#first, we have to get their indeces\n",
        "\t\tindexS=self._getIndex(start)\n",
        "\t\tindexE=self._getIndex(end)\n",
        "\t\tif indexS==-1 or indexE==-1:\n",
        "\t\t\treturn\n",
        "\t\t#now, we modify its element in the matrix \n",
        "\t\tself.adjacencyMatrix[indexS][indexE]=weight\n",
        "\t\tif self.directed==False:\n",
        "\t\t\tself.adjacencyMatrix[indexE][indexS]=weight\n",
        "\t\n",
        "\tdef containEdge(self,start,end):\n",
        "\t\t\"\"\"checks if the edge from start to end exists. \n",
        "\t\tIt returns its weight\"\"\"\n",
        "\t\tindexS=self._getIndex(start)\n",
        "\t\tindexE=self._getIndex(end)\n",
        "\t\tif indexS==-1 or indexE==-1:\n",
        "\t\t\treturn 0\n",
        "\t\treturn self.adjacencyMatrix[indexS][indexE]\n",
        "\n",
        "\tdef removeEdge(self,start,end):\n",
        "\t\t\"\"\"removes the edge from start to end. It must\n",
        "\t\tmodify its corresponding element in the matrix to 0.\"\"\"\n",
        "\t\tindexS=self._getIndex(start)\n",
        "\t\tindexE=self._getIndex(end)\n",
        "\t\tif indexS==-1 or indexE==-1:\n",
        "\t\t\treturn \n",
        "\t\tself.adjacencyMatrix[indexS][indexE]=0\n",
        "\t\tif self.directed==False:\n",
        "\t\t\tself.adjacencyMatrix[indexE][indexS]=0\n",
        "\t\t\n",
        "\n",
        "\tdef __str__(self):\n",
        "\t\t\"\"\"returns the matrix\"\"\"\n",
        "\t\tresult=' '\n",
        "\t\tfor l in self.labels:\n",
        "\t\t\tresult+='  ' + l\n",
        "\n",
        "\t\tresult+='\\n'\n",
        "\n",
        "\t\tfor i,row in enumerate(self.adjacencyMatrix):\n",
        "\t\t\tresult+=self.labels[i]+' ' +str(row)+'\\n'\n",
        "\t\t\n",
        "\t\treturn result"
      ],
      "execution_count": 0,
      "outputs": []
    },
    {
      "cell_type": "markdown",
      "metadata": {
        "id": "kA84VmhQz8E0",
        "colab_type": "text"
      },
      "source": [
        "Now, we use the implementation to represent this directed and unweighted graph:\n",
        "\n",
        "\n",
        "<img src='https://upload.wikimedia.org/wikipedia/commons/thumb/1/1c/Directed_graph%2C_cyclic.svg/900px-Directed_graph%2C_cyclic.svg.png' width='35%'/>"
      ]
    },
    {
      "cell_type": "code",
      "metadata": {
        "id": "40K9tneuz8yu",
        "colab_type": "code",
        "outputId": "08d0bd7d-ebe5-4741-e4ef-2b3d231adcbe",
        "colab": {
          "base_uri": "https://localhost:8080/",
          "height": 156
        }
      },
      "source": [
        "labels=['A','B','C','D','E','F']\n",
        "\n",
        "g=Graph(labels)\n",
        "\n",
        "#Now, we add the edges\n",
        "g.addEdge('A','B') #A->B\n",
        "g.addEdge('B','C') #B->C\n",
        "g.addEdge('C','E') #C->E\n",
        "g.addEdge('D','B') #D->B\n",
        "g.addEdge('E','D') #E->D\n",
        "g.addEdge('E','F') #E->D\n",
        "\n",
        "print(g)"
      ],
      "execution_count": 3,
      "outputs": [
        {
          "output_type": "stream",
          "text": [
            "   A  B  C  D  E  F\n",
            "A [0, 1, 0, 0, 0, 0]\n",
            "B [1, 0, 1, 1, 0, 0]\n",
            "C [0, 1, 0, 0, 1, 0]\n",
            "D [0, 1, 0, 0, 1, 0]\n",
            "E [0, 0, 1, 1, 0, 1]\n",
            "F [0, 0, 0, 0, 1, 0]\n",
            "\n"
          ],
          "name": "stdout"
        }
      ]
    },
    {
      "cell_type": "markdown",
      "metadata": {
        "id": "aBkXIf4uo8MY",
        "colab_type": "text"
      },
      "source": [
        "We use the implementation to represent an undirected graph without weights :\n",
        "\n",
        "\n",
        "<img src='https://computersciencesource.files.wordpress.com/2010/05/dfs_1.png' width='35%'/>"
      ]
    },
    {
      "cell_type": "code",
      "metadata": {
        "id": "xoqwNGnv9y9x",
        "colab_type": "code",
        "outputId": "f7540fae-45ee-4b69-fe36-156c54b8136c",
        "colab": {
          "base_uri": "https://localhost:8080/",
          "height": 139
        }
      },
      "source": [
        "labels=['A','B','C','D','E']\n",
        "g=Graph(labels,False)\n",
        "g.addEdge('A','B') # A:0, B:1\n",
        "g.addEdge('A','C') # A:0, C:2\n",
        "g.addEdge('A','E') # A:0, E:5\n",
        "g.addEdge('B','D') # B:1, D:4\n",
        "g.addEdge('B','E') # C:2, B:1\n",
        "#g.addEdge('A','H',8)\n",
        "\n",
        "print(g)"
      ],
      "execution_count": 4,
      "outputs": [
        {
          "output_type": "stream",
          "text": [
            "   A  B  C  D  E\n",
            "A [0, 1, 1, 0, 1]\n",
            "B [1, 0, 0, 1, 1]\n",
            "C [1, 0, 0, 0, 0]\n",
            "D [0, 1, 0, 0, 0]\n",
            "E [1, 1, 0, 0, 0]\n",
            "\n"
          ],
          "name": "stdout"
        }
      ]
    },
    {
      "cell_type": "markdown",
      "metadata": {
        "id": "DjHmAOAU_zQ8",
        "colab_type": "text"
      },
      "source": [
        "Now, we use the implementation to represent a directed and weighted graph: \n",
        "\n",
        "<img src='https://upload.wikimedia.org/wikipedia/commons/thumb/b/bc/CPT-Graphs-directed-weighted-ex1.svg/722px-CPT-Graphs-directed-weighted-ex1.svg.png' width='25%'/>"
      ]
    },
    {
      "cell_type": "code",
      "metadata": {
        "id": "4zA4vgkaAyUi",
        "colab_type": "code",
        "outputId": "4dc670c1-4d05-4b49-d8e6-e32e73b1da19",
        "colab": {
          "base_uri": "https://localhost:8080/",
          "height": 277
        }
      },
      "source": [
        "labels=['A','B','C','D','E']\n",
        "\n",
        "g=Graph(labels)\n",
        "\n",
        "#Now, we add the edges\n",
        "g.addEdge('A','C',12) #A->(12)C\n",
        "g.addEdge('A','D',60) #A->(60)D\n",
        "g.addEdge('B','A',10) #B->(10)A\n",
        "g.addEdge('C','B',20) #C->(20)B\n",
        "g.addEdge('C','D',32) #C->(32)D\n",
        "g.addEdge('E','A',7)  #E->(7)A\n",
        "\n",
        "print(g)\n",
        "\n",
        "print('containEdge(C,B)',g.containEdge('C','B'))\n",
        "print()\n",
        "g.removeEdge('C','B')\n",
        "\n",
        "print(g)\n"
      ],
      "execution_count": 6,
      "outputs": [
        {
          "output_type": "stream",
          "text": [
            "   A  B  C  D  E\n",
            "A [0, 10, 12, 60, 7]\n",
            "B [10, 0, 20, 0, 0]\n",
            "C [12, 20, 0, 32, 0]\n",
            "D [60, 0, 32, 0, 0]\n",
            "E [7, 0, 0, 0, 0]\n",
            "\n",
            "containEdge(C,B) 20\n",
            "   A  B  C  D  E\n",
            "A [0, 10, 12, 60, 7]\n",
            "B [10, 0, 0, 0, 0]\n",
            "C [12, 0, 0, 32, 0]\n",
            "D [60, 0, 32, 0, 0]\n",
            "E [7, 0, 0, 0, 0]\n",
            "\n"
          ],
          "name": "stdout"
        }
      ]
    }
  ]
}
