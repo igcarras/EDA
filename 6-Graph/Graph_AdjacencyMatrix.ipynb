{
  "nbformat": 4,
  "nbformat_minor": 0,
  "metadata": {
    "colab": {
      "name": "Graph-AdjacencyMatrix.ipynb",
      "provenance": [],
      "collapsed_sections": [],
      "authorship_tag": "ABX9TyPcZKwdfPku5rj/h5W+inoe",
      "include_colab_link": true
    },
    "kernelspec": {
      "name": "python3",
      "display_name": "Python 3"
    }
  },
  "cells": [
    {
      "cell_type": "markdown",
      "metadata": {
        "id": "view-in-github",
        "colab_type": "text"
      },
      "source": [
        "<a href=\"https://colab.research.google.com/github/isegura/EDA/blob/master/Graph_AdjacencyMatrix.ipynb\" target=\"_parent\"><img src=\"https://colab.research.google.com/assets/colab-badge.svg\" alt=\"Open In Colab\"/></a>"
      ]
    },
    {
      "cell_type": "markdown",
      "metadata": {
        "id": "WByQ9yUB9TD0"
      },
      "source": [
        "## Gran implementation based on an adjacency Matrix \n",
        "A graph can be represented using an adjacency matrix. In this tutorial, we see how to learn to implement graphs based on adjacency matrices. We focus on directed and unweighted graph\n"
      ]
    },
    {
      "cell_type": "code",
      "metadata": {
        "id": "04E-EuC89Rsj"
      },
      "source": [
        "class Graph(object):\n",
        "    \"\"\"This is an implementation for an unweighted and undirected graph based on an adjacency matrix\"\"\"\n",
        "    def __init__(self,vertices):\n",
        "        \"\"\"This constructors gets a Python list of vertices and creates an empty adjacency matrix  \"\"\"\n",
        "        #labels is the set of vertices, for example, A, B, C, D...\n",
        "        self._vertices=vertices\n",
        "\n",
        "        N=len(vertices)\n",
        "        #we initializae the matrix with 0s\n",
        "        self._matrix = [ [ 0 for i in range(N) ] for j in range(N) ]\n",
        "    \n",
        "    def _index(self,v):\n",
        "        \"\"\"gets a vertex and returs its index. If v does not exist, \n",
        "\t\tit shows an error message and returns -1\"\"\"\n",
        "        try:\n",
        "            index=self._vertices.index(v)\n",
        "        except:\n",
        "            print(v,' is not a vertex!!!')\n",
        "            index=-1\n",
        "        return index\n",
        "\n",
        "    def addEdge(self,start,end):\n",
        "        \"\"\"gets two vertices and adds an edge from start to end.\"\"\"\n",
        "        #first, we get their indeces\n",
        "        i,j=self._index(start),self._index(end)\n",
        "        if i==-1:\n",
        "            print('[addEdge]: {} does not exist!!!'.format(start))\n",
        "            return\n",
        "        if j==-1:\n",
        "            print('[addEdge]: {} does not exist!!!'.format(end))\n",
        "            return\n",
        "        #now, we modify its element in the matrix \n",
        "        self._matrix[i][j]=1\n",
        "        print('[addEdge]: ({},{}) was added!!!'.format(start,end))\n",
        "\n",
        "    def containEdge(self,start,end):\n",
        "        \"\"\"checks if the edge from start to end exists.\"\"\"\n",
        "        i,j=self._index(start),self._index(end)\n",
        "        if i==-1:\n",
        "            print('[containEdge]: {} does not exist!!!'.format(start))\n",
        "            return False\n",
        "        if j==-1:\n",
        "            print('[containEdge]: {} does not exist!!!'.format(end))\n",
        "            return False\n",
        "            \n",
        "        return self._matrix[i][j]==1\n",
        "    \n",
        "    def removeEdge(self,start,end):\n",
        "        \"\"\"removes the edge from start to end. It must\n",
        "        modify its corresponding element in the matrix to 0.\"\"\"\n",
        "        i,j=self._index(start),self._index(end)\n",
        "        if i==-1:\n",
        "            print('[removeEdge]: {} does not exist!!!'.format(start))\n",
        "            return \n",
        "        if j==-1:\n",
        "            print('[removeEdge]: {} does not exist!!!'.format(end))\n",
        "            return \n",
        "\t\t\n",
        "        self._matrix[i][j]==0\n",
        "    \n",
        "    def __str__(self):\n",
        "        \"\"\"returns the matrix\"\"\"\n",
        "        result=' '\n",
        "        #the first row are the vertices\n",
        "        for l in self._vertices:\n",
        "            result+='  ' + l\n",
        "        \n",
        "        result+='\\n'\n",
        "    \n",
        "        for i,row in enumerate(self._matrix):\n",
        "            result+=self._vertices[i]+' ' +str(row)+'\\n'\n",
        "        \n",
        "        return result"
      ],
      "execution_count": 21,
      "outputs": []
    },
    {
      "cell_type": "markdown",
      "metadata": {
        "id": "DjHmAOAU_zQ8"
      },
      "source": [
        "Now, we use the implementation to represent this directed and unweighted graph:\n",
        "\n",
        "\n",
        "<img src='https://upload.wikimedia.org/wikipedia/commons/thumb/1/1c/Directed_graph%2C_cyclic.svg/900px-Directed_graph%2C_cyclic.svg.png' width='35%'/>"
      ]
    },
    {
      "cell_type": "code",
      "metadata": {
        "id": "4zA4vgkaAyUi",
        "colab": {
          "base_uri": "https://localhost:8080/"
        },
        "outputId": "eb6918d5-4ae0-44af-c144-627b3619cbe5"
      },
      "source": [
        "vertices=['A','B','C','D','E','F']\n",
        "\n",
        "g=Graph(vertices)\n",
        "\n",
        "#Now, we add the edges\n",
        "g.addEdge('A','B') #A->B\n",
        "g.addEdge('B','C') #B->C\n",
        "g.addEdge('C','E') #C->E\n",
        "g.addEdge('D','B') #D->B\n",
        "g.addEdge('E','D') #E->D\n",
        "g.addEdge('E','F') #E->D\n",
        "print('containEdge(A,E)=',g.containEdge('A','E'))\n",
        "print('containEdge(D,B)=',g.containEdge('D','B'))\n",
        "\n",
        "print(g)\n"
      ],
      "execution_count": 22,
      "outputs": [
        {
          "output_type": "stream",
          "text": [
            "[addEdge]: (A,B) was added!!!\n",
            "[addEdge]: (B,C) was added!!!\n",
            "[addEdge]: (C,E) was added!!!\n",
            "[addEdge]: (D,B) was added!!!\n",
            "[addEdge]: (E,D) was added!!!\n",
            "[addEdge]: (E,F) was added!!!\n",
            "containEdge(A,E)= False\n",
            "containEdge(D,B)= True\n",
            "   A  B  C  D  E  F\n",
            "A [0, 1, 0, 0, 0, 0]\n",
            "B [0, 0, 1, 0, 0, 0]\n",
            "C [0, 0, 0, 0, 1, 0]\n",
            "D [0, 1, 0, 0, 0, 0]\n",
            "E [0, 0, 0, 1, 0, 1]\n",
            "F [0, 0, 0, 0, 0, 0]\n",
            "\n"
          ],
          "name": "stdout"
        }
      ]
    },
    {
      "cell_type": "code",
      "metadata": {
        "id": "Sy_hriQh90YS",
        "colab": {
          "base_uri": "https://localhost:8080/"
        },
        "outputId": "f3e2c2e8-a572-4071-a958-82cfbc1bfde7"
      },
      "source": [
        "g.removeEdge('E','D')\n",
        "print(g)"
      ],
      "execution_count": 23,
      "outputs": [
        {
          "output_type": "stream",
          "text": [
            "   A  B  C  D  E  F\n",
            "A [0, 1, 0, 0, 0, 0]\n",
            "B [0, 0, 1, 0, 0, 0]\n",
            "C [0, 0, 0, 0, 1, 0]\n",
            "D [0, 1, 0, 0, 0, 0]\n",
            "E [0, 0, 0, 1, 0, 1]\n",
            "F [0, 0, 0, 0, 0, 0]\n",
            "\n"
          ],
          "name": "stdout"
        }
      ]
    },
    {
      "cell_type": "markdown",
      "metadata": {
        "id": "W2DyaTrUJC-p"
      },
      "source": [
        "##Exercise:\n",
        "\n",
        "The previous implementation allows us to represent unweighted and directed graphs. \n",
        "\n",
        "Please, extend it to also represent weighted and undirected graphs."
      ]
    }
  ]
}
