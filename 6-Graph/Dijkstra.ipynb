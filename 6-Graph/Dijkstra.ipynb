{
  "nbformat": 4,
  "nbformat_minor": 0,
  "metadata": {
    "colab": {
      "name": "Dijkstra.ipynb",
      "provenance": [],
      "collapsed_sections": [],
      "authorship_tag": "ABX9TyPBu3fyC/DzDhcZK5XdcDQZ",
      "include_colab_link": true
    },
    "kernelspec": {
      "name": "python3",
      "display_name": "Python 3"
    }
  },
  "cells": [
    {
      "cell_type": "markdown",
      "metadata": {
        "id": "view-in-github",
        "colab_type": "text"
      },
      "source": [
        "<a href=\"https://colab.research.google.com/github/isegura/EDA/blob/master/Dijkstra.ipynb\" target=\"_parent\"><img src=\"https://colab.research.google.com/assets/colab-badge.svg\" alt=\"Open In Colab\"/></a>"
      ]
    },
    {
      "cell_type": "markdown",
      "metadata": {
        "id": "uQxlfbU9HpDd",
        "colab_type": "text"
      },
      "source": [
        "# Dijkstra’s shortest path algorithm\n",
        "\n",
        "This tool (https://graphonline.ru/en/) can help you to check if your solutions are right.\n",
        "\n",
        "\n",
        "\n",
        "First, we need to load a python file containing the implementation of a graph (graphdictionarywd.py).\n",
        "\n",
        "You can download from\n",
        "https://github.com/isegura/EDA/blob/master/graph.py"
      ]
    },
    {
      "cell_type": "code",
      "metadata": {
        "id": "lxLMxA4Vi9PJ",
        "colab_type": "code",
        "outputId": "4effbc3c-a9f8-4778-c839-50a8b62bcc74",
        "colab": {
          "resources": {
            "http://localhost:8080/nbextensions/google.colab/files.js": {
              "data": "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",
              "ok": true,
              "headers": [
                [
                  "content-type",
                  "application/javascript"
                ]
              ],
              "status": 200,
              "status_text": ""
            }
          },
          "base_uri": "https://localhost:8080/",
          "height": 71
        }
      },
      "source": [
        "from google.colab import files\n",
        "src = list(files.upload().values())[0]"
      ],
      "execution_count": 10,
      "outputs": [
        {
          "output_type": "display_data",
          "data": {
            "text/html": [
              "\n",
              "     <input type=\"file\" id=\"files-5df0b78c-244d-4b71-9b58-e76f7f62d0f5\" name=\"files[]\" multiple disabled />\n",
              "     <output id=\"result-5df0b78c-244d-4b71-9b58-e76f7f62d0f5\">\n",
              "      Upload widget is only available when the cell has been executed in the\n",
              "      current browser session. Please rerun this cell to enable.\n",
              "      </output>\n",
              "      <script src=\"/nbextensions/google.colab/files.js\"></script> "
            ],
            "text/plain": [
              "<IPython.core.display.HTML object>"
            ]
          },
          "metadata": {
            "tags": []
          }
        },
        {
          "output_type": "stream",
          "text": [
            "Saving graph.py to graph (2).py\n"
          ],
          "name": "stdout"
        }
      ]
    },
    {
      "cell_type": "markdown",
      "metadata": {
        "id": "kakSwjER_qwe",
        "colab_type": "text"
      },
      "source": [
        "## Shortest path algorithm"
      ]
    },
    {
      "cell_type": "code",
      "metadata": {
        "id": "IEuPowAV_vFH",
        "colab_type": "code",
        "colab": {}
      },
      "source": [
        "import sys\n",
        "from graph import Graph\n",
        "\n",
        "class GraphDijkstra(Graph):\n",
        "\n",
        "    def minDistance(self, distances, visited): \n",
        "        \"\"\"This functions returns the vertex (index) whose associated value in\n",
        "        the dictionary distances is the smallest value. We \n",
        "        only consider the set of vertices that have not been visited\"\"\"\n",
        "        # Initilaize minimum distance for next node \n",
        "        min = sys.maxsize \n",
        "\n",
        "        #returns the vertex with minimum distance from the non-visited vertices\n",
        "        for vertex in self.vertices.keys(): \n",
        "            if distances[vertex] <= min and visited[vertex] == False: \n",
        "                min = distances[vertex] #update the new smallest\n",
        "                min_vertex = vertex      #update the index of the smallest\n",
        "    \n",
        "        return min_vertex \n",
        "\n",
        "\n",
        "\n",
        "    def dijkstra(self, origin): \n",
        "        \"\"\"\"This function takes a vertex v and calculates its mininum path \n",
        "        to the rest of vertices by using the Dijkstra algoritm\"\"\"  \n",
        "        \n",
        "        #visisted is a dictionary whose keys are the verticies of our graph. \n",
        "        #When we visite a vertex, we must mark it as True. \n",
        "        #Initially, all vertices are defined as False (not visited)\n",
        "        visited={}\n",
        "        for v in self.vertices.keys():\n",
        "            visited[v]=False\n",
        "\n",
        "        #this dictionary will save the previous vertex for the key in the minimum path\n",
        "        previous={}\n",
        "        for v in self.vertices.keys():\n",
        "            #initially, we defines the previous vertex for any vertex as None\n",
        "            previous[v]=None\n",
        "\n",
        "\n",
        "        #This distance will save the accumulate distance from the  \n",
        "        #origin to the vertex (key)\n",
        "        distances={}\n",
        "        for v in self.vertices.keys():\n",
        "            distances[v]=sys.maxsize\n",
        "\n",
        "\n",
        "        #The distance from origin to itself is 0\n",
        "        distances[origin] = 0\n",
        "        \n",
        "        for n in range(len(self.vertices)): \n",
        "            # Pick the vertex with the minimum distance vertex.\n",
        "            # u is always equal to origin in first iteration \n",
        "            u = self.minDistance(distances, visited) \n",
        "\n",
        "            visited[u] = True\n",
        "            \n",
        "            # Update distance value of the u's adjacent vertices only if the current  \n",
        "            # distance is greater than new distance and the vertex in not in the shotest path tree \n",
        "            \n",
        "            #we must visit all adjacent vertices (neighbours) for u\n",
        "            for adj in self.vertices[u]: \n",
        "                i=adj.vertex\n",
        "                w=adj.weight\n",
        "                if visited[i]==False and distances[i]>distances[u]+w:\n",
        "                    #we must update because its distance is greater than the new distance\n",
        "                    distances[i]=distances[u]+w   \n",
        "                    previous[i]=u       \n",
        "                \n",
        "        #finally, we print the minimum path from origin to the other vertices\n",
        "        self.printSolution(distances,previous,origin)\n",
        "        \n",
        "\n",
        "  \n",
        "\n",
        "    def printSolution(self,distances,previous,origin): \n",
        "        print(\"Mininum path from \",origin)\n",
        "        for i in self.vertices.keys():\n",
        "            if distances[i]==sys.maxsize:\n",
        "                print(\"There is not path from \",origin,' to ',i)\n",
        "            else: \n",
        "                #minimum_path is the list wich contains the minimum path from v to i\n",
        "                minimum_path=[]\n",
        "                prev=previous[i]\n",
        "                #this loop helps us to build the path\n",
        "                while prev!=None:\n",
        "                    minimum_path.insert(0,prev)\n",
        "                    prev=previous[prev]\n",
        "                \n",
        "                #we append the last vertex, which is i\n",
        "                minimum_path.append(i)  \n",
        "                #we print the path from v to i and the distance\n",
        "                print(origin,'->',i,\":\", minimum_path,distances[i]) \n",
        "\n",
        "\n",
        "  \n",
        "  \n",
        " \n",
        "\n",
        " \n",
        "  \n",
        "   "
      ],
      "execution_count": 0,
      "outputs": []
    },
    {
      "cell_type": "markdown",
      "metadata": {
        "id": "Erk_WZezKbxt",
        "colab_type": "text"
      },
      "source": [
        "Now, we use the implementation to represent this graph: \n",
        "\n",
        "<img src='https://upload.wikimedia.org/wikipedia/commons/thumb/b/bc/CPT-Graphs-directed-weighted-ex1.svg/722px-CPT-Graphs-directed-weighted-ex1.svg.png' width='25%'/>"
      ]
    },
    {
      "cell_type": "code",
      "metadata": {
        "id": "b2LDjiWdKffI",
        "colab_type": "code",
        "outputId": "acffe72e-ca30-4778-9b0c-6c47f0645da7",
        "colab": {
          "base_uri": "https://localhost:8080/",
          "height": 225
        }
      },
      "source": [
        "#we use this dictionary to represent the vertices with numbers:\n",
        "labels=['A','B','C','D','E']\n",
        "\n",
        "g=GraphDijkstra(labels)\n",
        "\n",
        "#Now, we add the edges\n",
        "g.addEdge('A','C',12) #A->(12)C\n",
        "g.addEdge('A','D',60) #A->(60)D\n",
        "g.addEdge('B','A',10) #B->(10)A\n",
        "g.addEdge('C','B',20) #C->(20)B\n",
        "g.addEdge('C','D',32) #C->(32)D\n",
        "g.addEdge('E','A',7)  #E->(7)A\n",
        "\n",
        "\n",
        "print(g)\n",
        "\n",
        "g.dijkstra('A')"
      ],
      "execution_count": 6,
      "outputs": [
        {
          "output_type": "stream",
          "text": [
            "\n",
            "A:(C,12)(D,60)\n",
            "B:(A,10)\n",
            "C:(B,20)(D,32)\n",
            "D:\n",
            "E:(A,7)\n",
            "Mininum path from  A\n",
            "A -> A : ['A'] 0\n",
            "A -> B : ['A', 'C', 'B'] 32\n",
            "A -> C : ['A', 'C'] 12\n",
            "A -> D : ['A', 'C', 'D'] 44\n",
            "There is not path from  A  to  E\n"
          ],
          "name": "stdout"
        }
      ]
    },
    {
      "cell_type": "markdown",
      "metadata": {
        "id": "tdvqwwPTTk7J",
        "colab_type": "text"
      },
      "source": [
        "## Exercise: \n",
        "\n",
        "Calculate the minimum path from a to the rest of the vertices in this graph:\n",
        "\n",
        "<img src='https://www.bogotobogo.com/python/images/Dijkstra/graph_diagram.png' src='25%'/>"
      ]
    },
    {
      "cell_type": "code",
      "metadata": {
        "id": "WFb0S36YT3_p",
        "colab_type": "code",
        "outputId": "552e9642-ab9c-420a-b325-561c40f46c2f",
        "colab": {
          "base_uri": "https://localhost:8080/",
          "height": 503
        }
      },
      "source": [
        "#we use this dictionary to represent the vertices with numbers:\n",
        "\n",
        "labels=['a','b','c','d','e','f']\n",
        "\n",
        "g=GraphDijkstra(labels,False)\n",
        "\n",
        "#Now, we add the edges\n",
        "g.addEdge('a','b',7) \n",
        "g.addEdge('a','c',9) \n",
        "g.addEdge('a','f',14) \n",
        "g.addEdge('b','c',10) \n",
        "g.addEdge('b','d',15) \n",
        "g.addEdge('c','d',11)  \n",
        "g.addEdge('c','f',2)\n",
        "g.addEdge('d','e',6)\n",
        "g.addEdge('e','f',9)\n",
        "\n",
        "\n",
        "\n",
        "print(g)\n",
        "\n",
        "g.dijkstra('a')\n",
        "\n",
        "g.dijkstra('f')\n",
        "\n",
        "g.dijkstra('b')\n"
      ],
      "execution_count": 7,
      "outputs": [
        {
          "output_type": "stream",
          "text": [
            "\n",
            "a:(b,7)(c,9)(f,14)\n",
            "b:(a,7)(c,10)(d,15)\n",
            "c:(a,9)(b,10)(d,11)(f,2)\n",
            "d:(b,15)(c,11)(e,6)\n",
            "e:(d,6)(f,9)\n",
            "f:(a,14)(c,2)(e,9)\n",
            "Mininum path from  a\n",
            "a -> a : ['a'] 0\n",
            "a -> b : ['a', 'b'] 7\n",
            "a -> c : ['a', 'c'] 9\n",
            "a -> d : ['a', 'c', 'd'] 20\n",
            "a -> e : ['a', 'c', 'f', 'e'] 20\n",
            "a -> f : ['a', 'c', 'f'] 11\n",
            "Mininum path from  f\n",
            "f -> a : ['f', 'c', 'a'] 11\n",
            "f -> b : ['f', 'c', 'b'] 12\n",
            "f -> c : ['f', 'c'] 2\n",
            "f -> d : ['f', 'c', 'd'] 13\n",
            "f -> e : ['f', 'e'] 9\n",
            "f -> f : ['f'] 0\n",
            "Mininum path from  b\n",
            "b -> a : ['b', 'a'] 7\n",
            "b -> b : ['b'] 0\n",
            "b -> c : ['b', 'c'] 10\n",
            "b -> d : ['b', 'd'] 15\n",
            "b -> e : ['b', 'c', 'f', 'e'] 21\n",
            "b -> f : ['b', 'c', 'f'] 12\n"
          ],
          "name": "stdout"
        }
      ]
    },
    {
      "cell_type": "markdown",
      "metadata": {
        "id": "GtREU-EuYyVn",
        "colab_type": "text"
      },
      "source": [
        "## Exercise\n",
        "\n",
        "Use the previous implementation to obtain the mininum path from X to Y in this graph:\n",
        "\n",
        "<img src='http://benalexkeen.com/wp-content/uploads/2017/01/Dijkstra.png'>"
      ]
    }
  ]
}
