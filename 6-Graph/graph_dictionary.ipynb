{
  "nbformat": 4,
  "nbformat_minor": 0,
  "metadata": {
    "colab": {
      "name": "graph-dictionary.ipynb",
      "provenance": [],
      "collapsed_sections": [],
      "authorship_tag": "ABX9TyP/wECZXBwtB/ff0iTmflDT",
      "include_colab_link": true
    },
    "kernelspec": {
      "name": "python3",
      "display_name": "Python 3"
    }
  },
  "cells": [
    {
      "cell_type": "markdown",
      "metadata": {
        "id": "view-in-github",
        "colab_type": "text"
      },
      "source": [
        "<a href=\"https://colab.research.google.com/github/isegura/EDA/blob/master/graph_dictionary.ipynb\" target=\"_parent\"><img src=\"https://colab.research.google.com/assets/colab-badge.svg\" alt=\"Open In Colab\"/></a>"
      ]
    },
    {
      "cell_type": "markdown",
      "metadata": {
        "id": "uQxlfbU9HpDd",
        "colab_type": "text"
      },
      "source": [
        "# Graph implementation using a Python dictionary\n",
        "\n",
        "This implementation can be used for directed and unweighted graphs. \n"
      ]
    },
    {
      "cell_type": "code",
      "metadata": {
        "id": "vZEDjAUpHoda",
        "colab_type": "code",
        "colab": {}
      },
      "source": [
        "class Graph():\n",
        "    def __init__(self,labels):\n",
        "        \"\"\"We use a dictionary to represent the graph\n",
        "        the dictionary's keys are the vertices\n",
        "        The value associated for a given key will be the list of their neighbours.\n",
        "        Initially, the list of neighbours is empty\"\"\"\n",
        "        self.vertices={}\n",
        "        for v in labels:\n",
        "            self.vertices[v]=[]\n",
        "    \n",
        "    def addEdge(self, start, end):\n",
        "        if start not in self.vertices.keys():\n",
        "            print(start,' does not exist!')\n",
        "            return\n",
        "        if end not in self.vertices.keys():\n",
        "            print(end,' does not exist!')\n",
        "            return\n",
        "        #adds end to the list of neighbours for start\n",
        "        self.vertices[start].append(end)\n",
        "    \n",
        "    def containEdge(self, start, end):\n",
        "        if start not in self.vertices.keys():\n",
        "            print(start,' does not exist!')\n",
        "            return False\n",
        "        if end not in self.vertices.keys():\n",
        "            print(end,' does not exist!')\n",
        "            return False\n",
        "        #checks if end is into the list of the start's neighbours\n",
        "        return end  in self.vertices[start]\n",
        "\n",
        "    def removeEdge(self, start, end):\n",
        "        if start not in self.vertices.keys():\n",
        "            print(start,' does not exist!')\n",
        "            return\n",
        "        if end not in self.vertices.keys():\n",
        "            print(end,' does not exist!')\n",
        "            return\n",
        "\n",
        "        #if end is a neigbour of start, we remove it\n",
        "        if end in self.vertices[start]:\n",
        "            self.vertices[start].remove(end)\n",
        "\n",
        "    def __str__(self):\n",
        "        result=''\n",
        "        for v in self.vertices.keys():\n",
        "            result+='\\n'+str(v)+':'+str(self.vertices[v])\n",
        "            \n",
        "        return result\n",
        "           "
      ],
      "execution_count": 0,
      "outputs": []
    },
    {
      "cell_type": "markdown",
      "metadata": {
        "id": "Erk_WZezKbxt",
        "colab_type": "text"
      },
      "source": [
        "Now, we use the implementation to represent this directed and unweighted graph:\n",
        "\n",
        "\n",
        "<img src='https://upload.wikimedia.org/wikipedia/commons/thumb/1/1c/Directed_graph%2C_cyclic.svg/900px-Directed_graph%2C_cyclic.svg.png' width='35%'/>"
      ]
    },
    {
      "cell_type": "code",
      "metadata": {
        "id": "b2LDjiWdKffI",
        "colab_type": "code",
        "outputId": "61c7c5d7-bd8c-4939-d554-bd3f71cbb9ee",
        "colab": {
          "base_uri": "https://localhost:8080/",
          "height": 312
        }
      },
      "source": [
        "labels=['A','B','C','D','E','F']\n",
        "\n",
        "g=Graph(labels)\n",
        "\n",
        "#Now, we add the edges\n",
        "g.addEdge('A','B') #A->B\n",
        "g.addEdge('B','C') #B->C\n",
        "g.addEdge('C','E') #C->E\n",
        "g.addEdge('D','B') #D->B\n",
        "g.addEdge('E','D') #E->D\n",
        "g.addEdge('E','F') #E->F\n",
        "\n",
        "print(g)\n",
        "\n",
        "print()\n",
        "print(g.containEdge('A','C'))\n",
        "print(g.containEdge('B','C'))\n",
        "\n",
        "g.removeEdge('A','C')\n",
        "print(g)\n"
      ],
      "execution_count": 2,
      "outputs": [
        {
          "output_type": "stream",
          "text": [
            "\n",
            "A:['B']\n",
            "B:['C']\n",
            "C:['E']\n",
            "D:['B']\n",
            "E:['D', 'F']\n",
            "F:[]\n",
            "\n",
            "False\n",
            "True\n",
            "\n",
            "A:['B']\n",
            "B:['C']\n",
            "C:['E']\n",
            "D:['B']\n",
            "E:['D', 'F']\n",
            "F:[]\n"
          ],
          "name": "stdout"
        }
      ]
    },
    {
      "cell_type": "markdown",
      "metadata": {
        "id": "1PZqdqkyKktq",
        "colab_type": "text"
      },
      "source": [
        "#Exercise:\n",
        "The previous implementation allows us to represent unweighted and directed graphs. Can you modify it for using it to also represent weighted and undirected graphs.\n",
        "\n",
        "SOLUTION:\n",
        "https://github.com/isegura/EDA/blob/master/graph_dictionaryWD.ipynb"
      ]
    }
  ]
}
