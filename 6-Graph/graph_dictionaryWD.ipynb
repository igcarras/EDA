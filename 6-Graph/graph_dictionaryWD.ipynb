{
  "nbformat": 4,
  "nbformat_minor": 0,
  "metadata": {
    "colab": {
      "name": "graph-dictionaryWD.ipynb",
      "provenance": [],
      "collapsed_sections": [],
      "authorship_tag": "ABX9TyPTwM4/poJ+aAez/KKurQ2M",
      "include_colab_link": true
    },
    "kernelspec": {
      "name": "python3",
      "display_name": "Python 3"
    }
  },
  "cells": [
    {
      "cell_type": "markdown",
      "metadata": {
        "id": "view-in-github",
        "colab_type": "text"
      },
      "source": [
        "<a href=\"https://colab.research.google.com/github/isegura/EDA/blob/master/graph_dictionaryWD.ipynb\" target=\"_parent\"><img src=\"https://colab.research.google.com/assets/colab-badge.svg\" alt=\"Open In Colab\"/></a>"
      ]
    },
    {
      "cell_type": "markdown",
      "metadata": {
        "id": "uQxlfbU9HpDd",
        "colab_type": "text"
      },
      "source": [
        "# Graph implementation using a Python dictionary\n",
        "\n",
        "This implementation allows to represent any kind of graphs. "
      ]
    },
    {
      "cell_type": "code",
      "metadata": {
        "id": "vZEDjAUpHoda",
        "colab_type": "code",
        "colab": {}
      },
      "source": [
        "class AdjacentVertex:\n",
        "    \"\"\"Note: Instead of using this class, you could use a tuple\"\"\"\n",
        "\n",
        "    def __init__(self,vertex,weight):\n",
        "        self.vertex=vertex\n",
        "        self.weight=weight\n",
        "  \n",
        "    def __str__(self):\n",
        "        return '('+str(self.vertex)+','+str(self.weight)+')'\n",
        "\n",
        "\n",
        "class Graph():\n",
        "    def __init__(self,labels,directed=True):\n",
        "        \"\"\"We use a dictionary to represent the graph\n",
        "        the dictionary's keys are the vertices\n",
        "        The value associated for a given key will be the list of their neighbours.\n",
        "        Initially, the list of neighbours is empty\"\"\"\n",
        "        self.vertices={}\n",
        "        for v in labels:\n",
        "            self.vertices[v]=[]\n",
        "        self.directed=directed\n",
        "    \n",
        "    def addEdge(self, start, end, weight=0):\n",
        "        if start not in self.vertices:\n",
        "            print(start,' does not exist!')\n",
        "            return\n",
        "        if end not in self.vertices:\n",
        "            print(end,' does not exist!')\n",
        "            return\n",
        "        \n",
        "        #adds to the end of the list of neigbours for start\n",
        "        self.vertices[start].append(AdjacentVertex(end,weight))\n",
        "\n",
        "        if self.directed==False:\n",
        "            #adds to the end of the list of neigbours for end\n",
        "            self.vertices[end].append(AdjacentVertex(start,weight))\n",
        "\n",
        "    def containsEdge(self, start, end):\n",
        "        if start not in self.vertices:\n",
        "            print(start,' does not exist!')\n",
        "            return -1\n",
        "        if end not in self.vertices:\n",
        "            print(end,' does not exist!')\n",
        "            return -1\n",
        "\n",
        "        #we search the AdjacentVertex whose v is end\n",
        "        for adj in self.vertices[start]:\n",
        "            if adj.vertex==end:\n",
        "                if adj.weight!=0:\n",
        "                    return adj.weight\n",
        "                else:\n",
        "                    return 1 #unweighted graphs\n",
        "        return 0  #does not exist\n",
        "\n",
        "    def removeEdge(self,start,end):\n",
        "        if start not in self.vertices:\n",
        "            print(start,' does not exist!')\n",
        "            return\n",
        "        if end not in self.vertices:\n",
        "            print(end,' does not exist!')\n",
        "            return\n",
        "\n",
        "        #we must look for the adjacent AdjacentVertex (neighbour)  whose vertex is end, and then remove it\n",
        "        for adj in self.vertices[start]:\n",
        "            if adj.vertex==end:\n",
        "                self.vertices[start].remove(adj)\n",
        "        if self.directed==False:\n",
        "            #we must also look for the AdjacentVertex (neighbour)  whose vertex is end, and then remove it\n",
        "            for adj in self.vertices[end]:\n",
        "                if adj.vertex==start:\n",
        "                    self.vertices[end].remove(adj)\n",
        "  \n",
        "    def __str__(self):\n",
        "        result=''\n",
        "        for v in self.vertices:\n",
        "            result+='\\n'+str(v)+':'\n",
        "            for adj in self.vertices[v]:\n",
        "                result+=str(adj)\n",
        "            \n",
        "        return result\n"
      ],
      "execution_count": 0,
      "outputs": []
    },
    {
      "cell_type": "markdown",
      "metadata": {
        "id": "qFtBVTOP4qsL",
        "colab_type": "text"
      },
      "source": [
        "We use the implementation to represent an undirected graph without weights :\n",
        "\n",
        "\n",
        "<img src='https://computersciencesource.files.wordpress.com/2010/05/dfs_1.png' width='35%'/>"
      ]
    },
    {
      "cell_type": "code",
      "metadata": {
        "id": "39myJgKZ4smO",
        "colab_type": "code",
        "outputId": "35d209c9-648b-460e-96b9-9fd5d8a8c296",
        "colab": {
          "base_uri": "https://localhost:8080/",
          "height": 121
        }
      },
      "source": [
        "labels=['A','B','C','D','E']\n",
        "g=Graph(labels,False)\n",
        "g.addEdge('A','B') # A:0, B:1\n",
        "g.addEdge('A','C') # A:0, C:2\n",
        "g.addEdge('A','E') # A:0, E:5\n",
        "g.addEdge('B','D') # B:1, D:4\n",
        "g.addEdge('B','E') # C:2, B:1\n",
        "#g.addEdge('A','H',8)\n",
        "\n",
        "print(g)"
      ],
      "execution_count": 5,
      "outputs": [
        {
          "output_type": "stream",
          "text": [
            "\n",
            "A:(B,0)(C,0)(E,0)\n",
            "B:(A,0)(D,0)(E,0)\n",
            "C:(A,0)\n",
            "D:(B,0)\n",
            "E:(A,0)(B,0)\n"
          ],
          "name": "stdout"
        }
      ]
    },
    {
      "cell_type": "markdown",
      "metadata": {
        "id": "Erk_WZezKbxt",
        "colab_type": "text"
      },
      "source": [
        "Now, we use the implementation to represent this graph: \n",
        "\n",
        "<img src='https://upload.wikimedia.org/wikipedia/commons/thumb/b/bc/CPT-Graphs-directed-weighted-ex1.svg/722px-CPT-Graphs-directed-weighted-ex1.svg.png' width='25%'/>"
      ]
    },
    {
      "cell_type": "code",
      "metadata": {
        "id": "b2LDjiWdKffI",
        "colab_type": "code",
        "outputId": "b7e24680-ffd3-4429-9b5e-407ab5e1996f",
        "colab": {
          "base_uri": "https://localhost:8080/",
          "height": 260
        }
      },
      "source": [
        "labels=['A','B','C','D','E']\n",
        "\n",
        "g=Graph(labels)\n",
        "\n",
        "#Now, we add the edges\n",
        "g.addEdge('A','C',12) #A->(12)C\n",
        "g.addEdge('A','D',60) #A->(60)D\n",
        "g.addEdge('B','A',10) #B->(10)A\n",
        "g.addEdge('C','B',20) #C->(20)B\n",
        "g.addEdge('C','D',32) #C->(32)D\n",
        "g.addEdge('E','A',7)  #E->(7)A\n",
        "\n",
        "print(g)\n",
        "\n",
        "print(g.containsEdge('C','B'))\n",
        "\n",
        "print(g.containsEdge('B','C'))\n",
        "g.removeEdge('C','B')\n",
        "print(g)\n"
      ],
      "execution_count": 6,
      "outputs": [
        {
          "output_type": "stream",
          "text": [
            "\n",
            "A:(C,12)(D,60)\n",
            "B:(A,10)\n",
            "C:(B,20)(D,32)\n",
            "D:\n",
            "E:(A,7)\n",
            "20\n",
            "0\n",
            "\n",
            "A:(C,12)(D,60)\n",
            "B:(A,10)\n",
            "C:(D,32)\n",
            "D:\n",
            "E:(A,7)\n"
          ],
          "name": "stdout"
        }
      ]
    }
  ]
}
