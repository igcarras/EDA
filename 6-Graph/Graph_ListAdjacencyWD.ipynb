{
  "nbformat": 4,
  "nbformat_minor": 0,
  "metadata": {
    "colab": {
      "name": "Graph-ListAdjacencyWD.ipynb",
      "provenance": [],
      "collapsed_sections": [],
      "authorship_tag": "ABX9TyMMEikyeaboVou+WVYInpXY",
      "include_colab_link": true
    },
    "kernelspec": {
      "name": "python3",
      "display_name": "Python 3"
    }
  },
  "cells": [
    {
      "cell_type": "markdown",
      "metadata": {
        "id": "view-in-github",
        "colab_type": "text"
      },
      "source": [
        "<a href=\"https://colab.research.google.com/github/isegura/EDA/blob/master/Graph_ListAdjacencyWD.ipynb\" target=\"_parent\"><img src=\"https://colab.research.google.com/assets/colab-badge.svg\" alt=\"Open In Colab\"/></a>"
      ]
    },
    {
      "cell_type": "markdown",
      "metadata": {
        "id": "YDQHuwCwYPkw",
        "colab_type": "text"
      },
      "source": [
        "# Graph representation based on adjacency List \n",
        "\n",
        "The idea is to represent the adjacent vertices of a given vertex using a linked list (though you could also use a Python list)\n",
        "\n",
        "<img src='https://ucarecdn.com/a67cb888-aa0c-424b-8c7f-847e38dd5691/' width='50%'/>\n",
        "\n",
        "\n",
        "To simplify this implementation, we assume that the labels of the vertices are numbers from 0, 1, 2,..."
      ]
    },
    {
      "cell_type": "markdown",
      "metadata": {
        "id": "GCZIRAFRQFn3",
        "colab_type": "text"
      },
      "source": [
        "First, you must load the python file named dlist.py containing our implementaton of doubly linked list. You can download from:\n",
        "\n",
        "https://github.com/isegura/EDA/blob/master/dlist.py"
      ]
    },
    {
      "cell_type": "code",
      "metadata": {
        "id": "ux2AFLARmED2",
        "colab_type": "code",
        "outputId": "87509a10-f122-4873-9605-66ef3c87d4af",
        "colab": {
          "resources": {
            "http://localhost:8080/nbextensions/google.colab/files.js": {
              "data": "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",
              "ok": true,
              "headers": [
                [
                  "content-type",
                  "application/javascript"
                ]
              ],
              "status": 200,
              "status_text": ""
            }
          },
          "base_uri": "https://localhost:8080/",
          "height": 71
        }
      },
      "source": [
        "from google.colab import files\n",
        "src = list(files.upload().values())[0]\n"
      ],
      "execution_count": 39,
      "outputs": [
        {
          "output_type": "display_data",
          "data": {
            "text/html": [
              "\n",
              "     <input type=\"file\" id=\"files-6c48c487-8fc3-4802-ab6f-3101ac370d14\" name=\"files[]\" multiple disabled />\n",
              "     <output id=\"result-6c48c487-8fc3-4802-ab6f-3101ac370d14\">\n",
              "      Upload widget is only available when the cell has been executed in the\n",
              "      current browser session. Please rerun this cell to enable.\n",
              "      </output>\n",
              "      <script src=\"/nbextensions/google.colab/files.js\"></script> "
            ],
            "text/plain": [
              "<IPython.core.display.HTML object>"
            ]
          },
          "metadata": {
            "tags": []
          }
        },
        {
          "output_type": "stream",
          "text": [
            "Saving dlist.py to dlist (1).py\n"
          ],
          "name": "stdout"
        }
      ]
    },
    {
      "cell_type": "code",
      "metadata": {
        "id": "TAkvhfTgYMmq",
        "colab_type": "code",
        "colab": {}
      },
      "source": [
        "from dlist import DList\n",
        "class AdjacentVertex:\n",
        "    def __init__(self,vertex,weight):\n",
        "        self.vertex=vertex\n",
        "        self.weight=weight\n",
        "    \n",
        "    \n",
        "    def __str__(self):\n",
        "        return '('+str(self.vertex)+','+str(self.weight)+')'\n",
        "\n",
        "class Graph():\n",
        "    def __init__(self,numNodes,directed=True):\n",
        "        self.numNodes=numNodes\n",
        "\n",
        "        #vertices is a Python list of doubly linked lists\n",
        "        self.vertices =[]\n",
        "        \n",
        "        for i in range(self.numNodes):\n",
        "            #we must add an empty DList for each vertex\n",
        "            self.vertices.append(i)\n",
        "            self.vertices[i]=DList()\n",
        "        \n",
        "        self.directed=directed\n",
        "        \n",
        "\n",
        "    \n",
        "    def _checkIndex(self,i):\n",
        "        return 0<=i and i<self.numNodes\n",
        "\n",
        "    def addEdge(self, start, end, weight=0):\n",
        "        \"\"\"This function adds the edge (start,end). First, it must check if the \n",
        "        vertices exist.\"\"\"\n",
        "        #first, we check that they are vertices of the graph  \n",
        "        if  not self._checkIndex(start):\n",
        "            print(start, ' is not a  vertex')\n",
        "            return\n",
        "        if  not self._checkIndex(end):\n",
        "            print(end, ' is not an index')\n",
        "            return\n",
        "\n",
        "        self.vertices[start].addLast(AdjacentVertex(end,weight))\n",
        "        #self.vertices[start].addLast((end,weight))\n",
        "        if self.directed==False:\n",
        "            self.vertices[end].addLast(AdjacentVertex(start,weight))\n",
        "            #self.vertices[end].addLast((start,weight))\n",
        "\n",
        "        \n",
        "                \n",
        "    def containsEdge(self, start, end):\n",
        "        if  not self._checkIndex(start):\n",
        "            print(start, ' is not a  vertex')\n",
        "            return -1\n",
        "        if  not self._checkIndex(end):\n",
        "            print(end, ' is not an index')\n",
        "            return -1\n",
        "        \n",
        "        for i in range(len(self.vertices[start])):\n",
        "            adj=self.vertices[start].getAt(i)\n",
        "            if adj.vertex==end:\n",
        "            #if adj[0]==end:\n",
        "                if adj.weight==0:\n",
        "                #if adj[1]==0: #weight=0\n",
        "                    return 1 #we returns 1, when the graph is unweighted\n",
        "                else:\n",
        "                    return adj.weight\n",
        "                    #return adj[1]\n",
        "\n",
        "        \n",
        "        return 0 #(start,end) does not exist!\n",
        "\n",
        "        \n",
        "    \n",
        "    \n",
        "    def removeEdge(self, start, end):\n",
        "        #first, we check that they are vertices of the graph  \n",
        "        if  not self._checkIndex(start):\n",
        "            print(start, ' is not a  vertex')\n",
        "            return \n",
        "        if  not self._checkIndex(end):\n",
        "            print(end, ' is not an index')\n",
        "            return \n",
        "\n",
        "        for i in range(len(self.vertices[start])):\n",
        "            adj=self.vertices[start].getAt(i)\n",
        "            if adj.vertex==end:\n",
        "            #if adj[0]==end:\n",
        "                self.vertices[start].removeAt(i)\n",
        "                break\n",
        "        \n",
        "        if self.directed==False:\n",
        "            for i in range(len(self.vertices[end])):\n",
        "                adj=self.vertices[end].getAt(i)\n",
        "                if adj.vertex==start:\n",
        "                #if adj[0]==start:\n",
        "                    self.vertices[end].removeAt(i)\n",
        "                    break\n",
        "    \n",
        "    def __str__(self):\n",
        "        result=''\n",
        "        for i in range(self.numNodes):\n",
        "            result+='\\n'+str(i)+': '+str(self.vertices[i])\n",
        "        return result  "
      ],
      "execution_count": 0,
      "outputs": []
    },
    {
      "cell_type": "markdown",
      "metadata": {
        "id": "TMiCASHt2vjK",
        "colab_type": "text"
      },
      "source": [
        "Now, we use the implementation to represent this  undirected graph: \n",
        "\n",
        "<img src='https://i.stack.imgur.com/31ml3.png' width='50%'/>"
      ]
    },
    {
      "cell_type": "code",
      "metadata": {
        "id": "WD_gl7uMpph3",
        "colab_type": "code",
        "outputId": "0645906c-e27c-43c1-ccb6-68102b7e3e24",
        "colab": {
          "base_uri": "https://localhost:8080/",
          "height": 295
        }
      },
      "source": [
        "#we use this dictionary to represent the vertices with numbers:\n",
        "g=Graph(5,False)\n",
        "\n",
        "#Now, we add the edges\n",
        "g.addEdge(0,1)\n",
        "g.addEdge(0,4)\n",
        "g.addEdge(1,2)\n",
        "g.addEdge(1,3)\n",
        "g.addEdge(1,4)\n",
        "g.addEdge(2,3)\n",
        "g.addEdge(3,4)\n",
        "\n",
        "print('g.containsEdge({},{})={}'.format(0,1,g.containsEdge(0,1)))\n",
        "print('g.containsEdge({},{})={}'.format(1,0,g.containsEdge(1,0)))\n",
        "\n",
        "print('g.containsEdge({},{})={}'.format(3,1,g.containsEdge(3,1)))\n",
        "print('g.containsEdge({},{})={}'.format(0,2,g.containsEdge(0,2)))\n",
        "\n",
        "\n",
        "print(g)\n",
        "g.removeEdge(2,3)\n",
        "print(g)\n"
      ],
      "execution_count": 35,
      "outputs": [
        {
          "output_type": "stream",
          "text": [
            "g.containsEdge(0,1)=1\n",
            "g.containsEdge(1,0)=1\n",
            "g.containsEdge(3,1)=1\n",
            "g.containsEdge(0,2)=0\n",
            "\n",
            "0: (1,0) (4,0)\n",
            "1: (0,0) (2,0) (3,0) (4,0)\n",
            "2: (1,0) (3,0)\n",
            "3: (1,0) (2,0) (4,0)\n",
            "4: (0,0) (1,0) (3,0)\n",
            "\n",
            "0: (1,0) (4,0)\n",
            "1: (0,0) (2,0) (3,0) (4,0)\n",
            "2: (1,0)\n",
            "3: (1,0) (4,0)\n",
            "4: (0,0) (1,0) (3,0)\n"
          ],
          "name": "stdout"
        }
      ]
    },
    {
      "cell_type": "markdown",
      "metadata": {
        "id": "zx7S1OjoNKhU",
        "colab_type": "text"
      },
      "source": [
        "Now, we represent this weighted graph:\n",
        "https://hyperskill.org/learn/step/5645\n",
        "\n",
        "<img src='https://ucarecdn.com/a67cb888-aa0c-424b-8c7f-847e38dd5691/' width=25%>"
      ]
    },
    {
      "cell_type": "code",
      "metadata": {
        "id": "542dZ6s0NZPD",
        "colab_type": "code",
        "outputId": "6769c7b2-68e1-45c9-a38c-2ff4f2714fd0",
        "colab": {
          "base_uri": "https://localhost:8080/",
          "height": 329
        }
      },
      "source": [
        "#we use this dictionary to represent the vertices with numbers:\n",
        "g=Graph(5,False)\n",
        "\n",
        "#Now, we add the edges\n",
        "g.addEdge(0,1,3)\n",
        "g.addEdge(0,3,7)\n",
        "g.addEdge(0,4,8)\n",
        "g.addEdge(1,2,1)\n",
        "g.addEdge(1,3,4)\n",
        "g.addEdge(2,3,2)\n",
        "g.addEdge(3,4,3)\n",
        "\n",
        "print('g.containsEdge({},{})={}'.format(0,1,g.containsEdge(0,1)))\n",
        "print('g.containsEdge({},{})={}'.format(1,0,g.containsEdge(1,0)))\n",
        "\n",
        "print('g.containsEdge({},{})={}'.format(3,1,g.containsEdge(3,1)))\n",
        "print('g.containsEdge({},{})={}'.format(0,2,g.containsEdge(0,2)))\n",
        "\n",
        "\n",
        "\n",
        "print(g)\n",
        "print()\n",
        "print('after removing (2,3):')\n",
        "g.removeEdge(2,3)\n",
        "print(g)"
      ],
      "execution_count": 37,
      "outputs": [
        {
          "output_type": "stream",
          "text": [
            "g.containsEdge(0,1)=3\n",
            "g.containsEdge(1,0)=3\n",
            "g.containsEdge(3,1)=4\n",
            "g.containsEdge(0,2)=0\n",
            "\n",
            "0: (1,3) (3,7) (4,8)\n",
            "1: (0,3) (2,1) (3,4)\n",
            "2: (1,1) (3,2)\n",
            "3: (0,7) (1,4) (2,2) (4,3)\n",
            "4: (0,8) (3,3)\n",
            "\n",
            "after removing (2,3):\n",
            "\n",
            "0: (1,3) (3,7) (4,8)\n",
            "1: (0,3) (2,1) (3,4)\n",
            "2: (1,1)\n",
            "3: (0,7) (1,4) (4,3)\n",
            "4: (0,8) (3,3)\n"
          ],
          "name": "stdout"
        }
      ]
    },
    {
      "cell_type": "markdown",
      "metadata": {
        "id": "mqWfeonaa3Tn",
        "colab_type": "text"
      },
      "source": [
        "Now, we use the implementation to represent this graph: \n",
        "\n",
        "<img src='https://upload.wikimedia.org/wikipedia/commons/thumb/b/bc/CPT-Graphs-directed-weighted-ex1.svg/722px-CPT-Graphs-directed-weighted-ex1.svg.png' width='25%'/>"
      ]
    },
    {
      "cell_type": "code",
      "metadata": {
        "id": "sNKWyjWga6_2",
        "colab_type": "code",
        "outputId": "db5bcdd6-1c35-434f-d953-eb955eee12f6",
        "colab": {
          "base_uri": "https://localhost:8080/",
          "height": 295
        }
      },
      "source": [
        "labels=['A','B','C','D','E']\n",
        "\n",
        "g=Graph(len(labels))\n",
        "\n",
        "#Now, we add the edges\n",
        "g.addEdge(labels.index('A'),labels.index('C'),12) \n",
        "g.addEdge(labels.index('A'),labels.index('D'),60) \n",
        "g.addEdge(labels.index('B'),labels.index('A'),10) \n",
        "g.addEdge(labels.index('C'),labels.index('B'),20) \n",
        "g.addEdge(labels.index('C'),labels.index('D'),32) \n",
        "g.addEdge(labels.index('E'),labels.index('A'),7) \n",
        "\n",
        "print(g)\n",
        "print()\n",
        "print(g.containsEdge(labels.index('C'),labels.index('B')))\n",
        "print(g.containsEdge(labels.index('B'),labels.index('C')))\n",
        "\n",
        "\n",
        "g.removeEdge(labels.index('C'),labels.index('B'))\n",
        "print('after removing (C,E)')\n",
        "print(g)"
      ],
      "execution_count": 38,
      "outputs": [
        {
          "output_type": "stream",
          "text": [
            "\n",
            "0: (2,12) (3,60)\n",
            "1: (0,10)\n",
            "2: (1,20) (3,32)\n",
            "3: \n",
            "4: (0,7)\n",
            "\n",
            "20\n",
            "0\n",
            "after removing (C,E)\n",
            "\n",
            "0: (2,12) (3,60)\n",
            "1: (0,10)\n",
            "2: (3,32)\n",
            "3: \n",
            "4: (0,7)\n"
          ],
          "name": "stdout"
        }
      ]
    }
  ]
}
