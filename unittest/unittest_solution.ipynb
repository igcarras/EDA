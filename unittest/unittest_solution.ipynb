{
  "nbformat": 4,
  "nbformat_minor": 0,
  "metadata": {
    "colab": {
      "name": "unittest solution.ipynb",
      "provenance": [],
      "collapsed_sections": [],
      "authorship_tag": "ABX9TyNbG7hgrKUEhXeTnDFTcZh4",
      "include_colab_link": true
    },
    "kernelspec": {
      "name": "python3",
      "display_name": "Python 3"
    }
  },
  "cells": [
    {
      "cell_type": "markdown",
      "metadata": {
        "id": "view-in-github",
        "colab_type": "text"
      },
      "source": [
        "<a href=\"https://colab.research.google.com/github/isegura/EDA/blob/master/unittest_solution.ipynb\" target=\"_parent\"><img src=\"https://colab.research.google.com/assets/colab-badge.svg\" alt=\"Open In Colab\"/></a>"
      ]
    },
    {
      "cell_type": "markdown",
      "metadata": {
        "id": "bxYvcfBKVi0K",
        "colab_type": "text"
      },
      "source": [
        "# Cómo desarrollar pruebas unitarias en Python \n",
        "\n",
        "La librería  **unittest**  (o PyUnit) permite desarrollar pruebas unitarias. Una prueba unitaria es una forma de comprobar el correcto funcionamiento de una unidad de código (función o método).\n",
        "\n",
        "Para ello debemos desarrollar una subclase de la clase **TestCase** que incluirá una batería de pruebas de las funciones que queremos testear (comprobar si están bien implementadas o no). Cada prueba puede devolver tres respuestas:\n",
        "\n",
        "- OK: indica que la prueba ha sido correcta.\n",
        "- FAIL: indica que la prueba no ha sido incorrecta. Es decir, que la función no tiene el funcionamiento que se esperaba. En este caso, se lanza una excepción del tipo **AssertionError**.\n",
        "- ERROR: indica que la prueba no ha sido correcta, pero en este caso, se ha producido un error en la función que se está probando. \n",
        "\n",
        "Veamos un ejemplo. La siguiente celda contiene una función que simula la división enterá de dos números y una clase que testea esta función. La función no es correcta (porque no utiliza el operador // sino el operador /). Sin embargo, la salida de la siguiente prueba es OK, porque la división entera de 4 entre 2, es 2. "
      ]
    },
    {
      "cell_type": "code",
      "metadata": {
        "id": "pEeQxdf3aOnm",
        "colab_type": "code",
        "outputId": "2ee82595-9b9c-45a6-fdcc-fcdbd48e8240",
        "colab": {
          "base_uri": "https://localhost:8080/",
          "height": 121
        }
      },
      "source": [
        "import unittest\n",
        "\n",
        "def division_entera(a,b):\n",
        "  return a/b\n",
        "\n",
        "class Test(unittest.TestCase):\n",
        "    def test_dividir(self):\n",
        "        self.assertEqual(division_entera(4,2), 2)\n",
        "\n",
        "#Comentar para usarlo en spyder\n",
        "unittest.main(argv=['first-arg-is-ignored'], exit=False)\n",
        "\n",
        "#Descomenar para usarlo en Spyder\n",
        "#if __name__ == '__main__':\n",
        "#    unittest.main()\n"
      ],
      "execution_count": 3,
      "outputs": [
        {
          "output_type": "stream",
          "text": [
            ".\n",
            "----------------------------------------------------------------------\n",
            "Ran 1 test in 0.001s\n",
            "\n",
            "OK\n"
          ],
          "name": "stderr"
        },
        {
          "output_type": "execute_result",
          "data": {
            "text/plain": [
              "<unittest.main.TestProgram at 0x7ff5845df7f0>"
            ]
          },
          "metadata": {
            "tags": []
          },
          "execution_count": 3
        }
      ]
    },
    {
      "cell_type": "markdown",
      "metadata": {
        "id": "vqVVKF-Ka21s",
        "colab_type": "text"
      },
      "source": [
        "Sin embargo, en la siguiente prueba la salida es un FAIL, porque el método devuelve 2.5, cuando debería devolver 2. Se lanza una excepción del tipo AssertionError."
      ]
    },
    {
      "cell_type": "code",
      "metadata": {
        "id": "dnpNETQRbDLS",
        "colab_type": "code",
        "outputId": "c0b37f30-9c32-4189-8054-d4786620e94f",
        "colab": {
          "base_uri": "https://localhost:8080/",
          "height": 260
        }
      },
      "source": [
        "class Test(unittest.TestCase):\n",
        "    def test_division_entera(self):\n",
        "        self.assertEqual(division_entera(5,2), 2)\n",
        "\n",
        "#Comentar para usarlo en spyder\n",
        "unittest.main(argv=['first-arg-is-ignored'], exit=False)\n",
        "\n",
        "#Descomenar para usarlo en Spyder\n",
        "#if __name__ == '__main__':\n",
        "#    unittest.main()\n"
      ],
      "execution_count": 4,
      "outputs": [
        {
          "output_type": "stream",
          "text": [
            "F\n",
            "======================================================================\n",
            "FAIL: test_division_entera (__main__.Test)\n",
            "----------------------------------------------------------------------\n",
            "Traceback (most recent call last):\n",
            "  File \"<ipython-input-4-9b0159679709>\", line 3, in test_division_entera\n",
            "    self.assertEqual(division_entera(5,2), 2)\n",
            "AssertionError: 2.5 != 2\n",
            "\n",
            "----------------------------------------------------------------------\n",
            "Ran 1 test in 0.002s\n",
            "\n",
            "FAILED (failures=1)\n"
          ],
          "name": "stderr"
        },
        {
          "output_type": "execute_result",
          "data": {
            "text/plain": [
              "<unittest.main.TestProgram at 0x7ff5845df860>"
            ]
          },
          "metadata": {
            "tags": []
          },
          "execution_count": 4
        }
      ]
    },
    {
      "cell_type": "markdown",
      "metadata": {
        "id": "vqSSJnyUbQk1",
        "colab_type": "text"
      },
      "source": [
        "Por último, si tratamos de dividir 4 entre 0, esta prueba devolvera ERROR, no porque la función no devuelva la salida esperada, sino porque dentro de la misma función se produce un error (no es posible dividir entre 0, esto generá una excepción **ZeroDivisionError**).\n"
      ]
    },
    {
      "cell_type": "code",
      "metadata": {
        "id": "1zTsVLRobi1C",
        "colab_type": "code",
        "outputId": "c59c4d1f-3208-4689-d837-77b1c3195861",
        "colab": {
          "base_uri": "https://localhost:8080/",
          "height": 295
        }
      },
      "source": [
        "class Test(unittest.TestCase):\n",
        "    def test_division_entera(self):\n",
        "        self.assertEqual(division_entera(5,0), 0)\n",
        "\n",
        "#Comentar para usarlo en spyder\n",
        "unittest.main(argv=['first-arg-is-ignored'], exit=False)\n",
        "\n",
        "#Descomenar para usarlo en Spyder\n",
        "#if __name__ == '__main__':\n",
        "#    unittest.main()"
      ],
      "execution_count": 5,
      "outputs": [
        {
          "output_type": "stream",
          "text": [
            "E\n",
            "======================================================================\n",
            "ERROR: test_division_entera (__main__.Test)\n",
            "----------------------------------------------------------------------\n",
            "Traceback (most recent call last):\n",
            "  File \"<ipython-input-5-ee961221be1c>\", line 3, in test_division_entera\n",
            "    self.assertEqual(division_entera(5,0), 0)\n",
            "  File \"<ipython-input-3-a1425e27da71>\", line 4, in division_entera\n",
            "    return a/b\n",
            "ZeroDivisionError: division by zero\n",
            "\n",
            "----------------------------------------------------------------------\n",
            "Ran 1 test in 0.001s\n",
            "\n",
            "FAILED (errors=1)\n"
          ],
          "name": "stderr"
        },
        {
          "output_type": "execute_result",
          "data": {
            "text/plain": [
              "<unittest.main.TestProgram at 0x7ff5845dc198>"
            ]
          },
          "metadata": {
            "tags": []
          },
          "execution_count": 5
        }
      ]
    },
    {
      "cell_type": "markdown",
      "metadata": {
        "id": "DrlWjQzwcr8S",
        "colab_type": "text"
      },
      "source": [
        "## Ejercicio\n",
        "Implementa una función, **isOdd**, que reciba un número y devuelva True si el número es par y False en otro caso. "
      ]
    },
    {
      "cell_type": "code",
      "metadata": {
        "id": "clI3HPsuUrXs",
        "colab_type": "code",
        "colab": {}
      },
      "source": [
        "def isOdd(a): \n",
        "  if a%2==0:\n",
        "    return True\n",
        "  else:\n",
        "    return False"
      ],
      "execution_count": 0,
      "outputs": []
    },
    {
      "cell_type": "markdown",
      "metadata": {
        "id": "2aaYesW3dO9A",
        "colab_type": "text"
      },
      "source": [
        "Ahora debes implementar un test donde compruebes para varias entradas (un número par y un número impar) si las salidas de la función son correctas.  Así por ejemplo, la salida de **isOdd(3)** debe ser **False**, mientras que la salida de **isOdd(4)** debería ser **True*"
      ]
    },
    {
      "cell_type": "code",
      "metadata": {
        "id": "PaQrpoUOZXug",
        "colab_type": "code",
        "outputId": "c1b2ee68-dafe-40b2-e4ec-71d7af42ad92",
        "colab": {
          "base_uri": "https://localhost:8080/",
          "height": 121
        }
      },
      "source": [
        "import unittest\n",
        "class Test(unittest.TestCase):\n",
        "    def test_isOdd(self):\n",
        "        self.assertEqual(isOdd(3), False)\n",
        "        self.assertEqual(isOdd(10), True)\n",
        "\n",
        "#Comentar para usarlo en spyder\n",
        "unittest.main(argv=['first-arg-is-ignored'], exit=False)\n",
        "\n",
        "#Descomenar para usarlo en Spyder\n",
        "#if __name__ == '__main__':\n",
        "#    unittest.main()"
      ],
      "execution_count": 7,
      "outputs": [
        {
          "output_type": "stream",
          "text": [
            ".\n",
            "----------------------------------------------------------------------\n",
            "Ran 1 test in 0.002s\n",
            "\n",
            "OK\n"
          ],
          "name": "stderr"
        },
        {
          "output_type": "execute_result",
          "data": {
            "text/plain": [
              "<unittest.main.TestProgram at 0x7ff58458e748>"
            ]
          },
          "metadata": {
            "tags": []
          },
          "execution_count": 7
        }
      ]
    },
    {
      "cell_type": "markdown",
      "metadata": {
        "id": "P_iRTLjcZr3W",
        "colab_type": "text"
      },
      "source": [
        "## Los métodos assert\n",
        "\n",
        "La clase TestCase proporciona varios métodos que nos van a ayudar a comprobar si nuestras funciones han sido correctamente implementadas. Estos métodos están recogidos en la siguiente tabla:\n",
        "\n",
        "| Método | Qué comprueba   |\n",
        "|------|------|\n",
        "|   assertEqual(a, b)  | a==b|\n",
        "|   assertNotEqual(a, b)  | a!=b|\n",
        "|   assertTrue(x)  | bool(x) is True|\n",
        "|   assertFalse(x)  | bool(x) is False|\n",
        "|   assertIs(a, b)  | a is b|\n",
        "|   assertIsNot(a, b)  | a is not b|\n",
        "|   assertIsNone(x)  | x is None|\n",
        "|   assertIsNotNone(x)  | x is not None|\n",
        "|   assertIn(a, b)  | a in b|\n",
        "|   assertNotIn(a, b)  | a not in b|\n",
        "|   assertIsInstance(a, b)  | isinstance(a, b)|\n",
        "|   assertNotIsInstance(a, b)  | not isinstance(a, b)|\n",
        "\n",
        "Puedes encontrar más información en: \n",
        "\n",
        "https://docs.python.org/3/library/unittest.html\n",
        "\n",
        "\n"
      ]
    },
    {
      "cell_type": "markdown",
      "metadata": {
        "id": "P-uyHzMegPoZ",
        "colab_type": "text"
      },
      "source": [
        "## Los métodos setUp y  tearDown\n",
        "\n",
        "La clase TestCase incluye un método **setUp()** que nos ayudará a preparar el contexto de las pruebas, por ejemplo, conectándose a una base de datos, cargando un fichero que contenga valores de prueba o almacenando los valores de prueba en las variables. \n",
        "\n",
        "También incluye el método **tearDown()**, que puede ser utilizado para deshacer los posibles cambios realizados durante las pruebas (por ejemplo, borrar un fichero, desconectarse de un servidor o borrar las entradas de prueba en un base de datos)."
      ]
    },
    {
      "cell_type": "markdown",
      "metadata": {
        "id": "CO31aYj9eFIg",
        "colab_type": "text"
      },
      "source": [
        "\n",
        "Por ejemplo, la función **tokenization** recibe un texto (oración) y devuelve su lista de palabras. También la función **removeShort** recibe una lista de palabras y elimina aquellas que tengan una longitud menor de 3.\n",
        "\n"
      ]
    },
    {
      "cell_type": "code",
      "metadata": {
        "id": "S7y4lqWznNOF",
        "colab_type": "code",
        "outputId": "47d59801-2cad-4a19-9f3a-90a6d9c2ef41",
        "colab": {
          "base_uri": "https://localhost:8080/",
          "height": 52
        }
      },
      "source": [
        "def tokenization(text):\n",
        "  return text.split()\n",
        "\n",
        "tokens=tokenization('Esto es una prueba de cómo dividir un texto en palabras')\n",
        "print(tokens)\n",
        "\n",
        "def removeShort(words):\n",
        "  return [w for w in words if len(w)>3]\n",
        "\n",
        "print(removeShort(tokens))"
      ],
      "execution_count": 8,
      "outputs": [
        {
          "output_type": "stream",
          "text": [
            "['Esto', 'es', 'una', 'prueba', 'de', 'cómo', 'dividir', 'un', 'texto', 'en', 'palabras']\n",
            "['Esto', 'prueba', 'cómo', 'dividir', 'texto', 'palabras']\n"
          ],
          "name": "stdout"
        }
      ]
    },
    {
      "cell_type": "markdown",
      "metadata": {
        "id": "p6ubzXCqnZLx",
        "colab_type": "text"
      },
      "source": [
        "Ahora vamos a crear la clase Test para realizar pruebas unitarias para esas funciones. \n",
        "\n",
        "El método **setUp** nos va a permitir inicializar los parámetros de las funciones con las que vamos a probar y variables para almacenar las salidas que se espera\n",
        " "
      ]
    },
    {
      "cell_type": "code",
      "metadata": {
        "id": "m-FFsr3OZ1v_",
        "colab_type": "code",
        "outputId": "261fc9c0-9236-4ec8-cda0-51df287c64bf",
        "colab": {
          "base_uri": "https://localhost:8080/",
          "height": 121
        }
      },
      "source": [
        "class Test(unittest.TestCase):\n",
        "\n",
        "  def setUp(self):\n",
        "    self.text='Esta es una oración que vamos a dividir en tokens'\n",
        "    self.words1=['Esta','es','una','oración','que','vamos','a','dividir','en','tokens']\n",
        "    self.words2=['Esta','oración','vamos','dividir','tokens']\n",
        "\n",
        "  def test_tokenization(self):\n",
        "    self.assertEqual(tokenization(self.text), self.words1)\n",
        "\n",
        "  def test_removeShort(self):\n",
        "    self.assertEqual(removeShort(self.words1), self.words2)\n",
        "\n",
        "\n",
        "unittest.main(argv=['first-arg-is-ignored'], exit=False)\n",
        "\n"
      ],
      "execution_count": 9,
      "outputs": [
        {
          "output_type": "stream",
          "text": [
            "..\n",
            "----------------------------------------------------------------------\n",
            "Ran 2 tests in 0.002s\n",
            "\n",
            "OK\n"
          ],
          "name": "stderr"
        },
        {
          "output_type": "execute_result",
          "data": {
            "text/plain": [
              "<unittest.main.TestProgram at 0x7ff584592390>"
            ]
          },
          "metadata": {
            "tags": []
          },
          "execution_count": 9
        }
      ]
    },
    {
      "cell_type": "markdown",
      "metadata": {
        "id": "YRRGoOAEqE_l",
        "colab_type": "text"
      },
      "source": [
        "## Ejercicio:\n",
        "\n",
        "Implementa una función, **cifrar**, que reciba un texto y devuelva un nuevo texto cifrado. El cifrado consistirá en reemplazar las vocales del texto original por números, de la siguiente manera:\n",
        "\n",
        "| Entrada | Cifrado|\n",
        "|------|------|\n",
        "|   a,A  | 1|\n",
        "|   e,E  | 2|\n",
        "|   i,I  | 3|\n",
        "|   o,O  | 4|\n",
        "|   u,U  | 5|\n",
        "\n",
        "\n",
        "\n",
        "\n",
        "Ejemplo: \n",
        "*cifrar(‘Cesar’)=C2s1r*\n",
        "\n",
        "Implementa la función y las pruebas necesarias para validar la función. \n"
      ]
    },
    {
      "cell_type": "code",
      "metadata": {
        "id": "gGeP3KqPq3Cf",
        "colab_type": "code",
        "outputId": "1c674508-bf19-4c27-de20-6f0c7166605e",
        "colab": {
          "base_uri": "https://localhost:8080/",
          "height": 69
        }
      },
      "source": [
        "def cifrar(text):\n",
        "  vowels={'a':1,'e':2,'i':3,'o':4,'u':5}\n",
        "  result=''\n",
        "  for c in text:\n",
        "    if c.lower() in vowels.keys():\n",
        "      result+=str(vowels[c.lower()])\n",
        "    else:\n",
        "      result+=c  \n",
        "  return result\n",
        "\n",
        "print(cifrar('Juan e Isabel'))\n",
        "print(cifrar('Este es un algoritmo para cifrar'))\n",
        "print(cifrar('Patata'))\n"
      ],
      "execution_count": 10,
      "outputs": [
        {
          "output_type": "stream",
          "text": [
            "J51n 2 3s1b2l\n",
            "2st2 2s 5n 1lg4r3tm4 p1r1 c3fr1r\n",
            "P1t1t1\n"
          ],
          "name": "stdout"
        }
      ]
    },
    {
      "cell_type": "code",
      "metadata": {
        "id": "oZd_i2IXsEB0",
        "colab_type": "code",
        "outputId": "70582f15-8e5b-4e6a-c4b7-995371d6f6d8",
        "colab": {
          "base_uri": "https://localhost:8080/",
          "height": 121
        }
      },
      "source": [
        "class Test(unittest.TestCase):\n",
        "\n",
        "  def setUp(self):\n",
        "    self.input=['Esta','es','una','oración','que','vamos','a','dividir','en','tokens']\n",
        "    self.output=['2st1', '2s', '5n1', '4r1c3ón', 'q52', 'v1m4s', '1', 'd3v3d3r', '2n', 't4k2ns']\n",
        "\n",
        "  def test_cifrar(self):\n",
        "    for i in range(len(self.input)):\n",
        "      self.assertEqual(cifrar(self.input[i]),self.output[i])\n",
        "\n",
        "unittest.main(argv=['first-arg-is-ignored'], exit=False)\n",
        "\n"
      ],
      "execution_count": 11,
      "outputs": [
        {
          "output_type": "stream",
          "text": [
            ".\n",
            "----------------------------------------------------------------------\n",
            "Ran 1 test in 0.001s\n",
            "\n",
            "OK\n"
          ],
          "name": "stderr"
        },
        {
          "output_type": "execute_result",
          "data": {
            "text/plain": [
              "<unittest.main.TestProgram at 0x7ff5845df390>"
            ]
          },
          "metadata": {
            "tags": []
          },
          "execution_count": 11
        }
      ]
    }
  ]
}
